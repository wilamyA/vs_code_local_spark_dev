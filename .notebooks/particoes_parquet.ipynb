{
 "cells": [
  {
   "cell_type": "markdown",
   "metadata": {},
   "source": [
    "## Parquetizando competition"
   ]
  },
  {
   "cell_type": "code",
   "execution_count": 2,
   "metadata": {},
   "outputs": [],
   "source": [
    "from pyspark.sql import SparkSession\n",
    "from pyspark.sql import functions as F\n",
    "import os"
   ]
  },
  {
   "cell_type": "code",
   "execution_count": 4,
   "metadata": {},
   "outputs": [
    {
     "name": "stderr",
     "output_type": "stream",
     "text": [
      "SLF4J: Class path contains multiple SLF4J bindings.\n",
      "SLF4J: Found binding in [jar:file:/home/glue_user/spark/jars/log4j-slf4j-impl-2.17.2.jar!/org/slf4j/impl/StaticLoggerBinder.class]\n",
      "SLF4J: Found binding in [jar:file:/home/glue_user/spark/jars/slf4j-reload4j-1.7.36.jar!/org/slf4j/impl/StaticLoggerBinder.class]\n",
      "SLF4J: Found binding in [jar:file:/home/glue_user/aws-glue-libs/jars/log4j-slf4j-impl-2.17.2.jar!/org/slf4j/impl/StaticLoggerBinder.class]\n",
      "SLF4J: Found binding in [jar:file:/home/glue_user/aws-glue-libs/jars/slf4j-reload4j-1.7.36.jar!/org/slf4j/impl/StaticLoggerBinder.class]\n",
      "SLF4J: See http://www.slf4j.org/codes.html#multiple_bindings for an explanation.\n",
      "SLF4J: Actual binding is of type [org.apache.logging.slf4j.Log4jLoggerFactory]\n",
      "Setting default log level to \"WARN\".\n",
      "To adjust logging level use sc.setLogLevel(newLevel). For SparkR, use setLogLevel(newLevel).\n",
      "24/01/23 03:29:34 WARN Utils: Service 'SparkUI' could not bind on port 4040. Attempting port 4041.\n"
     ]
    }
   ],
   "source": [
    "spark = SparkSession.builder.getOrCreate()"
   ]
  },
  {
   "cell_type": "code",
   "execution_count": 12,
   "metadata": {},
   "outputs": [
    {
     "name": "stderr",
     "output_type": "stream",
     "text": [
      "                                                                                \r"
     ]
    },
    {
     "name": "stdout",
     "output_type": "stream",
     "text": [
      "70\n",
      "+------------------+--------------+-------------------------+--------------------+-----------------+--------------------+--------------------+--------------------+--------------------+--------------------+---------+-----------+------+\n",
      "|competition_gender|competition_id|competition_international|    competition_name|competition_youth|        country_name|     match_available| match_available_360|       match_updated|   match_updated_360|season_id|season_name|season|\n",
      "+------------------+--------------+-------------------------+--------------------+-----------------+--------------------+--------------------+--------------------+--------------------+--------------------+---------+-----------+------+\n",
      "|              male|             9|                    false|       1. Bundesliga|            false|             Germany|2023-12-12T07:43:...|                null|2023-12-12T07:43:...|                null|       27|  2015/2016|    27|\n",
      "|              male|            16|                    false|    Champions League|            false|              Europe|    2020-07-29T05:00|                null|2021-08-27T11:26:...|2021-06-13T16:17:...|       27|  2015/2016|    27|\n",
      "|              male|            11|                    false|             La Liga|            false|               Spain|2023-09-20T17:21:...|                null|2023-09-20T17:21:...|2021-06-13T16:17:...|       27|  2015/2016|    27|\n",
      "|              male|             7|                    false|             Ligue 1|            false|              France|2023-12-13T00:27:...|                null|2023-12-13T00:27:...|                null|       27|  2015/2016|    27|\n",
      "|              male|             2|                    false|      Premier League|            false|             England|2023-11-14T11:25:...|                null|2023-11-14T11:25:...|2021-06-13T16:17:...|       27|  2015/2016|    27|\n",
      "|              male|            12|                    false|             Serie A|            false|               Italy|2023-12-13T17:32:...|                null|2023-12-13T17:32:...|                null|       27|  2015/2016|    27|\n",
      "|              male|            16|                    false|    Champions League|            false|              Europe|2023-03-07T12:20:...|                null|2023-03-07T12:20:...|2021-06-13T16:17:...|        4|  2018/2019|     4|\n",
      "|            female|            37|                    false|FA Women's Super ...|            false|             England|2023-07-24T19:50:...|                null|2023-07-24T19:50:...|2021-06-13T16:17:...|        4|  2018/2019|     4|\n",
      "|              male|            11|                    false|             La Liga|            false|               Spain|2023-11-05T09:50:...|                null|2023-11-05T09:50:...|2021-07-09T14:53:...|        4|  2018/2019|     4|\n",
      "|              male|            44|                    false| Major League Soccer|            false|United States of ...|2023-12-13T04:51:...|2023-12-13T04:53:...|2023-12-13T04:51:...|2023-12-13T04:53:...|      107|       2023|   107|\n",
      "|            female|            72|                     true|   Women's World Cup|            false|       International|2023-12-12T14:06:...|2023-12-12T14:12:...|2023-12-12T14:06:...|2023-12-12T14:12:...|      107|       2023|   107|\n",
      "|              male|            43|                     true|      FIFA World Cup|            false|       International|2023-11-05T04:23:...|2023-11-21T15:37:...|2023-11-05T04:23:...|2023-11-21T15:37:...|      106|       2022|   106|\n",
      "|            female|            53|                     true|   UEFA Women's Euro|            false|              Europe|2023-10-24T03:36:...|2023-10-24T03:37:...|2023-10-24T03:36:...|2023-10-24T03:37:...|      106|       2022|   106|\n",
      "|            female|            37|                    false|FA Women's Super ...|            false|             England|2023-02-25T14:52:...|                null|2023-02-25T14:52:...|2021-06-13T16:17:...|       90|  2020/2021|    90|\n",
      "|              male|            11|                    false|             La Liga|            false|               Spain|2023-11-15T10:25:...|2023-11-15T10:29:...|2023-11-15T10:25:...|2023-11-15T10:29:...|       90|  2020/2021|    90|\n",
      "|              male|          1238|                    false| Indian Super league|            false|               India|2023-03-31T02:14:...|                null|2023-03-31T02:14:...|                null|      108|  2021/2022|   108|\n",
      "|              male|             7|                    false|             Ligue 1|            false|              France|2023-10-17T06:13:...|2023-10-17T06:16:...|2023-10-17T06:13:...|2023-10-17T06:16:...|      108|  2021/2022|   108|\n",
      "|              male|            43|                     true|      FIFA World Cup|            false|       International|2023-07-24T13:09:...|                null|2023-07-24T13:09:...|2021-06-13T16:17:...|        3|       2018|     3|\n",
      "|            female|            49|                    false|                NWSL|            false|United States of ...|2023-07-24T13:01:...|                null|2023-07-24T13:01:...|2021-06-13T16:17:...|        3|       2018|     3|\n",
      "|            female|            37|                    false|FA Women's Super ...|            false|             England|2023-07-25T01:08:...|                null|2023-07-25T01:08:...|2021-06-13T16:17:...|       42|  2019/2020|    42|\n",
      "+------------------+--------------+-------------------------+--------------------+-----------------+--------------------+--------------------+--------------------+--------------------+--------------------+---------+-----------+------+\n",
      "only showing top 20 rows\n",
      "\n"
     ]
    }
   ],
   "source": [
    "df_competition_landing = spark.read.json(\"s3://landing/competitions\")\n",
    "\n",
    "print(df_competition_landing.count())\n",
    "\n",
    "df_competition_landing.show()"
   ]
  },
  {
   "cell_type": "code",
   "execution_count": 6,
   "metadata": {},
   "outputs": [
    {
     "name": "stderr",
     "output_type": "stream",
     "text": [
      "                                                                                \r"
     ]
    }
   ],
   "source": [
    "df_competition_landing.write.parquet(\"s3://bronze/competitions\")"
   ]
  },
  {
   "cell_type": "code",
   "execution_count": 11,
   "metadata": {},
   "outputs": [
    {
     "name": "stderr",
     "output_type": "stream",
     "text": [
      "                                                                                \r"
     ]
    },
    {
     "name": "stdout",
     "output_type": "stream",
     "text": [
      "70\n",
      "+------------------+--------------+-------------------------+--------------------+-----------------+--------------------+--------------------+--------------------+--------------------+--------------------+---------+-----------+------+\n",
      "|competition_gender|competition_id|competition_international|    competition_name|competition_youth|        country_name|     match_available| match_available_360|       match_updated|   match_updated_360|season_id|season_name|season|\n",
      "+------------------+--------------+-------------------------+--------------------+-----------------+--------------------+--------------------+--------------------+--------------------+--------------------+---------+-----------+------+\n",
      "|              male|             9|                    false|       1. Bundesliga|            false|             Germany|2023-12-12T07:43:...|                null|2023-12-12T07:43:...|                null|       27|  2015/2016|    27|\n",
      "|              male|            16|                    false|    Champions League|            false|              Europe|    2020-07-29T05:00|                null|2021-08-27T11:26:...|2021-06-13T16:17:...|       27|  2015/2016|    27|\n",
      "|              male|            11|                    false|             La Liga|            false|               Spain|2023-09-20T17:21:...|                null|2023-09-20T17:21:...|2021-06-13T16:17:...|       27|  2015/2016|    27|\n",
      "|              male|             7|                    false|             Ligue 1|            false|              France|2023-12-13T00:27:...|                null|2023-12-13T00:27:...|                null|       27|  2015/2016|    27|\n",
      "|              male|             2|                    false|      Premier League|            false|             England|2023-11-14T11:25:...|                null|2023-11-14T11:25:...|2021-06-13T16:17:...|       27|  2015/2016|    27|\n",
      "|              male|            12|                    false|             Serie A|            false|               Italy|2023-12-13T17:32:...|                null|2023-12-13T17:32:...|                null|       27|  2015/2016|    27|\n",
      "|              male|            16|                    false|    Champions League|            false|              Europe|2023-03-07T12:20:...|                null|2023-03-07T12:20:...|2021-06-13T16:17:...|        4|  2018/2019|     4|\n",
      "|            female|            37|                    false|FA Women's Super ...|            false|             England|2023-07-24T19:50:...|                null|2023-07-24T19:50:...|2021-06-13T16:17:...|        4|  2018/2019|     4|\n",
      "|              male|            11|                    false|             La Liga|            false|               Spain|2023-11-05T09:50:...|                null|2023-11-05T09:50:...|2021-07-09T14:53:...|        4|  2018/2019|     4|\n",
      "|              male|            44|                    false| Major League Soccer|            false|United States of ...|2023-12-13T04:51:...|2023-12-13T04:53:...|2023-12-13T04:51:...|2023-12-13T04:53:...|      107|       2023|   107|\n",
      "|            female|            72|                     true|   Women's World Cup|            false|       International|2023-12-12T14:06:...|2023-12-12T14:12:...|2023-12-12T14:06:...|2023-12-12T14:12:...|      107|       2023|   107|\n",
      "|              male|            43|                     true|      FIFA World Cup|            false|       International|2023-11-05T04:23:...|2023-11-21T15:37:...|2023-11-05T04:23:...|2023-11-21T15:37:...|      106|       2022|   106|\n",
      "|            female|            53|                     true|   UEFA Women's Euro|            false|              Europe|2023-10-24T03:36:...|2023-10-24T03:37:...|2023-10-24T03:36:...|2023-10-24T03:37:...|      106|       2022|   106|\n",
      "|            female|            37|                    false|FA Women's Super ...|            false|             England|2023-02-25T14:52:...|                null|2023-02-25T14:52:...|2021-06-13T16:17:...|       90|  2020/2021|    90|\n",
      "|              male|            11|                    false|             La Liga|            false|               Spain|2023-11-15T10:25:...|2023-11-15T10:29:...|2023-11-15T10:25:...|2023-11-15T10:29:...|       90|  2020/2021|    90|\n",
      "|              male|          1238|                    false| Indian Super league|            false|               India|2023-03-31T02:14:...|                null|2023-03-31T02:14:...|                null|      108|  2021/2022|   108|\n",
      "|              male|             7|                    false|             Ligue 1|            false|              France|2023-10-17T06:13:...|2023-10-17T06:16:...|2023-10-17T06:13:...|2023-10-17T06:16:...|      108|  2021/2022|   108|\n",
      "|              male|            43|                     true|      FIFA World Cup|            false|       International|2023-07-24T13:09:...|                null|2023-07-24T13:09:...|2021-06-13T16:17:...|        3|       2018|     3|\n",
      "|            female|            49|                    false|                NWSL|            false|United States of ...|2023-07-24T13:01:...|                null|2023-07-24T13:01:...|2021-06-13T16:17:...|        3|       2018|     3|\n",
      "|            female|            37|                    false|FA Women's Super ...|            false|             England|2023-07-25T01:08:...|                null|2023-07-25T01:08:...|2021-06-13T16:17:...|       42|  2019/2020|    42|\n",
      "+------------------+--------------+-------------------------+--------------------+-----------------+--------------------+--------------------+--------------------+--------------------+--------------------+---------+-----------+------+\n",
      "only showing top 20 rows\n",
      "\n"
     ]
    }
   ],
   "source": [
    "df_competititon_bronze = spark.read.parquet(\"s3://bronze/competitions\")\n",
    "\n",
    "print(df_competititon_bronze.count())\n",
    "\n",
    "df_competititon_bronze.show()"
   ]
  },
  {
   "cell_type": "markdown",
   "metadata": {},
   "source": [
    "## Parquetizando Match"
   ]
  },
  {
   "cell_type": "code",
   "execution_count": 13,
   "metadata": {},
   "outputs": [
    {
     "name": "stderr",
     "output_type": "stream",
     "text": [
      "                                                                                \r"
     ]
    },
    {
     "name": "stdout",
     "output_type": "stream",
     "text": [
      "2886\n",
      "+----------+--------------------+--------------------+-------------------+----------+--------------------+------------+--------------------+----------------+----------+--------+------------+----------------+----------+-------------+--------------------+---------------+--------------------+--------------+---------+\n",
      "|away_score|           away_team|         competition|  competition_stage|home_score|           home_team|    kick_off|        last_updated|last_updated_360|match_date|match_id|match_status|match_status_360|match_week|     metadata|             referee|         season|             stadium|competition_id|season_id|\n",
      "+----------+--------------------+--------------------+-------------------+----------+--------------------+------------+--------------------+----------------+----------+--------+------------+----------------+----------+-------------+--------------------+---------------+--------------------+--------------+---------+\n",
      "|         2|{male, null, 322,...|{11, La Liga, Spain}|{1, Regular Season}|         2|{{214, Spain}, ma...|20:00:00.000|2023-02-21T15:19:...|            null|2015-09-23| 3825848|   available|     unscheduled|         5|{1.1.0, 2, 2}|                null|{27, 2015/2016}|{{214, Spain}, 35...|            11|       27|\n",
      "|         0|{male, null, 213,...|{11, La Liga, Spain}|{1, Regular Season}|         2|{{214, Spain}, ma...|22:00:00.000|2023-02-21T15:19:...|            null|2015-09-23| 3825895|   available|     unscheduled|         5|{1.1.0, 2, 2}|{{214, Spain}, 27...|{27, 2015/2016}|{{214, Spain}, 35...|            11|       27|\n",
      "|         2|{male, null, 216,...|{11, La Liga, Spain}|{1, Regular Season}|         0|{{214, Spain}, ma...|18:15:00.000|2022-08-30T12:53:...|            null|2016-05-01| 3825894|   available|     unscheduled|        36|{1.1.0, 2, 2}|{{214, Spain}, 10...|{27, 2015/2016}|{{214, Spain}, 46...|            11|       27|\n",
      "|         1|{male, null, 221,...|{11, La Liga, Spain}|{1, Regular Season}|         3|{{214, Spain}, ma...|20:30:00.000|2022-08-30T12:53:...|            null|2016-05-02| 3825855|   available|     unscheduled|        36|{1.1.0, 2, 2}|{{214, Spain}, 24...|{27, 2015/2016}|{{214, Spain}, 34...|            11|       27|\n",
      "|         2|{male, null, 322,...|{11, La Liga, Spain}|{1, Regular Season}|         4|{{214, Spain}, ma...|19:00:00.000|2022-04-06T22:39:...|            null|2016-05-15| 3825908|   available|     unscheduled|        38|{1.1.0, 2, 2}|{{214, Spain}, 26...|{27, 2015/2016}|{{214, Spain}, 35...|            11|       27|\n",
      "|         1|{male, null, 208,...|{11, La Liga, Spain}|{1, Regular Season}|         4|{{214, Spain}, ma...|12:00:00.000|2022-08-30T13:15:...|            null|2016-05-15| 3825883|   available|     unscheduled|        38|{1.1.0, 2, 2}|{{214, Spain}, 26...|{27, 2015/2016}|{{214, Spain}, 34...|            11|       27|\n",
      "|         0|{male, null, 222,...|{11, La Liga, Spain}|{1, Regular Season}|         2|{{214, Spain}, ma...|19:30:00.000|2022-04-06T22:37:...|            null|2016-05-15| 3825900|   available|     unscheduled|        38|{1.1.0, 2, 2}|{{214, Spain}, 22...|{27, 2015/2016}|{{214, Spain}, 46...|            11|       27|\n",
      "|         1|{male, null, 221,...|{11, La Liga, Spain}|{1, Regular Season}|         3|{{214, Spain}, ma...|19:30:00.000|2022-04-06T22:35:...|            null|2016-05-15| 3825902|   available|     unscheduled|        38|{1.1.0, 2, 2}|{{214, Spain}, 10...|{27, 2015/2016}|{{214, Spain}, 46...|            11|       27|\n",
      "|         1|{male, null, 216,...|{11, La Liga, Spain}|{1, Regular Season}|         2|{{214, Spain}, ma...|19:30:00.000|2022-04-06T22:34:...|            null|2016-05-15| 3825876|   available|     unscheduled|        38|{1.1.0, 2, 2}|{{214, Spain}, 18...|{27, 2015/2016}|{{214, Spain}, 35...|            11|       27|\n",
      "|         2|{male, null, 220,...|{11, La Liga, Spain}|{1, Regular Season}|         0|{{214, Spain}, ma...|17:00:00.000|2022-04-06T22:33:...|            null|2016-05-14| 3825846|   available|     unscheduled|        38|{1.1.0, 2, 2}|{{214, Spain}, 18...|{27, 2015/2016}|{{214, Spain}, 46...|            11|       27|\n",
      "|         1|{male, null, 213,...|{11, La Liga, Spain}|{1, Regular Season}|         3|{{214, Spain}, ma...|19:30:00.000|2022-08-30T13:07:...|            null|2016-05-14| 3825869|   available|     unscheduled|        38|{1.1.0, 2, 2}|{{214, Spain}, 21...|{27, 2015/2016}|{{214, Spain}, 34...|            11|       27|\n",
      "|         0|{male, null, 209,...|{11, La Liga, Spain}|{1, Regular Season}|         2|{{214, Spain}, ma...|19:30:00.000|2022-04-06T22:30:...|            null|2016-05-14| 3825882|   available|     unscheduled|        38|{1.1.0, 2, 2}|{{214, Spain}, 22...|{27, 2015/2016}|{{214, Spain}, 62...|            11|       27|\n",
      "|         1|{male, null, 210,...|{11, La Liga, Spain}|{1, Regular Season}|         0|{{214, Spain}, ma...|20:30:00.000|2022-04-06T22:29:...|            null|2016-05-13| 3825849|   available|     unscheduled|        38|{1.1.0, 2, 2}|{{214, Spain}, 25...|{27, 2015/2016}|{{214, Spain}, 34...|            11|       27|\n",
      "|         1|{male, null, 212,...|{11, La Liga, Spain}|{1, Regular Season}|         2|{{214, Spain}, ma...|17:00:00.000|2022-04-06T22:28:...|            null|2016-05-08| 3825860|   available|     unscheduled|        37|{1.1.0, 2, 2}|{{214, Spain}, 21...|{27, 2015/2016}|{{214, Spain}, 35...|            11|       27|\n",
      "|         1|{male, null, 219,...|{11, La Liga, Spain}|{1, Regular Season}|         1|{{214, Spain}, ma...|22:05:00.000|2022-03-26T14:52:...|            null|2016-04-23| 3825847|   available|     unscheduled|        35|{1.1.0, 2, 2}|{{214, Spain}, 24...|{27, 2015/2016}|{{214, Spain}, 34...|            11|       27|\n",
      "|         1|{male, null, 322,...|{11, La Liga, Spain}|{1, Regular Season}|         1|{{214, Spain}, ma...|21:30:00.000|2022-05-08T21:31:...|            null|2016-03-18| 3825817|   available|     unscheduled|        30|{1.1.0, 2, 2}|{{214, Spain}, 21...|{27, 2015/2016}|{{214, Spain}, 35...|            11|       27|\n",
      "|         1|{male, null, 1041...|{11, La Liga, Spain}|{1, Regular Season}|         1|{{214, Spain}, ma...|21:30:00.000|2022-03-26T14:39:...|            null|2016-02-20| 3825778|   available|     unscheduled|        25|{1.1.0, 2, 2}|{{214, Spain}, 21...|{27, 2015/2016}|{{214, Spain}, 35...|            11|       27|\n",
      "|         0|{male, null, 216,...|{11, La Liga, Spain}|{1, Regular Season}|         3|{{214, Spain}, ma...|21:30:00.000|2022-05-08T21:01:...|            null|2016-02-19| 3825777|   available|     unscheduled|        25|{1.1.0, 2, 2}|{{214, Spain}, 21...|{27, 2015/2016}|{{214, Spain}, 35...|            11|       27|\n",
      "|         1|{male, null, 1049...|{11, La Liga, Spain}|{1, Regular Season}|         5|{{214, Spain}, ma...|21:30:00.000|2022-03-26T14:32:...|            null|2016-01-18| 3825740|   available|     unscheduled|        20|{1.1.0, 2, 2}|{{214, Spain}, 26...|{27, 2015/2016}|{{214, Spain}, 34...|            11|       27|\n",
      "|         0|{male, null, 210,...|{11, La Liga, Spain}|{1, Regular Season}|         0|{{214, Spain}, ma...|20:30:00.000|2022-03-22T17:53:...|            null|2016-04-24| 3825875|   available|     unscheduled|        35|{1.1.0, 2, 2}|{{214, Spain}, 22...|{27, 2015/2016}|{{214, Spain}, 36...|            11|       27|\n",
      "+----------+--------------------+--------------------+-------------------+----------+--------------------+------------+--------------------+----------------+----------+--------+------------+----------------+----------+-------------+--------------------+---------------+--------------------+--------------+---------+\n",
      "only showing top 20 rows\n",
      "\n"
     ]
    }
   ],
   "source": [
    "df_macth_landing = spark.read.json(\"s3://landing/matches\")\n",
    "\n",
    "print(df_macth_landing.count())\n",
    "\n",
    "df_macth_landing.show()"
   ]
  },
  {
   "cell_type": "code",
   "execution_count": 14,
   "metadata": {},
   "outputs": [
    {
     "name": "stderr",
     "output_type": "stream",
     "text": [
      "                                                                                \r"
     ]
    }
   ],
   "source": [
    "df_macth_landing.write.parquet(\"s3://bronze/matches\")"
   ]
  },
  {
   "cell_type": "code",
   "execution_count": 16,
   "metadata": {},
   "outputs": [
    {
     "name": "stdout",
     "output_type": "stream",
     "text": [
      "2886\n",
      "+----------+--------------------+--------------------+-------------------+----------+--------------------+------------+--------------------+----------------+----------+--------+------------+----------------+----------+-------------+--------------------+---------------+--------------------+--------------+---------+\n",
      "|away_score|           away_team|         competition|  competition_stage|home_score|           home_team|    kick_off|        last_updated|last_updated_360|match_date|match_id|match_status|match_status_360|match_week|     metadata|             referee|         season|             stadium|competition_id|season_id|\n",
      "+----------+--------------------+--------------------+-------------------+----------+--------------------+------------+--------------------+----------------+----------+--------+------------+----------------+----------+-------------+--------------------+---------------+--------------------+--------------+---------+\n",
      "|         2|{male, null, 322,...|{11, La Liga, Spain}|{1, Regular Season}|         2|{{214, Spain}, ma...|20:00:00.000|2023-02-21T15:19:...|            null|2015-09-23| 3825848|   available|     unscheduled|         5|{1.1.0, 2, 2}|                null|{27, 2015/2016}|{{214, Spain}, 35...|            11|       27|\n",
      "|         0|{male, null, 213,...|{11, La Liga, Spain}|{1, Regular Season}|         2|{{214, Spain}, ma...|22:00:00.000|2023-02-21T15:19:...|            null|2015-09-23| 3825895|   available|     unscheduled|         5|{1.1.0, 2, 2}|{{214, Spain}, 27...|{27, 2015/2016}|{{214, Spain}, 35...|            11|       27|\n",
      "|         2|{male, null, 216,...|{11, La Liga, Spain}|{1, Regular Season}|         0|{{214, Spain}, ma...|18:15:00.000|2022-08-30T12:53:...|            null|2016-05-01| 3825894|   available|     unscheduled|        36|{1.1.0, 2, 2}|{{214, Spain}, 10...|{27, 2015/2016}|{{214, Spain}, 46...|            11|       27|\n",
      "|         1|{male, null, 221,...|{11, La Liga, Spain}|{1, Regular Season}|         3|{{214, Spain}, ma...|20:30:00.000|2022-08-30T12:53:...|            null|2016-05-02| 3825855|   available|     unscheduled|        36|{1.1.0, 2, 2}|{{214, Spain}, 24...|{27, 2015/2016}|{{214, Spain}, 34...|            11|       27|\n",
      "|         2|{male, null, 322,...|{11, La Liga, Spain}|{1, Regular Season}|         4|{{214, Spain}, ma...|19:00:00.000|2022-04-06T22:39:...|            null|2016-05-15| 3825908|   available|     unscheduled|        38|{1.1.0, 2, 2}|{{214, Spain}, 26...|{27, 2015/2016}|{{214, Spain}, 35...|            11|       27|\n",
      "|         1|{male, null, 208,...|{11, La Liga, Spain}|{1, Regular Season}|         4|{{214, Spain}, ma...|12:00:00.000|2022-08-30T13:15:...|            null|2016-05-15| 3825883|   available|     unscheduled|        38|{1.1.0, 2, 2}|{{214, Spain}, 26...|{27, 2015/2016}|{{214, Spain}, 34...|            11|       27|\n",
      "|         0|{male, null, 222,...|{11, La Liga, Spain}|{1, Regular Season}|         2|{{214, Spain}, ma...|19:30:00.000|2022-04-06T22:37:...|            null|2016-05-15| 3825900|   available|     unscheduled|        38|{1.1.0, 2, 2}|{{214, Spain}, 22...|{27, 2015/2016}|{{214, Spain}, 46...|            11|       27|\n",
      "|         1|{male, null, 221,...|{11, La Liga, Spain}|{1, Regular Season}|         3|{{214, Spain}, ma...|19:30:00.000|2022-04-06T22:35:...|            null|2016-05-15| 3825902|   available|     unscheduled|        38|{1.1.0, 2, 2}|{{214, Spain}, 10...|{27, 2015/2016}|{{214, Spain}, 46...|            11|       27|\n",
      "|         1|{male, null, 216,...|{11, La Liga, Spain}|{1, Regular Season}|         2|{{214, Spain}, ma...|19:30:00.000|2022-04-06T22:34:...|            null|2016-05-15| 3825876|   available|     unscheduled|        38|{1.1.0, 2, 2}|{{214, Spain}, 18...|{27, 2015/2016}|{{214, Spain}, 35...|            11|       27|\n",
      "|         2|{male, null, 220,...|{11, La Liga, Spain}|{1, Regular Season}|         0|{{214, Spain}, ma...|17:00:00.000|2022-04-06T22:33:...|            null|2016-05-14| 3825846|   available|     unscheduled|        38|{1.1.0, 2, 2}|{{214, Spain}, 18...|{27, 2015/2016}|{{214, Spain}, 46...|            11|       27|\n",
      "|         1|{male, null, 213,...|{11, La Liga, Spain}|{1, Regular Season}|         3|{{214, Spain}, ma...|19:30:00.000|2022-08-30T13:07:...|            null|2016-05-14| 3825869|   available|     unscheduled|        38|{1.1.0, 2, 2}|{{214, Spain}, 21...|{27, 2015/2016}|{{214, Spain}, 34...|            11|       27|\n",
      "|         0|{male, null, 209,...|{11, La Liga, Spain}|{1, Regular Season}|         2|{{214, Spain}, ma...|19:30:00.000|2022-04-06T22:30:...|            null|2016-05-14| 3825882|   available|     unscheduled|        38|{1.1.0, 2, 2}|{{214, Spain}, 22...|{27, 2015/2016}|{{214, Spain}, 62...|            11|       27|\n",
      "|         1|{male, null, 210,...|{11, La Liga, Spain}|{1, Regular Season}|         0|{{214, Spain}, ma...|20:30:00.000|2022-04-06T22:29:...|            null|2016-05-13| 3825849|   available|     unscheduled|        38|{1.1.0, 2, 2}|{{214, Spain}, 25...|{27, 2015/2016}|{{214, Spain}, 34...|            11|       27|\n",
      "|         1|{male, null, 212,...|{11, La Liga, Spain}|{1, Regular Season}|         2|{{214, Spain}, ma...|17:00:00.000|2022-04-06T22:28:...|            null|2016-05-08| 3825860|   available|     unscheduled|        37|{1.1.0, 2, 2}|{{214, Spain}, 21...|{27, 2015/2016}|{{214, Spain}, 35...|            11|       27|\n",
      "|         1|{male, null, 219,...|{11, La Liga, Spain}|{1, Regular Season}|         1|{{214, Spain}, ma...|22:05:00.000|2022-03-26T14:52:...|            null|2016-04-23| 3825847|   available|     unscheduled|        35|{1.1.0, 2, 2}|{{214, Spain}, 24...|{27, 2015/2016}|{{214, Spain}, 34...|            11|       27|\n",
      "|         1|{male, null, 322,...|{11, La Liga, Spain}|{1, Regular Season}|         1|{{214, Spain}, ma...|21:30:00.000|2022-05-08T21:31:...|            null|2016-03-18| 3825817|   available|     unscheduled|        30|{1.1.0, 2, 2}|{{214, Spain}, 21...|{27, 2015/2016}|{{214, Spain}, 35...|            11|       27|\n",
      "|         1|{male, null, 1041...|{11, La Liga, Spain}|{1, Regular Season}|         1|{{214, Spain}, ma...|21:30:00.000|2022-03-26T14:39:...|            null|2016-02-20| 3825778|   available|     unscheduled|        25|{1.1.0, 2, 2}|{{214, Spain}, 21...|{27, 2015/2016}|{{214, Spain}, 35...|            11|       27|\n",
      "|         0|{male, null, 216,...|{11, La Liga, Spain}|{1, Regular Season}|         3|{{214, Spain}, ma...|21:30:00.000|2022-05-08T21:01:...|            null|2016-02-19| 3825777|   available|     unscheduled|        25|{1.1.0, 2, 2}|{{214, Spain}, 21...|{27, 2015/2016}|{{214, Spain}, 35...|            11|       27|\n",
      "|         1|{male, null, 1049...|{11, La Liga, Spain}|{1, Regular Season}|         5|{{214, Spain}, ma...|21:30:00.000|2022-03-26T14:32:...|            null|2016-01-18| 3825740|   available|     unscheduled|        20|{1.1.0, 2, 2}|{{214, Spain}, 26...|{27, 2015/2016}|{{214, Spain}, 34...|            11|       27|\n",
      "|         0|{male, null, 210,...|{11, La Liga, Spain}|{1, Regular Season}|         0|{{214, Spain}, ma...|20:30:00.000|2022-03-22T17:53:...|            null|2016-04-24| 3825875|   available|     unscheduled|        35|{1.1.0, 2, 2}|{{214, Spain}, 22...|{27, 2015/2016}|{{214, Spain}, 36...|            11|       27|\n",
      "+----------+--------------------+--------------------+-------------------+----------+--------------------+------------+--------------------+----------------+----------+--------+------------+----------------+----------+-------------+--------------------+---------------+--------------------+--------------+---------+\n",
      "only showing top 20 rows\n",
      "\n"
     ]
    }
   ],
   "source": [
    "df_match_bronze = spark.read.parquet(\"s3://bronze/matches\")\n",
    "\n",
    "print(df_match_bronze.count())\n",
    "\n",
    "df_match_bronze.show()"
   ]
  },
  {
   "cell_type": "markdown",
   "metadata": {},
   "source": [
    "## Parquetizando Lineups"
   ]
  },
  {
   "cell_type": "code",
   "execution_count": 5,
   "metadata": {},
   "outputs": [
    {
     "name": "stderr",
     "output_type": "stream",
     "text": [
      "24/01/23 03:29:51 WARN MetricsConfig: Cannot locate configuration: tried hadoop-metrics2-s3a-file-system.properties,hadoop-metrics2.properties\n",
      "                                                                                \r"
     ]
    },
    {
     "name": "stdout",
     "output_type": "stream",
     "text": [
      "+--------------------+--------+-------+-------------------+\n",
      "|              lineup|match_id|team_id|          team_name|\n",
      "+--------------------+--------+-------+-------------------+\n",
      "|[{[], {68, Englan...|   19770|    746|Manchester City WFC|\n",
      "|[{[], {201, Scotl...|   19770|    968|        Arsenal WFC|\n",
      "+--------------------+--------+-------+-------------------+\n",
      "\n"
     ]
    }
   ],
   "source": [
    "path_s3 = \"s3://\"\n",
    "path_bucket_landing = os.path.join(path_s3,\"landing\")\n",
    "path_landing_lineups = os.path.join(path_bucket_landing,\"lineups\",\"match_id=19770\")\n",
    "\n",
    "df_lineups = spark.read.json(path_landing_lineups)\n",
    "df_lineups.show()\n"
   ]
  },
  {
   "cell_type": "code",
   "execution_count": 6,
   "metadata": {},
   "outputs": [
    {
     "name": "stderr",
     "output_type": "stream",
     "text": [
      "                                                                                \r"
     ]
    },
    {
     "name": "stdout",
     "output_type": "stream",
     "text": [
      "+----------+--------------------+--------------------+-------------------+----------+--------------------+------------+--------------------+----------------+----------+--------+------------+----------------+----------+-------------+--------------------+---------------+--------------------+--------------+---------+\n",
      "|away_score|           away_team|         competition|  competition_stage|home_score|           home_team|    kick_off|        last_updated|last_updated_360|match_date|match_id|match_status|match_status_360|match_week|     metadata|             referee|         season|             stadium|competition_id|season_id|\n",
      "+----------+--------------------+--------------------+-------------------+----------+--------------------+------------+--------------------+----------------+----------+--------+------------+----------------+----------+-------------+--------------------+---------------+--------------------+--------------+---------+\n",
      "|         2|{male, null, 322,...|{11, La Liga, Spain}|{1, Regular Season}|         2|{{214, Spain}, ma...|20:00:00.000|2023-02-21T15:19:...|            null|2015-09-23| 3825848|   available|     unscheduled|         5|{1.1.0, 2, 2}|                null|{27, 2015/2016}|{{214, Spain}, 35...|            11|       27|\n",
      "|         0|{male, null, 213,...|{11, La Liga, Spain}|{1, Regular Season}|         2|{{214, Spain}, ma...|22:00:00.000|2023-02-21T15:19:...|            null|2015-09-23| 3825895|   available|     unscheduled|         5|{1.1.0, 2, 2}|{{214, Spain}, 27...|{27, 2015/2016}|{{214, Spain}, 35...|            11|       27|\n",
      "|         2|{male, null, 216,...|{11, La Liga, Spain}|{1, Regular Season}|         0|{{214, Spain}, ma...|18:15:00.000|2022-08-30T12:53:...|            null|2016-05-01| 3825894|   available|     unscheduled|        36|{1.1.0, 2, 2}|{{214, Spain}, 10...|{27, 2015/2016}|{{214, Spain}, 46...|            11|       27|\n",
      "|         1|{male, null, 221,...|{11, La Liga, Spain}|{1, Regular Season}|         3|{{214, Spain}, ma...|20:30:00.000|2022-08-30T12:53:...|            null|2016-05-02| 3825855|   available|     unscheduled|        36|{1.1.0, 2, 2}|{{214, Spain}, 24...|{27, 2015/2016}|{{214, Spain}, 34...|            11|       27|\n",
      "|         2|{male, null, 322,...|{11, La Liga, Spain}|{1, Regular Season}|         4|{{214, Spain}, ma...|19:00:00.000|2022-04-06T22:39:...|            null|2016-05-15| 3825908|   available|     unscheduled|        38|{1.1.0, 2, 2}|{{214, Spain}, 26...|{27, 2015/2016}|{{214, Spain}, 35...|            11|       27|\n",
      "|         1|{male, null, 208,...|{11, La Liga, Spain}|{1, Regular Season}|         4|{{214, Spain}, ma...|12:00:00.000|2022-08-30T13:15:...|            null|2016-05-15| 3825883|   available|     unscheduled|        38|{1.1.0, 2, 2}|{{214, Spain}, 26...|{27, 2015/2016}|{{214, Spain}, 34...|            11|       27|\n",
      "|         0|{male, null, 222,...|{11, La Liga, Spain}|{1, Regular Season}|         2|{{214, Spain}, ma...|19:30:00.000|2022-04-06T22:37:...|            null|2016-05-15| 3825900|   available|     unscheduled|        38|{1.1.0, 2, 2}|{{214, Spain}, 22...|{27, 2015/2016}|{{214, Spain}, 46...|            11|       27|\n",
      "|         1|{male, null, 221,...|{11, La Liga, Spain}|{1, Regular Season}|         3|{{214, Spain}, ma...|19:30:00.000|2022-04-06T22:35:...|            null|2016-05-15| 3825902|   available|     unscheduled|        38|{1.1.0, 2, 2}|{{214, Spain}, 10...|{27, 2015/2016}|{{214, Spain}, 46...|            11|       27|\n",
      "|         1|{male, null, 216,...|{11, La Liga, Spain}|{1, Regular Season}|         2|{{214, Spain}, ma...|19:30:00.000|2022-04-06T22:34:...|            null|2016-05-15| 3825876|   available|     unscheduled|        38|{1.1.0, 2, 2}|{{214, Spain}, 18...|{27, 2015/2016}|{{214, Spain}, 35...|            11|       27|\n",
      "|         2|{male, null, 220,...|{11, La Liga, Spain}|{1, Regular Season}|         0|{{214, Spain}, ma...|17:00:00.000|2022-04-06T22:33:...|            null|2016-05-14| 3825846|   available|     unscheduled|        38|{1.1.0, 2, 2}|{{214, Spain}, 18...|{27, 2015/2016}|{{214, Spain}, 46...|            11|       27|\n",
      "|         1|{male, null, 213,...|{11, La Liga, Spain}|{1, Regular Season}|         3|{{214, Spain}, ma...|19:30:00.000|2022-08-30T13:07:...|            null|2016-05-14| 3825869|   available|     unscheduled|        38|{1.1.0, 2, 2}|{{214, Spain}, 21...|{27, 2015/2016}|{{214, Spain}, 34...|            11|       27|\n",
      "|         0|{male, null, 209,...|{11, La Liga, Spain}|{1, Regular Season}|         2|{{214, Spain}, ma...|19:30:00.000|2022-04-06T22:30:...|            null|2016-05-14| 3825882|   available|     unscheduled|        38|{1.1.0, 2, 2}|{{214, Spain}, 22...|{27, 2015/2016}|{{214, Spain}, 62...|            11|       27|\n",
      "|         1|{male, null, 210,...|{11, La Liga, Spain}|{1, Regular Season}|         0|{{214, Spain}, ma...|20:30:00.000|2022-04-06T22:29:...|            null|2016-05-13| 3825849|   available|     unscheduled|        38|{1.1.0, 2, 2}|{{214, Spain}, 25...|{27, 2015/2016}|{{214, Spain}, 34...|            11|       27|\n",
      "|         1|{male, null, 212,...|{11, La Liga, Spain}|{1, Regular Season}|         2|{{214, Spain}, ma...|17:00:00.000|2022-04-06T22:28:...|            null|2016-05-08| 3825860|   available|     unscheduled|        37|{1.1.0, 2, 2}|{{214, Spain}, 21...|{27, 2015/2016}|{{214, Spain}, 35...|            11|       27|\n",
      "|         1|{male, null, 219,...|{11, La Liga, Spain}|{1, Regular Season}|         1|{{214, Spain}, ma...|22:05:00.000|2022-03-26T14:52:...|            null|2016-04-23| 3825847|   available|     unscheduled|        35|{1.1.0, 2, 2}|{{214, Spain}, 24...|{27, 2015/2016}|{{214, Spain}, 34...|            11|       27|\n",
      "|         1|{male, null, 322,...|{11, La Liga, Spain}|{1, Regular Season}|         1|{{214, Spain}, ma...|21:30:00.000|2022-05-08T21:31:...|            null|2016-03-18| 3825817|   available|     unscheduled|        30|{1.1.0, 2, 2}|{{214, Spain}, 21...|{27, 2015/2016}|{{214, Spain}, 35...|            11|       27|\n",
      "|         1|{male, null, 1041...|{11, La Liga, Spain}|{1, Regular Season}|         1|{{214, Spain}, ma...|21:30:00.000|2022-03-26T14:39:...|            null|2016-02-20| 3825778|   available|     unscheduled|        25|{1.1.0, 2, 2}|{{214, Spain}, 21...|{27, 2015/2016}|{{214, Spain}, 35...|            11|       27|\n",
      "|         0|{male, null, 216,...|{11, La Liga, Spain}|{1, Regular Season}|         3|{{214, Spain}, ma...|21:30:00.000|2022-05-08T21:01:...|            null|2016-02-19| 3825777|   available|     unscheduled|        25|{1.1.0, 2, 2}|{{214, Spain}, 21...|{27, 2015/2016}|{{214, Spain}, 35...|            11|       27|\n",
      "|         1|{male, null, 1049...|{11, La Liga, Spain}|{1, Regular Season}|         5|{{214, Spain}, ma...|21:30:00.000|2022-03-26T14:32:...|            null|2016-01-18| 3825740|   available|     unscheduled|        20|{1.1.0, 2, 2}|{{214, Spain}, 26...|{27, 2015/2016}|{{214, Spain}, 34...|            11|       27|\n",
      "|         0|{male, null, 210,...|{11, La Liga, Spain}|{1, Regular Season}|         0|{{214, Spain}, ma...|20:30:00.000|2022-03-22T17:53:...|            null|2016-04-24| 3825875|   available|     unscheduled|        35|{1.1.0, 2, 2}|{{214, Spain}, 22...|{27, 2015/2016}|{{214, Spain}, 36...|            11|       27|\n",
      "+----------+--------------------+--------------------+-------------------+----------+--------------------+------------+--------------------+----------------+----------+--------+------------+----------------+----------+-------------+--------------------+---------------+--------------------+--------------+---------+\n",
      "only showing top 20 rows\n",
      "\n"
     ]
    }
   ],
   "source": [
    "path_bucket_landing = os.path.join(path_s3,\"landing\")\n",
    "path_landing_matches = os.path.join(path_bucket_landing,\"matches\")\n",
    "df_matches = spark.read.json(path_landing_matches)\n",
    "\n",
    "df_matches.show()"
   ]
  },
  {
   "cell_type": "code",
   "execution_count": 7,
   "metadata": {},
   "outputs": [
    {
     "name": "stdout",
     "output_type": "stream",
     "text": [
      "+--------------------+--------+-------+-------------------+--------------+---------+\n",
      "|              lineup|match_id|team_id|          team_name|competition_id|season_id|\n",
      "+--------------------+--------+-------+-------------------+--------------+---------+\n",
      "|[{[], {201, Scotl...|   19770|    968|        Arsenal WFC|            37|        4|\n",
      "|[{[], {68, Englan...|   19770|    746|Manchester City WFC|            37|        4|\n",
      "+--------------------+--------+-------+-------------------+--------------+---------+\n",
      "\n"
     ]
    }
   ],
   "source": [
    "df_lineups_matches = df_lineups.join(df_matches, \"match_id\").select(df_lineups.lineup,df_lineups.match_id,df_lineups.team_id, df_lineups.team_name, df_matches.competition_id,df_matches.season_id)\n",
    "\n",
    "\n",
    "df_lineups_matches.show()"
   ]
  },
  {
   "cell_type": "code",
   "execution_count": 11,
   "metadata": {},
   "outputs": [
    {
     "name": "stderr",
     "output_type": "stream",
     "text": [
      "24/01/23 03:37:23 WARN DataSource: Found duplicate column(s) in the data schema and the partition schema: `match_id`\n",
      "24/01/23 03:37:44 WARN DataSource: Found duplicate column(s) in the data schema and the partition schema: `match_id`\n"
     ]
    },
    {
     "name": "stdout",
     "output_type": "stream",
     "text": [
      "+--------------------+--------+-------+--------------------+--------------+---------+\n",
      "|              lineup|match_id|team_id|           team_name|competition_id|season_id|\n",
      "+--------------------+--------+-------+--------------------+--------------+---------+\n",
      "|[{[], {214, Spain...| 3902240|    863|       Spain Women's|            72|      107|\n",
      "|[{[], {160, Nethe...| 3902240|    851| Netherlands Women's|            72|      107|\n",
      "|[{[], {241, Unite...| 3857278|   1839|       United States|            43|      106|\n",
      "|[{[], {107, Iran,...| 3857278|    797|                Iran|            43|      106|\n",
      "|[{[], {31, Brazil...| 3773466|    217|           Barcelona|            11|       90|\n",
      "|[{[], {214, Spain...| 3773466|    209|          Celta Vigo|            11|       90|\n",
      "|[{[], {121, Korea...| 3893802|   1211|Korea Republic Wo...|            72|      107|\n",
      "|[{[], {49, Colomb...| 3893802|  16802|    Colombia Women's|            72|      107|\n",
      "|[{[{Yellow Card, ...| 3869321|    941|         Netherlands|            43|      106|\n",
      "|[{[], {11, Argent...| 3869321|    779|           Argentina|            43|      106|\n",
      "|[{[{Yellow Card, ...| 3869685|    771|              France|            43|      106|\n",
      "|[{[], {11, Argent...| 3869685|    779|           Argentina|            43|      106|\n",
      "|[{[], {121, Korea...| 3857262|    791|         South Korea|            43|      106|\n",
      "|[{[], {183, Portu...| 3857262|    780|            Portugal|            43|      106|\n",
      "|[{[], {183, Portu...| 3857270|    780|            Portugal|            43|      106|\n",
      "|[{[], {242, Urugu...| 3857270|    783|             Uruguay|            43|      106|\n",
      "|[{[], {112, Italy...| 3879835|    231|              Chievo|            12|       27|\n",
      "|[{[], {112, Italy...| 3879835|    291|           Frosinone|            12|       27|\n",
      "|[{[], {200, Saudi...| 3857260|    799|        Saudi Arabia|            43|      106|\n",
      "|[{[], {147, Mexic...| 3857260|    794|              Mexico|            43|      106|\n",
      "+--------------------+--------+-------+--------------------+--------------+---------+\n",
      "only showing top 20 rows\n",
      "\n"
     ]
    }
   ],
   "source": [
    "# Identificar a competição e a temporada das escalações nas partidas\n",
    "path_s3 = \"s3://\"\n",
    "path_bucket_landing = os.path.join(path_s3,\"landing\")\n",
    "path_landing_lineups = os.path.join(path_bucket_landing,\"lineups\")\n",
    "path_landing_matches = os.path.join(path_bucket_landing,\"matches\")\n",
    "\n",
    "df_lineups = spark.read.json(path_landing_lineups)\n",
    "df_matches = spark.read.json(path_landing_matches)\n",
    "\n",
    "\n",
    "df_lineups_matches = df_lineups.join(df_matches, \"match_id\").select(df_lineups.lineup,df_lineups.match_id,df_lineups.team_id, df_lineups.team_name, df_matches.competition_id,df_matches.season_id)\n",
    "\n",
    "\n",
    "df_lineups_matches.show()"
   ]
  },
  {
   "cell_type": "code",
   "execution_count": 12,
   "metadata": {},
   "outputs": [
    {
     "name": "stderr",
     "output_type": "stream",
     "text": [
      "                                                                                \r"
     ]
    }
   ],
   "source": [
    "# Salvar arquivo no formato Parquet particionando por competition_id, season_id e team_id\n",
    "path_bucket_bronze = os.path.join(path_s3,\"bronze\")\n",
    "path_bronze_lineups = os.path.join(path_bucket_bronze,\"lineups\")\n",
    "df_lineups_matches.write.partitionBy(\"competition_id\",\"season_id\",\"team_id\").parquet(path_bronze_lineups)"
   ]
  },
  {
   "cell_type": "code",
   "execution_count": 27,
   "metadata": {},
   "outputs": [
    {
     "name": "stderr",
     "output_type": "stream",
     "text": [
      "                                                                                \r"
     ]
    },
    {
     "name": "stdout",
     "output_type": "stream",
     "text": [
      "+--------------------+--------+-----------+--------------+---------+-------+\n",
      "|              lineup|match_id|  team_name|competition_id|season_id|team_id|\n",
      "+--------------------+--------+-----------+--------------+---------+-------+\n",
      "|[{[], {11, Argent...| 3869321|  Argentina|            43|      106|    779|\n",
      "|[{[], {11, Argent...| 3869685|  Argentina|            43|      106|    779|\n",
      "|[{[], {11, Argent...| 3869151|  Argentina|            43|      106|    779|\n",
      "|[{[], {11, Argent...| 3857289|  Argentina|            43|      106|    779|\n",
      "|[{[], {11, Argent...| 3857264|  Argentina|            43|      106|    779|\n",
      "|[{[], {228, Togo}...| 3879657|      Genoa|            12|       27|    233|\n",
      "|[{[], {31, Brazil...| 3879796|      Genoa|            12|       27|    233|\n",
      "|[{[], {31, Brazil...| 3879819|      Genoa|            12|       27|    233|\n",
      "|[{[], {228, Togo}...| 3879638|      Genoa|            12|       27|    233|\n",
      "|[{[], {183, Portu...| 3857262|   Portugal|            43|      106|    780|\n",
      "|[{[], {183, Portu...| 3857270|   Portugal|            43|      106|    780|\n",
      "|[{[], {183, Portu...| 3869486|   Portugal|            43|      106|    780|\n",
      "|[{[], {183, Portu...| 3857298|   Portugal|            43|      106|    780|\n",
      "|[{[], {183, Portu...| 3869254|   Portugal|            43|      106|    780|\n",
      "|[{[], {202, Seneg...| 3879633|      Lazio|            12|       27|    236|\n",
      "|[{[], {202, Seneg...| 3878595|      Lazio|            12|       27|    236|\n",
      "|[{[], {202, Seneg...| 3879538|      Lazio|            12|       27|    236|\n",
      "|[{[{Yellow Card, ...| 3879720|      Lazio|            12|       27|    236|\n",
      "|[{[], {202, Seneg...| 3879637|      Lazio|            12|       27|    236|\n",
      "|[{[], {152, Monte...| 3879648|Inter Milan|            12|       27|    238|\n",
      "+--------------------+--------+-----------+--------------+---------+-------+\n",
      "only showing top 20 rows\n",
      "\n"
     ]
    },
    {
     "name": "stderr",
     "output_type": "stream",
     "text": [
      "[Stage 60:=====================================================>(148 + 1) / 149]\r"
     ]
    },
    {
     "name": "stdout",
     "output_type": "stream",
     "text": [
      "5772\n"
     ]
    },
    {
     "name": "stderr",
     "output_type": "stream",
     "text": [
      "                                                                                \r"
     ]
    }
   ],
   "source": [
    "df_lineups_bronze = spark.read.parquet(path_bronze_lineups)\n",
    "\n",
    "df_lineups_bronze.show()\n",
    "\n",
    "print(df_lineups_bronze.count())"
   ]
  },
  {
   "cell_type": "code",
   "execution_count": 38,
   "metadata": {},
   "outputs": [
    {
     "name": "stdout",
     "output_type": "stream",
     "text": [
      "+--------------------+--------+---------+-------+\n",
      "|              lineup|match_id|team_name|team_id|\n",
      "+--------------------+--------+---------+-------+\n",
      "|[{[], {31, Brazil...|    9860|Barcelona|    217|\n",
      "|[{[], {31, Brazil...|    9912|Barcelona|    217|\n",
      "|[{[], {31, Brazil...|    9837|Barcelona|    217|\n",
      "|[{[], {31, Brazil...|    9948|Barcelona|    217|\n",
      "|[{[], {31, Brazil...|    9811|Barcelona|    217|\n",
      "|[{[], {31, Brazil...|    9783|Barcelona|    217|\n",
      "|[{[], {214, Spain...|    9765|Barcelona|    217|\n",
      "|[{[], {214, Spain...|    9581|Barcelona|    217|\n",
      "|[{[], {31, Brazil...|    9799|Barcelona|    217|\n",
      "|[{[{Yellow Card, ...|    9870|Barcelona|    217|\n",
      "|[{[], {214, Spain...|    9726|Barcelona|    217|\n",
      "|[{[], {214, Spain...|    9742|Barcelona|    217|\n",
      "|[{[], {214, Spain...|    9700|Barcelona|    217|\n",
      "|[{[], {183, Portu...|    9880| Valencia|    207|\n",
      "|[{[], {183, Portu...|    9695| Valencia|    207|\n",
      "|[{[], {31, Brazil...|    9774|Barcelona|    217|\n",
      "|[{[], {214, Spain...|    9592|Barcelona|    217|\n",
      "|[{[], {31, Brazil...|    9880|Barcelona|    217|\n",
      "|[{[], {214, Spain...|    9695|Barcelona|    217|\n",
      "|[{[], {114, Japan...|    9794|   Getafe|    216|\n",
      "+--------------------+--------+---------+-------+\n",
      "only showing top 20 rows\n",
      "\n"
     ]
    }
   ],
   "source": [
    "df_lineups_bronze_partition = spark.read.parquet(os.path.join(path_bronze_lineups,\"competition_id=11\",\"season_id=1\"))\n",
    "\n",
    "df_lineups_bronze_partition.show()"
   ]
  },
  {
   "cell_type": "markdown",
   "metadata": {},
   "source": [
    "## Parquetizando Events"
   ]
  },
  {
   "cell_type": "code",
   "execution_count": 22,
   "metadata": {},
   "outputs": [
    {
     "name": "stdout",
     "output_type": "stream",
     "text": [
      "+-----+------------+-------------+-----+--------------+---------+------------+-------+----+--------+--------------+--------+----------+--------------------+-----+---------------+------------+------------+--------+------+----------+--------------------+------+------------------+--------------------+--------------------+----------+--------------------+--------------------+------+----+------------+--------------------+--------------------+------------+-------------------+--------------+--------------+---------+\n",
      "|50_50|ball_receipt|ball_recovery|block|         carry|clearance|counterpress|dribble|duel|duration|foul_committed|foul_won|goalkeeper|                  id|index|injury_stoppage|interception|    location|match_id|minute|off_camera|                pass|period|      play_pattern|              player|            position|possession|     possession_team|      related_events|second|shot|substitution|             tactics|                team|   timestamp|               type|under_pressure|competition_id|season_id|\n",
      "+-----+------------+-------------+-----+--------------+---------+------------+-------+----+--------+--------------+--------+----------+--------------------+-----+---------------+------------+------------+--------+------+----------+--------------------+------+------------------+--------------------+--------------------+----------+--------------------+--------------------+------+----+------------+--------------------+--------------------+------------+-------------------+--------------+--------------+---------+\n",
      "| null|        null|         null| null|          null|     null|        null|   null|null|     0.0|          null|    null|      null|006251fa-d52e-490...|    1|           null|        null|        null|   19770|     0|      null|                null|     1| {1, Regular Play}|                null|                null|         1|{746, Manchester ...|                null|     0|null|        null|{4231, [{26, {463...|{746, Manchester ...|00:00:00.000|  {35, Starting XI}|          null|            37|        4|\n",
      "| null|        null|         null| null|          null|     null|        null|   null|null|     0.0|          null|    null|      null|aeef1e0a-bcaf-48f...|    2|           null|        null|        null|   19770|     0|      null|                null|     1| {1, Regular Play}|                null|                null|         1|{746, Manchester ...|                null|     0|null|        null|{41221, [{18, {15...|  {968, Arsenal WFC}|00:00:00.000|  {35, Starting XI}|          null|            37|        4|\n",
      "| null|        null|         null| null|          null|     null|        null|   null|null|     0.0|          null|    null|      null|fa618f83-f153-44e...|    3|           null|        null|        null|   19770|     0|      null|                null|     1| {1, Regular Play}|                null|                null|         1|{746, Manchester ...|[338286e3-2e56-44...|     0|null|        null|                null|{746, Manchester ...|00:00:00.000|   {18, Half Start}|          null|            37|        4|\n",
      "| null|        null|         null| null|          null|     null|        null|   null|null|     0.0|          null|    null|      null|338286e3-2e56-449...|    4|           null|        null|        null|   19770|     0|      null|                null|     1| {1, Regular Play}|                null|                null|         1|{746, Manchester ...|[fa618f83-f153-44...|     0|null|        null|                null|  {968, Arsenal WFC}|00:00:00.000|   {18, Half Start}|          null|            37|        4|\n",
      "| null|        null|         null| null|          null|     null|        null|   null|null|1.419805|          null|    null|      null|43f8b7fb-8c83-4b7...|    5|           null|        null|[61.0, 41.0]|   19770|     0|      null|{null, 3.1415927,...|     1|{9, From Kick Off}|{4654, Nikita Par...|{23, Center Forward}|         2|{746, Manchester ...|[f0645570-624c-49...|     0|null|        null|                null|{746, Manchester ...|00:00:00.251|         {30, Pass}|          null|            37|        4|\n",
      "| null|        null|         null| null|          null|     null|        null|   null|null|    null|          null|    null|      null|f0645570-624c-49f...|    6|           null|        null|[49.0, 41.0]|   19770|     0|      null|                null|     1|{9, From Kick Off}| {4658, Keira Walsh}|{15, Left Center ...|         2|{746, Manchester ...|[43f8b7fb-8c83-4b...|     1|null|        null|                null|{746, Manchester ...|00:00:01.670|{42, Ball Receipt*}|          null|            37|        4|\n",
      "| null|        null|         null| null|{[48.0, 44.0]}|     null|        null|   null|null|0.212568|          null|    null|      null|8eed5afa-253f-4bc...|    7|           null|        null|[49.0, 41.0]|   19770|     0|      null|                null|     1|{9, From Kick Off}| {4658, Keira Walsh}|{15, Left Center ...|         2|{746, Manchester ...|[eeb73e39-5b5b-4a...|     1|null|        null|                null|{746, Manchester ...|00:00:01.670|        {43, Carry}|          null|            37|        4|\n",
      "| null|        null|         null| null|          null|     null|        null|   null|null|1.338405|          null|    null|      null|eeb73e39-5b5b-4a2...|    8|           null|        null|[48.0, 44.0]|   19770|     0|      null|{null, 2.5702553,...|     1|{9, From Kick Off}| {4658, Keira Walsh}|{15, Left Center ...|         2|{746, Manchester ...|[9409efa3-76c2-47...|     1|null|        null|                null|{746, Manchester ...|00:00:01.883|         {30, Pass}|          null|            37|        4|\n",
      "| null|        null|         null| null|          null|     null|        null|   null|null|    null|          null|    null|      null|9409efa3-76c2-479...|    9|           null|        null|[34.0, 53.0]|   19770|     0|      null|                null|     1|{9, From Kick Off}|{10185, Stephanie...|{3, Right Center ...|         2|{746, Manchester ...|[eeb73e39-5b5b-4a...|     3|null|        null|                null|{746, Manchester ...|00:00:03.221|{42, Ball Receipt*}|          null|            37|        4|\n",
      "| null|        null|         null| null|{[36.0, 51.0]}|     null|        null|   null|null|1.163174|          null|    null|      null|2fed283e-f470-406...|   10|           null|        null|[34.0, 53.0]|   19770|     0|      null|                null|     1|{9, From Kick Off}|{10185, Stephanie...|{3, Right Center ...|         2|{746, Manchester ...|[9409efa3-76c2-47...|     3|null|        null|                null|{746, Manchester ...|00:00:03.221|        {43, Carry}|          null|            37|        4|\n",
      "| null|        null|         null| null|          null|     null|        null|   null|null|1.170915|          null|    null|      null|b62208ed-94e0-407...|   11|           null|        null|[36.0, 51.0]|   19770|     0|      null|{null, -1.8568478...|     1|{9, From Kick Off}|{10185, Stephanie...|{3, Right Center ...|         2|{746, Manchester ...|[369e5807-9f82-46...|     4|null|        null|                null|{746, Manchester ...|00:00:04.385|         {30, Pass}|          null|            37|        4|\n",
      "| null|        null|         null| null|          null|     null|        null|   null|null|    null|          null|    null|      null|369e5807-9f82-468...|   12|           null|        null|[31.0, 34.0]|   19770|     0|      null|                null|     1|{9, From Kick Off}|{17524, Jennifer ...|{5, Left Center B...|         2|{746, Manchester ...|[b62208ed-94e0-40...|     5|null|        null|                null|{746, Manchester ...|00:00:05.556|{42, Ball Receipt*}|          null|            37|        4|\n",
      "| null|        null|         null| null|{[35.0, 32.0]}|     null|        null|   null|null|1.414566|          null|    null|      null|638345ff-5763-46a...|   13|           null|        null|[31.0, 34.0]|   19770|     0|      null|                null|     1|{9, From Kick Off}|{17524, Jennifer ...|{5, Left Center B...|         2|{746, Manchester ...|[369e5807-9f82-46...|     5|null|        null|                null|{746, Manchester ...|00:00:05.556|        {43, Carry}|          null|            37|        4|\n",
      "| null|        null|         null| null|          null|     null|        null|   null|null|1.699476|          null|    null|      null|e9046bab-7e11-49c...|   14|           null|        null|[35.0, 32.0]|   19770|     0|      null|{null, -1.2068174...|     1|{9, From Kick Off}|{17524, Jennifer ...|{5, Left Center B...|         2|{746, Manchester ...|[d8c12ea5-be90-41...|     6|null|        null|                null|{746, Manchester ...|00:00:06.970|         {30, Pass}|          null|            37|        4|\n",
      "| null|        null|         null| null|          null|     null|        null|   null|null|    null|          null|    null|      null|d8c12ea5-be90-41e...|   15|           null|        null|[43.0, 11.0]|   19770|     0|      null|                null|     1|{9, From Kick Off}| {4651, Demi Stokes}|      {6, Left Back}|         2|{746, Manchester ...|[e9046bab-7e11-49...|     8|null|        null|                null|{746, Manchester ...|00:00:08.670|{42, Ball Receipt*}|          null|            37|        4|\n",
      "| null|        null|         null| null|{[44.0, 11.0]}|     null|        null|   null|null|0.573683|          null|    null|      null|b37e8c88-ca09-485...|   16|           null|        null|[43.0, 11.0]|   19770|     0|      null|                null|     1|{9, From Kick Off}| {4651, Demi Stokes}|      {6, Left Back}|         2|{746, Manchester ...|[a56e443f-7fdb-44...|     8|null|        null|                null|{746, Manchester ...|00:00:08.670|        {43, Carry}|          null|            37|        4|\n",
      "| null|        null|         null| null|          null|     null|        null|   null|null|0.962664|          null|    null|      null|a56e443f-7fdb-446...|   17|           null|        null|[44.0, 11.0]|   19770|     0|      null|{null, 1.815775, ...|     1|{9, From Kick Off}| {4651, Demi Stokes}|      {6, Left Back}|         2|{746, Manchester ...|[bce5fb22-c446-43...|     9|null|        null|                null|{746, Manchester ...|00:00:09.243|         {30, Pass}|          null|            37|        4|\n",
      "| null|        null|         null| null|          null|     null|        null|   null|null|0.537042|          null|    null|      null|1003a85a-3dfd-438...|   18|           null|        null|[74.0, 71.0]|   19770|     0|      null|                null|     1|{9, From Kick Off}|{21860, Paige Bai...|    {17, Right Wing}|         2|{746, Manchester ...|                null|     9|null|        null|                null|  {968, Arsenal WFC}|00:00:09.259|     {17, Pressure}|          null|            37|        4|\n",
      "| null|        null|         null| null|          null|     null|        null|   null|null|    null|          null|    null|      null|bce5fb22-c446-437...|   19|           null|        null|[42.0, 19.0]|   19770|     0|      null|                null|     1|{9, From Kick Off}| {4658, Keira Walsh}|{15, Left Center ...|         2|{746, Manchester ...|[a56e443f-7fdb-44...|    10|null|        null|                null|{746, Manchester ...|00:00:10.206|{42, Ball Receipt*}|          null|            37|        4|\n",
      "| null|        null|         null| null|{[42.0, 21.0]}|     null|        null|   null|null|1.084986|          null|    null|      null|209bab51-40be-442...|   20|           null|        null|[42.0, 19.0]|   19770|     0|      null|                null|     1|{9, From Kick Off}| {4658, Keira Walsh}|{15, Left Center ...|         2|{746, Manchester ...|[9f8c47f5-11a6-46...|    10|null|        null|                null|{746, Manchester ...|00:00:10.206|        {43, Carry}|          null|            37|        4|\n",
      "+-----+------------+-------------+-----+--------------+---------+------------+-------+----+--------+--------------+--------+----------+--------------------+-----+---------------+------------+------------+--------+------+----------+--------------------+------+------------------+--------------------+--------------------+----------+--------------------+--------------------+------+----+------------+--------------------+--------------------+------------+-------------------+--------------+--------------+---------+\n",
      "only showing top 20 rows\n",
      "\n"
     ]
    }
   ],
   "source": [
    "# Primeiro fazendo teste com uma única partição\n",
    "\n",
    "path_landing_events = os.path.join(path_s3,\"landing\",\"events\",\"match_id=19770\")\n",
    "\n",
    "df_events = spark.read.json(path_landing_events)\n",
    "\n",
    "df_events_matches = df_events.join(df_matches, \"match_id\").select(df_events[\"*\"], df_matches[\"competition_id\"],df_matches[\"season_id\"])\n",
    "df_events_matches.show()\n"
   ]
  },
  {
   "cell_type": "code",
   "execution_count": 23,
   "metadata": {},
   "outputs": [
    {
     "name": "stderr",
     "output_type": "stream",
     "text": [
      "24/01/23 04:23:59 WARN DataSource: Found duplicate column(s) in the data schema and the partition schema: `match_id`\n",
      "                                                                                \r"
     ]
    },
    {
     "name": "stdout",
     "output_type": "stream",
     "text": [
      "+-----+-------------+------------+-------------+-----+--------------+---------+------------+-------+----+--------+--------------+--------+----------+--------+----------+--------------------+-----+---------------+------------+------------+--------+------+----------+----------+----+--------------------+------+------------------+--------------------+----------+--------------------+----------+---------------+--------------------+------+----+------------+--------------------+--------------+------------+-------------------+--------------+--------------+---------+\n",
      "|50_50|bad_behaviour|ball_receipt|ball_recovery|block|         carry|clearance|counterpress|dribble|duel|duration|foul_committed|foul_won|goalkeeper|half_end|half_start|                  id|index|injury_stoppage|interception|    location|match_id|minute|miscontrol|off_camera| out|                pass|period|      play_pattern|              player|player_off|            position|possession|possession_team|      related_events|second|shot|substitution|             tactics|          team|   timestamp|               type|under_pressure|competition_id|season_id|\n",
      "+-----+-------------+------------+-------------+-----+--------------+---------+------------+-------+----+--------+--------------+--------+----------+--------+----------+--------------------+-----+---------------+------------+------------+--------+------+----------+----------+----+--------------------+------+------------------+--------------------+----------+--------------------+----------+---------------+--------------------+------+----+------------+--------------------+--------------+------------+-------------------+--------------+--------------+---------+\n",
      "| null|         null|        null|         null| null|          null|     null|        null|   null|null|     0.0|          null|    null|      null|    null|      null|85301abf-234c-4fa...|    1|           null|        null|        null| 3869420|     0|      null|      null|null|                null|     1| {1, Regular Play}|                null|      null|                null|         1| {785, Croatia}|                null|     0|null|        null|{433, [{1, {16531...|{785, Croatia}|00:00:00.000|  {35, Starting XI}|          null|            43|      106|\n",
      "| null|         null|        null|         null| null|          null|     null|        null|   null|null|     0.0|          null|    null|      null|    null|      null|b859d5b8-fdc2-409...|    2|           null|        null|        null| 3869420|     0|      null|      null|null|                null|     1| {1, Regular Play}|                null|      null|                null|         1| {785, Croatia}|                null|     0|null|        null|{4411, [{1, {5547...| {781, Brazil}|00:00:00.000|  {35, Starting XI}|          null|            43|      106|\n",
      "| null|         null|        null|         null| null|          null|     null|        null|   null|null|     0.0|          null|    null|      null|    null|      null|1263eb64-ec56-4b2...|    3|           null|        null|        null| 3869420|     0|      null|      null|null|                null|     1| {1, Regular Play}|                null|      null|                null|         1| {785, Croatia}|[03eed776-a228-40...|     0|null|        null|                null|{785, Croatia}|00:00:00.000|   {18, Half Start}|          null|            43|      106|\n",
      "| null|         null|        null|         null| null|          null|     null|        null|   null|null|     0.0|          null|    null|      null|    null|      null|03eed776-a228-408...|    4|           null|        null|        null| 3869420|     0|      null|      null|null|                null|     1| {1, Regular Play}|                null|      null|                null|         1| {785, Croatia}|[1263eb64-ec56-4b...|     0|null|        null|                null| {781, Brazil}|00:00:00.000|   {18, Half Start}|          null|            43|      106|\n",
      "| null|         null|        null|         null| null|          null|     null|        null|   null|null| 0.86554|          null|    null|      null|    null|      null|9f66f598-c069-4be...|    5|           null|        null|[60.0, 40.0]| 3869420|     0|      null|      null|null|{null, -3.038068,...|     1|{9, From Kick Off}| {5463, Luka Modrić}|      null|{13, Right Center...|         2| {785, Croatia}|[687facae-c228-45...|     0|null|        null|                null|{785, Croatia}|00:00:00.489|         {30, Pass}|          null|            43|      106|\n",
      "| null|         null|        null|         null| null|          null|     null|        null|   null|null|    null|          null|    null|      null|    null|      null|687facae-c228-459...|    6|           null|        null|[44.6, 38.4]| 3869420|     0|      null|      null|null|                null|     1|{9, From Kick Off}|{5469, Marcelo Br...|      null|{10, Center Defen...|         2| {785, Croatia}|[9f66f598-c069-4b...|     1|null|        null|                null|{785, Croatia}|00:00:01.355|{42, Ball Receipt*}|          null|            43|      106|\n",
      "| null|         null|        null|         null| null|{[46.8, 38.4]}|     null|        null|   null|null|0.978063|          null|    null|      null|    null|      null|6129a425-4177-4a4...|    7|           null|        null|[44.6, 38.4]| 3869420|     0|      null|      null|null|                null|     1|{9, From Kick Off}|{5469, Marcelo Br...|      null|{10, Center Defen...|         2| {785, Croatia}|[33f72bd6-436c-49...|     1|null|        null|                null|{785, Croatia}|00:00:01.355|        {43, Carry}|          null|            43|      106|\n",
      "| null|         null|        null|         null| null|          null|     null|        null|   null|null| 0.77002|          null|    null|      null|    null|      null|33f72bd6-436c-499...|    8|           null|        null|[46.8, 38.4]| 3869420|     0|      null|      null|null|{null, -0.0591026...|     1|{9, From Kick Off}|{5469, Marcelo Br...|      null|{10, Center Defen...|         2| {785, Croatia}|[ffc0b6bd-faf4-45...|     2|null|        null|                null|{785, Croatia}|00:00:02.333|         {30, Pass}|          null|            43|      106|\n",
      "| null|         null|        null|         null| null|          null|     null|        null|   null|null|    null|          null|    null|      null|    null|      null|ffc0b6bd-faf4-458...|    9|           null|        null|[63.7, 37.4]| 3869420|     0|      null|      null|null|                null|     1|{9, From Kick Off}| {5463, Luka Modrić}|      null|{13, Right Center...|         2| {785, Croatia}|[33f72bd6-436c-49...|     3|null|        null|                null|{785, Croatia}|00:00:03.103|{42, Ball Receipt*}|          null|            43|      106|\n",
      "| null|         null|        null|         null| null|{[63.7, 37.4]}|     null|        null|   null|null| 0.72165|          null|    null|      null|    null|      null|17078339-537c-462...|   10|           null|        null|[63.7, 37.4]| 3869420|     0|      null|      null|null|                null|     1|{9, From Kick Off}| {5463, Luka Modrić}|      null|{13, Right Center...|         2| {785, Croatia}|[c824d580-b89c-4d...|     3|null|        null|                null|{785, Croatia}|00:00:03.103|        {43, Carry}|          null|            43|      106|\n",
      "| null|         null|        null|         null| null|          null|     null|        null|   null|null|0.997715|          null|    null|      null|    null|      null|c824d580-b89c-4d7...|   11|           null|        null|[63.7, 37.4]| 3869420|     0|      null|      null|null|{null, 2.3660302,...|     1|{9, From Kick Off}| {5463, Luka Modrić}|      null|{13, Right Center...|         2| {785, Croatia}|[21bcedf0-d449-4c...|     3|null|        null|                null|{785, Croatia}|00:00:03.824|         {30, Pass}|          null|            43|      106|\n",
      "| null|         null|        null|         null| null|          null|     null|        null|   null|null|    null|          null|    null|      null|    null|      null|21bcedf0-d449-4cb...|   12|           null|        null|[48.3, 52.5]| 3869420|     0|      null|      null|null|                null|     1|{9, From Kick Off}|{3471, Dejan Lovren}|      null|{3, Right Center ...|         2| {785, Croatia}|[c824d580-b89c-4d...|     4|null|        null|                null|{785, Croatia}|00:00:04.822|{42, Ball Receipt*}|          null|            43|      106|\n",
      "| null|         null|        null|         null| null|{[49.9, 53.3]}|     null|        null|   null|null|1.131632|          null|    null|      null|    null|      null|439e8350-1e59-47f...|   13|           null|        null|[48.3, 52.5]| 3869420|     0|      null|      null|null|                null|     1|{9, From Kick Off}|{3471, Dejan Lovren}|      null|{3, Right Center ...|         2| {785, Croatia}|[21bcedf0-d449-4c...|     4|null|        null|                null|{785, Croatia}|00:00:04.822|        {43, Carry}|          null|            43|      106|\n",
      "| null|         null|        null|         null| null|          null|     null|        null|   null|null|1.571293|          null|    null|      null|    null|      null|695be0c1-9ec9-4ba...|   14|           null|        null|[49.9, 53.3]| 3869420|     0|      null|      null|null|{null, 0.59091806...|     1|{9, From Kick Off}|{3471, Dejan Lovren}|      null|{3, Right Center ...|         2| {785, Croatia}|[aa0e03bf-a648-4b...|     5|null|        null|                null|{785, Croatia}|00:00:05.954|         {30, Pass}|          null|            43|      106|\n",
      "| null|         null|        null|         null| null|          null|     null|        null|   null|null|    null|          null|    null|      null|    null|      null|aa0e03bf-a648-4be...|   15|           null|        null|[81.5, 74.5]| 3869420|     0|      null|      null|null|                null|     1|{9, From Kick Off}|{29163, Josip Jur...|      null|     {2, Right Back}|         2| {785, Croatia}|[695be0c1-9ec9-4b...|     7|null|        null|                null|{785, Croatia}|00:00:07.525|{42, Ball Receipt*}|          null|            43|      106|\n",
      "| null|         null|        null|         null| null|{[80.5, 72.5]}|     null|        null|   null|null|0.966489|          null|    null|      null|    null|      null|fc0b8d70-6c1f-46f...|   16|           null|        null|[81.5, 74.5]| 3869420|     0|      null|      null|null|                null|     1|{9, From Kick Off}|{29163, Josip Jur...|      null|     {2, Right Back}|         2| {785, Croatia}|[aa0e03bf-a648-4b...|     7|null|        null|                null|{785, Croatia}|00:00:07.525|        {43, Carry}|          null|            43|      106|\n",
      "| null|         null|        null|         null| null|          null|     null|        null|   null|null|0.176461|          null|    null|      null|    null|      null|be2acd6e-6c41-438...|   17|           null|        null|[80.5, 72.5]| 3869420|     0|      null|      null|null|{null, -1.4920124...|     1|{9, From Kick Off}|{29163, Josip Jur...|      null|     {2, Right Back}|         2| {785, Croatia}|[b0f9a855-4cdc-48...|     8|null|        null|                null|{785, Croatia}|00:00:08.492|         {30, Pass}|          null|            43|      106|\n",
      "| null|         null|        null|         null| null|          null|     null|        null|   null|null|     0.0|          null|    null|      null|    null|      null|b0f9a855-4cdc-48d...|   18|           null|        null|[39.3, 11.4]| 3869420|     0|      null|      null|null|                null|     1|{9, From Kick Off}|{18395, Vinícius ...|      null| {16, Left Midfield}|         2| {785, Croatia}|[be2acd6e-6c41-43...|     8|null|        null|                null| {781, Brazil}|00:00:08.668|         {6, Block}|          null|            43|      106|\n",
      "| null|         null|        null|         null| null|          null|     null|        null|   null|null|     0.0|          null|    null|      null|    null|      null|94752247-beda-4e9...|   19|           null|        null|[80.8, 72.0]| 3869420|     0|      null|      null|true|                null|     1|{9, From Kick Off}|{29163, Josip Jur...|      null|     {2, Right Back}|         2| {785, Croatia}|                null|     8|null|        null|                null|{785, Croatia}|00:00:08.851|         {6, Block}|          null|            43|      106|\n",
      "| null|         null|        null|         null| null|          null|     null|        null|   null|null|     0.0|          null|    null|      null|    null|      null|553f7327-4f5f-4de...|   20|           null|        null| [44.9, 6.1]| 3869420|     0|      null|      null|null|                null|     1|{9, From Kick Off}|{18395, Vinícius ...|      null| {16, Left Midfield}|         2| {785, Croatia}|                null|    10|null|        null|                null| {781, Brazil}|00:00:10.218|       {28, Shield}|          null|            43|      106|\n",
      "+-----+-------------+------------+-------------+-----+--------------+---------+------------+-------+----+--------+--------------+--------+----------+--------+----------+--------------------+-----+---------------+------------+------------+--------+------+----------+----------+----+--------------------+------+------------------+--------------------+----------+--------------------+----------+---------------+--------------------+------+----+------------+--------------------+--------------+------------+-------------------+--------------+--------------+---------+\n",
      "only showing top 20 rows\n",
      "\n"
     ]
    }
   ],
   "source": [
    "path_landing_events = os.path.join(path_s3,\"landing\",\"events\")\n",
    "\n",
    "df_events = spark.read.json(path_landing_events)\n",
    "\n",
    "df_events_matches = df_events.join(df_matches, \"match_id\").select(df_events[\"*\"], df_matches[\"competition_id\"],df_matches[\"season_id\"])\n",
    "df_events_matches.show()\n"
   ]
  },
  {
   "cell_type": "code",
   "execution_count": 24,
   "metadata": {},
   "outputs": [
    {
     "name": "stderr",
     "output_type": "stream",
     "text": [
      "[Stage 53:=====================================================>(155 + 1) / 156]\r"
     ]
    },
    {
     "name": "stdout",
     "output_type": "stream",
     "text": [
      "10132520\n"
     ]
    },
    {
     "name": "stderr",
     "output_type": "stream",
     "text": [
      "                                                                                \r"
     ]
    }
   ],
   "source": [
    "print(df_events_matches.count())"
   ]
  },
  {
   "cell_type": "code",
   "execution_count": 26,
   "metadata": {},
   "outputs": [
    {
     "name": "stderr",
     "output_type": "stream",
     "text": [
      "                                                                                \r"
     ]
    }
   ],
   "source": [
    "path_bronze_events = os.path.join(path_bucket_bronze,\"events\")\n",
    "df_events_matches.write.partitionBy(\"competition_id\",\"season_id\",\"match_id\").parquet(path_bronze_events)"
   ]
  },
  {
   "cell_type": "code",
   "execution_count": 29,
   "metadata": {},
   "outputs": [
    {
     "name": "stderr",
     "output_type": "stream",
     "text": [
      "                                                                                \r"
     ]
    },
    {
     "name": "stdout",
     "output_type": "stream",
     "text": [
      "+-----+-------------+------------+-------------+-----+--------------+---------+------------+-------+----+--------+--------------+--------+----------+--------+----------+--------------------+-----+---------------+------------+------------+------+----------+----------+----+--------------------+------+------------------+--------------------+----------+--------------------+----------+---------------+--------------------+------+----+------------+--------------------+--------------+------------+-------------------+--------------+--------------+---------+--------+\n",
      "|50_50|bad_behaviour|ball_receipt|ball_recovery|block|         carry|clearance|counterpress|dribble|duel|duration|foul_committed|foul_won|goalkeeper|half_end|half_start|                  id|index|injury_stoppage|interception|    location|minute|miscontrol|off_camera| out|                pass|period|      play_pattern|              player|player_off|            position|possession|possession_team|      related_events|second|shot|substitution|             tactics|          team|   timestamp|               type|under_pressure|competition_id|season_id|match_id|\n",
      "+-----+-------------+------------+-------------+-----+--------------+---------+------------+-------+----+--------+--------------+--------+----------+--------+----------+--------------------+-----+---------------+------------+------------+------+----------+----------+----+--------------------+------+------------------+--------------------+----------+--------------------+----------+---------------+--------------------+------+----+------------+--------------------+--------------+------------+-------------------+--------------+--------------+---------+--------+\n",
      "| null|         null|        null|         null| null|          null|     null|        null|   null|null|     0.0|          null|    null|      null|    null|      null|85301abf-234c-4fa...|    1|           null|        null|        null|     0|      null|      null|null|                null|     1| {1, Regular Play}|                null|      null|                null|         1| {785, Croatia}|                null|     0|null|        null|{433, [{1, {16531...|{785, Croatia}|00:00:00.000|  {35, Starting XI}|          null|            43|      106| 3869420|\n",
      "| null|         null|        null|         null| null|          null|     null|        null|   null|null|     0.0|          null|    null|      null|    null|      null|b859d5b8-fdc2-409...|    2|           null|        null|        null|     0|      null|      null|null|                null|     1| {1, Regular Play}|                null|      null|                null|         1| {785, Croatia}|                null|     0|null|        null|{4411, [{1, {5547...| {781, Brazil}|00:00:00.000|  {35, Starting XI}|          null|            43|      106| 3869420|\n",
      "| null|         null|        null|         null| null|          null|     null|        null|   null|null|     0.0|          null|    null|      null|    null|      null|1263eb64-ec56-4b2...|    3|           null|        null|        null|     0|      null|      null|null|                null|     1| {1, Regular Play}|                null|      null|                null|         1| {785, Croatia}|[03eed776-a228-40...|     0|null|        null|                null|{785, Croatia}|00:00:00.000|   {18, Half Start}|          null|            43|      106| 3869420|\n",
      "| null|         null|        null|         null| null|          null|     null|        null|   null|null|     0.0|          null|    null|      null|    null|      null|03eed776-a228-408...|    4|           null|        null|        null|     0|      null|      null|null|                null|     1| {1, Regular Play}|                null|      null|                null|         1| {785, Croatia}|[1263eb64-ec56-4b...|     0|null|        null|                null| {781, Brazil}|00:00:00.000|   {18, Half Start}|          null|            43|      106| 3869420|\n",
      "| null|         null|        null|         null| null|          null|     null|        null|   null|null| 0.86554|          null|    null|      null|    null|      null|9f66f598-c069-4be...|    5|           null|        null|[60.0, 40.0]|     0|      null|      null|null|{null, -3.038068,...|     1|{9, From Kick Off}| {5463, Luka Modrić}|      null|{13, Right Center...|         2| {785, Croatia}|[687facae-c228-45...|     0|null|        null|                null|{785, Croatia}|00:00:00.489|         {30, Pass}|          null|            43|      106| 3869420|\n",
      "| null|         null|        null|         null| null|          null|     null|        null|   null|null|    null|          null|    null|      null|    null|      null|687facae-c228-459...|    6|           null|        null|[44.6, 38.4]|     0|      null|      null|null|                null|     1|{9, From Kick Off}|{5469, Marcelo Br...|      null|{10, Center Defen...|         2| {785, Croatia}|[9f66f598-c069-4b...|     1|null|        null|                null|{785, Croatia}|00:00:01.355|{42, Ball Receipt*}|          null|            43|      106| 3869420|\n",
      "| null|         null|        null|         null| null|{[46.8, 38.4]}|     null|        null|   null|null|0.978063|          null|    null|      null|    null|      null|6129a425-4177-4a4...|    7|           null|        null|[44.6, 38.4]|     0|      null|      null|null|                null|     1|{9, From Kick Off}|{5469, Marcelo Br...|      null|{10, Center Defen...|         2| {785, Croatia}|[33f72bd6-436c-49...|     1|null|        null|                null|{785, Croatia}|00:00:01.355|        {43, Carry}|          null|            43|      106| 3869420|\n",
      "| null|         null|        null|         null| null|          null|     null|        null|   null|null| 0.77002|          null|    null|      null|    null|      null|33f72bd6-436c-499...|    8|           null|        null|[46.8, 38.4]|     0|      null|      null|null|{null, -0.0591026...|     1|{9, From Kick Off}|{5469, Marcelo Br...|      null|{10, Center Defen...|         2| {785, Croatia}|[ffc0b6bd-faf4-45...|     2|null|        null|                null|{785, Croatia}|00:00:02.333|         {30, Pass}|          null|            43|      106| 3869420|\n",
      "| null|         null|        null|         null| null|          null|     null|        null|   null|null|    null|          null|    null|      null|    null|      null|ffc0b6bd-faf4-458...|    9|           null|        null|[63.7, 37.4]|     0|      null|      null|null|                null|     1|{9, From Kick Off}| {5463, Luka Modrić}|      null|{13, Right Center...|         2| {785, Croatia}|[33f72bd6-436c-49...|     3|null|        null|                null|{785, Croatia}|00:00:03.103|{42, Ball Receipt*}|          null|            43|      106| 3869420|\n",
      "| null|         null|        null|         null| null|{[63.7, 37.4]}|     null|        null|   null|null| 0.72165|          null|    null|      null|    null|      null|17078339-537c-462...|   10|           null|        null|[63.7, 37.4]|     0|      null|      null|null|                null|     1|{9, From Kick Off}| {5463, Luka Modrić}|      null|{13, Right Center...|         2| {785, Croatia}|[c824d580-b89c-4d...|     3|null|        null|                null|{785, Croatia}|00:00:03.103|        {43, Carry}|          null|            43|      106| 3869420|\n",
      "| null|         null|        null|         null| null|          null|     null|        null|   null|null|0.997715|          null|    null|      null|    null|      null|c824d580-b89c-4d7...|   11|           null|        null|[63.7, 37.4]|     0|      null|      null|null|{null, 2.3660302,...|     1|{9, From Kick Off}| {5463, Luka Modrić}|      null|{13, Right Center...|         2| {785, Croatia}|[21bcedf0-d449-4c...|     3|null|        null|                null|{785, Croatia}|00:00:03.824|         {30, Pass}|          null|            43|      106| 3869420|\n",
      "| null|         null|        null|         null| null|          null|     null|        null|   null|null|    null|          null|    null|      null|    null|      null|21bcedf0-d449-4cb...|   12|           null|        null|[48.3, 52.5]|     0|      null|      null|null|                null|     1|{9, From Kick Off}|{3471, Dejan Lovren}|      null|{3, Right Center ...|         2| {785, Croatia}|[c824d580-b89c-4d...|     4|null|        null|                null|{785, Croatia}|00:00:04.822|{42, Ball Receipt*}|          null|            43|      106| 3869420|\n",
      "| null|         null|        null|         null| null|{[49.9, 53.3]}|     null|        null|   null|null|1.131632|          null|    null|      null|    null|      null|439e8350-1e59-47f...|   13|           null|        null|[48.3, 52.5]|     0|      null|      null|null|                null|     1|{9, From Kick Off}|{3471, Dejan Lovren}|      null|{3, Right Center ...|         2| {785, Croatia}|[21bcedf0-d449-4c...|     4|null|        null|                null|{785, Croatia}|00:00:04.822|        {43, Carry}|          null|            43|      106| 3869420|\n",
      "| null|         null|        null|         null| null|          null|     null|        null|   null|null|1.571293|          null|    null|      null|    null|      null|695be0c1-9ec9-4ba...|   14|           null|        null|[49.9, 53.3]|     0|      null|      null|null|{null, 0.59091806...|     1|{9, From Kick Off}|{3471, Dejan Lovren}|      null|{3, Right Center ...|         2| {785, Croatia}|[aa0e03bf-a648-4b...|     5|null|        null|                null|{785, Croatia}|00:00:05.954|         {30, Pass}|          null|            43|      106| 3869420|\n",
      "| null|         null|        null|         null| null|          null|     null|        null|   null|null|    null|          null|    null|      null|    null|      null|aa0e03bf-a648-4be...|   15|           null|        null|[81.5, 74.5]|     0|      null|      null|null|                null|     1|{9, From Kick Off}|{29163, Josip Jur...|      null|     {2, Right Back}|         2| {785, Croatia}|[695be0c1-9ec9-4b...|     7|null|        null|                null|{785, Croatia}|00:00:07.525|{42, Ball Receipt*}|          null|            43|      106| 3869420|\n",
      "| null|         null|        null|         null| null|{[80.5, 72.5]}|     null|        null|   null|null|0.966489|          null|    null|      null|    null|      null|fc0b8d70-6c1f-46f...|   16|           null|        null|[81.5, 74.5]|     0|      null|      null|null|                null|     1|{9, From Kick Off}|{29163, Josip Jur...|      null|     {2, Right Back}|         2| {785, Croatia}|[aa0e03bf-a648-4b...|     7|null|        null|                null|{785, Croatia}|00:00:07.525|        {43, Carry}|          null|            43|      106| 3869420|\n",
      "| null|         null|        null|         null| null|          null|     null|        null|   null|null|0.176461|          null|    null|      null|    null|      null|be2acd6e-6c41-438...|   17|           null|        null|[80.5, 72.5]|     0|      null|      null|null|{null, -1.4920124...|     1|{9, From Kick Off}|{29163, Josip Jur...|      null|     {2, Right Back}|         2| {785, Croatia}|[b0f9a855-4cdc-48...|     8|null|        null|                null|{785, Croatia}|00:00:08.492|         {30, Pass}|          null|            43|      106| 3869420|\n",
      "| null|         null|        null|         null| null|          null|     null|        null|   null|null|     0.0|          null|    null|      null|    null|      null|b0f9a855-4cdc-48d...|   18|           null|        null|[39.3, 11.4]|     0|      null|      null|null|                null|     1|{9, From Kick Off}|{18395, Vinícius ...|      null| {16, Left Midfield}|         2| {785, Croatia}|[be2acd6e-6c41-43...|     8|null|        null|                null| {781, Brazil}|00:00:08.668|         {6, Block}|          null|            43|      106| 3869420|\n",
      "| null|         null|        null|         null| null|          null|     null|        null|   null|null|     0.0|          null|    null|      null|    null|      null|94752247-beda-4e9...|   19|           null|        null|[80.8, 72.0]|     0|      null|      null|true|                null|     1|{9, From Kick Off}|{29163, Josip Jur...|      null|     {2, Right Back}|         2| {785, Croatia}|                null|     8|null|        null|                null|{785, Croatia}|00:00:08.851|         {6, Block}|          null|            43|      106| 3869420|\n",
      "| null|         null|        null|         null| null|          null|     null|        null|   null|null|     0.0|          null|    null|      null|    null|      null|553f7327-4f5f-4de...|   20|           null|        null| [44.9, 6.1]|     0|      null|      null|null|                null|     1|{9, From Kick Off}|{18395, Vinícius ...|      null| {16, Left Midfield}|         2| {785, Croatia}|                null|    10|null|        null|                null| {781, Brazil}|00:00:10.218|       {28, Shield}|          null|            43|      106| 3869420|\n",
      "+-----+-------------+------------+-------------+-----+--------------+---------+------------+-------+----+--------+--------------+--------+----------+--------+----------+--------------------+-----+---------------+------------+------------+------+----------+----------+----+--------------------+------+------------------+--------------------+----------+--------------------+----------+---------------+--------------------+------+----+------------+--------------------+--------------+------------+-------------------+--------------+--------------+---------+--------+\n",
      "only showing top 20 rows\n",
      "\n"
     ]
    },
    {
     "name": "stderr",
     "output_type": "stream",
     "text": [
      "[Stage 89:=====================================================> (97 + 3) / 100]\r"
     ]
    },
    {
     "name": "stdout",
     "output_type": "stream",
     "text": [
      "10132520\n"
     ]
    },
    {
     "name": "stderr",
     "output_type": "stream",
     "text": [
      "                                                                                \r"
     ]
    }
   ],
   "source": [
    "df_events_bronze = spark.read.parquet(path_bronze_events)\n",
    "\n",
    "df_events_bronze.show()\n",
    "\n",
    "print(df_events_bronze.count())"
   ]
  },
  {
   "cell_type": "code",
   "execution_count": 37,
   "metadata": {},
   "outputs": [
    {
     "name": "stderr",
     "output_type": "stream",
     "text": [
      "                                                                                \r"
     ]
    },
    {
     "name": "stdout",
     "output_type": "stream",
     "text": [
      "+-----+-------------+------------+-------------+-----+--------------+---------+------------+-------+----+--------+--------------+--------+----------+--------+----------+--------------------+-----+---------------+------------+------------+------+----------+----------+----+--------------------+------+------------------+--------------------+----------+--------------------+----------+----------------+--------------------+------+----+------------+--------------------+----------------+------------+-------------------+--------------+---------+--------+\n",
      "|50_50|bad_behaviour|ball_receipt|ball_recovery|block|         carry|clearance|counterpress|dribble|duel|duration|foul_committed|foul_won|goalkeeper|half_end|half_start|                  id|index|injury_stoppage|interception|    location|minute|miscontrol|off_camera| out|                pass|period|      play_pattern|              player|player_off|            position|possession| possession_team|      related_events|second|shot|substitution|             tactics|            team|   timestamp|               type|under_pressure|season_id|match_id|\n",
      "+-----+-------------+------------+-------------+-----+--------------+---------+------------+-------+----+--------+--------------+--------+----------+--------+----------+--------------------+-----+---------------+------------+------------+------+----------+----------+----+--------------------+------+------------------+--------------------+----------+--------------------+----------+----------------+--------------------+------+----+------------+--------------------+----------------+------------+-------------------+--------------+---------+--------+\n",
      "| null|         null|        null|         null| null|          null|     null|        null|   null|null|     0.0|          null|    null|      null|    null|      null|eae9e4da-8943-4eb...|    1|           null|        null|        null|     0|      null|      null|null|                null|     1| {1, Regular Play}|                null|      null|                null|         1|{217, Barcelona}|                null|     0|null|        null|{3421, [{1, {2005...|{217, Barcelona}|00:00:00.000|  {35, Starting XI}|          null|       90| 3773369|\n",
      "| null|         null|        null|         null| null|          null|     null|        null|   null|null|     0.0|          null|    null|      null|    null|      null|fa230b58-297b-499...|    2|           null|        null|        null|     0|      null|      null|null|                null|     1| {1, Regular Play}|                null|      null|                null|         1|{217, Barcelona}|                null|     0|null|        null|{352, [{1, {25598...|   {902, Huesca}|00:00:00.000|  {35, Starting XI}|          null|       90| 3773369|\n",
      "| null|         null|        null|         null| null|          null|     null|        null|   null|null|     0.0|          null|    null|      null|    null|      null|a4db81d3-a9cc-4c6...|    3|           null|        null|        null|     0|      null|      null|null|                null|     1| {1, Regular Play}|                null|      null|                null|         1|{217, Barcelona}|[4e4342a8-ec54-46...|     0|null|        null|                null|{217, Barcelona}|00:00:00.000|   {18, Half Start}|          null|       90| 3773369|\n",
      "| null|         null|        null|         null| null|          null|     null|        null|   null|null|     0.0|          null|    null|      null|    null|      null|4e4342a8-ec54-465...|    4|           null|        null|        null|     0|      null|      null|null|                null|     1| {1, Regular Play}|                null|      null|                null|         1|{217, Barcelona}|[a4db81d3-a9cc-4c...|     0|null|        null|                null|   {902, Huesca}|00:00:00.000|   {18, Half Start}|          null|       90| 3773369|\n",
      "| null|         null|        null|         null| null|          null|     null|        null|   null|null|0.720672|          null|    null|      null|    null|      null|e073be3a-11a6-40f...|    5|           null|        null|[61.0, 40.1]|     0|      null|      null|null|{null, -2.2794225...|     1|{9, From Kick Off}|{5503, Lionel And...|      null|{18, Right Attack...|         2|{217, Barcelona}|[4508566c-275b-4e...|     1|null|        null|                null|{217, Barcelona}|00:00:01.140|         {30, Pass}|          null|       90| 3773369|\n",
      "| null|         null|        null|         null| null|          null|     null|        null|   null|null|    null|          null|    null|      null|    null|      null|4508566c-275b-4e7...|    6|           null|        null|[59.2, 38.0]|     0|      null|      null|null|                null|     1|{9, From Kick Off}|{5477, Ousmane De...|      null|{23, Center Forward}|         2|{217, Barcelona}|[e073be3a-11a6-40...|     1|null|        null|                null|{217, Barcelona}|00:00:01.860|{42, Ball Receipt*}|          null|       90| 3773369|\n",
      "| null|         null|        null|         null| null|{[58.3, 38.6]}|     null|        null|   null|null|0.079999|          null|    null|      null|    null|      null|29f21a2c-a94a-4f7...|    7|           null|        null|[59.2, 38.0]|     0|      null|      null|null|                null|     1|{9, From Kick Off}|{5477, Ousmane De...|      null|{23, Center Forward}|         2|{217, Barcelona}|[4508566c-275b-4e...|     1|null|        null|                null|{217, Barcelona}|00:00:01.860|        {43, Carry}|          null|       90| 3773369|\n",
      "| null|         null|        null|         null| null|          null|     null|        null|   null|null|0.855618|          null|    null|      null|    null|      null|d87bf01d-65e9-429...|    8|           null|        null|[58.3, 38.6]|     0|      null|      null|null|{null, 2.3826435,...|     1|{9, From Kick Off}|{5477, Ousmane De...|      null|{23, Center Forward}|         2|{217, Barcelona}|[6c7364d9-f294-43...|     1|null|        null|                null|{217, Barcelona}|00:00:01.940|         {30, Pass}|          null|       90| 3773369|\n",
      "| null|         null|        null|         null| null|          null|     null|        null|   null|null|    null|          null|    null|      null|    null|      null|6c7364d9-f294-435...|    9|           null|        null|[48.6, 47.8]|     0|      null|      null|null|                null|     1|{9, From Kick Off}|{5203, Sergio Bus...|      null|{9, Right Defensi...|         2|{217, Barcelona}|[d87bf01d-65e9-42...|     2|null|        null|                null|{217, Barcelona}|00:00:02.796|{42, Ball Receipt*}|          null|       90| 3773369|\n",
      "| null|         null|        null|         null| null|{[48.0, 49.8]}|     null|        null|   null|null|0.773502|          null|    null|      null|    null|      null|9014431e-4908-45e...|   10|           null|        null|[48.6, 47.8]|     0|      null|      null|null|                null|     1|{9, From Kick Off}|{5203, Sergio Bus...|      null|{9, Right Defensi...|         2|{217, Barcelona}|[6c7364d9-f294-43...|     2|null|        null|                null|{217, Barcelona}|00:00:02.796|        {43, Carry}|          null|       90| 3773369|\n",
      "| null|         null|        null|         null| null|          null|     null|        null|   null|null|1.450015|          null|    null|      null|    null|      null|e68295ff-2c9d-4f8...|   11|           null|        null|[48.0, 49.8]|     0|      null|      null|null|{null, 1.3076552,...|     1|{9, From Kick Off}|{5203, Sergio Bus...|      null|{9, Right Defensi...|         2|{217, Barcelona}|[68473bb1-55fd-4a...|     3|null|        null|                null|{217, Barcelona}|00:00:03.569|         {30, Pass}|          null|       90| 3773369|\n",
      "| null|         null|        null|         null| null|          null|     null|        null|   null|null|    null|          null|    null|      null|    null|      null|68473bb1-55fd-4af...|   12|           null|        null|[54.6, 74.3]|     0|      null|      null|null|                null|     1|{9, From Kick Off}|{21881, Sergino D...|      null|{7, Right Wing Back}|         2|{217, Barcelona}|[e68295ff-2c9d-4f...|     5|null|        null|                null|{217, Barcelona}|00:00:05.019|{42, Ball Receipt*}|          null|       90| 3773369|\n",
      "| null|         null|        null|         null| null|{[55.5, 74.3]}|     null|        null|   null|null|1.096107|          null|    null|      null|    null|      null|b01afa57-fec8-46a...|   13|           null|        null|[54.6, 74.3]|     0|      null|      null|null|                null|     1|{9, From Kick Off}|{21881, Sergino D...|      null|{7, Right Wing Back}|         2|{217, Barcelona}|[68473bb1-55fd-4a...|     5|null|        null|                null|{217, Barcelona}|00:00:05.019|        {43, Carry}|          null|       90| 3773369|\n",
      "| null|         null|        null|         null| null|          null|     null|        null|   null|null|1.469523|          null|    null|      null|    null|      null|72ba69d2-6932-41f...|   14|           null|        null|[55.5, 74.3]|     0|      null|      null|null|{null, -2.6376212...|     1|{9, From Kick Off}|{21881, Sergino D...|      null|{7, Right Wing Back}|         2|{217, Barcelona}|[38d043fa-722f-46...|     6|null|        null|                null|{217, Barcelona}|00:00:06.116|         {30, Pass}|          null|       90| 3773369|\n",
      "| null|         null|        null|         null| null|          null|     null|        null|   null|null|    null|          null|    null|      null|    null|      null|38d043fa-722f-462...|   15|           null|        null|[41.9, 66.8]|     0|      null|      null|null|                null|     1|{9, From Kick Off}|{43728, Óscar Min...|      null|{3, Right Center ...|         2|{217, Barcelona}|[72ba69d2-6932-41...|     7|null|        null|                null|{217, Barcelona}|00:00:07.585|{42, Ball Receipt*}|          null|       90| 3773369|\n",
      "| null|         null|        null|         null| null|{[41.9, 65.7]}|     null|        null|   null|null|0.476656|          null|    null|      null|    null|      null|b6172d20-a55e-467...|   16|           null|        null|[41.9, 66.8]|     0|      null|      null|null|                null|     1|{9, From Kick Off}|{43728, Óscar Min...|      null|{3, Right Center ...|         2|{217, Barcelona}|[38d043fa-722f-46...|     7|null|        null|                null|{217, Barcelona}|00:00:07.585|        {43, Carry}|          null|       90| 3773369|\n",
      "| null|         null|        null|         null| null|          null|     null|        null|   null|null|0.968508|          null|    null|      null|    null|      null|df90328c-45ac-4b7...|   17|           null|        null|[41.9, 65.7]|     0|      null|      null|null|{null, -1.8812752...|     1|{9, From Kick Off}|{43728, Óscar Min...|      null|{3, Right Center ...|         2|{217, Barcelona}|[ce32067c-dafb-47...|     8|null|        null|                null|{217, Barcelona}|00:00:08.062|         {30, Pass}|          null|       90| 3773369|\n",
      "| null|         null|        null|         null| null|          null|     null|        null|   null|null|    null|          null|    null|      null|    null|      null|ce32067c-dafb-479...|   18|           null|        null|[35.9, 47.0]|     0|      null|      null|null|                null|     1|{9, From Kick Off}|{8118, Frenkie de...|      null|    {4, Center Back}|         2|{217, Barcelona}|[df90328c-45ac-4b...|     9|null|        null|                null|{217, Barcelona}|00:00:09.030|{42, Ball Receipt*}|          null|       90| 3773369|\n",
      "| null|         null|        null|         null| null|{[36.4, 44.6]}|     null|        null|   null|null|0.821149|          null|    null|      null|    null|      null|52fa8931-a179-486...|   19|           null|        null|[35.9, 47.0]|     0|      null|      null|null|                null|     1|{9, From Kick Off}|{8118, Frenkie de...|      null|    {4, Center Back}|         2|{217, Barcelona}|[ce32067c-dafb-47...|     9|null|        null|                null|{217, Barcelona}|00:00:09.030|        {43, Carry}|          null|       90| 3773369|\n",
      "| null|         null|        null|         null| null|          null|     null|        null|   null|null|  1.8187|          null|    null|      null|    null|      null|f7cfd4a3-2b08-415...|   20|           null|        null|[36.4, 44.6]|     0|      null|      null|null|{null, -1.2700217...|     1|{9, From Kick Off}|{8118, Frenkie de...|      null|    {4, Center Back}|         2|{217, Barcelona}|[b20530ae-289e-48...|     9|null|        null|                null|{217, Barcelona}|00:00:09.851|         {30, Pass}|          null|       90| 3773369|\n",
      "+-----+-------------+------------+-------------+-----+--------------+---------+------------+-------+----+--------+--------------+--------+----------+--------+----------+--------------------+-----+---------------+------------+------------+------+----------+----------+----+--------------------+------+------------------+--------------------+----------+--------------------+----------+----------------+--------------------+------+----+------------+--------------------+----------------+------------+-------------------+--------------+---------+--------+\n",
      "only showing top 20 rows\n",
      "\n"
     ]
    }
   ],
   "source": [
    "df_events_bronze_partition = spark.read.parquet(os.path.join(path_bronze_events,\"competition_id=11\"))\n",
    "df_events_bronze_partition.show()"
   ]
  }
 ],
 "metadata": {
  "kernelspec": {
   "display_name": "Python 3",
   "language": "python",
   "name": "python3"
  },
  "language_info": {
   "codemirror_mode": {
    "name": "ipython",
    "version": 3
   },
   "file_extension": ".py",
   "mimetype": "text/x-python",
   "name": "python",
   "nbconvert_exporter": "python",
   "pygments_lexer": "ipython3",
   "version": "3.10.2"
  },
  "orig_nbformat": 4
 },
 "nbformat": 4,
 "nbformat_minor": 2
}
