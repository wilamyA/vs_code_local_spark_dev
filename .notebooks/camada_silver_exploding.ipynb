{
 "cells": [
  {
   "cell_type": "code",
   "execution_count": 1,
   "metadata": {},
   "outputs": [],
   "source": [
    "from pyspark.sql import SparkSession\n",
    "from pyspark.sql import functions as F"
   ]
  },
  {
   "cell_type": "code",
   "execution_count": 2,
   "metadata": {},
   "outputs": [
    {
     "name": "stderr",
     "output_type": "stream",
     "text": [
      "SLF4J: Class path contains multiple SLF4J bindings.\n",
      "SLF4J: Found binding in [jar:file:/home/glue_user/spark/jars/log4j-slf4j-impl-2.17.2.jar!/org/slf4j/impl/StaticLoggerBinder.class]\n",
      "SLF4J: Found binding in [jar:file:/home/glue_user/spark/jars/slf4j-reload4j-1.7.36.jar!/org/slf4j/impl/StaticLoggerBinder.class]\n",
      "SLF4J: Found binding in [jar:file:/home/glue_user/aws-glue-libs/jars/log4j-slf4j-impl-2.17.2.jar!/org/slf4j/impl/StaticLoggerBinder.class]\n",
      "SLF4J: Found binding in [jar:file:/home/glue_user/aws-glue-libs/jars/slf4j-reload4j-1.7.36.jar!/org/slf4j/impl/StaticLoggerBinder.class]\n",
      "SLF4J: See http://www.slf4j.org/codes.html#multiple_bindings for an explanation.\n",
      "SLF4J: Actual binding is of type [org.apache.logging.slf4j.Log4jLoggerFactory]\n",
      "Setting default log level to \"WARN\".\n",
      "To adjust logging level use sc.setLogLevel(newLevel). For SparkR, use setLogLevel(newLevel).\n"
     ]
    }
   ],
   "source": [
    "spark = SparkSession.builder.getOrCreate()"
   ]
  },
  {
   "cell_type": "markdown",
   "metadata": {},
   "source": [
    "## Tratamento matches"
   ]
  },
  {
   "cell_type": "code",
   "execution_count": 3,
   "metadata": {},
   "outputs": [
    {
     "name": "stderr",
     "output_type": "stream",
     "text": [
      "24/04/16 23:30:07 WARN MetricsConfig: Cannot locate configuration: tried hadoop-metrics2-s3a-file-system.properties,hadoop-metrics2.properties\n",
      "                                                                                \r"
     ]
    }
   ],
   "source": [
    "path_matches_bronze = \"s3://bronze/matches/\"\n",
    "\n",
    "df_matches_bronze = spark.read.parquet(path_matches_bronze)"
   ]
  },
  {
   "cell_type": "code",
   "execution_count": 4,
   "metadata": {},
   "outputs": [
    {
     "name": "stdout",
     "output_type": "stream",
     "text": [
      "root\n",
      " |-- away_score: long (nullable = true)\n",
      " |-- away_team: struct (nullable = true)\n",
      " |    |-- away_team_gender: string (nullable = true)\n",
      " |    |-- away_team_group: string (nullable = true)\n",
      " |    |-- away_team_id: long (nullable = true)\n",
      " |    |-- away_team_name: string (nullable = true)\n",
      " |    |-- country: struct (nullable = true)\n",
      " |    |    |-- id: long (nullable = true)\n",
      " |    |    |-- name: string (nullable = true)\n",
      " |    |-- managers: array (nullable = true)\n",
      " |    |    |-- element: struct (containsNull = true)\n",
      " |    |    |    |-- country: struct (nullable = true)\n",
      " |    |    |    |    |-- id: long (nullable = true)\n",
      " |    |    |    |    |-- name: string (nullable = true)\n",
      " |    |    |    |-- dob: string (nullable = true)\n",
      " |    |    |    |-- id: long (nullable = true)\n",
      " |    |    |    |-- name: string (nullable = true)\n",
      " |    |    |    |-- nickname: string (nullable = true)\n",
      " |-- competition: struct (nullable = true)\n",
      " |    |-- competition_id: long (nullable = true)\n",
      " |    |-- competition_name: string (nullable = true)\n",
      " |    |-- country_name: string (nullable = true)\n",
      " |-- competition_stage: struct (nullable = true)\n",
      " |    |-- id: long (nullable = true)\n",
      " |    |-- name: string (nullable = true)\n",
      " |-- home_score: long (nullable = true)\n",
      " |-- home_team: struct (nullable = true)\n",
      " |    |-- country: struct (nullable = true)\n",
      " |    |    |-- id: long (nullable = true)\n",
      " |    |    |-- name: string (nullable = true)\n",
      " |    |-- home_team_gender: string (nullable = true)\n",
      " |    |-- home_team_group: string (nullable = true)\n",
      " |    |-- home_team_id: long (nullable = true)\n",
      " |    |-- home_team_name: string (nullable = true)\n",
      " |    |-- managers: array (nullable = true)\n",
      " |    |    |-- element: struct (containsNull = true)\n",
      " |    |    |    |-- country: struct (nullable = true)\n",
      " |    |    |    |    |-- id: long (nullable = true)\n",
      " |    |    |    |    |-- name: string (nullable = true)\n",
      " |    |    |    |-- dob: string (nullable = true)\n",
      " |    |    |    |-- id: long (nullable = true)\n",
      " |    |    |    |-- name: string (nullable = true)\n",
      " |    |    |    |-- nickname: string (nullable = true)\n",
      " |-- kick_off: string (nullable = true)\n",
      " |-- last_updated: string (nullable = true)\n",
      " |-- last_updated_360: string (nullable = true)\n",
      " |-- match_date: string (nullable = true)\n",
      " |-- match_id: long (nullable = true)\n",
      " |-- match_status: string (nullable = true)\n",
      " |-- match_status_360: string (nullable = true)\n",
      " |-- match_week: long (nullable = true)\n",
      " |-- metadata: struct (nullable = true)\n",
      " |    |-- data_version: string (nullable = true)\n",
      " |    |-- shot_fidelity_version: string (nullable = true)\n",
      " |    |-- xy_fidelity_version: string (nullable = true)\n",
      " |-- referee: struct (nullable = true)\n",
      " |    |-- country: struct (nullable = true)\n",
      " |    |    |-- id: long (nullable = true)\n",
      " |    |    |-- name: string (nullable = true)\n",
      " |    |-- id: long (nullable = true)\n",
      " |    |-- name: string (nullable = true)\n",
      " |-- season: struct (nullable = true)\n",
      " |    |-- season_id: long (nullable = true)\n",
      " |    |-- season_name: string (nullable = true)\n",
      " |-- stadium: struct (nullable = true)\n",
      " |    |-- country: struct (nullable = true)\n",
      " |    |    |-- id: long (nullable = true)\n",
      " |    |    |-- name: string (nullable = true)\n",
      " |    |-- id: long (nullable = true)\n",
      " |    |-- name: string (nullable = true)\n",
      " |-- competition_id: integer (nullable = true)\n",
      " |-- season_id: integer (nullable = true)\n",
      "\n"
     ]
    }
   ],
   "source": [
    "df_matches_bronze.printSchema()"
   ]
  },
  {
   "cell_type": "code",
   "execution_count": 5,
   "metadata": {},
   "outputs": [
    {
     "data": {
      "text/plain": [
       "DataFrame[away_score: bigint, away_team: struct<away_team_gender:string,away_team_group:string,away_team_id:bigint,away_team_name:string,country:struct<id:bigint,name:string>,managers:array<struct<country:struct<id:bigint,name:string>,dob:string,id:bigint,name:string,nickname:string>>>, competition: struct<competition_id:bigint,competition_name:string,country_name:string>, competition_stage: struct<id:bigint,name:string>, home_score: bigint, home_team: struct<country:struct<id:bigint,name:string>,home_team_gender:string,home_team_group:string,home_team_id:bigint,home_team_name:string,managers:array<struct<country:struct<id:bigint,name:string>,dob:string,id:bigint,name:string,nickname:string>>>, kick_off: string, last_updated: string, last_updated_360: string, match_date: string, match_id: bigint, match_status: string, match_status_360: string, match_week: bigint, metadata: struct<data_version:string,shot_fidelity_version:string,xy_fidelity_version:string>, referee: struct<country:struct<id:bigint,name:string>,id:bigint,name:string>, season: struct<season_id:bigint,season_name:string>, stadium: struct<country:struct<id:bigint,name:string>,id:bigint,name:string>, competition_id: int, season_id: int]"
      ]
     },
     "metadata": {},
     "output_type": "display_data"
    }
   ],
   "source": [
    "display(df_matches_bronze)"
   ]
  },
  {
   "cell_type": "code",
   "execution_count": 6,
   "metadata": {},
   "outputs": [
    {
     "name": "stderr",
     "output_type": "stream",
     "text": [
      "[Stage 1:>                                                          (0 + 1) / 1]\r"
     ]
    },
    {
     "name": "stdout",
     "output_type": "stream",
     "text": [
      "+----------+--------------------+--------------------+-------------------+----------+--------------------+------------+--------------------+----------------+----------+--------+------------+----------------+----------+-------------+--------------------+---------------+--------------------+--------------+---------+\n",
      "|away_score|           away_team|         competition|  competition_stage|home_score|           home_team|    kick_off|        last_updated|last_updated_360|match_date|match_id|match_status|match_status_360|match_week|     metadata|             referee|         season|             stadium|competition_id|season_id|\n",
      "+----------+--------------------+--------------------+-------------------+----------+--------------------+------------+--------------------+----------------+----------+--------+------------+----------------+----------+-------------+--------------------+---------------+--------------------+--------------+---------+\n",
      "|         2|{male, null, 322,...|{11, La Liga, Spain}|{1, Regular Season}|         2|{{214, Spain}, ma...|20:00:00.000|2023-02-21T15:19:...|            null|2015-09-23| 3825848|   available|     unscheduled|         5|{1.1.0, 2, 2}|                null|{27, 2015/2016}|{{214, Spain}, 35...|            11|       27|\n",
      "|         0|{male, null, 213,...|{11, La Liga, Spain}|{1, Regular Season}|         2|{{214, Spain}, ma...|22:00:00.000|2023-02-21T15:19:...|            null|2015-09-23| 3825895|   available|     unscheduled|         5|{1.1.0, 2, 2}|{{214, Spain}, 27...|{27, 2015/2016}|{{214, Spain}, 35...|            11|       27|\n",
      "|         2|{male, null, 216,...|{11, La Liga, Spain}|{1, Regular Season}|         0|{{214, Spain}, ma...|18:15:00.000|2022-08-30T12:53:...|            null|2016-05-01| 3825894|   available|     unscheduled|        36|{1.1.0, 2, 2}|{{214, Spain}, 10...|{27, 2015/2016}|{{214, Spain}, 46...|            11|       27|\n",
      "|         1|{male, null, 221,...|{11, La Liga, Spain}|{1, Regular Season}|         3|{{214, Spain}, ma...|20:30:00.000|2022-08-30T12:53:...|            null|2016-05-02| 3825855|   available|     unscheduled|        36|{1.1.0, 2, 2}|{{214, Spain}, 24...|{27, 2015/2016}|{{214, Spain}, 34...|            11|       27|\n",
      "|         2|{male, null, 322,...|{11, La Liga, Spain}|{1, Regular Season}|         4|{{214, Spain}, ma...|19:00:00.000|2022-04-06T22:39:...|            null|2016-05-15| 3825908|   available|     unscheduled|        38|{1.1.0, 2, 2}|{{214, Spain}, 26...|{27, 2015/2016}|{{214, Spain}, 35...|            11|       27|\n",
      "|         1|{male, null, 208,...|{11, La Liga, Spain}|{1, Regular Season}|         4|{{214, Spain}, ma...|12:00:00.000|2022-08-30T13:15:...|            null|2016-05-15| 3825883|   available|     unscheduled|        38|{1.1.0, 2, 2}|{{214, Spain}, 26...|{27, 2015/2016}|{{214, Spain}, 34...|            11|       27|\n",
      "|         0|{male, null, 222,...|{11, La Liga, Spain}|{1, Regular Season}|         2|{{214, Spain}, ma...|19:30:00.000|2022-04-06T22:37:...|            null|2016-05-15| 3825900|   available|     unscheduled|        38|{1.1.0, 2, 2}|{{214, Spain}, 22...|{27, 2015/2016}|{{214, Spain}, 46...|            11|       27|\n",
      "|         1|{male, null, 221,...|{11, La Liga, Spain}|{1, Regular Season}|         3|{{214, Spain}, ma...|19:30:00.000|2022-04-06T22:35:...|            null|2016-05-15| 3825902|   available|     unscheduled|        38|{1.1.0, 2, 2}|{{214, Spain}, 10...|{27, 2015/2016}|{{214, Spain}, 46...|            11|       27|\n",
      "|         1|{male, null, 216,...|{11, La Liga, Spain}|{1, Regular Season}|         2|{{214, Spain}, ma...|19:30:00.000|2022-04-06T22:34:...|            null|2016-05-15| 3825876|   available|     unscheduled|        38|{1.1.0, 2, 2}|{{214, Spain}, 18...|{27, 2015/2016}|{{214, Spain}, 35...|            11|       27|\n",
      "|         2|{male, null, 220,...|{11, La Liga, Spain}|{1, Regular Season}|         0|{{214, Spain}, ma...|17:00:00.000|2022-04-06T22:33:...|            null|2016-05-14| 3825846|   available|     unscheduled|        38|{1.1.0, 2, 2}|{{214, Spain}, 18...|{27, 2015/2016}|{{214, Spain}, 46...|            11|       27|\n",
      "|         1|{male, null, 213,...|{11, La Liga, Spain}|{1, Regular Season}|         3|{{214, Spain}, ma...|19:30:00.000|2022-08-30T13:07:...|            null|2016-05-14| 3825869|   available|     unscheduled|        38|{1.1.0, 2, 2}|{{214, Spain}, 21...|{27, 2015/2016}|{{214, Spain}, 34...|            11|       27|\n",
      "|         0|{male, null, 209,...|{11, La Liga, Spain}|{1, Regular Season}|         2|{{214, Spain}, ma...|19:30:00.000|2022-04-06T22:30:...|            null|2016-05-14| 3825882|   available|     unscheduled|        38|{1.1.0, 2, 2}|{{214, Spain}, 22...|{27, 2015/2016}|{{214, Spain}, 62...|            11|       27|\n",
      "|         1|{male, null, 210,...|{11, La Liga, Spain}|{1, Regular Season}|         0|{{214, Spain}, ma...|20:30:00.000|2022-04-06T22:29:...|            null|2016-05-13| 3825849|   available|     unscheduled|        38|{1.1.0, 2, 2}|{{214, Spain}, 25...|{27, 2015/2016}|{{214, Spain}, 34...|            11|       27|\n",
      "|         1|{male, null, 212,...|{11, La Liga, Spain}|{1, Regular Season}|         2|{{214, Spain}, ma...|17:00:00.000|2022-04-06T22:28:...|            null|2016-05-08| 3825860|   available|     unscheduled|        37|{1.1.0, 2, 2}|{{214, Spain}, 21...|{27, 2015/2016}|{{214, Spain}, 35...|            11|       27|\n",
      "|         1|{male, null, 219,...|{11, La Liga, Spain}|{1, Regular Season}|         1|{{214, Spain}, ma...|22:05:00.000|2022-03-26T14:52:...|            null|2016-04-23| 3825847|   available|     unscheduled|        35|{1.1.0, 2, 2}|{{214, Spain}, 24...|{27, 2015/2016}|{{214, Spain}, 34...|            11|       27|\n",
      "|         1|{male, null, 322,...|{11, La Liga, Spain}|{1, Regular Season}|         1|{{214, Spain}, ma...|21:30:00.000|2022-05-08T21:31:...|            null|2016-03-18| 3825817|   available|     unscheduled|        30|{1.1.0, 2, 2}|{{214, Spain}, 21...|{27, 2015/2016}|{{214, Spain}, 35...|            11|       27|\n",
      "|         1|{male, null, 1041...|{11, La Liga, Spain}|{1, Regular Season}|         1|{{214, Spain}, ma...|21:30:00.000|2022-03-26T14:39:...|            null|2016-02-20| 3825778|   available|     unscheduled|        25|{1.1.0, 2, 2}|{{214, Spain}, 21...|{27, 2015/2016}|{{214, Spain}, 35...|            11|       27|\n",
      "|         0|{male, null, 216,...|{11, La Liga, Spain}|{1, Regular Season}|         3|{{214, Spain}, ma...|21:30:00.000|2022-05-08T21:01:...|            null|2016-02-19| 3825777|   available|     unscheduled|        25|{1.1.0, 2, 2}|{{214, Spain}, 21...|{27, 2015/2016}|{{214, Spain}, 35...|            11|       27|\n",
      "|         1|{male, null, 1049...|{11, La Liga, Spain}|{1, Regular Season}|         5|{{214, Spain}, ma...|21:30:00.000|2022-03-26T14:32:...|            null|2016-01-18| 3825740|   available|     unscheduled|        20|{1.1.0, 2, 2}|{{214, Spain}, 26...|{27, 2015/2016}|{{214, Spain}, 34...|            11|       27|\n",
      "|         0|{male, null, 210,...|{11, La Liga, Spain}|{1, Regular Season}|         0|{{214, Spain}, ma...|20:30:00.000|2022-03-22T17:53:...|            null|2016-04-24| 3825875|   available|     unscheduled|        35|{1.1.0, 2, 2}|{{214, Spain}, 22...|{27, 2015/2016}|{{214, Spain}, 36...|            11|       27|\n",
      "+----------+--------------------+--------------------+-------------------+----------+--------------------+------------+--------------------+----------------+----------+--------+------------+----------------+----------+-------------+--------------------+---------------+--------------------+--------------+---------+\n",
      "only showing top 20 rows\n",
      "\n"
     ]
    },
    {
     "name": "stderr",
     "output_type": "stream",
     "text": [
      "                                                                                \r"
     ]
    }
   ],
   "source": [
    "df_matches_bronze.show()"
   ]
  },
  {
   "cell_type": "code",
   "execution_count": 7,
   "metadata": {},
   "outputs": [
    {
     "name": "stderr",
     "output_type": "stream",
     "text": [
      "                                                                                \r"
     ]
    },
    {
     "data": {
      "text/plain": [
       "2886"
      ]
     },
     "execution_count": 7,
     "metadata": {},
     "output_type": "execute_result"
    }
   ],
   "source": [
    "df_matches_bronze.count()"
   ]
  },
  {
   "cell_type": "code",
   "execution_count": 8,
   "metadata": {},
   "outputs": [],
   "source": [
    "df_matches_duplicated = df_matches_bronze.groupBy([\"match_id\"]).count()"
   ]
  },
  {
   "cell_type": "code",
   "execution_count": 9,
   "metadata": {},
   "outputs": [
    {
     "name": "stderr",
     "output_type": "stream",
     "text": [
      "[Stage 5:============================================>              (3 + 1) / 4]\r"
     ]
    },
    {
     "name": "stdout",
     "output_type": "stream",
     "text": [
      "+--------+-----+\n",
      "|match_id|count|\n",
      "+--------+-----+\n",
      "| 3825571|    1|\n",
      "| 3754048|    1|\n",
      "| 3775620|    1|\n",
      "| 3825587|    1|\n",
      "| 3901733|    1|\n",
      "|    7546|    1|\n",
      "| 3754156|    1|\n",
      "| 3879693|    1|\n",
      "| 3817860|    1|\n",
      "| 3754073|    1|\n",
      "| 3775560|    1|\n",
      "| 3835324|    1|\n",
      "| 3890447|    1|\n",
      "| 3773523|    1|\n",
      "| 3754264|    1|\n",
      "| 3879668|    1|\n",
      "| 3890475|    1|\n",
      "| 3890344|    1|\n",
      "| 3773386|    1|\n",
      "| 3825652|    1|\n",
      "+--------+-----+\n",
      "only showing top 20 rows\n",
      "\n"
     ]
    },
    {
     "name": "stderr",
     "output_type": "stream",
     "text": [
      "                                                                                \r"
     ]
    }
   ],
   "source": [
    "df_matches_duplicated.orderBy(F.col(\"count\").desc()).show()"
   ]
  },
  {
   "cell_type": "code",
   "execution_count": 10,
   "metadata": {},
   "outputs": [],
   "source": [
    "df_matches_competition_11_season_27 = df_matches_bronze.where(\"season_id = 27 and competition_id = 11\")"
   ]
  },
  {
   "cell_type": "code",
   "execution_count": 11,
   "metadata": {},
   "outputs": [
    {
     "name": "stdout",
     "output_type": "stream",
     "text": [
      "+----------+--------------------+--------------------+-------------------+----------+--------------------+------------+--------------------+----------------+----------+--------+------------+----------------+----------+-------------+--------------------+---------------+--------------------+--------------+---------+\n",
      "|away_score|           away_team|         competition|  competition_stage|home_score|           home_team|    kick_off|        last_updated|last_updated_360|match_date|match_id|match_status|match_status_360|match_week|     metadata|             referee|         season|             stadium|competition_id|season_id|\n",
      "+----------+--------------------+--------------------+-------------------+----------+--------------------+------------+--------------------+----------------+----------+--------+------------+----------------+----------+-------------+--------------------+---------------+--------------------+--------------+---------+\n",
      "|         2|{male, null, 322,...|{11, La Liga, Spain}|{1, Regular Season}|         2|{{214, Spain}, ma...|20:00:00.000|2023-02-21T15:19:...|            null|2015-09-23| 3825848|   available|     unscheduled|         5|{1.1.0, 2, 2}|                null|{27, 2015/2016}|{{214, Spain}, 35...|            11|       27|\n",
      "|         0|{male, null, 213,...|{11, La Liga, Spain}|{1, Regular Season}|         2|{{214, Spain}, ma...|22:00:00.000|2023-02-21T15:19:...|            null|2015-09-23| 3825895|   available|     unscheduled|         5|{1.1.0, 2, 2}|{{214, Spain}, 27...|{27, 2015/2016}|{{214, Spain}, 35...|            11|       27|\n",
      "|         2|{male, null, 216,...|{11, La Liga, Spain}|{1, Regular Season}|         0|{{214, Spain}, ma...|18:15:00.000|2022-08-30T12:53:...|            null|2016-05-01| 3825894|   available|     unscheduled|        36|{1.1.0, 2, 2}|{{214, Spain}, 10...|{27, 2015/2016}|{{214, Spain}, 46...|            11|       27|\n",
      "|         1|{male, null, 221,...|{11, La Liga, Spain}|{1, Regular Season}|         3|{{214, Spain}, ma...|20:30:00.000|2022-08-30T12:53:...|            null|2016-05-02| 3825855|   available|     unscheduled|        36|{1.1.0, 2, 2}|{{214, Spain}, 24...|{27, 2015/2016}|{{214, Spain}, 34...|            11|       27|\n",
      "|         2|{male, null, 322,...|{11, La Liga, Spain}|{1, Regular Season}|         4|{{214, Spain}, ma...|19:00:00.000|2022-04-06T22:39:...|            null|2016-05-15| 3825908|   available|     unscheduled|        38|{1.1.0, 2, 2}|{{214, Spain}, 26...|{27, 2015/2016}|{{214, Spain}, 35...|            11|       27|\n",
      "|         1|{male, null, 208,...|{11, La Liga, Spain}|{1, Regular Season}|         4|{{214, Spain}, ma...|12:00:00.000|2022-08-30T13:15:...|            null|2016-05-15| 3825883|   available|     unscheduled|        38|{1.1.0, 2, 2}|{{214, Spain}, 26...|{27, 2015/2016}|{{214, Spain}, 34...|            11|       27|\n",
      "|         0|{male, null, 222,...|{11, La Liga, Spain}|{1, Regular Season}|         2|{{214, Spain}, ma...|19:30:00.000|2022-04-06T22:37:...|            null|2016-05-15| 3825900|   available|     unscheduled|        38|{1.1.0, 2, 2}|{{214, Spain}, 22...|{27, 2015/2016}|{{214, Spain}, 46...|            11|       27|\n",
      "|         1|{male, null, 221,...|{11, La Liga, Spain}|{1, Regular Season}|         3|{{214, Spain}, ma...|19:30:00.000|2022-04-06T22:35:...|            null|2016-05-15| 3825902|   available|     unscheduled|        38|{1.1.0, 2, 2}|{{214, Spain}, 10...|{27, 2015/2016}|{{214, Spain}, 46...|            11|       27|\n",
      "|         1|{male, null, 216,...|{11, La Liga, Spain}|{1, Regular Season}|         2|{{214, Spain}, ma...|19:30:00.000|2022-04-06T22:34:...|            null|2016-05-15| 3825876|   available|     unscheduled|        38|{1.1.0, 2, 2}|{{214, Spain}, 18...|{27, 2015/2016}|{{214, Spain}, 35...|            11|       27|\n",
      "|         2|{male, null, 220,...|{11, La Liga, Spain}|{1, Regular Season}|         0|{{214, Spain}, ma...|17:00:00.000|2022-04-06T22:33:...|            null|2016-05-14| 3825846|   available|     unscheduled|        38|{1.1.0, 2, 2}|{{214, Spain}, 18...|{27, 2015/2016}|{{214, Spain}, 46...|            11|       27|\n",
      "|         1|{male, null, 213,...|{11, La Liga, Spain}|{1, Regular Season}|         3|{{214, Spain}, ma...|19:30:00.000|2022-08-30T13:07:...|            null|2016-05-14| 3825869|   available|     unscheduled|        38|{1.1.0, 2, 2}|{{214, Spain}, 21...|{27, 2015/2016}|{{214, Spain}, 34...|            11|       27|\n",
      "|         0|{male, null, 209,...|{11, La Liga, Spain}|{1, Regular Season}|         2|{{214, Spain}, ma...|19:30:00.000|2022-04-06T22:30:...|            null|2016-05-14| 3825882|   available|     unscheduled|        38|{1.1.0, 2, 2}|{{214, Spain}, 22...|{27, 2015/2016}|{{214, Spain}, 62...|            11|       27|\n",
      "|         1|{male, null, 210,...|{11, La Liga, Spain}|{1, Regular Season}|         0|{{214, Spain}, ma...|20:30:00.000|2022-04-06T22:29:...|            null|2016-05-13| 3825849|   available|     unscheduled|        38|{1.1.0, 2, 2}|{{214, Spain}, 25...|{27, 2015/2016}|{{214, Spain}, 34...|            11|       27|\n",
      "|         1|{male, null, 212,...|{11, La Liga, Spain}|{1, Regular Season}|         2|{{214, Spain}, ma...|17:00:00.000|2022-04-06T22:28:...|            null|2016-05-08| 3825860|   available|     unscheduled|        37|{1.1.0, 2, 2}|{{214, Spain}, 21...|{27, 2015/2016}|{{214, Spain}, 35...|            11|       27|\n",
      "|         1|{male, null, 219,...|{11, La Liga, Spain}|{1, Regular Season}|         1|{{214, Spain}, ma...|22:05:00.000|2022-03-26T14:52:...|            null|2016-04-23| 3825847|   available|     unscheduled|        35|{1.1.0, 2, 2}|{{214, Spain}, 24...|{27, 2015/2016}|{{214, Spain}, 34...|            11|       27|\n",
      "|         1|{male, null, 322,...|{11, La Liga, Spain}|{1, Regular Season}|         1|{{214, Spain}, ma...|21:30:00.000|2022-05-08T21:31:...|            null|2016-03-18| 3825817|   available|     unscheduled|        30|{1.1.0, 2, 2}|{{214, Spain}, 21...|{27, 2015/2016}|{{214, Spain}, 35...|            11|       27|\n",
      "|         1|{male, null, 1041...|{11, La Liga, Spain}|{1, Regular Season}|         1|{{214, Spain}, ma...|21:30:00.000|2022-03-26T14:39:...|            null|2016-02-20| 3825778|   available|     unscheduled|        25|{1.1.0, 2, 2}|{{214, Spain}, 21...|{27, 2015/2016}|{{214, Spain}, 35...|            11|       27|\n",
      "|         0|{male, null, 216,...|{11, La Liga, Spain}|{1, Regular Season}|         3|{{214, Spain}, ma...|21:30:00.000|2022-05-08T21:01:...|            null|2016-02-19| 3825777|   available|     unscheduled|        25|{1.1.0, 2, 2}|{{214, Spain}, 21...|{27, 2015/2016}|{{214, Spain}, 35...|            11|       27|\n",
      "|         1|{male, null, 1049...|{11, La Liga, Spain}|{1, Regular Season}|         5|{{214, Spain}, ma...|21:30:00.000|2022-03-26T14:32:...|            null|2016-01-18| 3825740|   available|     unscheduled|        20|{1.1.0, 2, 2}|{{214, Spain}, 26...|{27, 2015/2016}|{{214, Spain}, 34...|            11|       27|\n",
      "|         0|{male, null, 210,...|{11, La Liga, Spain}|{1, Regular Season}|         0|{{214, Spain}, ma...|20:30:00.000|2022-03-22T17:53:...|            null|2016-04-24| 3825875|   available|     unscheduled|        35|{1.1.0, 2, 2}|{{214, Spain}, 22...|{27, 2015/2016}|{{214, Spain}, 36...|            11|       27|\n",
      "+----------+--------------------+--------------------+-------------------+----------+--------------------+------------+--------------------+----------------+----------+--------+------------+----------------+----------+-------------+--------------------+---------------+--------------------+--------------+---------+\n",
      "only showing top 20 rows\n",
      "\n"
     ]
    }
   ],
   "source": [
    "df_matches_competition_11_season_27.show()"
   ]
  },
  {
   "cell_type": "code",
   "execution_count": 12,
   "metadata": {},
   "outputs": [
    {
     "data": {
      "text/plain": [
       "380"
      ]
     },
     "execution_count": 12,
     "metadata": {},
     "output_type": "execute_result"
    }
   ],
   "source": [
    "df_matches_competition_11_season_27.count()"
   ]
  },
  {
   "cell_type": "code",
   "execution_count": 13,
   "metadata": {},
   "outputs": [],
   "source": [
    "df_matches_bronze_explode = df_matches_bronze.withColumn(\"away_team_gender\", F.col(\"away_team.away_team_gender\"))\\\n",
    "                            .withColumn(\"away_team_group\", F.col(\"away_team.away_team_group\"))\\\n",
    "                            .withColumn(\"away_team_id\", F.col(\"away_team.away_team_id\"))\\\n",
    "                            .withColumn(\"away_team_name\", F.col(\"away_team.away_team_name\"))\\\n",
    "                            .withColumn(\"country_away_team_id\", F.col(\"away_team.country.id\"))\\\n",
    "                            .withColumn(\"country_away_team_name\", F.col(\"away_team.country.name\"))\\\n",
    "                            .withColumn(\"manager_away\", F.explode(\"away_team.managers\")) \\\n",
    "                            .withColumn(\"manager_away_country_id\", F.col(\"manager_away.country.id\")) \\\n",
    "                            .withColumn(\"manager_away_country_name\", F.col(\"manager_away.country.name\")) \\\n",
    "                            .withColumn(\"manager_away_dob\", F.col(\"manager_away.dob\")) \\\n",
    "                            .withColumn(\"manager_away_id\", F.col(\"manager_away.id\")) \\\n",
    "                            .withColumn(\"manager_away_name\", F.col(\"manager_away.name\")) \\\n",
    "                            .withColumn(\"manager_away_nickname\", F.col(\"manager_away.nickname\")) \\\n",
    "                            .withColumn(\"competition_id\", F.col(\"competition.competition_id\")) \\\n",
    "                            .withColumn(\"competition_name\", F.col(\"competition.competition_name\")) \\\n",
    "                            .withColumn(\"competition_stage_id\", F.col(\"competition_stage.id\")) \\\n",
    "                            .withColumn(\"competition_stage_name\", F.col(\"competition_stage.name\")) \\\n",
    "                            .withColumn(\"home_team_gender\", F.col(\"home_team.home_team_gender\"))\\\n",
    "                            .withColumn(\"home_team_group\", F.col(\"home_team.home_team_group\"))\\\n",
    "                            .withColumn(\"home_team_id\", F.col(\"home_team.home_team_id\"))\\\n",
    "                            .withColumn(\"home_team_name\", F.col(\"home_team.home_team_name\"))\\\n",
    "                            .withColumn(\"country_home_team_id\", F.col(\"home_team.country.id\"))\\\n",
    "                            .withColumn(\"country_home_team_name\", F.col(\"home_team.country.name\"))\\\n",
    "                            .withColumn(\"manager_home\", F.explode(\"home_team.managers\")) \\\n",
    "                            .withColumn(\"manager_home_country_id\", F.col(\"manager_home.country.id\")) \\\n",
    "                            .withColumn(\"manager_home_country_name\", F.col(\"manager_home.country.name\")) \\\n",
    "                            .withColumn(\"manager_home_dob\", F.col(\"manager_home.dob\")) \\\n",
    "                            .withColumn(\"manager_home_id\", F.col(\"manager_home.id\")) \\\n",
    "                            .withColumn(\"manager_home_name\", F.col(\"manager_home.name\")) \\\n",
    "                            .withColumn(\"manager_home_nickname\", F.col(\"manager_home.nickname\")) \\\n",
    "                            .withColumn(\"referee_country_id\", F.col(\"referee.country.id\")) \\\n",
    "                            .withColumn(\"referee_country_name\", F.col(\"referee.country.name\")) \\\n",
    "                            .withColumn(\"referee_id\", F.col(\"referee.id\")) \\\n",
    "                            .withColumn(\"referee_name\", F.col(\"referee.name\")) \\\n",
    "                            .withColumn(\"season_name\", F.col(\"season.season_name\")) \\\n",
    "                            .withColumn(\"stadium_country_id\", F.col(\"stadium.country.id\")) \\\n",
    "                            .withColumn(\"stadium_country_name\", F.col(\"stadium.country.name\")) \\\n",
    "                            .withColumn(\"stadium_id\", F.col(\"stadium.id\")) \\\n",
    "                            .withColumn(\"stadium_name\", F.col(\"stadium.name\")) \\\n",
    "                            .drop(\"away_team\", \"competition\", \"competition_stage\", \"home_team\", \"last_updated_360\", \"match_status_360\", \"metadata\", \"season\", \"stadium\", \"referee\", \"manager_away\", \"manager_home\")           \n"
   ]
  },
  {
   "cell_type": "code",
   "execution_count": 14,
   "metadata": {},
   "outputs": [
    {
     "name": "stdout",
     "output_type": "stream",
     "text": [
      "root\n",
      " |-- away_score: long (nullable = true)\n",
      " |-- home_score: long (nullable = true)\n",
      " |-- kick_off: string (nullable = true)\n",
      " |-- last_updated: string (nullable = true)\n",
      " |-- match_date: string (nullable = true)\n",
      " |-- match_id: long (nullable = true)\n",
      " |-- match_status: string (nullable = true)\n",
      " |-- match_week: long (nullable = true)\n",
      " |-- competition_id: long (nullable = true)\n",
      " |-- season_id: integer (nullable = true)\n",
      " |-- away_team_gender: string (nullable = true)\n",
      " |-- away_team_group: string (nullable = true)\n",
      " |-- away_team_id: long (nullable = true)\n",
      " |-- away_team_name: string (nullable = true)\n",
      " |-- country_away_team_id: long (nullable = true)\n",
      " |-- country_away_team_name: string (nullable = true)\n",
      " |-- manager_away_country_id: long (nullable = true)\n",
      " |-- manager_away_country_name: string (nullable = true)\n",
      " |-- manager_away_dob: string (nullable = true)\n",
      " |-- manager_away_id: long (nullable = true)\n",
      " |-- manager_away_name: string (nullable = true)\n",
      " |-- manager_away_nickname: string (nullable = true)\n",
      " |-- competition_name: string (nullable = true)\n",
      " |-- competition_stage_id: long (nullable = true)\n",
      " |-- competition_stage_name: string (nullable = true)\n",
      " |-- home_team_gender: string (nullable = true)\n",
      " |-- home_team_group: string (nullable = true)\n",
      " |-- home_team_id: long (nullable = true)\n",
      " |-- home_team_name: string (nullable = true)\n",
      " |-- country_home_team_id: long (nullable = true)\n",
      " |-- country_home_team_name: string (nullable = true)\n",
      " |-- manager_home_country_id: long (nullable = true)\n",
      " |-- manager_home_country_name: string (nullable = true)\n",
      " |-- manager_home_dob: string (nullable = true)\n",
      " |-- manager_home_id: long (nullable = true)\n",
      " |-- manager_home_name: string (nullable = true)\n",
      " |-- manager_home_nickname: string (nullable = true)\n",
      " |-- referee_country_id: long (nullable = true)\n",
      " |-- referee_country_name: string (nullable = true)\n",
      " |-- referee_id: long (nullable = true)\n",
      " |-- referee_name: string (nullable = true)\n",
      " |-- season_name: string (nullable = true)\n",
      " |-- stadium_country_id: long (nullable = true)\n",
      " |-- stadium_country_name: string (nullable = true)\n",
      " |-- stadium_id: long (nullable = true)\n",
      " |-- stadium_name: string (nullable = true)\n",
      "\n"
     ]
    }
   ],
   "source": [
    "df_matches_bronze_explode.printSchema()"
   ]
  },
  {
   "cell_type": "code",
   "execution_count": 15,
   "metadata": {},
   "outputs": [
    {
     "name": "stderr",
     "output_type": "stream",
     "text": [
      "24/04/16 23:30:36 WARN package: Truncated the string representation of a plan since it was too large. This behavior can be adjusted by setting 'spark.sql.debug.maxToStringFields'.\n"
     ]
    },
    {
     "name": "stdout",
     "output_type": "stream",
     "text": [
      "+----------+----------+------------+--------------------+----------+--------+------------+----------+--------------+---------+----------------+---------------+------------+--------------------+--------------------+----------------------+-----------------------+-------------------------+----------------+---------------+--------------------+---------------------+----------------+--------------------+----------------------+----------------+---------------+------------+--------------------+--------------------+----------------------+-----------------------+-------------------------+----------------+---------------+--------------------+---------------------+------------------+--------------------+----------+--------------------+-----------+------------------+--------------------+----------+--------------------+\n",
      "|away_score|home_score|    kick_off|        last_updated|match_date|match_id|match_status|match_week|competition_id|season_id|away_team_gender|away_team_group|away_team_id|      away_team_name|country_away_team_id|country_away_team_name|manager_away_country_id|manager_away_country_name|manager_away_dob|manager_away_id|   manager_away_name|manager_away_nickname|competition_name|competition_stage_id|competition_stage_name|home_team_gender|home_team_group|home_team_id|      home_team_name|country_home_team_id|country_home_team_name|manager_home_country_id|manager_home_country_name|manager_home_dob|manager_home_id|   manager_home_name|manager_home_nickname|referee_country_id|referee_country_name|referee_id|        referee_name|season_name|stadium_country_id|stadium_country_name|stadium_id|        stadium_name|\n",
      "+----------+----------+------------+--------------------+----------+--------+------------+----------+--------------+---------+----------------+---------------+------------+--------------------+--------------------+----------------------+-----------------------+-------------------------+----------------+---------------+--------------------+---------------------+----------------+--------------------+----------------------+----------------+---------------+------------+--------------------+--------------------+----------------------+-----------------------+-------------------------+----------------+---------------+--------------------+---------------------+------------------+--------------------+----------+--------------------+-----------+------------------+--------------------+----------+--------------------+\n",
      "|         2|         2|20:00:00.000|2023-02-21T15:19:...|2015-09-23| 3825848|   available|         5|            11|       27|            male|           null|         322|               Eibar|                 214|                 Spain|                    214|                    Spain|      1961-03-14|            221|José Luis Mendili...| José Luis Mendilibar|         La Liga|                   1|        Regular Season|            male|           null|         221|          Levante UD|                 214|                 Spain|                    214|                    Spain|      1966-06-21|           1612|Luis Lucas Alcara...|        Lucas Alcaraz|              null|                null|      null|                null|  2015/2016|               214|               Spain|       350|Estadio Ciudad de...|\n",
      "|         0|         2|22:00:00.000|2023-02-21T15:19:...|2015-09-23| 3825895|   available|         5|            11|       27|            male|           null|         213|             Sevilla|                 214|                 Spain|                    214|                    Spain|      1971-11-03|             21|Unai Emery Etxegoien|           Unai Emery|         La Liga|                   1|        Regular Season|            male|           null|         208|          Las Palmas|                 214|                 Spain|                    214|                    Spain|      1953-12-02|            745|Francisco Herrera...|         Paco Herrera|               214|               Spain|      2728|Carlos del Cerro ...|  2015/2016|               214|               Spain|       357|Estadio de Gran C...|\n",
      "|         2|         0|18:15:00.000|2022-08-30T12:53:...|2016-05-01| 3825894|   available|        36|            11|       27|            male|           null|         216|              Getafe|                 214|                 Spain|                     11|                Argentina|      1973-03-05|        1001036|Juan Eduardo Esná...|                 null|         La Liga|                   1|        Regular Season|            male|           null|         219|RC Deportivo La C...|                 214|                 Spain|                    214|                    Spain|      1976-02-23|           3157|Víctor Sánchez de...|       Víctor Sánchez|               214|               Spain|      1008|   Carlos Clos Gómez|  2015/2016|               214|               Spain|      4658|Estadio Abanca-Ri...|\n",
      "|         1|         3|20:30:00.000|2022-08-30T12:53:...|2016-05-02| 3825855|   available|        36|            11|       27|            male|           null|         221|          Levante UD|                 214|                 Spain|                    214|                    Spain|      1970-02-05|            677|Joan Francesc Fer...|                 Rubí|         La Liga|                   1|        Regular Season|            male|           null|         223|              Málaga|                 214|                 Spain|                    214|                    Spain|      1970-05-01|            188|Javier Gracia Carlos|          Javi Gracia|               214|               Spain|      2480|Iñaki Bikandi Gar...|  2015/2016|               214|               Spain|       346| Estadio La Rosaleda|\n",
      "|         2|         4|19:00:00.000|2022-04-06T22:39:...|2016-05-15| 3825908|   available|        38|            11|       27|            male|           null|         322|               Eibar|                 214|                 Spain|                    214|                    Spain|      1961-03-14|            221|José Luis Mendili...| José Luis Mendilibar|         La Liga|                   1|        Regular Season|            male|           null|         214|            Espanyol|                 214|                 Spain|                    187|                  Romania|      1972-03-08|           1816|    Constantin Gâlcă|                 null|               214|               Spain|      2692|  Mario Melero López|  2015/2016|               214|               Spain|       351|        RCDE Stadium|\n",
      "|         1|         4|12:00:00.000|2022-08-30T13:15:...|2016-05-15| 3825883|   available|        38|            11|       27|            male|           null|         208|          Las Palmas|                 214|                 Spain|                    214|                    Spain|      1958-09-27|            238|Enrique Setién Solar|        Quique Setién|         La Liga|                   1|        Regular Season|            male|           null|         223|              Málaga|                 214|                 Spain|                    214|                    Spain|      1970-05-01|            188|Javier Gracia Carlos|          Javi Gracia|               214|               Spain|      2602|Ricardo De Burgos...|  2015/2016|               214|               Spain|       346| Estadio La Rosaleda|\n",
      "|         0|         2|19:30:00.000|2022-04-06T22:37:...|2016-05-15| 3825900|   available|        38|            11|       27|            male|           null|         222|          Villarreal|                 214|                 Spain|                    214|                    Spain|      1965-08-14|            211|Marcelino García ...|            Marcelino|         La Liga|                   1|        Regular Season|            male|           null|        1041|      Sporting Gijón|                 214|                 Spain|                    214|                    Spain|      1970-04-19|            187|Abelardo Fernánde...|             Abelardo|               214|               Spain|       221|Alberto Undiano M...|  2015/2016|               214|               Spain|      4656|Estadio Municipal...|\n",
      "|         1|         3|19:30:00.000|2022-04-06T22:35:...|2016-05-15| 3825902|   available|        38|            11|       27|            male|           null|         221|          Levante UD|                 214|                 Spain|                    214|                    Spain|      1970-02-05|            677|Joan Francesc Fer...|                 Rubí|         La Liga|                   1|        Regular Season|            male|           null|         360|      Rayo Vallecano|                 214|                 Spain|                    214|                    Spain|      1970-04-18|            220|Francisco Jémez M...|           Paco Jémez|               214|               Spain|      1008|   Carlos Clos Gómez|  2015/2016|               214|               Spain|      4640| Estadio de Vallecas|\n",
      "|         1|         2|19:30:00.000|2022-04-06T22:34:...|2016-05-15| 3825876|   available|        38|            11|       27|            male|           null|         216|              Getafe|                 214|                 Spain|                     11|                Argentina|      1973-03-05|        1001036|Juan Eduardo Esná...|                 null|         La Liga|                   1|        Regular Season|            male|           null|         218|          Real Betis|                 214|                 Spain|                    214|                    Spain|      1970-08-24|           5049|    Juan Merino Ruíz|          Juan Merino|               214|               Spain|       183|   Jesús Gil Manzano|  2015/2016|               214|               Spain|       352|Estadio Benito Vi...|\n",
      "|         2|         0|17:00:00.000|2022-04-06T22:33:...|2016-05-14| 3825846|   available|        38|            11|       27|            male|           null|         220|         Real Madrid|                 214|                 Spain|                     78|                   France|      1972-06-23|             56|     Zinédine Zidane|                 null|         La Liga|                   1|        Regular Season|            male|           null|         219|RC Deportivo La C...|                 214|                 Spain|                    214|                    Spain|      1976-02-23|           3157|Víctor Sánchez de...|       Víctor Sánchez|               214|               Spain|       180|Antonio Miguel Ma...|  2015/2016|               214|               Spain|      4658|Estadio Abanca-Ri...|\n",
      "|         1|         3|19:30:00.000|2022-08-30T13:07:...|2016-05-14| 3825869|   available|        38|            11|       27|            male|           null|         213|             Sevilla|                 214|                 Spain|                    214|                    Spain|      1971-11-03|             21|Unai Emery Etxegoien|           Unai Emery|         La Liga|                   1|        Regular Season|            male|           null|         215|       Athletic Club|                 214|                 Spain|                    214|                    Spain|      1964-02-09|            227|Ernesto Valverde ...|     Ernesto Valverde|               214|               Spain|       212|Alfonso Álvarez I...|  2015/2016|               214|               Spain|       345|    San Mamés Barria|\n",
      "|         0|         2|19:30:00.000|2022-04-06T22:30:...|2016-05-14| 3825882|   available|        38|            11|       27|            male|           null|         209|          Celta Vigo|                 214|                 Spain|                     11|                Argentina|      1969-11-13|            385|Manuel Eduardo Be...|      Eduardo Berizzo|         La Liga|                   1|        Regular Season|            male|           null|         212|     Atlético Madrid|                 214|                 Spain|                     11|                Argentina|      1970-04-28|            230| Diego Pablo Simeone|        Diego Simeone|               214|               Spain|       222|David Fernández B...|  2015/2016|               214|               Spain|       625|Estadio Vicente C...|\n",
      "|         1|         0|20:30:00.000|2022-04-06T22:29:...|2016-05-13| 3825849|   available|        38|            11|       27|            male|           null|         210|       Real Sociedad|                 214|                 Spain|                    214|                    Spain|      1964-04-13|            229|Eusebio Sacristán...|    Eusebio Sacristán|         La Liga|                   1|        Regular Season|            male|           null|         207|            Valencia|                 214|                 Spain|                    214|                    Spain|      1963-02-05|            618|Francisco Martín ...|       Pako Ayestarán|               214|               Spain|      2535|Carlos Velasco Ca...|  2015/2016|               214|               Spain|       344| Estadio de Mestalla|\n",
      "|         1|         2|17:00:00.000|2022-04-06T22:28:...|2016-05-08| 3825860|   available|        37|            11|       27|            male|           null|         212|     Atlético Madrid|                 214|                 Spain|                     11|                Argentina|      1970-04-28|            230| Diego Pablo Simeone|        Diego Simeone|         La Liga|                   1|        Regular Season|            male|           null|         221|          Levante UD|                 214|                 Spain|                    214|                    Spain|      1970-02-05|            677|Joan Francesc Fer...|                 Rubí|               214|               Spain|       211|José Luis Gonzále...|  2015/2016|               214|               Spain|       350|Estadio Ciudad de...|\n",
      "|         1|         1|22:05:00.000|2022-03-26T14:52:...|2016-04-23| 3825847|   available|        35|            11|       27|            male|           null|         219|RC Deportivo La C...|                 214|                 Spain|                    214|                    Spain|      1976-02-23|           3157|Víctor Sánchez de...|       Víctor Sánchez|         La Liga|                   1|        Regular Season|            male|           null|         322|               Eibar|                 214|                 Spain|                    214|                    Spain|      1961-03-14|            221|José Luis Mendili...| José Luis Mendilibar|               214|               Spain|      2419|Eduardo Prieto Ig...|  2015/2016|               214|               Spain|       347|Estadio Municipal...|\n",
      "|         1|         1|21:30:00.000|2022-05-08T21:31:...|2016-03-18| 3825817|   available|        30|            11|       27|            male|           null|         322|               Eibar|                 214|                 Spain|                    214|                    Spain|      1961-03-14|            221|José Luis Mendili...| José Luis Mendilibar|         La Liga|                   1|        Regular Season|            male|           null|         216|              Getafe|                 214|                 Spain|                    214|                    Spain|      1965-05-03|            509|Francisco Escriba...|         Fran Escribá|               214|               Spain|       218|Ignacio Iglesias ...|  2015/2016|               214|               Spain|       354|Coliseum Alfonso ...|\n",
      "|         1|         1|21:30:00.000|2022-03-26T14:39:...|2016-02-20| 3825778|   available|        25|            11|       27|            male|           null|        1041|      Sporting Gijón|                 214|                 Spain|                    214|                    Spain|      1970-04-19|            187|Abelardo Fernánde...|             Abelardo|         La Liga|                   1|        Regular Season|            male|           null|         218|          Real Betis|                 214|                 Spain|                    214|                    Spain|      1970-08-24|           5049|    Juan Merino Ruíz|          Juan Merino|               214|               Spain|       212|Alfonso Álvarez I...|  2015/2016|               214|               Spain|       352|Estadio Benito Vi...|\n",
      "|         0|         3|21:30:00.000|2022-05-08T21:01:...|2016-02-19| 3825777|   available|        25|            11|       27|            male|           null|         216|              Getafe|                 214|                 Spain|                    214|                    Spain|      1965-05-03|            509|Francisco Escriba...|         Fran Escribá|         La Liga|                   1|        Regular Season|            male|           null|         221|          Levante UD|                 214|                 Spain|                    214|                    Spain|      1970-02-05|            677|Joan Francesc Fer...|                 Rubí|               214|               Spain|       211|José Luis Gonzále...|  2015/2016|               214|               Spain|       350|Estadio Ciudad de...|\n",
      "|         1|         5|21:30:00.000|2022-03-26T14:32:...|2016-01-18| 3825740|   available|        20|            11|       27|            male|           null|        1049|             Granada|                 214|                 Spain|                    214|                    Spain|      1968-05-02|           1617|José Ramón Sandov...|  José Ramón Sandoval|         La Liga|                   1|        Regular Season|            male|           null|         322|               Eibar|                 214|                 Spain|                    214|                    Spain|      1961-03-14|            221|José Luis Mendili...| José Luis Mendilibar|               214|               Spain|      2625|José María Sánche...|  2015/2016|               214|               Spain|       347|Estadio Municipal...|\n",
      "|         0|         0|20:30:00.000|2022-03-22T17:53:...|2016-04-24| 3825875|   available|        35|            11|       27|            male|           null|         210|       Real Sociedad|                 214|                 Spain|                    214|                    Spain|      1964-04-13|            229|Eusebio Sacristán...|    Eusebio Sacristán|         La Liga|                   1|        Regular Season|            male|           null|         222|          Villarreal|                 214|                 Spain|                    214|                    Spain|      1965-08-14|            211|Marcelino García ...|            Marcelino|               214|               Spain|       222|David Fernández B...|  2015/2016|               214|               Spain|       361|Estadio de la Cer...|\n",
      "+----------+----------+------------+--------------------+----------+--------+------------+----------+--------------+---------+----------------+---------------+------------+--------------------+--------------------+----------------------+-----------------------+-------------------------+----------------+---------------+--------------------+---------------------+----------------+--------------------+----------------------+----------------+---------------+------------+--------------------+--------------------+----------------------+-----------------------+-------------------------+----------------+---------------+--------------------+---------------------+------------------+--------------------+----------+--------------------+-----------+------------------+--------------------+----------+--------------------+\n",
      "only showing top 20 rows\n",
      "\n"
     ]
    }
   ],
   "source": [
    "df_matches_bronze_explode.show()"
   ]
  },
  {
   "cell_type": "code",
   "execution_count": 16,
   "metadata": {},
   "outputs": [
    {
     "name": "stderr",
     "output_type": "stream",
     "text": [
      "                                                                                \r"
     ]
    },
    {
     "data": {
      "text/plain": [
       "2845"
      ]
     },
     "execution_count": 16,
     "metadata": {},
     "output_type": "execute_result"
    }
   ],
   "source": [
    "df_matches_bronze_explode.count()"
   ]
  },
  {
   "cell_type": "code",
   "execution_count": 17,
   "metadata": {},
   "outputs": [],
   "source": [
    "df_matches_not_in_explode = df_matches_bronze.join(df_matches_bronze_explode, on=\"match_id\", how=\"left_anti\")"
   ]
  },
  {
   "cell_type": "code",
   "execution_count": 18,
   "metadata": {},
   "outputs": [
    {
     "name": "stderr",
     "output_type": "stream",
     "text": [
      "[Stage 18:>                                                         (0 + 3) / 3]\r"
     ]
    },
    {
     "name": "stdout",
     "output_type": "stream",
     "text": [
      "+--------+----------+--------------------+--------------------+-------------------+----------+--------------------+------------+--------------------+--------------------+----------+------------+----------------+----------+-------------+--------------------+---------------+--------------------+--------------+---------+\n",
      "|match_id|away_score|           away_team|         competition|  competition_stage|home_score|           home_team|    kick_off|        last_updated|    last_updated_360|match_date|match_status|match_status_360|match_week|     metadata|             referee|         season|             stadium|competition_id|season_id|\n",
      "+--------+----------+--------------------+--------------------+-------------------+----------+--------------------+------------+--------------------+--------------------+----------+------------+----------------+----------+-------------+--------------------+---------------+--------------------+--------------+---------+\n",
      "| 3825812|         0|{male, null, 1041...|{11, La Liga, Spain}|{1, Regular Season}|         1|{{214, Spain}, ma...|21:30:00.000|2022-03-22T16:52:...|                null|2016-03-11|   available|     unscheduled|        29|{1.1.0, 2, 2}|{{214, Spain}, 26...|{27, 2015/2016}|{{214, Spain}, 34...|            11|       27|\n",
      "| 3825785|         1|{male, null, 220,...|{11, La Liga, Spain}|{1, Regular Season}|         1|{{214, Spain}, ma...|17:00:00.000|2022-03-20T22:56:...|                null|2016-02-21|   available|     unscheduled|        25|{1.1.0, 2, 2}|{{214, Spain}, 21...|{27, 2015/2016}|{{214, Spain}, 34...|            11|       27|\n",
      "| 3825772|         1|{male, null, 214,...|{11, La Liga, Spain}|{1, Regular Season}|         2|{{214, Spain}, ma...|21:30:00.000|2022-02-28T19:07:...|                null|2016-02-13|   available|     unscheduled|        24|{1.1.0, 2, 2}|{{214, Spain}, 27...|{27, 2015/2016}|{{214, Spain}, 34...|            11|       27|\n",
      "| 3879700|         1|{male, null, 230,...|{12, Serie A, Italy}|{1, Regular Season}|         4|{{112, Italy}, ma...|16:00:00.000|2023-06-22T17:53:...|                null|2016-01-24|   available|     unscheduled|        21|{1.1.0, 2, 2}|{{112, Italy}, 25...|{27, 2015/2016}|{{112, Italy}, 49...|            12|       27|\n",
      "| 3794689|         4|{male, null, 776,...|{55, UEFA Euro, E...|  {33, Round of 16}|         0|{{249, Wales}, ma...|18:00:00.000|2021-08-10T14:33:...|    2022-08-04T12:00|2021-06-26|   available|       available|         4|{1.1.0, 2, 2}|{{85, Germany}, 2...|     {43, 2020}|{{160, Netherland...|            55|       43|\n",
      "|  267400|         0|{male, null, 403,...|{11, La Liga, Spain}|{1, Regular Season}|         4|{{214, Spain}, ma...|20:00:00.000|2023-07-24T21:48:...|2021-06-13T16:17:...|2015-04-08|   available|       scheduled|        30|{1.1.0, 2, 2}|                null|{26, 2014/2015}|{{214, Spain}, 34...|            11|       26|\n",
      "|   69305|         1|{male, null, 403,...|{11, La Liga, Spain}|{1, Regular Season}|         3|{{214, Spain}, ma...|20:00:00.000|    2020-07-29T05:00|2021-06-13T16:17:...|2011-04-09|   available|       scheduled|        31|{1.1.0, 2, 2}|{{214, Spain}, 10...|{22, 2010/2011}|{{214, Spain}, 34...|            11|       22|\n",
      "|   69256|         0|{male, null, 403,...|{11, La Liga, Spain}|{1, Regular Season}|         1|{{214, Spain}, ma...|20:00:00.000|    2020-07-29T05:00|2021-06-13T16:17:...|2009-10-03|   available|       scheduled|         6|{1.1.0, 2, 2}|{{214, Spain}, 25...|{21, 2009/2010}|{{214, Spain}, 34...|            11|       21|\n",
      "|   69232|         0|{male, null, 403,...|{11, La Liga, Spain}|{1, Regular Season}|         5|{{214, Spain}, ma...|22:00:00.000|    2020-07-29T05:00|2021-06-13T16:17:...|2008-10-25|   available|       scheduled|         8|{1.1.0, 2, 2}|{{214, Spain}, 10...|{41, 2008/2009}|{{214, Spain}, 34...|            11|       41|\n",
      "|   69177|         2|{male, null, 217,...|{11, La Liga, Spain}|{1, Regular Season}|         0|{{214, Spain}, ma...|21:03:00.000|    2020-07-29T05:00|2021-06-13T16:17:...|2009-03-15|   available|       scheduled|        27|{1.1.0, 2, 2}|{{214, Spain}, 26...|{41, 2008/2009}|{{214, Spain}, 46...|            11|       41|\n",
      "|  267368|         1|{male, null, 218,...|{11, La Liga, Spain}|{1, Regular Season}|         3|{{214, Spain}, ma...|18:00:00.000|    2020-07-29T05:00|2021-06-13T16:17:...|2014-04-05|   available|       scheduled|        32|{1.1.0, 2, 2}|{{214, Spain}, 24...|{25, 2013/2014}|{{214, Spain}, 34...|            11|       25|\n",
      "|   68333|         0|{male, null, 215,...|{11, La Liga, Spain}|{1, Regular Season}|         3|{{214, Spain}, ma...|21:00:00.000|    2020-07-29T05:00|2021-06-13T16:17:...|2007-02-25|   available|       scheduled|        24|{1.1.0, 2, 2}|{{214, Spain}, 99...|{39, 2006/2007}|{{214, Spain}, 34...|            11|       39|\n",
      "|   69162|         1|{male, null, 218,...|{11, La Liga, Spain}|{1, Regular Season}|         1|{{214, Spain}, ma...|19:00:00.000|    2020-07-29T05:00|2021-06-13T16:17:...|2007-05-13|   available|       scheduled|        34|{1.1.0, 2, 2}|{{214, Spain}, 99...|{39, 2006/2007}|{{214, Spain}, 34...|            11|       39|\n",
      "| 3749253|         2|{male, null, 1, A...|{2, Premier Leagu...|{1, Regular Season}|         1|{{68, England}, m...|13:30:00.000|    2020-07-29T05:00|2021-06-13T16:17:...|2003-10-04|   available|       scheduled|         1|{1.1.0, 2, 2}|                null|{44, 2003/2004}|{{68, England}, 6...|             2|       44|\n",
      "| 3749448|         2|{male, null, 24, ...|{2, Premier Leagu...|{1, Regular Season}|         4|{{68, England}, m...|13:30:00.000|    2020-07-29T05:00|2021-06-13T16:17:...|2004-04-09|   available|       scheduled|        31|{1.1.0, 2, 2}|                null|{44, 2003/2004}|{{68, England}, 1...|             2|       44|\n",
      "|   68324|         0|{male, null, 206,...|{11, La Liga, Spain}|{1, Regular Season}|         2|{{214, Spain}, ma...|19:00:00.000|    2020-07-29T05:00|2021-06-13T16:17:...|2006-01-22|   available|       scheduled|        20|{1.1.0, 2, 2}|{{214, Spain}, 10...|{38, 2005/2006}|{{214, Spain}, 34...|            11|       38|\n",
      "|   69172|         1|{male, null, 218,...|{11, La Liga, Spain}|{1, Regular Season}|         5|{{214, Spain}, ma...|22:00:00.000|    2020-07-29T05:00|2021-06-13T16:17:...|2006-02-18|   available|       scheduled|        24|{1.1.0, 2, 2}|{{214, Spain}, 99...|{38, 2005/2006}|{{214, Spain}, 34...|            11|       38|\n",
      "|   68350|         3|{male, null, 212,...|{11, La Liga, Spain}|{1, Regular Season}|         1|{{214, Spain}, ma...|19:00:00.000|    2020-07-29T05:00|2021-06-13T16:17:...|2006-02-05|   available|       scheduled|        22|{1.1.0, 2, 2}|{{214, Spain}, 99...|{38, 2005/2006}|{{214, Spain}, 34...|            11|       38|\n",
      "|  266015|         3|{male, null, 217,...|{11, La Liga, Spain}|{1, Regular Season}|         1|{{214, Spain}, ma...|18:00:00.000|    2020-07-29T05:00|2021-06-13T16:17:...|2012-12-22|   available|       scheduled|        17|{1.1.0, 2, 2}|{{214, Spain}, 10...|{24, 2012/2013}|{{214, Spain}, 62...|            11|       24|\n",
      "|   70270|         0|{male, null, 1049...|{11, La Liga, Spain}|{1, Regular Season}|         2|{{214, Spain}, ma...|22:00:00.000|    2020-07-29T05:00|2021-06-13T16:17:...|2012-09-22|   available|       scheduled|         5|{1.1.0, 2, 2}|                null|{24, 2012/2013}|{{214, Spain}, 34...|            11|       24|\n",
      "+--------+----------+--------------------+--------------------+-------------------+----------+--------------------+------------+--------------------+--------------------+----------+------------+----------------+----------+-------------+--------------------+---------------+--------------------+--------------+---------+\n",
      "only showing top 20 rows\n",
      "\n"
     ]
    },
    {
     "name": "stderr",
     "output_type": "stream",
     "text": [
      "                                                                                \r"
     ]
    }
   ],
   "source": [
    "df_matches_not_in_explode.show()"
   ]
  },
  {
   "cell_type": "code",
   "execution_count": 19,
   "metadata": {},
   "outputs": [
    {
     "name": "stderr",
     "output_type": "stream",
     "text": [
      "[Stage 20:===================>                                      (1 + 2) / 3]\r"
     ]
    },
    {
     "name": "stdout",
     "output_type": "stream",
     "text": [
      "+-----------------------+-------------------------+----------------+---------------+--------------------+---------------------+\n",
      "|manager_away_country_id|manager_away_country_name|manager_away_dob|manager_away_id|   manager_away_name|manager_away_nickname|\n",
      "+-----------------------+-------------------------+----------------+---------------+--------------------+---------------------+\n",
      "|                    214|                    Spain|      1961-03-14|            221|José Luis Mendili...| José Luis Mendilibar|\n",
      "+-----------------------+-------------------------+----------------+---------------+--------------------+---------------------+\n",
      "\n"
     ]
    },
    {
     "name": "stderr",
     "output_type": "stream",
     "text": [
      "                                                                                \r"
     ]
    }
   ],
   "source": [
    "df_matches_bronze_explode.select(\"manager_away_country_id\", \"manager_away_country_name\", \"manager_away_dob\", \"manager_away_id\", \"manager_away_name\", \"manager_away_nickname\").where(\"match_id = 3825848\").show()\n"
   ]
  },
  {
   "cell_type": "code",
   "execution_count": 20,
   "metadata": {},
   "outputs": [],
   "source": [
    "df_match_3825812_home_manager =  df_matches_bronze.select(F.explode(\"home_team.managers\").alias(\"home_team_manager\")).where(\"match_id = 3825812\")  "
   ]
  },
  {
   "cell_type": "code",
   "execution_count": 21,
   "metadata": {},
   "outputs": [
    {
     "name": "stderr",
     "output_type": "stream",
     "text": [
      "[Stage 22:>                                                         (0 + 3) / 3]\r"
     ]
    },
    {
     "name": "stdout",
     "output_type": "stream",
     "text": [
      "+-----------------+\n",
      "|home_team_manager|\n",
      "+-----------------+\n",
      "+-----------------+\n",
      "\n"
     ]
    },
    {
     "name": "stderr",
     "output_type": "stream",
     "text": [
      "                                                                                \r"
     ]
    }
   ],
   "source": [
    "df_match_3825812_home_manager.show()\n",
    "\n",
    "# -> Não tem Managers"
   ]
  },
  {
   "cell_type": "markdown",
   "metadata": {},
   "source": [
    "##  Análise managers"
   ]
  },
  {
   "cell_type": "code",
   "execution_count": 22,
   "metadata": {},
   "outputs": [],
   "source": [
    "df_matches_bronze_manager_using_withcolumn_explode = df_matches_bronze \\\n",
    "                            .withColumn(\"manager_home\", F.explode_outer(\"home_team.managers\"))"
   ]
  },
  {
   "cell_type": "code",
   "execution_count": 23,
   "metadata": {},
   "outputs": [
    {
     "name": "stderr",
     "output_type": "stream",
     "text": [
      "[Stage 23:===========================================>              (3 + 1) / 4]\r"
     ]
    },
    {
     "name": "stdout",
     "output_type": "stream",
     "text": [
      "+--------+-----+\n",
      "|match_id|count|\n",
      "+--------+-----+\n",
      "| 3825717|    2|\n",
      "| 3878541|    2|\n",
      "|    9695|    2|\n",
      "| 3754151|    2|\n",
      "| 3825794|    2|\n",
      "| 3825563|    2|\n",
      "| 3825896|    2|\n",
      "|    9765|    2|\n",
      "| 3825571|    1|\n",
      "| 3754048|    1|\n",
      "| 3825587|    1|\n",
      "| 3879693|    1|\n",
      "| 3775620|    1|\n",
      "| 3901733|    1|\n",
      "|    7546|    1|\n",
      "| 3817860|    1|\n",
      "| 3754073|    1|\n",
      "| 3835324|    1|\n",
      "| 3754156|    1|\n",
      "| 3775560|    1|\n",
      "+--------+-----+\n",
      "only showing top 20 rows\n",
      "\n"
     ]
    },
    {
     "name": "stderr",
     "output_type": "stream",
     "text": [
      "                                                                                \r"
     ]
    }
   ],
   "source": [
    "df_matches_bronze_manager_using_withcolumn_explode_duplicated = df_matches_bronze_manager_using_withcolumn_explode.groupBy([\"match_id\"]).count()\n",
    "\n",
    "df_matches_bronze_manager_using_withcolumn_explode_duplicated.orderBy(F.col(\"count\").desc()).show()"
   ]
  },
  {
   "cell_type": "code",
   "execution_count": 24,
   "metadata": {},
   "outputs": [
    {
     "name": "stderr",
     "output_type": "stream",
     "text": [
      "[Stage 27:>                                                         (0 + 3) / 3]\r"
     ]
    },
    {
     "name": "stdout",
     "output_type": "stream",
     "text": [
      "+----------+------------------------------------------------------------------------------------------------------------+--------------------+-------------------+----------+----------------------------------------------------------------------------------------------------------------------------------------------------------------------------------------------+------------+--------------------------+----------------+----------+--------+------------+----------------+----------+-------------+---------------------------------------------+---------------+------------------------------------------------+--------------+---------+----------------------------------------------------------------------------------+\n",
      "|away_score|away_team                                                                                                   |competition         |competition_stage  |home_score|home_team                                                                                                                                                                                     |kick_off    |last_updated              |last_updated_360|match_date|match_id|match_status|match_status_360|match_week|metadata     |referee                                      |season         |stadium                                         |competition_id|season_id|manager_home                                                                      |\n",
      "+----------+------------------------------------------------------------------------------------------------------------+--------------------+-------------------+----------+----------------------------------------------------------------------------------------------------------------------------------------------------------------------------------------------+------------+--------------------------+----------------+----------+--------+------------+----------------+----------+-------------+---------------------------------------------+---------------+------------------------------------------------+--------------+---------+----------------------------------------------------------------------------------+\n",
      "|1         |{male, null, 213, Sevilla, {214, Spain}, [{{214, Spain}, 1971-11-03, 21, Unai Emery Etxegoien, Unai Emery}]}|{11, La Liga, Spain}|{1, Regular Season}|2         |{{214, Spain}, male, null, 1049, Granada, [{{214, Spain}, 1982-12-29, 1000947, Diego Mainz García, null}, {{214, Spain}, 1968-05-02, 1617, José Ramón Sandoval Huertas, José Ramón Sandoval}]}|17:00:00.000|2022-02-28T18:06:47.145038|null            |2016-01-03|3825717 |available   |unscheduled     |18        |{1.1.0, 2, 2}|{{214, Spain}, 221, Alberto Undiano Mallenco}|{27, 2015/2016}|{{214, Spain}, 4667, Estadio Nuevo Los Cármenes}|11            |27       |{{214, Spain}, 1982-12-29, 1000947, Diego Mainz García, null}                     |\n",
      "|1         |{male, null, 213, Sevilla, {214, Spain}, [{{214, Spain}, 1971-11-03, 21, Unai Emery Etxegoien, Unai Emery}]}|{11, La Liga, Spain}|{1, Regular Season}|2         |{{214, Spain}, male, null, 1049, Granada, [{{214, Spain}, 1982-12-29, 1000947, Diego Mainz García, null}, {{214, Spain}, 1968-05-02, 1617, José Ramón Sandoval Huertas, José Ramón Sandoval}]}|17:00:00.000|2022-02-28T18:06:47.145038|null            |2016-01-03|3825717 |available   |unscheduled     |18        |{1.1.0, 2, 2}|{{214, Spain}, 221, Alberto Undiano Mallenco}|{27, 2015/2016}|{{214, Spain}, 4667, Estadio Nuevo Los Cármenes}|11            |27       |{{214, Spain}, 1968-05-02, 1617, José Ramón Sandoval Huertas, José Ramón Sandoval}|\n",
      "+----------+------------------------------------------------------------------------------------------------------------+--------------------+-------------------+----------+----------------------------------------------------------------------------------------------------------------------------------------------------------------------------------------------+------------+--------------------------+----------------+----------+--------+------------+----------------+----------+-------------+---------------------------------------------+---------------+------------------------------------------------+--------------+---------+----------------------------------------------------------------------------------+\n",
      "\n",
      "Numa partida um time pode ter mais de um técnico\n"
     ]
    },
    {
     "name": "stderr",
     "output_type": "stream",
     "text": [
      "                                                                                \r"
     ]
    }
   ],
   "source": [
    "df_matches_bronze_manager_using_withcolumn_explode.where(\"match_id = 3825717\").show(truncate=False)\n",
    "\n",
    "# --> Numa partida um time pode ter mais de um técnico\n",
    "\n",
    "print(\"Numa partida um time pode ter mais de um técnico\")"
   ]
  },
  {
   "cell_type": "code",
   "execution_count": 25,
   "metadata": {},
   "outputs": [
    {
     "name": "stderr",
     "output_type": "stream",
     "text": [
      "                                                                                \r"
     ]
    },
    {
     "data": {
      "text/plain": [
       "2894"
      ]
     },
     "execution_count": 25,
     "metadata": {},
     "output_type": "execute_result"
    }
   ],
   "source": [
    "df_matches_bronze_manager_using_withcolumn_explode.count()"
   ]
  },
  {
   "cell_type": "code",
   "execution_count": 26,
   "metadata": {},
   "outputs": [],
   "source": [
    "df_matches_bronze_manager_using_select_explode = df_matches_bronze \\\n",
    "                            .select(F.explode_outer(\"home_team.managers\").alias(\"manager_home\"))"
   ]
  },
  {
   "cell_type": "code",
   "execution_count": 27,
   "metadata": {},
   "outputs": [
    {
     "name": "stderr",
     "output_type": "stream",
     "text": [
      "                                                                                \r"
     ]
    },
    {
     "data": {
      "text/plain": [
       "2894"
      ]
     },
     "execution_count": 27,
     "metadata": {},
     "output_type": "execute_result"
    }
   ],
   "source": [
    "df_matches_bronze_manager_using_select_explode.count()"
   ]
  },
  {
   "cell_type": "markdown",
   "metadata": {},
   "source": [
    "## Competitions in Bronze Zone"
   ]
  },
  {
   "cell_type": "code",
   "execution_count": 31,
   "metadata": {},
   "outputs": [],
   "source": [
    "path_competitions_bronze = 's3://bronze/competitions'"
   ]
  },
  {
   "cell_type": "code",
   "execution_count": 32,
   "metadata": {},
   "outputs": [
    {
     "name": "stderr",
     "output_type": "stream",
     "text": [
      "                                                                                \r"
     ]
    }
   ],
   "source": [
    "df_competition_bronze = spark.read.parquet(path_competitions_bronze)"
   ]
  },
  {
   "cell_type": "code",
   "execution_count": 33,
   "metadata": {},
   "outputs": [
    {
     "name": "stdout",
     "output_type": "stream",
     "text": [
      "+------------------+--------------+-------------------------+-----------------------+-----------------+-------------------------+--------------------------+--------------------------+--------------------------+--------------------------+-----------+---------+\n",
      "|competition_gender|competition_id|competition_international|competition_name       |competition_youth|country_name             |match_available           |match_available_360       |match_updated             |match_updated_360         |season_name|season_id|\n",
      "+------------------+--------------+-------------------------+-----------------------+-----------------+-------------------------+--------------------------+--------------------------+--------------------------+--------------------------+-----------+---------+\n",
      "|male              |9             |false                    |1. Bundesliga          |false            |Germany                  |2023-12-12T07:43:33.436182|null                      |2023-12-12T07:43:33.436182|null                      |2015/2016  |27       |\n",
      "|male              |16            |false                    |Champions League       |false            |Europe                   |2020-07-29T05:00          |null                      |2021-08-27T11:26:39.802832|2021-06-13T16:17:31.694   |2015/2016  |27       |\n",
      "|male              |11            |false                    |La Liga                |false            |Spain                    |2023-09-20T17:21:32.111535|null                      |2023-09-20T17:21:32.111535|2021-06-13T16:17:31.694   |2015/2016  |27       |\n",
      "|male              |7             |false                    |Ligue 1                |false            |France                   |2023-12-13T00:27:57.162379|null                      |2023-12-13T00:27:57.162379|null                      |2015/2016  |27       |\n",
      "|male              |2             |false                    |Premier League         |false            |England                  |2023-11-14T11:25:33.476498|null                      |2023-11-14T11:25:33.476498|2021-06-13T16:17:31.694   |2015/2016  |27       |\n",
      "|male              |12            |false                    |Serie A                |false            |Italy                    |2023-12-13T17:32:46.423081|null                      |2023-12-13T17:32:46.423081|null                      |2015/2016  |27       |\n",
      "|male              |1238          |false                    |Indian Super league    |false            |India                    |2023-03-31T02:14:09.896947|null                      |2023-03-31T02:14:09.896947|null                      |2021/2022  |108      |\n",
      "|male              |7             |false                    |Ligue 1                |false            |France                   |2023-10-17T06:13:50.369573|2023-10-17T06:16:02.924274|2023-10-17T06:13:50.369573|2023-10-17T06:16:02.924274|2021/2022  |108      |\n",
      "|male              |44            |false                    |Major League Soccer    |false            |United States of America |2023-12-13T04:51:24.677007|2023-12-13T04:53:55.191129|2023-12-13T04:51:24.677007|2023-12-13T04:53:55.191129|2023       |107      |\n",
      "|female            |72            |true                     |Women's World Cup      |false            |International            |2023-12-12T14:06:50.626363|2023-12-12T14:12:41.561162|2023-12-12T14:06:50.626363|2023-12-12T14:12:41.561162|2023       |107      |\n",
      "|male              |7             |false                    |Ligue 1                |false            |France                   |2023-12-11T12:07:17.819532|2023-12-11T12:13:49.169623|2023-12-11T12:07:17.819532|2023-12-11T12:13:49.169623|2022/2023  |235      |\n",
      "|female            |37            |false                    |FA Women's Super League|false            |England                  |2023-02-25T14:52:09.326729|null                      |2023-02-25T14:52:09.326729|2021-06-13T16:17:31.694   |2020/2021  |90       |\n",
      "|male              |11            |false                    |La Liga                |false            |Spain                    |2023-11-15T10:25:53.245065|2023-11-15T10:29:14.475865|2023-11-15T10:25:53.245065|2023-11-15T10:29:14.475865|2020/2021  |90       |\n",
      "|male              |116           |false                    |North American League  |false            |North and Central America|2023-07-24T09:06:54.144896|null                      |2023-07-24T09:06:54.144896|2021-06-13T16:17:31.694   |1977       |68       |\n",
      "|male              |55            |true                     |UEFA Euro              |false            |Europe                   |2023-02-24T21:26:47.128979|2023-04-27T22:38:34.970148|2023-02-24T21:26:47.128979|2023-04-27T22:38:34.970148|2020       |43       |\n",
      "|male              |43            |true                     |FIFA World Cup         |false            |International            |2023-11-05T04:23:26.649917|2023-11-21T15:37:11.589616|2023-11-05T04:23:26.649917|2023-11-21T15:37:11.589616|2022       |106      |\n",
      "|female            |53            |true                     |UEFA Women's Euro      |false            |Europe                   |2023-10-24T03:36:54.066267|2023-10-24T03:37:29.085948|2023-10-24T03:36:54.066267|2023-10-24T03:37:29.085948|2022       |106      |\n",
      "|male              |16            |false                    |Champions League       |false            |Europe                   |2023-03-07T12:20:48.118250|null                      |2023-03-07T12:20:48.118250|2021-06-13T16:17:31.694   |2018/2019  |4        |\n",
      "|female            |37            |false                    |FA Women's Super League|false            |England                  |2023-07-24T19:50:20.881595|null                      |2023-07-24T19:50:20.881595|2021-06-13T16:17:31.694   |2018/2019  |4        |\n",
      "|male              |11            |false                    |La Liga                |false            |Spain                    |2023-11-05T09:50:49.746684|null                      |2023-11-05T09:50:49.746684|2021-07-09T14:53:22.103024|2018/2019  |4        |\n",
      "+------------------+--------------+-------------------------+-----------------------+-----------------+-------------------------+--------------------------+--------------------------+--------------------------+--------------------------+-----------+---------+\n",
      "only showing top 20 rows\n",
      "\n"
     ]
    }
   ],
   "source": [
    "df_competition_bronze.show(truncate=False)"
   ]
  },
  {
   "cell_type": "markdown",
   "metadata": {},
   "source": [
    "## "
   ]
  },
  {
   "cell_type": "code",
   "execution_count": 29,
   "metadata": {},
   "outputs": [],
   "source": [
    "path_lineups_bronze = 's3://bronze/lineups'\n",
    "\n"
   ]
  }
 ],
 "metadata": {
  "kernelspec": {
   "display_name": "Python 3",
   "language": "python",
   "name": "python3"
  },
  "language_info": {
   "codemirror_mode": {
    "name": "ipython",
    "version": 3
   },
   "file_extension": ".py",
   "mimetype": "text/x-python",
   "name": "python",
   "nbconvert_exporter": "python",
   "pygments_lexer": "ipython3",
   "version": "3.10.2"
  }
 },
 "nbformat": 4,
 "nbformat_minor": 2
}
