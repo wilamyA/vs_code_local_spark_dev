{
 "cells": [
  {
   "cell_type": "code",
   "execution_count": 5,
   "metadata": {},
   "outputs": [],
   "source": [
    "from pyspark.sql import SparkSession\n",
    "from pyspark.sql import functions as F"
   ]
  },
  {
   "cell_type": "code",
   "execution_count": 6,
   "metadata": {},
   "outputs": [
    {
     "name": "stderr",
     "output_type": "stream",
     "text": [
      "SLF4J: Class path contains multiple SLF4J bindings.\n",
      "SLF4J: Found binding in [jar:file:/home/glue_user/spark/jars/log4j-slf4j-impl-2.17.2.jar!/org/slf4j/impl/StaticLoggerBinder.class]\n",
      "SLF4J: Found binding in [jar:file:/home/glue_user/spark/jars/slf4j-reload4j-1.7.36.jar!/org/slf4j/impl/StaticLoggerBinder.class]\n",
      "SLF4J: Found binding in [jar:file:/home/glue_user/aws-glue-libs/jars/log4j-slf4j-impl-2.17.2.jar!/org/slf4j/impl/StaticLoggerBinder.class]\n",
      "SLF4J: Found binding in [jar:file:/home/glue_user/aws-glue-libs/jars/slf4j-reload4j-1.7.36.jar!/org/slf4j/impl/StaticLoggerBinder.class]\n",
      "SLF4J: See http://www.slf4j.org/codes.html#multiple_bindings for an explanation.\n",
      "SLF4J: Actual binding is of type [org.apache.logging.slf4j.Log4jLoggerFactory]\n",
      "Setting default log level to \"WARN\".\n",
      "To adjust logging level use sc.setLogLevel(newLevel). For SparkR, use setLogLevel(newLevel).\n"
     ]
    }
   ],
   "source": [
    "spark = SparkSession.builder.getOrCreate()"
   ]
  },
  {
   "cell_type": "code",
   "execution_count": 16,
   "metadata": {},
   "outputs": [],
   "source": [
    "path_matches_bronze = \"s3://bronze/matches/\"\n",
    "\n",
    "df_matches_bronze = spark.read.parquet(path_matches_bronze)"
   ]
  },
  {
   "cell_type": "code",
   "execution_count": 8,
   "metadata": {},
   "outputs": [
    {
     "name": "stdout",
     "output_type": "stream",
     "text": [
      "root\n",
      " |-- away_score: long (nullable = true)\n",
      " |-- away_team: struct (nullable = true)\n",
      " |    |-- away_team_gender: string (nullable = true)\n",
      " |    |-- away_team_group: string (nullable = true)\n",
      " |    |-- away_team_id: long (nullable = true)\n",
      " |    |-- away_team_name: string (nullable = true)\n",
      " |    |-- country: struct (nullable = true)\n",
      " |    |    |-- id: long (nullable = true)\n",
      " |    |    |-- name: string (nullable = true)\n",
      " |    |-- managers: array (nullable = true)\n",
      " |    |    |-- element: struct (containsNull = true)\n",
      " |    |    |    |-- country: struct (nullable = true)\n",
      " |    |    |    |    |-- id: long (nullable = true)\n",
      " |    |    |    |    |-- name: string (nullable = true)\n",
      " |    |    |    |-- dob: string (nullable = true)\n",
      " |    |    |    |-- id: long (nullable = true)\n",
      " |    |    |    |-- name: string (nullable = true)\n",
      " |    |    |    |-- nickname: string (nullable = true)\n",
      " |-- competition: struct (nullable = true)\n",
      " |    |-- competition_id: long (nullable = true)\n",
      " |    |-- competition_name: string (nullable = true)\n",
      " |    |-- country_name: string (nullable = true)\n",
      " |-- competition_stage: struct (nullable = true)\n",
      " |    |-- id: long (nullable = true)\n",
      " |    |-- name: string (nullable = true)\n",
      " |-- home_score: long (nullable = true)\n",
      " |-- home_team: struct (nullable = true)\n",
      " |    |-- country: struct (nullable = true)\n",
      " |    |    |-- id: long (nullable = true)\n",
      " |    |    |-- name: string (nullable = true)\n",
      " |    |-- home_team_gender: string (nullable = true)\n",
      " |    |-- home_team_group: string (nullable = true)\n",
      " |    |-- home_team_id: long (nullable = true)\n",
      " |    |-- home_team_name: string (nullable = true)\n",
      " |    |-- managers: array (nullable = true)\n",
      " |    |    |-- element: struct (containsNull = true)\n",
      " |    |    |    |-- country: struct (nullable = true)\n",
      " |    |    |    |    |-- id: long (nullable = true)\n",
      " |    |    |    |    |-- name: string (nullable = true)\n",
      " |    |    |    |-- dob: string (nullable = true)\n",
      " |    |    |    |-- id: long (nullable = true)\n",
      " |    |    |    |-- name: string (nullable = true)\n",
      " |    |    |    |-- nickname: string (nullable = true)\n",
      " |-- kick_off: string (nullable = true)\n",
      " |-- last_updated: string (nullable = true)\n",
      " |-- last_updated_360: string (nullable = true)\n",
      " |-- match_date: string (nullable = true)\n",
      " |-- match_id: long (nullable = true)\n",
      " |-- match_status: string (nullable = true)\n",
      " |-- match_status_360: string (nullable = true)\n",
      " |-- match_week: long (nullable = true)\n",
      " |-- metadata: struct (nullable = true)\n",
      " |    |-- data_version: string (nullable = true)\n",
      " |    |-- shot_fidelity_version: string (nullable = true)\n",
      " |    |-- xy_fidelity_version: string (nullable = true)\n",
      " |-- referee: struct (nullable = true)\n",
      " |    |-- country: struct (nullable = true)\n",
      " |    |    |-- id: long (nullable = true)\n",
      " |    |    |-- name: string (nullable = true)\n",
      " |    |-- id: long (nullable = true)\n",
      " |    |-- name: string (nullable = true)\n",
      " |-- season: struct (nullable = true)\n",
      " |    |-- season_id: long (nullable = true)\n",
      " |    |-- season_name: string (nullable = true)\n",
      " |-- stadium: struct (nullable = true)\n",
      " |    |-- country: struct (nullable = true)\n",
      " |    |    |-- id: long (nullable = true)\n",
      " |    |    |-- name: string (nullable = true)\n",
      " |    |-- id: long (nullable = true)\n",
      " |    |-- name: string (nullable = true)\n",
      " |-- competition_id: integer (nullable = true)\n",
      " |-- season_id: integer (nullable = true)\n",
      "\n"
     ]
    }
   ],
   "source": [
    "df_matches_bronze.printSchema()"
   ]
  },
  {
   "cell_type": "code",
   "execution_count": 15,
   "metadata": {},
   "outputs": [
    {
     "data": {
      "text/plain": [
       "DataFrame[away_score: bigint, away_team: struct<away_team_gender:string,away_team_group:string,away_team_id:bigint,away_team_name:string,country:struct<id:bigint,name:string>,managers:array<struct<country:struct<id:bigint,name:string>,dob:string,id:bigint,name:string,nickname:string>>>, competition: struct<competition_id:bigint,competition_name:string,country_name:string>, competition_stage: struct<id:bigint,name:string>, home_score: bigint, home_team: struct<country:struct<id:bigint,name:string>,home_team_gender:string,home_team_group:string,home_team_id:bigint,home_team_name:string,managers:array<struct<country:struct<id:bigint,name:string>,dob:string,id:bigint,name:string,nickname:string>>>, kick_off: string, last_updated: string, last_updated_360: string, match_date: string, match_id: bigint, match_status: string, match_status_360: string, match_week: bigint, metadata: struct<data_version:string,shot_fidelity_version:string,xy_fidelity_version:string>, referee: struct<country:struct<id:bigint,name:string>,id:bigint,name:string>, season: struct<season_id:bigint,season_name:string>, stadium: struct<country:struct<id:bigint,name:string>,id:bigint,name:string>, competition_id: int, season_id: int]"
      ]
     },
     "metadata": {},
     "output_type": "display_data"
    }
   ],
   "source": [
    "display(df_matches_bronze)"
   ]
  },
  {
   "cell_type": "code",
   "execution_count": 10,
   "metadata": {},
   "outputs": [
    {
     "name": "stderr",
     "output_type": "stream",
     "text": [
      "[Stage 1:>                                                          (0 + 1) / 1]\r"
     ]
    },
    {
     "name": "stdout",
     "output_type": "stream",
     "text": [
      "+----------+--------------------+--------------------+-------------------+----------+--------------------+------------+--------------------+----------------+----------+--------+------------+----------------+----------+-------------+--------------------+---------------+--------------------+--------------+---------+\n",
      "|away_score|           away_team|         competition|  competition_stage|home_score|           home_team|    kick_off|        last_updated|last_updated_360|match_date|match_id|match_status|match_status_360|match_week|     metadata|             referee|         season|             stadium|competition_id|season_id|\n",
      "+----------+--------------------+--------------------+-------------------+----------+--------------------+------------+--------------------+----------------+----------+--------+------------+----------------+----------+-------------+--------------------+---------------+--------------------+--------------+---------+\n",
      "|         2|{male, null, 322,...|{11, La Liga, Spain}|{1, Regular Season}|         2|{{214, Spain}, ma...|20:00:00.000|2023-02-21T15:19:...|            null|2015-09-23| 3825848|   available|     unscheduled|         5|{1.1.0, 2, 2}|                null|{27, 2015/2016}|{{214, Spain}, 35...|            11|       27|\n",
      "|         0|{male, null, 213,...|{11, La Liga, Spain}|{1, Regular Season}|         2|{{214, Spain}, ma...|22:00:00.000|2023-02-21T15:19:...|            null|2015-09-23| 3825895|   available|     unscheduled|         5|{1.1.0, 2, 2}|{{214, Spain}, 27...|{27, 2015/2016}|{{214, Spain}, 35...|            11|       27|\n",
      "|         2|{male, null, 216,...|{11, La Liga, Spain}|{1, Regular Season}|         0|{{214, Spain}, ma...|18:15:00.000|2022-08-30T12:53:...|            null|2016-05-01| 3825894|   available|     unscheduled|        36|{1.1.0, 2, 2}|{{214, Spain}, 10...|{27, 2015/2016}|{{214, Spain}, 46...|            11|       27|\n",
      "|         1|{male, null, 221,...|{11, La Liga, Spain}|{1, Regular Season}|         3|{{214, Spain}, ma...|20:30:00.000|2022-08-30T12:53:...|            null|2016-05-02| 3825855|   available|     unscheduled|        36|{1.1.0, 2, 2}|{{214, Spain}, 24...|{27, 2015/2016}|{{214, Spain}, 34...|            11|       27|\n",
      "|         2|{male, null, 322,...|{11, La Liga, Spain}|{1, Regular Season}|         4|{{214, Spain}, ma...|19:00:00.000|2022-04-06T22:39:...|            null|2016-05-15| 3825908|   available|     unscheduled|        38|{1.1.0, 2, 2}|{{214, Spain}, 26...|{27, 2015/2016}|{{214, Spain}, 35...|            11|       27|\n",
      "|         1|{male, null, 208,...|{11, La Liga, Spain}|{1, Regular Season}|         4|{{214, Spain}, ma...|12:00:00.000|2022-08-30T13:15:...|            null|2016-05-15| 3825883|   available|     unscheduled|        38|{1.1.0, 2, 2}|{{214, Spain}, 26...|{27, 2015/2016}|{{214, Spain}, 34...|            11|       27|\n",
      "|         0|{male, null, 222,...|{11, La Liga, Spain}|{1, Regular Season}|         2|{{214, Spain}, ma...|19:30:00.000|2022-04-06T22:37:...|            null|2016-05-15| 3825900|   available|     unscheduled|        38|{1.1.0, 2, 2}|{{214, Spain}, 22...|{27, 2015/2016}|{{214, Spain}, 46...|            11|       27|\n",
      "|         1|{male, null, 221,...|{11, La Liga, Spain}|{1, Regular Season}|         3|{{214, Spain}, ma...|19:30:00.000|2022-04-06T22:35:...|            null|2016-05-15| 3825902|   available|     unscheduled|        38|{1.1.0, 2, 2}|{{214, Spain}, 10...|{27, 2015/2016}|{{214, Spain}, 46...|            11|       27|\n",
      "|         1|{male, null, 216,...|{11, La Liga, Spain}|{1, Regular Season}|         2|{{214, Spain}, ma...|19:30:00.000|2022-04-06T22:34:...|            null|2016-05-15| 3825876|   available|     unscheduled|        38|{1.1.0, 2, 2}|{{214, Spain}, 18...|{27, 2015/2016}|{{214, Spain}, 35...|            11|       27|\n",
      "|         2|{male, null, 220,...|{11, La Liga, Spain}|{1, Regular Season}|         0|{{214, Spain}, ma...|17:00:00.000|2022-04-06T22:33:...|            null|2016-05-14| 3825846|   available|     unscheduled|        38|{1.1.0, 2, 2}|{{214, Spain}, 18...|{27, 2015/2016}|{{214, Spain}, 46...|            11|       27|\n",
      "|         1|{male, null, 213,...|{11, La Liga, Spain}|{1, Regular Season}|         3|{{214, Spain}, ma...|19:30:00.000|2022-08-30T13:07:...|            null|2016-05-14| 3825869|   available|     unscheduled|        38|{1.1.0, 2, 2}|{{214, Spain}, 21...|{27, 2015/2016}|{{214, Spain}, 34...|            11|       27|\n",
      "|         0|{male, null, 209,...|{11, La Liga, Spain}|{1, Regular Season}|         2|{{214, Spain}, ma...|19:30:00.000|2022-04-06T22:30:...|            null|2016-05-14| 3825882|   available|     unscheduled|        38|{1.1.0, 2, 2}|{{214, Spain}, 22...|{27, 2015/2016}|{{214, Spain}, 62...|            11|       27|\n",
      "|         1|{male, null, 210,...|{11, La Liga, Spain}|{1, Regular Season}|         0|{{214, Spain}, ma...|20:30:00.000|2022-04-06T22:29:...|            null|2016-05-13| 3825849|   available|     unscheduled|        38|{1.1.0, 2, 2}|{{214, Spain}, 25...|{27, 2015/2016}|{{214, Spain}, 34...|            11|       27|\n",
      "|         1|{male, null, 212,...|{11, La Liga, Spain}|{1, Regular Season}|         2|{{214, Spain}, ma...|17:00:00.000|2022-04-06T22:28:...|            null|2016-05-08| 3825860|   available|     unscheduled|        37|{1.1.0, 2, 2}|{{214, Spain}, 21...|{27, 2015/2016}|{{214, Spain}, 35...|            11|       27|\n",
      "|         1|{male, null, 219,...|{11, La Liga, Spain}|{1, Regular Season}|         1|{{214, Spain}, ma...|22:05:00.000|2022-03-26T14:52:...|            null|2016-04-23| 3825847|   available|     unscheduled|        35|{1.1.0, 2, 2}|{{214, Spain}, 24...|{27, 2015/2016}|{{214, Spain}, 34...|            11|       27|\n",
      "|         1|{male, null, 322,...|{11, La Liga, Spain}|{1, Regular Season}|         1|{{214, Spain}, ma...|21:30:00.000|2022-05-08T21:31:...|            null|2016-03-18| 3825817|   available|     unscheduled|        30|{1.1.0, 2, 2}|{{214, Spain}, 21...|{27, 2015/2016}|{{214, Spain}, 35...|            11|       27|\n",
      "|         1|{male, null, 1041...|{11, La Liga, Spain}|{1, Regular Season}|         1|{{214, Spain}, ma...|21:30:00.000|2022-03-26T14:39:...|            null|2016-02-20| 3825778|   available|     unscheduled|        25|{1.1.0, 2, 2}|{{214, Spain}, 21...|{27, 2015/2016}|{{214, Spain}, 35...|            11|       27|\n",
      "|         0|{male, null, 216,...|{11, La Liga, Spain}|{1, Regular Season}|         3|{{214, Spain}, ma...|21:30:00.000|2022-05-08T21:01:...|            null|2016-02-19| 3825777|   available|     unscheduled|        25|{1.1.0, 2, 2}|{{214, Spain}, 21...|{27, 2015/2016}|{{214, Spain}, 35...|            11|       27|\n",
      "|         1|{male, null, 1049...|{11, La Liga, Spain}|{1, Regular Season}|         5|{{214, Spain}, ma...|21:30:00.000|2022-03-26T14:32:...|            null|2016-01-18| 3825740|   available|     unscheduled|        20|{1.1.0, 2, 2}|{{214, Spain}, 26...|{27, 2015/2016}|{{214, Spain}, 34...|            11|       27|\n",
      "|         0|{male, null, 210,...|{11, La Liga, Spain}|{1, Regular Season}|         0|{{214, Spain}, ma...|20:30:00.000|2022-03-22T17:53:...|            null|2016-04-24| 3825875|   available|     unscheduled|        35|{1.1.0, 2, 2}|{{214, Spain}, 22...|{27, 2015/2016}|{{214, Spain}, 36...|            11|       27|\n",
      "+----------+--------------------+--------------------+-------------------+----------+--------------------+------------+--------------------+----------------+----------+--------+------------+----------------+----------+-------------+--------------------+---------------+--------------------+--------------+---------+\n",
      "only showing top 20 rows\n",
      "\n"
     ]
    },
    {
     "name": "stderr",
     "output_type": "stream",
     "text": [
      "                                                                                \r"
     ]
    }
   ],
   "source": [
    "df_matches_bronze.show()"
   ]
  },
  {
   "cell_type": "code",
   "execution_count": 22,
   "metadata": {},
   "outputs": [],
   "source": [
    "df_matches_bronze_explode = df_matches_bronze.withColumn(\"away_team_gender\", F.col(\"away_team.away_team_gender\"))\\\n",
    "                            .withColumn(\"away_team_group\", F.col(\"away_team.away_team_group\"))\\\n",
    "                            .withColumn(\"away_team_id\", F.col(\"away_team.away_team_id\"))\\\n",
    "                            .withColumn(\"away_team_name\", F.col(\"away_team.away_team_name\"))\\\n",
    "                            .withColumn(\"country_away_team_id\", F.col(\"away_team.country.id\"))\\\n",
    "                            .withColumn(\"country_away_team_name\", F.col(\"away_team.country.name\"))\\\n",
    "                            .withColumn(\"manager_away\", F.explode(\"away_team.managers\")) \\\n",
    "                            .withColumn(\"manager_away_country_id\", F.col(\"manager_away.country.id\")) \\\n",
    "                            .withColumn(\"manager_away_country_name\", F.col(\"manager_away.country.name\")) \\\n",
    "                            .withColumn(\"manager_away_dob\", F.col(\"manager_away.dob\")) \\\n",
    "                            .withColumn(\"manager_away_id\", F.col(\"manager_away.id\")) \\\n",
    "                            .withColumn(\"manager_away_name\", F.col(\"manager_away.name\")) \\\n",
    "                            .withColumn(\"manager_away_nickname\", F.col(\"manager_away.nickname\")) \\\n",
    "                            .withColumn(\"competition_id\", F.col(\"competition.competition_id\")) \\\n",
    "                            .withColumn(\"competition_name\", F.col(\"competition.competition_name\")) \\\n",
    "                            .withColumn(\"competition_stage_id\", F.col(\"competition_stage.id\")) \\\n",
    "                            .withColumn(\"competition_stage_name\", F.col(\"competition_stage.name\")) \\\n",
    "                            .withColumn(\"home_team_gender\", F.col(\"home_team.home_team_gender\"))\\\n",
    "                            .withColumn(\"home_team_group\", F.col(\"home_team.home_team_group\"))\\\n",
    "                            .withColumn(\"home_team_id\", F.col(\"home_team.home_team_id\"))\\\n",
    "                            .withColumn(\"home_team_name\", F.col(\"home_team.home_team_name\"))\\\n",
    "                            .withColumn(\"country_home_team_id\", F.col(\"home_team.country.id\"))\\\n",
    "                            .withColumn(\"country_home_team_name\", F.col(\"home_team.country.name\"))\\\n",
    "                            .withColumn(\"manager_home\", F.explode(\"home_team.managers\")) \\\n",
    "                            .withColumn(\"manager_home_country_id\", F.col(\"manager_home.country.id\")) \\\n",
    "                            .withColumn(\"manager_home_country_name\", F.col(\"manager_home.country.name\")) \\\n",
    "                            .withColumn(\"manager_home_dob\", F.col(\"manager_home.dob\")) \\\n",
    "                            .withColumn(\"manager_home_id\", F.col(\"manager_home.id\")) \\\n",
    "                            .withColumn(\"manager_home_name\", F.col(\"manager_home.name\")) \\\n",
    "                            .withColumn(\"manager_home_nickname\", F.col(\"manager_home.nickname\")) \\\n",
    "                            .withColumn(\"referee_country_id\", F.col(\"referee.country.id\")) \\\n",
    "                            .withColumn(\"referee_country_name\", F.col(\"referee.country.name\")) \\\n",
    "                            .withColumn(\"referee_id\", F.col(\"referee.id\")) \\\n",
    "                            .withColumn(\"referee_name\", F.col(\"referee.name\")) \\\n",
    "                            .withColumn(\"season_name\", F.col(\"season.season_name\")) \\\n",
    "                            .withColumn(\"stadium_country_id\", F.col(\"stadium.country.id\")) \\\n",
    "                            .withColumn(\"stadium_country_name\", F.col(\"stadium.country.name\")) \\\n",
    "                            .withColumn(\"stadium_id\", F.col(\"stadium.id\")) \\\n",
    "                            .withColumn(\"stadium_name\", F.col(\"stadium.name\")) \\\n",
    "                            .drop(\"away_team\", \"competition\", \"competition_stage\", \"home_team\", \"last_updated_360\", \"match_status_360\", \"metadata\", \"season\", \"stadium\", \"referee\", \"manager_away\", \"manager_home\")           \n"
   ]
  },
  {
   "cell_type": "code",
   "execution_count": 23,
   "metadata": {},
   "outputs": [
    {
     "name": "stdout",
     "output_type": "stream",
     "text": [
      "root\n",
      " |-- away_score: long (nullable = true)\n",
      " |-- home_score: long (nullable = true)\n",
      " |-- kick_off: string (nullable = true)\n",
      " |-- last_updated: string (nullable = true)\n",
      " |-- match_date: string (nullable = true)\n",
      " |-- match_id: long (nullable = true)\n",
      " |-- match_status: string (nullable = true)\n",
      " |-- match_week: long (nullable = true)\n",
      " |-- competition_id: long (nullable = true)\n",
      " |-- season_id: integer (nullable = true)\n",
      " |-- away_team_gender: string (nullable = true)\n",
      " |-- away_team_group: string (nullable = true)\n",
      " |-- away_team_id: long (nullable = true)\n",
      " |-- away_team_name: string (nullable = true)\n",
      " |-- country_away_team_id: long (nullable = true)\n",
      " |-- country_away_team_name: string (nullable = true)\n",
      " |-- manager_away_country_id: long (nullable = true)\n",
      " |-- manager_away_country_name: string (nullable = true)\n",
      " |-- manager_away_dob: string (nullable = true)\n",
      " |-- manager_away_id: long (nullable = true)\n",
      " |-- manager_away_name: string (nullable = true)\n",
      " |-- manager_away_nickname: string (nullable = true)\n",
      " |-- competition_name: string (nullable = true)\n",
      " |-- competition_stage_id: long (nullable = true)\n",
      " |-- competition_stage_name: string (nullable = true)\n",
      " |-- home_team_gender: string (nullable = true)\n",
      " |-- home_team_group: string (nullable = true)\n",
      " |-- home_team_id: long (nullable = true)\n",
      " |-- home_team_name: string (nullable = true)\n",
      " |-- country_home_team_id: long (nullable = true)\n",
      " |-- country_home_team_name: string (nullable = true)\n",
      " |-- manager_home_country_id: long (nullable = true)\n",
      " |-- manager_home_country_name: string (nullable = true)\n",
      " |-- manager_home_dob: string (nullable = true)\n",
      " |-- manager_home_id: long (nullable = true)\n",
      " |-- manager_home_name: string (nullable = true)\n",
      " |-- manager_home_nickname: string (nullable = true)\n",
      " |-- referee_country_id: long (nullable = true)\n",
      " |-- referee_country_name: string (nullable = true)\n",
      " |-- referee_id: long (nullable = true)\n",
      " |-- referee_name: string (nullable = true)\n",
      " |-- season_name: string (nullable = true)\n",
      " |-- stadium_country_id: long (nullable = true)\n",
      " |-- stadium_country_name: string (nullable = true)\n",
      " |-- stadium_id: long (nullable = true)\n",
      " |-- stadium_name: string (nullable = true)\n",
      "\n"
     ]
    }
   ],
   "source": [
    "df_matches_bronze_explode.printSchema()"
   ]
  },
  {
   "cell_type": "code",
   "execution_count": 24,
   "metadata": {},
   "outputs": [
    {
     "name": "stderr",
     "output_type": "stream",
     "text": [
      "24/02/14 02:40:16 WARN package: Truncated the string representation of a plan since it was too large. This behavior can be adjusted by setting 'spark.sql.debug.maxToStringFields'.\n"
     ]
    },
    {
     "name": "stdout",
     "output_type": "stream",
     "text": [
      "+----------+----------+------------+--------------------+----------+--------+------------+----------+--------------+---------+----------------+---------------+------------+--------------------+--------------------+----------------------+-----------------------+-------------------------+----------------+---------------+--------------------+---------------------+----------------+--------------------+----------------------+----------------+---------------+------------+--------------------+--------------------+----------------------+-----------------------+-------------------------+----------------+---------------+--------------------+---------------------+------------------+--------------------+----------+--------------------+-----------+------------------+--------------------+----------+--------------------+\n",
      "|away_score|home_score|    kick_off|        last_updated|match_date|match_id|match_status|match_week|competition_id|season_id|away_team_gender|away_team_group|away_team_id|      away_team_name|country_away_team_id|country_away_team_name|manager_away_country_id|manager_away_country_name|manager_away_dob|manager_away_id|   manager_away_name|manager_away_nickname|competition_name|competition_stage_id|competition_stage_name|home_team_gender|home_team_group|home_team_id|      home_team_name|country_home_team_id|country_home_team_name|manager_home_country_id|manager_home_country_name|manager_home_dob|manager_home_id|   manager_home_name|manager_home_nickname|referee_country_id|referee_country_name|referee_id|        referee_name|season_name|stadium_country_id|stadium_country_name|stadium_id|        stadium_name|\n",
      "+----------+----------+------------+--------------------+----------+--------+------------+----------+--------------+---------+----------------+---------------+------------+--------------------+--------------------+----------------------+-----------------------+-------------------------+----------------+---------------+--------------------+---------------------+----------------+--------------------+----------------------+----------------+---------------+------------+--------------------+--------------------+----------------------+-----------------------+-------------------------+----------------+---------------+--------------------+---------------------+------------------+--------------------+----------+--------------------+-----------+------------------+--------------------+----------+--------------------+\n",
      "|         2|         2|20:00:00.000|2023-02-21T15:19:...|2015-09-23| 3825848|   available|         5|            11|       27|            male|           null|         322|               Eibar|                 214|                 Spain|                    214|                    Spain|      1961-03-14|            221|José Luis Mendili...| José Luis Mendilibar|         La Liga|                   1|        Regular Season|            male|           null|         221|          Levante UD|                 214|                 Spain|                    214|                    Spain|      1966-06-21|           1612|Luis Lucas Alcara...|        Lucas Alcaraz|              null|                null|      null|                null|  2015/2016|               214|               Spain|       350|Estadio Ciudad de...|\n",
      "|         0|         2|22:00:00.000|2023-02-21T15:19:...|2015-09-23| 3825895|   available|         5|            11|       27|            male|           null|         213|             Sevilla|                 214|                 Spain|                    214|                    Spain|      1971-11-03|             21|Unai Emery Etxegoien|           Unai Emery|         La Liga|                   1|        Regular Season|            male|           null|         208|          Las Palmas|                 214|                 Spain|                    214|                    Spain|      1953-12-02|            745|Francisco Herrera...|         Paco Herrera|               214|               Spain|      2728|Carlos del Cerro ...|  2015/2016|               214|               Spain|       357|Estadio de Gran C...|\n",
      "|         2|         0|18:15:00.000|2022-08-30T12:53:...|2016-05-01| 3825894|   available|        36|            11|       27|            male|           null|         216|              Getafe|                 214|                 Spain|                     11|                Argentina|      1973-03-05|        1001036|Juan Eduardo Esná...|                 null|         La Liga|                   1|        Regular Season|            male|           null|         219|RC Deportivo La C...|                 214|                 Spain|                    214|                    Spain|      1976-02-23|           3157|Víctor Sánchez de...|       Víctor Sánchez|               214|               Spain|      1008|   Carlos Clos Gómez|  2015/2016|               214|               Spain|      4658|Estadio Abanca-Ri...|\n",
      "|         1|         3|20:30:00.000|2022-08-30T12:53:...|2016-05-02| 3825855|   available|        36|            11|       27|            male|           null|         221|          Levante UD|                 214|                 Spain|                    214|                    Spain|      1970-02-05|            677|Joan Francesc Fer...|                 Rubí|         La Liga|                   1|        Regular Season|            male|           null|         223|              Málaga|                 214|                 Spain|                    214|                    Spain|      1970-05-01|            188|Javier Gracia Carlos|          Javi Gracia|               214|               Spain|      2480|Iñaki Bikandi Gar...|  2015/2016|               214|               Spain|       346| Estadio La Rosaleda|\n",
      "|         2|         4|19:00:00.000|2022-04-06T22:39:...|2016-05-15| 3825908|   available|        38|            11|       27|            male|           null|         322|               Eibar|                 214|                 Spain|                    214|                    Spain|      1961-03-14|            221|José Luis Mendili...| José Luis Mendilibar|         La Liga|                   1|        Regular Season|            male|           null|         214|            Espanyol|                 214|                 Spain|                    187|                  Romania|      1972-03-08|           1816|    Constantin Gâlcă|                 null|               214|               Spain|      2692|  Mario Melero López|  2015/2016|               214|               Spain|       351|        RCDE Stadium|\n",
      "|         1|         4|12:00:00.000|2022-08-30T13:15:...|2016-05-15| 3825883|   available|        38|            11|       27|            male|           null|         208|          Las Palmas|                 214|                 Spain|                    214|                    Spain|      1958-09-27|            238|Enrique Setién Solar|        Quique Setién|         La Liga|                   1|        Regular Season|            male|           null|         223|              Málaga|                 214|                 Spain|                    214|                    Spain|      1970-05-01|            188|Javier Gracia Carlos|          Javi Gracia|               214|               Spain|      2602|Ricardo De Burgos...|  2015/2016|               214|               Spain|       346| Estadio La Rosaleda|\n",
      "|         0|         2|19:30:00.000|2022-04-06T22:37:...|2016-05-15| 3825900|   available|        38|            11|       27|            male|           null|         222|          Villarreal|                 214|                 Spain|                    214|                    Spain|      1965-08-14|            211|Marcelino García ...|            Marcelino|         La Liga|                   1|        Regular Season|            male|           null|        1041|      Sporting Gijón|                 214|                 Spain|                    214|                    Spain|      1970-04-19|            187|Abelardo Fernánde...|             Abelardo|               214|               Spain|       221|Alberto Undiano M...|  2015/2016|               214|               Spain|      4656|Estadio Municipal...|\n",
      "|         1|         3|19:30:00.000|2022-04-06T22:35:...|2016-05-15| 3825902|   available|        38|            11|       27|            male|           null|         221|          Levante UD|                 214|                 Spain|                    214|                    Spain|      1970-02-05|            677|Joan Francesc Fer...|                 Rubí|         La Liga|                   1|        Regular Season|            male|           null|         360|      Rayo Vallecano|                 214|                 Spain|                    214|                    Spain|      1970-04-18|            220|Francisco Jémez M...|           Paco Jémez|               214|               Spain|      1008|   Carlos Clos Gómez|  2015/2016|               214|               Spain|      4640| Estadio de Vallecas|\n",
      "|         1|         2|19:30:00.000|2022-04-06T22:34:...|2016-05-15| 3825876|   available|        38|            11|       27|            male|           null|         216|              Getafe|                 214|                 Spain|                     11|                Argentina|      1973-03-05|        1001036|Juan Eduardo Esná...|                 null|         La Liga|                   1|        Regular Season|            male|           null|         218|          Real Betis|                 214|                 Spain|                    214|                    Spain|      1970-08-24|           5049|    Juan Merino Ruíz|          Juan Merino|               214|               Spain|       183|   Jesús Gil Manzano|  2015/2016|               214|               Spain|       352|Estadio Benito Vi...|\n",
      "|         2|         0|17:00:00.000|2022-04-06T22:33:...|2016-05-14| 3825846|   available|        38|            11|       27|            male|           null|         220|         Real Madrid|                 214|                 Spain|                     78|                   France|      1972-06-23|             56|     Zinédine Zidane|                 null|         La Liga|                   1|        Regular Season|            male|           null|         219|RC Deportivo La C...|                 214|                 Spain|                    214|                    Spain|      1976-02-23|           3157|Víctor Sánchez de...|       Víctor Sánchez|               214|               Spain|       180|Antonio Miguel Ma...|  2015/2016|               214|               Spain|      4658|Estadio Abanca-Ri...|\n",
      "|         1|         3|19:30:00.000|2022-08-30T13:07:...|2016-05-14| 3825869|   available|        38|            11|       27|            male|           null|         213|             Sevilla|                 214|                 Spain|                    214|                    Spain|      1971-11-03|             21|Unai Emery Etxegoien|           Unai Emery|         La Liga|                   1|        Regular Season|            male|           null|         215|       Athletic Club|                 214|                 Spain|                    214|                    Spain|      1964-02-09|            227|Ernesto Valverde ...|     Ernesto Valverde|               214|               Spain|       212|Alfonso Álvarez I...|  2015/2016|               214|               Spain|       345|    San Mamés Barria|\n",
      "|         0|         2|19:30:00.000|2022-04-06T22:30:...|2016-05-14| 3825882|   available|        38|            11|       27|            male|           null|         209|          Celta Vigo|                 214|                 Spain|                     11|                Argentina|      1969-11-13|            385|Manuel Eduardo Be...|      Eduardo Berizzo|         La Liga|                   1|        Regular Season|            male|           null|         212|     Atlético Madrid|                 214|                 Spain|                     11|                Argentina|      1970-04-28|            230| Diego Pablo Simeone|        Diego Simeone|               214|               Spain|       222|David Fernández B...|  2015/2016|               214|               Spain|       625|Estadio Vicente C...|\n",
      "|         1|         0|20:30:00.000|2022-04-06T22:29:...|2016-05-13| 3825849|   available|        38|            11|       27|            male|           null|         210|       Real Sociedad|                 214|                 Spain|                    214|                    Spain|      1964-04-13|            229|Eusebio Sacristán...|    Eusebio Sacristán|         La Liga|                   1|        Regular Season|            male|           null|         207|            Valencia|                 214|                 Spain|                    214|                    Spain|      1963-02-05|            618|Francisco Martín ...|       Pako Ayestarán|               214|               Spain|      2535|Carlos Velasco Ca...|  2015/2016|               214|               Spain|       344| Estadio de Mestalla|\n",
      "|         1|         2|17:00:00.000|2022-04-06T22:28:...|2016-05-08| 3825860|   available|        37|            11|       27|            male|           null|         212|     Atlético Madrid|                 214|                 Spain|                     11|                Argentina|      1970-04-28|            230| Diego Pablo Simeone|        Diego Simeone|         La Liga|                   1|        Regular Season|            male|           null|         221|          Levante UD|                 214|                 Spain|                    214|                    Spain|      1970-02-05|            677|Joan Francesc Fer...|                 Rubí|               214|               Spain|       211|José Luis Gonzále...|  2015/2016|               214|               Spain|       350|Estadio Ciudad de...|\n",
      "|         1|         1|22:05:00.000|2022-03-26T14:52:...|2016-04-23| 3825847|   available|        35|            11|       27|            male|           null|         219|RC Deportivo La C...|                 214|                 Spain|                    214|                    Spain|      1976-02-23|           3157|Víctor Sánchez de...|       Víctor Sánchez|         La Liga|                   1|        Regular Season|            male|           null|         322|               Eibar|                 214|                 Spain|                    214|                    Spain|      1961-03-14|            221|José Luis Mendili...| José Luis Mendilibar|               214|               Spain|      2419|Eduardo Prieto Ig...|  2015/2016|               214|               Spain|       347|Estadio Municipal...|\n",
      "|         1|         1|21:30:00.000|2022-05-08T21:31:...|2016-03-18| 3825817|   available|        30|            11|       27|            male|           null|         322|               Eibar|                 214|                 Spain|                    214|                    Spain|      1961-03-14|            221|José Luis Mendili...| José Luis Mendilibar|         La Liga|                   1|        Regular Season|            male|           null|         216|              Getafe|                 214|                 Spain|                    214|                    Spain|      1965-05-03|            509|Francisco Escriba...|         Fran Escribá|               214|               Spain|       218|Ignacio Iglesias ...|  2015/2016|               214|               Spain|       354|Coliseum Alfonso ...|\n",
      "|         1|         1|21:30:00.000|2022-03-26T14:39:...|2016-02-20| 3825778|   available|        25|            11|       27|            male|           null|        1041|      Sporting Gijón|                 214|                 Spain|                    214|                    Spain|      1970-04-19|            187|Abelardo Fernánde...|             Abelardo|         La Liga|                   1|        Regular Season|            male|           null|         218|          Real Betis|                 214|                 Spain|                    214|                    Spain|      1970-08-24|           5049|    Juan Merino Ruíz|          Juan Merino|               214|               Spain|       212|Alfonso Álvarez I...|  2015/2016|               214|               Spain|       352|Estadio Benito Vi...|\n",
      "|         0|         3|21:30:00.000|2022-05-08T21:01:...|2016-02-19| 3825777|   available|        25|            11|       27|            male|           null|         216|              Getafe|                 214|                 Spain|                    214|                    Spain|      1965-05-03|            509|Francisco Escriba...|         Fran Escribá|         La Liga|                   1|        Regular Season|            male|           null|         221|          Levante UD|                 214|                 Spain|                    214|                    Spain|      1970-02-05|            677|Joan Francesc Fer...|                 Rubí|               214|               Spain|       211|José Luis Gonzále...|  2015/2016|               214|               Spain|       350|Estadio Ciudad de...|\n",
      "|         1|         5|21:30:00.000|2022-03-26T14:32:...|2016-01-18| 3825740|   available|        20|            11|       27|            male|           null|        1049|             Granada|                 214|                 Spain|                    214|                    Spain|      1968-05-02|           1617|José Ramón Sandov...|  José Ramón Sandoval|         La Liga|                   1|        Regular Season|            male|           null|         322|               Eibar|                 214|                 Spain|                    214|                    Spain|      1961-03-14|            221|José Luis Mendili...| José Luis Mendilibar|               214|               Spain|      2625|José María Sánche...|  2015/2016|               214|               Spain|       347|Estadio Municipal...|\n",
      "|         0|         0|20:30:00.000|2022-03-22T17:53:...|2016-04-24| 3825875|   available|        35|            11|       27|            male|           null|         210|       Real Sociedad|                 214|                 Spain|                    214|                    Spain|      1964-04-13|            229|Eusebio Sacristán...|    Eusebio Sacristán|         La Liga|                   1|        Regular Season|            male|           null|         222|          Villarreal|                 214|                 Spain|                    214|                    Spain|      1965-08-14|            211|Marcelino García ...|            Marcelino|               214|               Spain|       222|David Fernández B...|  2015/2016|               214|               Spain|       361|Estadio de la Cer...|\n",
      "+----------+----------+------------+--------------------+----------+--------+------------+----------+--------------+---------+----------------+---------------+------------+--------------------+--------------------+----------------------+-----------------------+-------------------------+----------------+---------------+--------------------+---------------------+----------------+--------------------+----------------------+----------------+---------------+------------+--------------------+--------------------+----------------------+-----------------------+-------------------------+----------------+---------------+--------------------+---------------------+------------------+--------------------+----------+--------------------+-----------+------------------+--------------------+----------+--------------------+\n",
      "only showing top 20 rows\n",
      "\n"
     ]
    }
   ],
   "source": [
    "df_matches_bronze_explode.show()"
   ]
  }
 ],
 "metadata": {
  "kernelspec": {
   "display_name": "Python 3",
   "language": "python",
   "name": "python3"
  },
  "language_info": {
   "codemirror_mode": {
    "name": "ipython",
    "version": 3
   },
   "file_extension": ".py",
   "mimetype": "text/x-python",
   "name": "python",
   "nbconvert_exporter": "python",
   "pygments_lexer": "ipython3",
   "version": "3.10.2"
  }
 },
 "nbformat": 4,
 "nbformat_minor": 2
}
