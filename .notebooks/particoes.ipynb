{
 "cells": [
  {
   "cell_type": "markdown",
   "metadata": {},
   "source": [
    "## Criação das partições de competition"
   ]
  },
  {
   "cell_type": "code",
   "execution_count": 1,
   "metadata": {},
   "outputs": [],
   "source": [
    "from pyspark.sql import SparkSession\n",
    "from pyspark.sql import functions as F\n",
    "import os\n",
    "import boto3"
   ]
  },
  {
   "cell_type": "code",
   "execution_count": 71,
   "metadata": {},
   "outputs": [
    {
     "name": "stderr",
     "output_type": "stream",
     "text": [
      "SLF4J: Class path contains multiple SLF4J bindings.\n",
      "SLF4J: Found binding in [jar:file:/home/glue_user/spark/jars/log4j-slf4j-impl-2.17.2.jar!/org/slf4j/impl/StaticLoggerBinder.class]\n",
      "SLF4J: Found binding in [jar:file:/home/glue_user/spark/jars/slf4j-reload4j-1.7.36.jar!/org/slf4j/impl/StaticLoggerBinder.class]\n",
      "SLF4J: Found binding in [jar:file:/home/glue_user/aws-glue-libs/jars/log4j-slf4j-impl-2.17.2.jar!/org/slf4j/impl/StaticLoggerBinder.class]\n",
      "SLF4J: Found binding in [jar:file:/home/glue_user/aws-glue-libs/jars/slf4j-reload4j-1.7.36.jar!/org/slf4j/impl/StaticLoggerBinder.class]\n",
      "SLF4J: See http://www.slf4j.org/codes.html#multiple_bindings for an explanation.\n",
      "SLF4J: Actual binding is of type [org.apache.logging.slf4j.Log4jLoggerFactory]\n",
      "Setting default log level to \"WARN\".\n",
      "To adjust logging level use sc.setLogLevel(newLevel). For SparkR, use setLogLevel(newLevel).\n"
     ]
    }
   ],
   "source": [
    "spark = SparkSession.builder.getOrCreate()"
   ]
  },
  {
   "cell_type": "code",
   "execution_count": 9,
   "metadata": {},
   "outputs": [],
   "source": [
    "# read competitions\n",
    "\n",
    "path_competitions =  os.path.join(\"s3://\",\"sor\",\"football\",\"data\",\"competitions.json\")\n",
    "df_competition = spark.read.option(\"multiline\", \"true\").json(path_competitions)"
   ]
  },
  {
   "cell_type": "code",
   "execution_count": 10,
   "metadata": {},
   "outputs": [
    {
     "name": "stdout",
     "output_type": "stream",
     "text": [
      "s3://landing/competitions\n"
     ]
    },
    {
     "name": "stderr",
     "output_type": "stream",
     "text": [
      "                                                                                \r"
     ]
    }
   ],
   "source": [
    "# Write competitions in LandingZone\n",
    "\n",
    "path_competitions_landing = os.path.join(\"s3://\",\"landing\",\"competitions\") \n",
    "print(path_competitions_landing)\n",
    "df_competition.write.partitionBy(\"season_id\").format(\"json\").mode(\"overwrite\").save(path_competitions_landing)"
   ]
  },
  {
   "cell_type": "markdown",
   "metadata": {},
   "source": [
    "## Criação das partições de Matches"
   ]
  },
  {
   "cell_type": "code",
   "execution_count": 11,
   "metadata": {},
   "outputs": [
    {
     "name": "stderr",
     "output_type": "stream",
     "text": [
      "[Stage 8:>                                                          (0 + 4) / 4]\r"
     ]
    },
    {
     "name": "stdout",
     "output_type": "stream",
     "text": [
      "2886\n"
     ]
    },
    {
     "name": "stderr",
     "output_type": "stream",
     "text": [
      "                                                                                \r"
     ]
    }
   ],
   "source": [
    "# Read all matches\n",
    "path_all_matches = os.path.join(\"s3://\",\"sor\",\"football\",\"data\",\"matches\",\"*\",\"*.json\")\n",
    "\n",
    "df_match = spark.read.option(\"multiline\", \"true\").json(path_all_matches)\n",
    "print(df_match.count())"
   ]
  },
  {
   "cell_type": "code",
   "execution_count": 15,
   "metadata": {},
   "outputs": [
    {
     "name": "stdout",
     "output_type": "stream",
     "text": [
      "root\n",
      " |-- away_score: long (nullable = true)\n",
      " |-- away_team: struct (nullable = true)\n",
      " |    |-- away_team_gender: string (nullable = true)\n",
      " |    |-- away_team_group: string (nullable = true)\n",
      " |    |-- away_team_id: long (nullable = true)\n",
      " |    |-- away_team_name: string (nullable = true)\n",
      " |    |-- country: struct (nullable = true)\n",
      " |    |    |-- id: long (nullable = true)\n",
      " |    |    |-- name: string (nullable = true)\n",
      " |    |-- managers: array (nullable = true)\n",
      " |    |    |-- element: struct (containsNull = true)\n",
      " |    |    |    |-- country: struct (nullable = true)\n",
      " |    |    |    |    |-- id: long (nullable = true)\n",
      " |    |    |    |    |-- name: string (nullable = true)\n",
      " |    |    |    |-- dob: string (nullable = true)\n",
      " |    |    |    |-- id: long (nullable = true)\n",
      " |    |    |    |-- name: string (nullable = true)\n",
      " |    |    |    |-- nickname: string (nullable = true)\n",
      " |-- competition: struct (nullable = true)\n",
      " |    |-- competition_id: long (nullable = true)\n",
      " |    |-- competition_name: string (nullable = true)\n",
      " |    |-- country_name: string (nullable = true)\n",
      " |-- competition_stage: struct (nullable = true)\n",
      " |    |-- id: long (nullable = true)\n",
      " |    |-- name: string (nullable = true)\n",
      " |-- home_score: long (nullable = true)\n",
      " |-- home_team: struct (nullable = true)\n",
      " |    |-- country: struct (nullable = true)\n",
      " |    |    |-- id: long (nullable = true)\n",
      " |    |    |-- name: string (nullable = true)\n",
      " |    |-- home_team_gender: string (nullable = true)\n",
      " |    |-- home_team_group: string (nullable = true)\n",
      " |    |-- home_team_id: long (nullable = true)\n",
      " |    |-- home_team_name: string (nullable = true)\n",
      " |    |-- managers: array (nullable = true)\n",
      " |    |    |-- element: struct (containsNull = true)\n",
      " |    |    |    |-- country: struct (nullable = true)\n",
      " |    |    |    |    |-- id: long (nullable = true)\n",
      " |    |    |    |    |-- name: string (nullable = true)\n",
      " |    |    |    |-- dob: string (nullable = true)\n",
      " |    |    |    |-- id: long (nullable = true)\n",
      " |    |    |    |-- name: string (nullable = true)\n",
      " |    |    |    |-- nickname: string (nullable = true)\n",
      " |-- kick_off: string (nullable = true)\n",
      " |-- last_updated: string (nullable = true)\n",
      " |-- last_updated_360: string (nullable = true)\n",
      " |-- match_date: string (nullable = true)\n",
      " |-- match_id: long (nullable = true)\n",
      " |-- match_status: string (nullable = true)\n",
      " |-- match_status_360: string (nullable = true)\n",
      " |-- match_week: long (nullable = true)\n",
      " |-- metadata: struct (nullable = true)\n",
      " |    |-- data_version: string (nullable = true)\n",
      " |    |-- shot_fidelity_version: string (nullable = true)\n",
      " |    |-- xy_fidelity_version: string (nullable = true)\n",
      " |-- referee: struct (nullable = true)\n",
      " |    |-- country: struct (nullable = true)\n",
      " |    |    |-- id: long (nullable = true)\n",
      " |    |    |-- name: string (nullable = true)\n",
      " |    |-- id: long (nullable = true)\n",
      " |    |-- name: string (nullable = true)\n",
      " |-- season: struct (nullable = true)\n",
      " |    |-- season_id: long (nullable = true)\n",
      " |    |-- season_name: string (nullable = true)\n",
      " |-- stadium: struct (nullable = true)\n",
      " |    |-- country: struct (nullable = true)\n",
      " |    |    |-- id: long (nullable = true)\n",
      " |    |    |-- name: string (nullable = true)\n",
      " |    |-- id: long (nullable = true)\n",
      " |    |-- name: string (nullable = true)\n",
      "\n"
     ]
    }
   ],
   "source": [
    "df_match.printSchema()"
   ]
  },
  {
   "cell_type": "code",
   "execution_count": 17,
   "metadata": {},
   "outputs": [
    {
     "name": "stdout",
     "output_type": "stream",
     "text": [
      "+----------+--------------------+--------------------+-------------------+----------+--------------------+------------+--------------------+----------------+----------+--------+------------+----------------+----------+-------------+--------------------+---------------+--------------------+\n",
      "|away_score|           away_team|         competition|  competition_stage|home_score|           home_team|    kick_off|        last_updated|last_updated_360|match_date|match_id|match_status|match_status_360|match_week|     metadata|             referee|         season|             stadium|\n",
      "+----------+--------------------+--------------------+-------------------+----------+--------------------+------------+--------------------+----------------+----------+--------+------------+----------------+----------+-------------+--------------------+---------------+--------------------+\n",
      "|         2|{male, null, 322,...|{11, La Liga, Spain}|{1, Regular Season}|         2|{{214, Spain}, ma...|20:00:00.000|2023-02-21T15:19:...|            null|2015-09-23| 3825848|   available|     unscheduled|         5|{1.1.0, 2, 2}|                null|{27, 2015/2016}|{{214, Spain}, 35...|\n",
      "|         0|{male, null, 213,...|{11, La Liga, Spain}|{1, Regular Season}|         2|{{214, Spain}, ma...|22:00:00.000|2023-02-21T15:19:...|            null|2015-09-23| 3825895|   available|     unscheduled|         5|{1.1.0, 2, 2}|{{214, Spain}, 27...|{27, 2015/2016}|{{214, Spain}, 35...|\n",
      "|         2|{male, null, 216,...|{11, La Liga, Spain}|{1, Regular Season}|         0|{{214, Spain}, ma...|18:15:00.000|2022-08-30T12:53:...|            null|2016-05-01| 3825894|   available|     unscheduled|        36|{1.1.0, 2, 2}|{{214, Spain}, 10...|{27, 2015/2016}|{{214, Spain}, 46...|\n",
      "|         1|{male, null, 221,...|{11, La Liga, Spain}|{1, Regular Season}|         3|{{214, Spain}, ma...|20:30:00.000|2022-08-30T12:53:...|            null|2016-05-02| 3825855|   available|     unscheduled|        36|{1.1.0, 2, 2}|{{214, Spain}, 24...|{27, 2015/2016}|{{214, Spain}, 34...|\n",
      "|         2|{male, null, 322,...|{11, La Liga, Spain}|{1, Regular Season}|         4|{{214, Spain}, ma...|19:00:00.000|2022-04-06T22:39:...|            null|2016-05-15| 3825908|   available|     unscheduled|        38|{1.1.0, 2, 2}|{{214, Spain}, 26...|{27, 2015/2016}|{{214, Spain}, 35...|\n",
      "|         1|{male, null, 208,...|{11, La Liga, Spain}|{1, Regular Season}|         4|{{214, Spain}, ma...|12:00:00.000|2022-08-30T13:15:...|            null|2016-05-15| 3825883|   available|     unscheduled|        38|{1.1.0, 2, 2}|{{214, Spain}, 26...|{27, 2015/2016}|{{214, Spain}, 34...|\n",
      "|         0|{male, null, 222,...|{11, La Liga, Spain}|{1, Regular Season}|         2|{{214, Spain}, ma...|19:30:00.000|2022-04-06T22:37:...|            null|2016-05-15| 3825900|   available|     unscheduled|        38|{1.1.0, 2, 2}|{{214, Spain}, 22...|{27, 2015/2016}|{{214, Spain}, 46...|\n",
      "|         1|{male, null, 221,...|{11, La Liga, Spain}|{1, Regular Season}|         3|{{214, Spain}, ma...|19:30:00.000|2022-04-06T22:35:...|            null|2016-05-15| 3825902|   available|     unscheduled|        38|{1.1.0, 2, 2}|{{214, Spain}, 10...|{27, 2015/2016}|{{214, Spain}, 46...|\n",
      "|         1|{male, null, 216,...|{11, La Liga, Spain}|{1, Regular Season}|         2|{{214, Spain}, ma...|19:30:00.000|2022-04-06T22:34:...|            null|2016-05-15| 3825876|   available|     unscheduled|        38|{1.1.0, 2, 2}|{{214, Spain}, 18...|{27, 2015/2016}|{{214, Spain}, 35...|\n",
      "|         2|{male, null, 220,...|{11, La Liga, Spain}|{1, Regular Season}|         0|{{214, Spain}, ma...|17:00:00.000|2022-04-06T22:33:...|            null|2016-05-14| 3825846|   available|     unscheduled|        38|{1.1.0, 2, 2}|{{214, Spain}, 18...|{27, 2015/2016}|{{214, Spain}, 46...|\n",
      "|         1|{male, null, 213,...|{11, La Liga, Spain}|{1, Regular Season}|         3|{{214, Spain}, ma...|19:30:00.000|2022-08-30T13:07:...|            null|2016-05-14| 3825869|   available|     unscheduled|        38|{1.1.0, 2, 2}|{{214, Spain}, 21...|{27, 2015/2016}|{{214, Spain}, 34...|\n",
      "|         0|{male, null, 209,...|{11, La Liga, Spain}|{1, Regular Season}|         2|{{214, Spain}, ma...|19:30:00.000|2022-04-06T22:30:...|            null|2016-05-14| 3825882|   available|     unscheduled|        38|{1.1.0, 2, 2}|{{214, Spain}, 22...|{27, 2015/2016}|{{214, Spain}, 62...|\n",
      "|         1|{male, null, 210,...|{11, La Liga, Spain}|{1, Regular Season}|         0|{{214, Spain}, ma...|20:30:00.000|2022-04-06T22:29:...|            null|2016-05-13| 3825849|   available|     unscheduled|        38|{1.1.0, 2, 2}|{{214, Spain}, 25...|{27, 2015/2016}|{{214, Spain}, 34...|\n",
      "|         1|{male, null, 212,...|{11, La Liga, Spain}|{1, Regular Season}|         2|{{214, Spain}, ma...|17:00:00.000|2022-04-06T22:28:...|            null|2016-05-08| 3825860|   available|     unscheduled|        37|{1.1.0, 2, 2}|{{214, Spain}, 21...|{27, 2015/2016}|{{214, Spain}, 35...|\n",
      "|         1|{male, null, 219,...|{11, La Liga, Spain}|{1, Regular Season}|         1|{{214, Spain}, ma...|22:05:00.000|2022-03-26T14:52:...|            null|2016-04-23| 3825847|   available|     unscheduled|        35|{1.1.0, 2, 2}|{{214, Spain}, 24...|{27, 2015/2016}|{{214, Spain}, 34...|\n",
      "|         1|{male, null, 322,...|{11, La Liga, Spain}|{1, Regular Season}|         1|{{214, Spain}, ma...|21:30:00.000|2022-05-08T21:31:...|            null|2016-03-18| 3825817|   available|     unscheduled|        30|{1.1.0, 2, 2}|{{214, Spain}, 21...|{27, 2015/2016}|{{214, Spain}, 35...|\n",
      "|         1|{male, null, 1041...|{11, La Liga, Spain}|{1, Regular Season}|         1|{{214, Spain}, ma...|21:30:00.000|2022-03-26T14:39:...|            null|2016-02-20| 3825778|   available|     unscheduled|        25|{1.1.0, 2, 2}|{{214, Spain}, 21...|{27, 2015/2016}|{{214, Spain}, 35...|\n",
      "|         0|{male, null, 216,...|{11, La Liga, Spain}|{1, Regular Season}|         3|{{214, Spain}, ma...|21:30:00.000|2022-05-08T21:01:...|            null|2016-02-19| 3825777|   available|     unscheduled|        25|{1.1.0, 2, 2}|{{214, Spain}, 21...|{27, 2015/2016}|{{214, Spain}, 35...|\n",
      "|         1|{male, null, 1049...|{11, La Liga, Spain}|{1, Regular Season}|         5|{{214, Spain}, ma...|21:30:00.000|2022-03-26T14:32:...|            null|2016-01-18| 3825740|   available|     unscheduled|        20|{1.1.0, 2, 2}|{{214, Spain}, 26...|{27, 2015/2016}|{{214, Spain}, 34...|\n",
      "|         0|{male, null, 210,...|{11, La Liga, Spain}|{1, Regular Season}|         0|{{214, Spain}, ma...|20:30:00.000|2022-03-22T17:53:...|            null|2016-04-24| 3825875|   available|     unscheduled|        35|{1.1.0, 2, 2}|{{214, Spain}, 22...|{27, 2015/2016}|{{214, Spain}, 36...|\n",
      "+----------+--------------------+--------------------+-------------------+----------+--------------------+------------+--------------------+----------------+----------+--------+------------+----------------+----------+-------------+--------------------+---------------+--------------------+\n",
      "only showing top 20 rows\n",
      "\n"
     ]
    }
   ],
   "source": [
    "df_match.show()"
   ]
  },
  {
   "cell_type": "code",
   "execution_count": 19,
   "metadata": {},
   "outputs": [
    {
     "name": "stdout",
     "output_type": "stream",
     "text": [
      "+---------+--------------+\n",
      "|season_id|competition_id|\n",
      "+---------+--------------+\n",
      "|       27|            11|\n",
      "|       27|            11|\n",
      "|       27|            11|\n",
      "|       27|            11|\n",
      "|       27|            11|\n",
      "|       27|            11|\n",
      "|       27|            11|\n",
      "|       27|            11|\n",
      "|       27|            11|\n",
      "|       27|            11|\n",
      "|       27|            11|\n",
      "|       27|            11|\n",
      "|       27|            11|\n",
      "|       27|            11|\n",
      "|       27|            11|\n",
      "|       27|            11|\n",
      "|       27|            11|\n",
      "|       27|            11|\n",
      "|       27|            11|\n",
      "|       27|            11|\n",
      "+---------+--------------+\n",
      "only showing top 20 rows\n",
      "\n"
     ]
    }
   ],
   "source": [
    "df_match.select(\"season.season_id\", \"competition.competition_id\").show()"
   ]
  },
  {
   "cell_type": "code",
   "execution_count": 28,
   "metadata": {},
   "outputs": [
    {
     "name": "stdout",
     "output_type": "stream",
     "text": [
      "+----------+--------------------+--------------------+-------------------+----------+--------------------+------------+--------------------+----------------+----------+--------+------------+----------------+----------+-------------+--------------------+---------------+--------------------+--------------+---------+\n",
      "|away_score|           away_team|         competition|  competition_stage|home_score|           home_team|    kick_off|        last_updated|last_updated_360|match_date|match_id|match_status|match_status_360|match_week|     metadata|             referee|         season|             stadium|competition_id|season_id|\n",
      "+----------+--------------------+--------------------+-------------------+----------+--------------------+------------+--------------------+----------------+----------+--------+------------+----------------+----------+-------------+--------------------+---------------+--------------------+--------------+---------+\n",
      "|         2|{male, null, 322,...|{11, La Liga, Spain}|{1, Regular Season}|         2|{{214, Spain}, ma...|20:00:00.000|2023-02-21T15:19:...|            null|2015-09-23| 3825848|   available|     unscheduled|         5|{1.1.0, 2, 2}|                null|{27, 2015/2016}|{{214, Spain}, 35...|            11|       27|\n",
      "|         0|{male, null, 213,...|{11, La Liga, Spain}|{1, Regular Season}|         2|{{214, Spain}, ma...|22:00:00.000|2023-02-21T15:19:...|            null|2015-09-23| 3825895|   available|     unscheduled|         5|{1.1.0, 2, 2}|{{214, Spain}, 27...|{27, 2015/2016}|{{214, Spain}, 35...|            11|       27|\n",
      "|         2|{male, null, 216,...|{11, La Liga, Spain}|{1, Regular Season}|         0|{{214, Spain}, ma...|18:15:00.000|2022-08-30T12:53:...|            null|2016-05-01| 3825894|   available|     unscheduled|        36|{1.1.0, 2, 2}|{{214, Spain}, 10...|{27, 2015/2016}|{{214, Spain}, 46...|            11|       27|\n",
      "|         1|{male, null, 221,...|{11, La Liga, Spain}|{1, Regular Season}|         3|{{214, Spain}, ma...|20:30:00.000|2022-08-30T12:53:...|            null|2016-05-02| 3825855|   available|     unscheduled|        36|{1.1.0, 2, 2}|{{214, Spain}, 24...|{27, 2015/2016}|{{214, Spain}, 34...|            11|       27|\n",
      "|         2|{male, null, 322,...|{11, La Liga, Spain}|{1, Regular Season}|         4|{{214, Spain}, ma...|19:00:00.000|2022-04-06T22:39:...|            null|2016-05-15| 3825908|   available|     unscheduled|        38|{1.1.0, 2, 2}|{{214, Spain}, 26...|{27, 2015/2016}|{{214, Spain}, 35...|            11|       27|\n",
      "|         1|{male, null, 208,...|{11, La Liga, Spain}|{1, Regular Season}|         4|{{214, Spain}, ma...|12:00:00.000|2022-08-30T13:15:...|            null|2016-05-15| 3825883|   available|     unscheduled|        38|{1.1.0, 2, 2}|{{214, Spain}, 26...|{27, 2015/2016}|{{214, Spain}, 34...|            11|       27|\n",
      "|         0|{male, null, 222,...|{11, La Liga, Spain}|{1, Regular Season}|         2|{{214, Spain}, ma...|19:30:00.000|2022-04-06T22:37:...|            null|2016-05-15| 3825900|   available|     unscheduled|        38|{1.1.0, 2, 2}|{{214, Spain}, 22...|{27, 2015/2016}|{{214, Spain}, 46...|            11|       27|\n",
      "|         1|{male, null, 221,...|{11, La Liga, Spain}|{1, Regular Season}|         3|{{214, Spain}, ma...|19:30:00.000|2022-04-06T22:35:...|            null|2016-05-15| 3825902|   available|     unscheduled|        38|{1.1.0, 2, 2}|{{214, Spain}, 10...|{27, 2015/2016}|{{214, Spain}, 46...|            11|       27|\n",
      "|         1|{male, null, 216,...|{11, La Liga, Spain}|{1, Regular Season}|         2|{{214, Spain}, ma...|19:30:00.000|2022-04-06T22:34:...|            null|2016-05-15| 3825876|   available|     unscheduled|        38|{1.1.0, 2, 2}|{{214, Spain}, 18...|{27, 2015/2016}|{{214, Spain}, 35...|            11|       27|\n",
      "|         2|{male, null, 220,...|{11, La Liga, Spain}|{1, Regular Season}|         0|{{214, Spain}, ma...|17:00:00.000|2022-04-06T22:33:...|            null|2016-05-14| 3825846|   available|     unscheduled|        38|{1.1.0, 2, 2}|{{214, Spain}, 18...|{27, 2015/2016}|{{214, Spain}, 46...|            11|       27|\n",
      "|         1|{male, null, 213,...|{11, La Liga, Spain}|{1, Regular Season}|         3|{{214, Spain}, ma...|19:30:00.000|2022-08-30T13:07:...|            null|2016-05-14| 3825869|   available|     unscheduled|        38|{1.1.0, 2, 2}|{{214, Spain}, 21...|{27, 2015/2016}|{{214, Spain}, 34...|            11|       27|\n",
      "|         0|{male, null, 209,...|{11, La Liga, Spain}|{1, Regular Season}|         2|{{214, Spain}, ma...|19:30:00.000|2022-04-06T22:30:...|            null|2016-05-14| 3825882|   available|     unscheduled|        38|{1.1.0, 2, 2}|{{214, Spain}, 22...|{27, 2015/2016}|{{214, Spain}, 62...|            11|       27|\n",
      "|         1|{male, null, 210,...|{11, La Liga, Spain}|{1, Regular Season}|         0|{{214, Spain}, ma...|20:30:00.000|2022-04-06T22:29:...|            null|2016-05-13| 3825849|   available|     unscheduled|        38|{1.1.0, 2, 2}|{{214, Spain}, 25...|{27, 2015/2016}|{{214, Spain}, 34...|            11|       27|\n",
      "|         1|{male, null, 212,...|{11, La Liga, Spain}|{1, Regular Season}|         2|{{214, Spain}, ma...|17:00:00.000|2022-04-06T22:28:...|            null|2016-05-08| 3825860|   available|     unscheduled|        37|{1.1.0, 2, 2}|{{214, Spain}, 21...|{27, 2015/2016}|{{214, Spain}, 35...|            11|       27|\n",
      "|         1|{male, null, 219,...|{11, La Liga, Spain}|{1, Regular Season}|         1|{{214, Spain}, ma...|22:05:00.000|2022-03-26T14:52:...|            null|2016-04-23| 3825847|   available|     unscheduled|        35|{1.1.0, 2, 2}|{{214, Spain}, 24...|{27, 2015/2016}|{{214, Spain}, 34...|            11|       27|\n",
      "|         1|{male, null, 322,...|{11, La Liga, Spain}|{1, Regular Season}|         1|{{214, Spain}, ma...|21:30:00.000|2022-05-08T21:31:...|            null|2016-03-18| 3825817|   available|     unscheduled|        30|{1.1.0, 2, 2}|{{214, Spain}, 21...|{27, 2015/2016}|{{214, Spain}, 35...|            11|       27|\n",
      "|         1|{male, null, 1041...|{11, La Liga, Spain}|{1, Regular Season}|         1|{{214, Spain}, ma...|21:30:00.000|2022-03-26T14:39:...|            null|2016-02-20| 3825778|   available|     unscheduled|        25|{1.1.0, 2, 2}|{{214, Spain}, 21...|{27, 2015/2016}|{{214, Spain}, 35...|            11|       27|\n",
      "|         0|{male, null, 216,...|{11, La Liga, Spain}|{1, Regular Season}|         3|{{214, Spain}, ma...|21:30:00.000|2022-05-08T21:01:...|            null|2016-02-19| 3825777|   available|     unscheduled|        25|{1.1.0, 2, 2}|{{214, Spain}, 21...|{27, 2015/2016}|{{214, Spain}, 35...|            11|       27|\n",
      "|         1|{male, null, 1049...|{11, La Liga, Spain}|{1, Regular Season}|         5|{{214, Spain}, ma...|21:30:00.000|2022-03-26T14:32:...|            null|2016-01-18| 3825740|   available|     unscheduled|        20|{1.1.0, 2, 2}|{{214, Spain}, 26...|{27, 2015/2016}|{{214, Spain}, 34...|            11|       27|\n",
      "|         0|{male, null, 210,...|{11, La Liga, Spain}|{1, Regular Season}|         0|{{214, Spain}, ma...|20:30:00.000|2022-03-22T17:53:...|            null|2016-04-24| 3825875|   available|     unscheduled|        35|{1.1.0, 2, 2}|{{214, Spain}, 22...|{27, 2015/2016}|{{214, Spain}, 36...|            11|       27|\n",
      "+----------+--------------------+--------------------+-------------------+----------+--------------------+------------+--------------------+----------------+----------+--------+------------+----------------+----------+-------------+--------------------+---------------+--------------------+--------------+---------+\n",
      "only showing top 20 rows\n",
      "\n"
     ]
    }
   ],
   "source": [
    "df_match_add_col_competition = df_match.withColumn(\"competition_id\", F.col(\"competition.competition_id\"))\n",
    "df_match_add_col_season = df_match_add_col_competition.withColumn(\"season_id\", F.col(\"season.season_id\"))\n",
    "df_match_add_col_season.show()"
   ]
  },
  {
   "cell_type": "code",
   "execution_count": 30,
   "metadata": {},
   "outputs": [
    {
     "name": "stderr",
     "output_type": "stream",
     "text": [
      "                                                                                \r"
     ]
    }
   ],
   "source": [
    "path_match_landing = os.path.join(\"s3://\",\"landing\",\"matches\") \n",
    "\n",
    "# Escreve na camada landing particionando por competition_id e season_id\n",
    "df_match_add_col_season.write.partitionBy(\"competition_id\",\"season_id\").format(\"json\").mode(\"overwrite\").save(path_match_landing)"
   ]
  },
  {
   "cell_type": "markdown",
   "metadata": {},
   "source": [
    "# análise de casos de matches"
   ]
  },
  {
   "cell_type": "code",
   "execution_count": 40,
   "metadata": {},
   "outputs": [
    {
     "name": "stdout",
     "output_type": "stream",
     "text": [
      "380\n",
      "+---------------------------------------------------------------------------------------------------------------------------------------------------------+\n",
      "|away_team                                                                                                                                                |\n",
      "+---------------------------------------------------------------------------------------------------------------------------------------------------------+\n",
      "|{male, 28, AFC Bournemouth, {68, England}, [{{68, England}, 1977-11-29, 38, Eddie Howe, null}]}                                                          |\n",
      "|{male, 40, West Ham United, {68, England}, [{{56, Croatia}, 1968-09-11, 150, Slaven Bilić, null}]}                                                       |\n",
      "|{male, 29, Everton, {68, England}, [{{214, Spain}, 1973-07-13, 263, Roberto Martínez Montoliú, Roberto Martínez}]}                                       |\n",
      "|{male, 28, AFC Bournemouth, {68, England}, [{{68, England}, 1977-11-29, 38, Eddie Howe, null}]}                                                          |\n",
      "|{male, 26, Swansea City, {249, Wales}, [{{112, Italy}, 1955-10-03, 3626, Francesco Guidolin, null}]}                                                     |\n",
      "|{male, 30, Stoke City, {68, England}, [{{249, Wales}, 1963-11-01, 55, Mark Hughes, null}]}                                                               |\n",
      "|{male, 26, Swansea City, {249, Wales}, [{{68, England}, 1979-03-06, 270, Garry Monk, null}]}                                                             |\n",
      "|{male, 41, Sunderland, {68, England}, [{{68, England}, 1954-10-19, 561, Sam Allardyce, null}]}                                                           |\n",
      "|{male, 1, Arsenal, {68, England}, [{{78, France}, 1949-10-22, 577, Arsène Wenger, null}]}                                                                |\n",
      "|{male, 31, Crystal Palace, {68, England}, [{{68, England}, 1961-07-18, 382, Alan Pardew, null}]}                                                         |\n",
      "|{male, 25, Southampton, {68, England}, [{{160, Netherlands}, 1963-03-21, 676, Ronald Koeman, null}]}                                                     |\n",
      "|{male, 1, Arsenal, {68, England}, [{{78, France}, 1949-10-22, 577, Arsène Wenger, null}]}                                                                |\n",
      "|{male, 40, West Ham United, {68, England}, [{{56, Croatia}, 1968-09-11, 150, Slaven Bilić, null}]}                                                       |\n",
      "|{male, 24, Liverpool, {68, England}, [{{169, Northern Ireland}, 1973-01-26, 6, Brendan Rodgers, null}]}                                                  |\n",
      "|{male, 30, Stoke City, {68, England}, [{{249, Wales}, 1963-11-01, 55, Mark Hughes, null}]}                                                               |\n",
      "|{male, 38, Tottenham Hotspur, {68, England}, [{{11, Argentina}, 1972-03-02, 81, Mauricio Roberto Pochettino Trossero, Mauricio Pochettino}]}             |\n",
      "|{male, 26, Swansea City, {249, Wales}, [{{249, Wales}, 1954-04-16, 4711, Alan Curtis, null}, {{112, Italy}, 1955-10-03, 3626, Francesco Guidolin, null}]}|\n",
      "|{male, 29, Everton, {68, England}, [{{214, Spain}, 1973-07-13, 263, Roberto Martínez Montoliú, Roberto Martínez}]}                                       |\n",
      "|{male, 1, Arsenal, {68, England}, [{{78, France}, 1949-10-22, 577, Arsène Wenger, null}]}                                                                |\n",
      "|{male, 36, Manchester City, {68, England}, [{{45, Chile}, 1953-09-16, 733, Manuel Luis Pellegrini Ripamonti, Manuel Pellegrini}]}                        |\n",
      "+---------------------------------------------------------------------------------------------------------------------------------------------------------+\n",
      "only showing top 20 rows\n",
      "\n"
     ]
    }
   ],
   "source": [
    "# Consulta por competicao e temporada\n",
    "\n",
    "competition_id = \"2\"\n",
    "season_id = \"27\"\n",
    "\n",
    "df_competition2_season27 = spark.read.json(f\"s3://landing/matches/competition_id={competition_id}/season_id={season_id}\")\n",
    "print(df_competition2_season27.count())\n",
    "df_competition2_season27.select(\"away_team\").orderBy(\"match_id\").show(truncate=False)\n",
    "\n"
   ]
  },
  {
   "cell_type": "code",
   "execution_count": 38,
   "metadata": {},
   "outputs": [
    {
     "name": "stdout",
     "output_type": "stream",
     "text": [
      "+---------------------------------------------------------------------------------------------------------------------------------------------------------------+\n",
      "|away_team                                                                                                                                                      |\n",
      "+---------------------------------------------------------------------------------------------------------------------------------------------------------------+\n",
      "|{male, null, 28, AFC Bournemouth, {68, England}, [{{68, England}, 1977-11-29, 38, Eddie Howe, null}]}                                                          |\n",
      "|{male, null, 40, West Ham United, {68, England}, [{{56, Croatia}, 1968-09-11, 150, Slaven Bilić, null}]}                                                       |\n",
      "|{male, null, 29, Everton, {68, England}, [{{214, Spain}, 1973-07-13, 263, Roberto Martínez Montoliú, Roberto Martínez}]}                                       |\n",
      "|{male, null, 28, AFC Bournemouth, {68, England}, [{{68, England}, 1977-11-29, 38, Eddie Howe, null}]}                                                          |\n",
      "|{male, null, 26, Swansea City, {249, Wales}, [{{112, Italy}, 1955-10-03, 3626, Francesco Guidolin, null}]}                                                     |\n",
      "|{male, null, 30, Stoke City, {68, England}, [{{249, Wales}, 1963-11-01, 55, Mark Hughes, null}]}                                                               |\n",
      "|{male, null, 26, Swansea City, {249, Wales}, [{{68, England}, 1979-03-06, 270, Garry Monk, null}]}                                                             |\n",
      "|{male, null, 41, Sunderland, {68, England}, [{{68, England}, 1954-10-19, 561, Sam Allardyce, null}]}                                                           |\n",
      "|{male, null, 1, Arsenal, {68, England}, [{{78, France}, 1949-10-22, 577, Arsène Wenger, null}]}                                                                |\n",
      "|{male, null, 31, Crystal Palace, {68, England}, [{{68, England}, 1961-07-18, 382, Alan Pardew, null}]}                                                         |\n",
      "|{male, null, 25, Southampton, {68, England}, [{{160, Netherlands}, 1963-03-21, 676, Ronald Koeman, null}]}                                                     |\n",
      "|{male, null, 1, Arsenal, {68, England}, [{{78, France}, 1949-10-22, 577, Arsène Wenger, null}]}                                                                |\n",
      "|{male, null, 40, West Ham United, {68, England}, [{{56, Croatia}, 1968-09-11, 150, Slaven Bilić, null}]}                                                       |\n",
      "|{male, null, 24, Liverpool, {68, England}, [{{169, Northern Ireland}, 1973-01-26, 6, Brendan Rodgers, null}]}                                                  |\n",
      "|{male, null, 30, Stoke City, {68, England}, [{{249, Wales}, 1963-11-01, 55, Mark Hughes, null}]}                                                               |\n",
      "|{male, null, 38, Tottenham Hotspur, {68, England}, [{{11, Argentina}, 1972-03-02, 81, Mauricio Roberto Pochettino Trossero, Mauricio Pochettino}]}             |\n",
      "|{male, null, 26, Swansea City, {249, Wales}, [{{249, Wales}, 1954-04-16, 4711, Alan Curtis, null}, {{112, Italy}, 1955-10-03, 3626, Francesco Guidolin, null}]}|\n",
      "|{male, null, 29, Everton, {68, England}, [{{214, Spain}, 1973-07-13, 263, Roberto Martínez Montoliú, Roberto Martínez}]}                                       |\n",
      "|{male, null, 1, Arsenal, {68, England}, [{{78, France}, 1949-10-22, 577, Arsène Wenger, null}]}                                                                |\n",
      "|{male, null, 36, Manchester City, {68, England}, [{{45, Chile}, 1953-09-16, 733, Manuel Luis Pellegrini Ripamonti, Manuel Pellegrini}]}                        |\n",
      "+---------------------------------------------------------------------------------------------------------------------------------------------------------------+\n",
      "only showing top 20 rows\n",
      "\n",
      "380\n"
     ]
    }
   ],
   "source": [
    "# Consulta por competicao e temporada usando where\n",
    "spark.conf.set(\"spark.sql.repl.eagerEval.enabled\", False)\n",
    "\n",
    "df_matches_landing = spark.read.json(path_match_landing)\n",
    "df_matches_landing.select(\"away_team\").where(f\"season_id = {season_id} and competition_id = {competition_id}\").orderBy(\"match_id\").show(truncate=False)\n",
    "print(df_matches_landing.where(f\"season_id = {season_id} and competition_id = {competition_id}\").count())"
   ]
  },
  {
   "cell_type": "code",
   "execution_count": 41,
   "metadata": {},
   "outputs": [
    {
     "name": "stdout",
     "output_type": "stream",
     "text": [
      "+---------+\n",
      "|season_id|\n",
      "+---------+\n",
      "|       27|\n",
      "|       44|\n",
      "+---------+\n",
      "\n"
     ]
    }
   ],
   "source": [
    "# consulta por competicao, exibindo temporadas distintas\n",
    "df_competition2 = spark.read.json(f\"s3://landing/matches/competition_id={competition_id}\")\n",
    "df_competition2.select(\"season_id\").distinct().show()"
   ]
  },
  {
   "cell_type": "markdown",
   "metadata": {},
   "source": [
    "## Particao LineUp"
   ]
  },
  {
   "cell_type": "code",
   "execution_count": 52,
   "metadata": {},
   "outputs": [
    {
     "name": "stdout",
     "output_type": "stream",
     "text": [
      "<botocore.client.S3 object at 0x7f94b68f1900>\n"
     ]
    }
   ],
   "source": [
    "\n",
    "MINIO_ENDPOINT = \"http://storage:9000\"\n",
    "\n",
    "s3_endpoint_url = MINIO_ENDPOINT\n",
    "aws_access_key_id = \"root\"\n",
    "aws_secret_access_key = \"password\"\n",
    "bucket_name = \"sor\"\n",
    "prefix = \"football/data/lineups/\"\n",
    "\n",
    "s3 = boto3.client(\n",
    "                            \"s3\",\n",
    "                            endpoint_url=s3_endpoint_url,\n",
    "                            aws_access_key_id=aws_access_key_id,\n",
    "                            aws_secret_access_key=aws_secret_access_key\n",
    "                        )\n",
    "\n",
    "print(s3)\n"
   ]
  },
  {
   "cell_type": "code",
   "execution_count": 68,
   "metadata": {},
   "outputs": [
    {
     "name": "stdout",
     "output_type": "stream",
     "text": [
      "['15946', '15956', '15973', '15978', '15986', '15998', '16010', '16023', '16029', '16056', '16073', '16079', '16086', '16095', '16109', '16120', '16131', '16136', '16149', '16157', '16173', '16182', '16190', '16196', '16205', '16215', '16231', '16240', '16248', '16265', '16275', '16289', '16306', '16317', '18235', '18236', '18237', '18240', '18241', '18242', '18243', '18244', '18245', '19714', '19715', '19716', '19717', '19718', '19719', '19720', '19722', '19723', '19724', '19725', '19726', '19727', '19728', '19729', '19730', '19731', '19732', '19733', '19734', '19735', '19736', '19737', '19738', '19739', '19740', '19741', '19742', '19743', '19744', '19745', '19746', '19747', '19748', '19749', '19750', '19751', '19752', '19753', '19754', '19755', '19756', '19757', '19758', '19759', '19760', '19761', '19762', '19763', '19764', '19765', '19766', '19767', '19768', '19769', '19770', '19771', '19772', '19773', '19774', '19775', '19776', '19777', '19778', '19779', '19780', '19781', '19782', '19783', '19784', '19785', '19786', '19787', '19788', '19789', '19790', '19791', '19792', '19793', '19794', '19795', '19796', '19797', '19798', '19799', '19800', '19801', '19802', '19803', '19804', '19805', '19806', '19807', '19808', '19809', '19810', '19811', '19813', '19814', '19815', '19816', '19817', '19818', '19819', '19820', '19821', '19822', '2275026', '2275027', '2275028', '2275029', '2275030', '2275033', '2275034', '2275036', '2275037', '2275038', '2275040', '2275041', '2275042', '2275044', '2275045', '2275048', '2275049', '2275050', '2275051', '2275052', '2275054', '2275056', '2275057', '2275061', '2275062', '2275063', '2275065', '2275070', '2275072', '2275073', '2275074', '2275075', '2275077', '2275078', '2275079', '2275080', '2275082', '2275083', '2275084', '2275085', '2275086', '2275088', '2275089', '2275090', '2275091', '2275092', '2275093', '2275094', '2275096', '2275097', '2275098', '2275099', '2275102', '2275103', '2275104', '2275105', '2275106', '2275107', '2275108', '2275109', '2275110', '2275113', '2275116', '2275117', '2275120', '2275121', '2275122', '2275126', '2275127', '2275130', '2275131', '2275132', '2275133', '2275136', '2275137', '2275138', '2275139', '2275140', '2275142', '2275144', '2275146', '2275150', '2275151', '2275153', '2275154', '2275156', '2275157', '22912', '22921', '22924', '22926', '22930', '22933', '22934', '22936', '22939', '22940', '22942', '22943', '22944', '22945', '22948', '22949', '22955', '22956', '22961', '22962', '22963', '22964', '22966', '22973', '22974', '22980', '22981', '22983', '22984', '2302764', '265830', '265835', '265837', '265839', '265857', '265866', '265894', '265896', '265918', '265944', '265952', '265958', '265963', '266015', '266033', '266045', '266056', '266066', '266074', '266106', '266117', '266142', '266148', '266149', '266160', '266166', '266191', '266201', '266230', '266236', '266240', '266254', '266256', '266273', '266274', '266280', '266299', '266310', '266320', '266357', '266406', '266420', '266424', '266433', '266440', '266462', '266467', '266477', '266490', '266491', '266498', '266516', '266525', '266528', '266531', '266557', '266560', '266603', '266613', '266620', '266631', '266653', '266664', '266669', '266670', '266724', '266731', '266741', '266770', '266794', '266815', '266827', '266838', '266846', '266871', '266874', '266883', '266885', '266892', '266916', '266921', '266929', '266952', '266961', '266967', '266986', '266989', '267039', '267058', '267076', '267077', '267085', '267101', '267138', '267183', '267192', '267197', '267212', '267220', '267273', '267274', '267301', '267327', '267343', '267368', '267373', '267395', '267400', '267422', '267432', '267464', '267492', '267499', '267502', '267506', '267520', '267533', '267561', '267567', '267569', '267576', '267590', '267596', '267597', '267611', '267660', '267670', '267675', '303377', '303400', '303421', '303430', '303451', '303470', '303473', '303479', '303487', '303493', '303504', '303516', '303517', '303524', '303532', '303548', '303596', '303600', '303610', '303615', '303634', '303652', '303664', '303666', '303674', '303680', '303682', '303696', '303700', '303707', '303715', '303725', '303731', '3749052', '3749068', '3749079', '3749108', '3749117', '3749133', '3749153', '3749192', '3749196', '3749233', '3749246', '3749253', '3749257', '3749274', '3749276', '3749278', '3749296', '3749310', '3749346', '3749358', '3749360', '3749403', '3749431', '3749434', '3749448', '3749453', '3749454', '3749462', '3749465', '3749493', '3749522', '3749526', '3749528', '3749552', '3749590', '3749603', '3749631', '3749642', '3750180', '3750191', '3750200', '3750201', '3750234', '3750235', '3750244', '3750245', '3750248', '3752619', '3753972', '3753973', '3753974', '3753975', '3753976', '3753977', '3753978', '3753979', '3753980', '3753981', '3753982', '3753983', '3753984', '3753985', '3753986', '3753987', '3753988', '3753989', '3753990', '3753991', '3753992', '3753993', '3753994', '3753995', '3753996', '3753997', '3753998', '3753999', '3754000', '3754001', '3754002', '3754003', '3754004', '3754005', '3754006', '3754007', '3754008', '3754009', '3754010', '3754011', '3754012', '3754013', '3754014', '3754015', '3754016', '3754017', '3754018', '3754019', '3754020', '3754021', '3754022', '3754023', '3754024', '3754025', '3754026', '3754027', '3754028', '3754029', '3754030', '3754031', '3754032', '3754033', '3754034', '3754035', '3754036', '3754037', '3754038', '3754039', '3754040', '3754041', '3754042', '3754043', '3754044', '3754045', '3754046', '3754047', '3754048', '3754049', '3754050', '3754051', '3754052', '3754053', '3754054', '3754055', '3754056', '3754057', '3754058', '3754059', '3754060', '3754061', '3754062', '3754063', '3754064', '3754065', '3754066', '3754067', '3754068', '3754069', '3754070', '3754071', '3754072', '3754073', '3754074', '3754075', '3754076', '3754077', '3754078', '3754079', '3754080', '3754081', '3754082', '3754083', '3754084', '3754085', '3754086', '3754087', '3754088', '3754089', '3754090', '3754091', '3754092', '3754093', '3754094', '3754095', '3754096', '3754097', '3754098', '3754099', '3754100', '3754101', '3754102', '3754103', '3754104', '3754105', '3754106', '3754107', '3754108', '3754109', '3754110', '3754111', '3754112', '3754113', '3754114', '3754115', '3754116', '3754117', '3754118', '3754119', '3754120', '3754121', '3754122', '3754123', '3754124', '3754125', '3754126', '3754127', '3754128', '3754129', '3754130', '3754131', '3754132', '3754133', '3754134', '3754135', '3754136', '3754137', '3754138', '3754139', '3754140', '3754141', '3754142', '3754143', '3754144', '3754145', '3754146', '3754147', '3754148', '3754149', '3754150', '3754151', '3754152', '3754153', '3754154', '3754155', '3754156', '3754157', '3754158', '3754159', '3754160', '3754161', '3754162', '3754163', '3754164', '3754165', '3754166', '3754167', '3754168', '3754169', '3754170', '3754171', '3754172', '3754173', '3754174', '3754175', '3754176', '3754177', '3754178', '3754179', '3754180', '3754181', '3754182', '3754183', '3754184', '3754185', '3754186', '3754187', '3754188', '3754189', '3754190', '3754191', '3754192', '3754193', '3754194', '3754195', '3754196', '3754197', '3754198', '3754199', '3754200', '3754201', '3754202', '3754203', '3754204', '3754205', '3754206', '3754207', '3754208', '3754209', '3754210', '3754211', '3754212', '3754213', '3754214', '3754215', '3754216', '3754217', '3754218', '3754219', '3754220', '3754221', '3754222', '3754223', '3754224', '3754225', '3754226', '3754227', '3754228', '3754229', '3754230', '3754231', '3754232', '3754233', '3754234', '3754235', '3754236', '3754237', '3754238', '3754239', '3754240', '3754241', '3754242', '3754243', '3754244', '3754245', '3754246', '3754247', '3754248', '3754249', '3754250', '3754251', '3754252', '3754253', '3754254', '3754255', '3754256', '3754257', '3754258', '3754259', '3754260', '3754261', '3754262', '3754263', '3754264', '3754265', '3754266', '3754267', '3754268', '3754269', '3754270', '3754271', '3754272', '3754273', '3754274', '3754275', '3754276', '3754277', '3754278', '3754279', '3754280', '3754281', '3754282', '3754283', '3754284', '3754285', '3754286', '3754287', '3754288', '3754289', '3754290', '3754291', '3754292', '3754293', '3754294', '3754295', '3754296', '3754297', '3754298', '3754299', '3754300', '3754301', '3754302', '3754303', '3754304', '3754305', '3754306', '3754307', '3754308', '3754309', '3754310', '3754311', '3754312', '3754313', '3754314', '3754315', '3754316', '3754317', '3754318', '3754319', '3754320', '3754321', '3754322', '3754323', '3754324', '3754325', '3754326', '3754327', '3754328', '3754329', '3754330', '3754331', '3754332', '3754333', '3754334', '3754335', '3754336', '3754337', '3754338', '3754339', '3754340', '3754341', '3754342', '3754343', '3754344', '3754345', '3754346', '3754347', '3754348', '3754349', '3754350', '3754351', '3764230', '3764231', '3764232', '3764233', '3764234', '3764235', '3764236', '3764237', '3764238', '3764239', '3764240', '3764241', '3764440', '3764661', '3773369', '3773372', '3773377', '3773386', '3773387', '3773403', '3773415', '3773428', '3773457', '3773466', '3773474', '3773477', '3773497', '3773523', '3773526', '3773547', '3773552', '3773565', '3773571', '3773585', '3773586', '3773587', '3773593', '3773597', '3773625', '3773631', '3773656', '3773660', '3773661', '3773665', '3773672', '3773689', '3773695', '3775540', '3775541', '3775542', '3775543', '3775544', '3775545', '3775546', '3775547', '3775548', '3775549', '3775550', '3775551', '3775552', '3775553', '3775554', '3775555', '3775556', '3775557', '3775558', '3775559', '3775560', '3775561', '3775562', '3775563', '3775564', '3775565', '3775566', '3775567', '3775568', '3775569', '3775570', '3775571', '3775572', '3775573', '3775574', '3775575', '3775576', '3775577', '3775578', '3775579', '3775580', '3775581', '3775582', '3775583', '3775584', '3775585', '3775586', '3775587', '3775588', '3775589', '3775590', '3775591', '3775592', '3775593', '3775594', '3775595', '3775596', '3775597', '3775598', '3775599', '3775600', '3775601', '3775602', '3775603', '3775604', '3775605', '3775606', '3775607', '3775608', '3775609', '3775610', '3775611', '3775612', '3775613', '3775614', '3775615', '3775616', '3775617', '3775618', '3775619', '3775620', '3775621', '3775622', '3775623', '3775624', '3775625', '3775626', '3775627', '3775628', '3775629', '3775630', '3775631', '3775632', '3775633', '3775634', '3775635', '3775636']\n"
     ]
    }
   ],
   "source": [
    "response = s3.list_objects_v2(Bucket=bucket_name, Prefix=prefix)\n",
    "list_matches = []\n",
    "\n",
    "# Adiciona na lista de jogs todos os nomes de arquivos sem extensão\n",
    "for obj in response.get('Contents', []):\n",
    "    # pega o nome dos arquivos sem prefixo e sem extensão\n",
    "    file_name = str(obj[\"Key\"].replace(prefix, \"\")).replace(\".json\", \"\")\n",
    "    list_matches.append(file_name)\n",
    "print(list_matches)\n",
    "\n",
    "\n"
   ]
  },
  {
   "cell_type": "code",
   "execution_count": 82,
   "metadata": {},
   "outputs": [],
   "source": [
    "# Percorre toda lista de jogos e cria a coluna 'match_id' e joga na camada landing\n",
    "# Obs: Optei por não utilizar o partitionBy pois os arquivos já estão separados. \n",
    "\n",
    "for match in list_matches:\n",
    "    path_lineups_landing = os.path.join(\"s3://\",\"landing\",\"lineups\",\"match_id=\"+match)\n",
    "    path_lineups =  os.path.join(\"s3://\",bucket_name,prefix,match+\".json\")\n",
    "    df_lineups = spark.read.option(\"multiline\", \"true\").json(path_lineups)\n",
    "    df_lineups_matchid = df_lineups.withColumn(\"match_id\", F.lit(match))\n",
    "    df_lineups_matchid.write.format(\"json\").mode(\"overwrite\").save(path_lineups_landing)"
   ]
  },
  {
   "cell_type": "code",
   "execution_count": 84,
   "metadata": {},
   "outputs": [
    {
     "name": "stdout",
     "output_type": "stream",
     "text": [
      "1000\n"
     ]
    }
   ],
   "source": [
    "print(len(list_matches))"
   ]
  },
  {
   "cell_type": "code",
   "execution_count": 85,
   "metadata": {},
   "outputs": [
    {
     "name": "stderr",
     "output_type": "stream",
     "text": [
      "24/01/18 03:03:22 WARN DataSource: Found duplicate column(s) in the data schema and the partition schema: `match_id`\n"
     ]
    },
    {
     "name": "stdout",
     "output_type": "stream",
     "text": [
      "+--------------------+--------+-------+--------------------+\n",
      "|              lineup|match_id|team_id|           team_name|\n",
      "+--------------------+--------+-------+--------------------+\n",
      "|[{[], {31, Brazil...| 3773466|    217|           Barcelona|\n",
      "|[{[], {61, Denmar...| 3773415|    217|           Barcelona|\n",
      "|[{[], {39, Camero...|  303725|    222|          Villarreal|\n",
      "|[{[{Yellow Card, ...|  303532|    205|             Leganés|\n",
      "|[{[], {52, Congo,...|  266916|    360|      Rayo Vallecano|\n",
      "|[{[], {78, France...| 3773377|    207|            Valencia|\n",
      "|[{[], {31, Brazil...|  266299|    217|           Barcelona|\n",
      "|[{[], {214, Spain...|  303680|    901|     Real Valladolid|\n",
      "|[{[], {31, Brazil...| 3773565|   1049|             Granada|\n",
      "|[{[], {214, Spain...| 3773597|    210|       Real Sociedad|\n",
      "|[{[], {83, Gambia...| 3773474|    901|     Real Valladolid|\n",
      "|[{[], {31, Brazil...|   16205|    217|           Barcelona|\n",
      "|[{[], {68, Englan...| 3754277|     40|     West Ham United|\n",
      "|[{[], {214, Spain...| 3773369|    902|              Huesca|\n",
      "|[{[], {214, Spain...|  303615|    214|            Espanyol|\n",
      "|[{[], {78, France...| 3773689|    222|          Villarreal|\n",
      "|[{[], {22, Belgiu...|   19773|    966|       Liverpool WFC|\n",
      "|[{[], {11, Argent...| 3754346|     36|     Manchester City|\n",
      "|[{[], {241, Unite...|   22974|   1214|United States Wom...|\n",
      "|[{[], {31, Brazil...|   16190|    217|           Barcelona|\n",
      "+--------------------+--------+-------+--------------------+\n",
      "only showing top 20 rows\n",
      "\n"
     ]
    },
    {
     "name": "stderr",
     "output_type": "stream",
     "text": [
      "[Stage 3213:==================================================>   (30 + 2) / 32]\r"
     ]
    },
    {
     "name": "stdout",
     "output_type": "stream",
     "text": [
      "1000\n"
     ]
    },
    {
     "name": "stderr",
     "output_type": "stream",
     "text": [
      "                                                                                \r"
     ]
    }
   ],
   "source": [
    "# Ler escalacoes na camada landing\n",
    "path_lineups_landing = os.path.join(\"s3://\",\"landing\",\"lineups\")\n",
    "df_lineups_landing = spark.read.option(\"multiline\",\"true\").json(path_lineups_landing)\n",
    "df_lineups_landing.show()\n",
    "print(df_lineups_landing.count())"
   ]
  },
  {
   "cell_type": "code",
   "execution_count": 86,
   "metadata": {},
   "outputs": [
    {
     "name": "stdout",
     "output_type": "stream",
     "text": [
      "+--------------------+--------+-------+---------+\n",
      "|              lineup|match_id|team_id|team_name|\n",
      "+--------------------+--------+-------+---------+\n",
      "|[{[], {31, Brazil...|   15946|    217|Barcelona|\n",
      "+--------------------+--------+-------+---------+\n",
      "\n",
      "1\n"
     ]
    }
   ],
   "source": [
    "# Ler escalacoes de um jogo específico\n",
    "path_lineups_landing = os.path.join(\"s3://\",\"landing\",\"lineups\",\"match_id=15946\")\n",
    "df_lineups_landing = spark.read.option(\"multiline\",\"true\").json(path_lineups_landing)\n",
    "df_lineups_landing.show()\n",
    "print(df_lineups_landing.count())"
   ]
  },
  {
   "cell_type": "markdown",
   "metadata": {},
   "source": [
    "## Particao Events"
   ]
  },
  {
   "cell_type": "code",
   "execution_count": 88,
   "metadata": {},
   "outputs": [
    {
     "name": "stdout",
     "output_type": "stream",
     "text": [
      "<botocore.client.S3 object at 0x7f94aee9eaa0>\n"
     ]
    }
   ],
   "source": [
    "\n",
    "MINIO_ENDPOINT = \"http://storage:9000\"\n",
    "\n",
    "s3_endpoint_url = MINIO_ENDPOINT\n",
    "aws_access_key_id = \"root\"\n",
    "aws_secret_access_key = \"password\"\n",
    "bucket_name = \"sor\"\n",
    "prefix = \"football/data/events/\"\n",
    "\n",
    "s3 = boto3.client(\n",
    "                            \"s3\",\n",
    "                            endpoint_url=s3_endpoint_url,\n",
    "                            aws_access_key_id=aws_access_key_id,\n",
    "                            aws_secret_access_key=aws_secret_access_key\n",
    "                        )\n",
    "\n",
    "print(s3)\n"
   ]
  },
  {
   "cell_type": "code",
   "execution_count": 90,
   "metadata": {},
   "outputs": [
    {
     "name": "stdout",
     "output_type": "stream",
     "text": [
      "1000\n"
     ]
    }
   ],
   "source": [
    "response = s3.list_objects_v2(Bucket=bucket_name, Prefix=prefix)\n",
    "list_matches = []\n",
    "\n",
    "# Adiciona na lista de jogs todos os nomes de arquivos sem extensão\n",
    "for obj in response.get('Contents', []):\n",
    "    # pega o nome dos arquivos sem prefixo e sem extensão\n",
    "    file_name = str(obj[\"Key\"].replace(prefix, \"\")).replace(\".json\", \"\")\n",
    "    list_matches.append(file_name)\n",
    "print(len(list_matches))\n",
    "\n",
    "\n"
   ]
  },
  {
   "cell_type": "code",
   "execution_count": 91,
   "metadata": {},
   "outputs": [
    {
     "name": "stderr",
     "output_type": "stream",
     "text": [
      "24/01/18 03:12:13 WARN package: Truncated the string representation of a plan since it was too large. This behavior can be adjusted by setting 'spark.sql.debug.maxToStringFields'.\n",
      "                                                                                \r"
     ]
    }
   ],
   "source": [
    "# Percorre toda lista de jogos e cria a coluna 'match_id' e joga na camada landing\n",
    "# Obs: Optei por não utilizar o partitionBy pois os arquivos já estão separados. \n",
    "\n",
    "for match in list_matches:\n",
    "    path_events_landing = os.path.join(\"s3://\",\"landing\",\"events\",\"match_id=\"+match)\n",
    "    path_events =  os.path.join(\"s3://\",bucket_name,prefix,match+\".json\")\n",
    "    df_events = spark.read.option(\"multiline\", \"true\").json(path_events)\n",
    "    df_events_matchid = df_events.withColumn(\"match_id\", F.lit(match))\n",
    "    df_events_matchid.write.format(\"json\").mode(\"overwrite\").save(path_events_landing)"
   ]
  }
 ],
 "metadata": {
  "kernelspec": {
   "display_name": "Python 3",
   "language": "python",
   "name": "python3"
  },
  "language_info": {
   "codemirror_mode": {
    "name": "ipython",
    "version": 3
   },
   "file_extension": ".py",
   "mimetype": "text/x-python",
   "name": "python",
   "nbconvert_exporter": "python",
   "pygments_lexer": "ipython3",
   "version": "3.10.2"
  },
  "orig_nbformat": 4
 },
 "nbformat": 4,
 "nbformat_minor": 2
}
