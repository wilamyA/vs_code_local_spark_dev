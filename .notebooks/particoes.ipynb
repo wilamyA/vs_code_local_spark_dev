{
 "cells": [
  {
   "cell_type": "markdown",
   "metadata": {},
   "source": [
    "## Criação das partições de competition"
   ]
  },
  {
   "cell_type": "code",
   "execution_count": 5,
   "metadata": {},
   "outputs": [],
   "source": [
    "from pyspark.sql import SparkSession\n",
    "from pyspark.sql import functions as F\n",
    "import os\n",
    "import boto3"
   ]
  },
  {
   "cell_type": "code",
   "execution_count": 6,
   "metadata": {},
   "outputs": [],
   "source": [
    "spark = SparkSession.builder.getOrCreate()"
   ]
  },
  {
   "cell_type": "code",
   "execution_count": 9,
   "metadata": {},
   "outputs": [],
   "source": [
    "# read competitions\n",
    "\n",
    "path_competitions =  os.path.join(\"s3://\",\"sor\",\"football\",\"data\",\"competitions.json\")\n",
    "df_competition = spark.read.option(\"multiline\", \"true\").json(path_competitions)"
   ]
  },
  {
   "cell_type": "code",
   "execution_count": 10,
   "metadata": {},
   "outputs": [
    {
     "name": "stdout",
     "output_type": "stream",
     "text": [
      "s3://landing/competitions\n"
     ]
    },
    {
     "name": "stderr",
     "output_type": "stream",
     "text": [
      "                                                                                \r"
     ]
    }
   ],
   "source": [
    "# Write competitions in LandingZone\n",
    "\n",
    "path_competitions_landing = os.path.join(\"s3://\",\"landing\",\"competitions\") \n",
    "print(path_competitions_landing)\n",
    "df_competition.write.partitionBy(\"season_id\").format(\"json\").mode(\"overwrite\").save(path_competitions_landing)"
   ]
  },
  {
   "cell_type": "markdown",
   "metadata": {},
   "source": [
    "## Criação das partições de Matches"
   ]
  },
  {
   "cell_type": "code",
   "execution_count": 11,
   "metadata": {},
   "outputs": [
    {
     "name": "stderr",
     "output_type": "stream",
     "text": [
      "[Stage 8:>                                                          (0 + 4) / 4]\r"
     ]
    },
    {
     "name": "stdout",
     "output_type": "stream",
     "text": [
      "2886\n"
     ]
    },
    {
     "name": "stderr",
     "output_type": "stream",
     "text": [
      "                                                                                \r"
     ]
    }
   ],
   "source": [
    "# Read all matches\n",
    "path_all_matches = os.path.join(\"s3://\",\"sor\",\"football\",\"data\",\"matches\",\"*\",\"*.json\")\n",
    "\n",
    "df_match = spark.read.option(\"multiline\", \"true\").json(path_all_matches)\n",
    "print(df_match.count())"
   ]
  },
  {
   "cell_type": "code",
   "execution_count": 15,
   "metadata": {},
   "outputs": [
    {
     "name": "stdout",
     "output_type": "stream",
     "text": [
      "root\n",
      " |-- away_score: long (nullable = true)\n",
      " |-- away_team: struct (nullable = true)\n",
      " |    |-- away_team_gender: string (nullable = true)\n",
      " |    |-- away_team_group: string (nullable = true)\n",
      " |    |-- away_team_id: long (nullable = true)\n",
      " |    |-- away_team_name: string (nullable = true)\n",
      " |    |-- country: struct (nullable = true)\n",
      " |    |    |-- id: long (nullable = true)\n",
      " |    |    |-- name: string (nullable = true)\n",
      " |    |-- managers: array (nullable = true)\n",
      " |    |    |-- element: struct (containsNull = true)\n",
      " |    |    |    |-- country: struct (nullable = true)\n",
      " |    |    |    |    |-- id: long (nullable = true)\n",
      " |    |    |    |    |-- name: string (nullable = true)\n",
      " |    |    |    |-- dob: string (nullable = true)\n",
      " |    |    |    |-- id: long (nullable = true)\n",
      " |    |    |    |-- name: string (nullable = true)\n",
      " |    |    |    |-- nickname: string (nullable = true)\n",
      " |-- competition: struct (nullable = true)\n",
      " |    |-- competition_id: long (nullable = true)\n",
      " |    |-- competition_name: string (nullable = true)\n",
      " |    |-- country_name: string (nullable = true)\n",
      " |-- competition_stage: struct (nullable = true)\n",
      " |    |-- id: long (nullable = true)\n",
      " |    |-- name: string (nullable = true)\n",
      " |-- home_score: long (nullable = true)\n",
      " |-- home_team: struct (nullable = true)\n",
      " |    |-- country: struct (nullable = true)\n",
      " |    |    |-- id: long (nullable = true)\n",
      " |    |    |-- name: string (nullable = true)\n",
      " |    |-- home_team_gender: string (nullable = true)\n",
      " |    |-- home_team_group: string (nullable = true)\n",
      " |    |-- home_team_id: long (nullable = true)\n",
      " |    |-- home_team_name: string (nullable = true)\n",
      " |    |-- managers: array (nullable = true)\n",
      " |    |    |-- element: struct (containsNull = true)\n",
      " |    |    |    |-- country: struct (nullable = true)\n",
      " |    |    |    |    |-- id: long (nullable = true)\n",
      " |    |    |    |    |-- name: string (nullable = true)\n",
      " |    |    |    |-- dob: string (nullable = true)\n",
      " |    |    |    |-- id: long (nullable = true)\n",
      " |    |    |    |-- name: string (nullable = true)\n",
      " |    |    |    |-- nickname: string (nullable = true)\n",
      " |-- kick_off: string (nullable = true)\n",
      " |-- last_updated: string (nullable = true)\n",
      " |-- last_updated_360: string (nullable = true)\n",
      " |-- match_date: string (nullable = true)\n",
      " |-- match_id: long (nullable = true)\n",
      " |-- match_status: string (nullable = true)\n",
      " |-- match_status_360: string (nullable = true)\n",
      " |-- match_week: long (nullable = true)\n",
      " |-- metadata: struct (nullable = true)\n",
      " |    |-- data_version: string (nullable = true)\n",
      " |    |-- shot_fidelity_version: string (nullable = true)\n",
      " |    |-- xy_fidelity_version: string (nullable = true)\n",
      " |-- referee: struct (nullable = true)\n",
      " |    |-- country: struct (nullable = true)\n",
      " |    |    |-- id: long (nullable = true)\n",
      " |    |    |-- name: string (nullable = true)\n",
      " |    |-- id: long (nullable = true)\n",
      " |    |-- name: string (nullable = true)\n",
      " |-- season: struct (nullable = true)\n",
      " |    |-- season_id: long (nullable = true)\n",
      " |    |-- season_name: string (nullable = true)\n",
      " |-- stadium: struct (nullable = true)\n",
      " |    |-- country: struct (nullable = true)\n",
      " |    |    |-- id: long (nullable = true)\n",
      " |    |    |-- name: string (nullable = true)\n",
      " |    |-- id: long (nullable = true)\n",
      " |    |-- name: string (nullable = true)\n",
      "\n"
     ]
    }
   ],
   "source": [
    "df_match.printSchema()"
   ]
  },
  {
   "cell_type": "code",
   "execution_count": 17,
   "metadata": {},
   "outputs": [
    {
     "name": "stdout",
     "output_type": "stream",
     "text": [
      "+----------+--------------------+--------------------+-------------------+----------+--------------------+------------+--------------------+----------------+----------+--------+------------+----------------+----------+-------------+--------------------+---------------+--------------------+\n",
      "|away_score|           away_team|         competition|  competition_stage|home_score|           home_team|    kick_off|        last_updated|last_updated_360|match_date|match_id|match_status|match_status_360|match_week|     metadata|             referee|         season|             stadium|\n",
      "+----------+--------------------+--------------------+-------------------+----------+--------------------+------------+--------------------+----------------+----------+--------+------------+----------------+----------+-------------+--------------------+---------------+--------------------+\n",
      "|         2|{male, null, 322,...|{11, La Liga, Spain}|{1, Regular Season}|         2|{{214, Spain}, ma...|20:00:00.000|2023-02-21T15:19:...|            null|2015-09-23| 3825848|   available|     unscheduled|         5|{1.1.0, 2, 2}|                null|{27, 2015/2016}|{{214, Spain}, 35...|\n",
      "|         0|{male, null, 213,...|{11, La Liga, Spain}|{1, Regular Season}|         2|{{214, Spain}, ma...|22:00:00.000|2023-02-21T15:19:...|            null|2015-09-23| 3825895|   available|     unscheduled|         5|{1.1.0, 2, 2}|{{214, Spain}, 27...|{27, 2015/2016}|{{214, Spain}, 35...|\n",
      "|         2|{male, null, 216,...|{11, La Liga, Spain}|{1, Regular Season}|         0|{{214, Spain}, ma...|18:15:00.000|2022-08-30T12:53:...|            null|2016-05-01| 3825894|   available|     unscheduled|        36|{1.1.0, 2, 2}|{{214, Spain}, 10...|{27, 2015/2016}|{{214, Spain}, 46...|\n",
      "|         1|{male, null, 221,...|{11, La Liga, Spain}|{1, Regular Season}|         3|{{214, Spain}, ma...|20:30:00.000|2022-08-30T12:53:...|            null|2016-05-02| 3825855|   available|     unscheduled|        36|{1.1.0, 2, 2}|{{214, Spain}, 24...|{27, 2015/2016}|{{214, Spain}, 34...|\n",
      "|         2|{male, null, 322,...|{11, La Liga, Spain}|{1, Regular Season}|         4|{{214, Spain}, ma...|19:00:00.000|2022-04-06T22:39:...|            null|2016-05-15| 3825908|   available|     unscheduled|        38|{1.1.0, 2, 2}|{{214, Spain}, 26...|{27, 2015/2016}|{{214, Spain}, 35...|\n",
      "|         1|{male, null, 208,...|{11, La Liga, Spain}|{1, Regular Season}|         4|{{214, Spain}, ma...|12:00:00.000|2022-08-30T13:15:...|            null|2016-05-15| 3825883|   available|     unscheduled|        38|{1.1.0, 2, 2}|{{214, Spain}, 26...|{27, 2015/2016}|{{214, Spain}, 34...|\n",
      "|         0|{male, null, 222,...|{11, La Liga, Spain}|{1, Regular Season}|         2|{{214, Spain}, ma...|19:30:00.000|2022-04-06T22:37:...|            null|2016-05-15| 3825900|   available|     unscheduled|        38|{1.1.0, 2, 2}|{{214, Spain}, 22...|{27, 2015/2016}|{{214, Spain}, 46...|\n",
      "|         1|{male, null, 221,...|{11, La Liga, Spain}|{1, Regular Season}|         3|{{214, Spain}, ma...|19:30:00.000|2022-04-06T22:35:...|            null|2016-05-15| 3825902|   available|     unscheduled|        38|{1.1.0, 2, 2}|{{214, Spain}, 10...|{27, 2015/2016}|{{214, Spain}, 46...|\n",
      "|         1|{male, null, 216,...|{11, La Liga, Spain}|{1, Regular Season}|         2|{{214, Spain}, ma...|19:30:00.000|2022-04-06T22:34:...|            null|2016-05-15| 3825876|   available|     unscheduled|        38|{1.1.0, 2, 2}|{{214, Spain}, 18...|{27, 2015/2016}|{{214, Spain}, 35...|\n",
      "|         2|{male, null, 220,...|{11, La Liga, Spain}|{1, Regular Season}|         0|{{214, Spain}, ma...|17:00:00.000|2022-04-06T22:33:...|            null|2016-05-14| 3825846|   available|     unscheduled|        38|{1.1.0, 2, 2}|{{214, Spain}, 18...|{27, 2015/2016}|{{214, Spain}, 46...|\n",
      "|         1|{male, null, 213,...|{11, La Liga, Spain}|{1, Regular Season}|         3|{{214, Spain}, ma...|19:30:00.000|2022-08-30T13:07:...|            null|2016-05-14| 3825869|   available|     unscheduled|        38|{1.1.0, 2, 2}|{{214, Spain}, 21...|{27, 2015/2016}|{{214, Spain}, 34...|\n",
      "|         0|{male, null, 209,...|{11, La Liga, Spain}|{1, Regular Season}|         2|{{214, Spain}, ma...|19:30:00.000|2022-04-06T22:30:...|            null|2016-05-14| 3825882|   available|     unscheduled|        38|{1.1.0, 2, 2}|{{214, Spain}, 22...|{27, 2015/2016}|{{214, Spain}, 62...|\n",
      "|         1|{male, null, 210,...|{11, La Liga, Spain}|{1, Regular Season}|         0|{{214, Spain}, ma...|20:30:00.000|2022-04-06T22:29:...|            null|2016-05-13| 3825849|   available|     unscheduled|        38|{1.1.0, 2, 2}|{{214, Spain}, 25...|{27, 2015/2016}|{{214, Spain}, 34...|\n",
      "|         1|{male, null, 212,...|{11, La Liga, Spain}|{1, Regular Season}|         2|{{214, Spain}, ma...|17:00:00.000|2022-04-06T22:28:...|            null|2016-05-08| 3825860|   available|     unscheduled|        37|{1.1.0, 2, 2}|{{214, Spain}, 21...|{27, 2015/2016}|{{214, Spain}, 35...|\n",
      "|         1|{male, null, 219,...|{11, La Liga, Spain}|{1, Regular Season}|         1|{{214, Spain}, ma...|22:05:00.000|2022-03-26T14:52:...|            null|2016-04-23| 3825847|   available|     unscheduled|        35|{1.1.0, 2, 2}|{{214, Spain}, 24...|{27, 2015/2016}|{{214, Spain}, 34...|\n",
      "|         1|{male, null, 322,...|{11, La Liga, Spain}|{1, Regular Season}|         1|{{214, Spain}, ma...|21:30:00.000|2022-05-08T21:31:...|            null|2016-03-18| 3825817|   available|     unscheduled|        30|{1.1.0, 2, 2}|{{214, Spain}, 21...|{27, 2015/2016}|{{214, Spain}, 35...|\n",
      "|         1|{male, null, 1041...|{11, La Liga, Spain}|{1, Regular Season}|         1|{{214, Spain}, ma...|21:30:00.000|2022-03-26T14:39:...|            null|2016-02-20| 3825778|   available|     unscheduled|        25|{1.1.0, 2, 2}|{{214, Spain}, 21...|{27, 2015/2016}|{{214, Spain}, 35...|\n",
      "|         0|{male, null, 216,...|{11, La Liga, Spain}|{1, Regular Season}|         3|{{214, Spain}, ma...|21:30:00.000|2022-05-08T21:01:...|            null|2016-02-19| 3825777|   available|     unscheduled|        25|{1.1.0, 2, 2}|{{214, Spain}, 21...|{27, 2015/2016}|{{214, Spain}, 35...|\n",
      "|         1|{male, null, 1049...|{11, La Liga, Spain}|{1, Regular Season}|         5|{{214, Spain}, ma...|21:30:00.000|2022-03-26T14:32:...|            null|2016-01-18| 3825740|   available|     unscheduled|        20|{1.1.0, 2, 2}|{{214, Spain}, 26...|{27, 2015/2016}|{{214, Spain}, 34...|\n",
      "|         0|{male, null, 210,...|{11, La Liga, Spain}|{1, Regular Season}|         0|{{214, Spain}, ma...|20:30:00.000|2022-03-22T17:53:...|            null|2016-04-24| 3825875|   available|     unscheduled|        35|{1.1.0, 2, 2}|{{214, Spain}, 22...|{27, 2015/2016}|{{214, Spain}, 36...|\n",
      "+----------+--------------------+--------------------+-------------------+----------+--------------------+------------+--------------------+----------------+----------+--------+------------+----------------+----------+-------------+--------------------+---------------+--------------------+\n",
      "only showing top 20 rows\n",
      "\n"
     ]
    }
   ],
   "source": [
    "df_match.show()"
   ]
  },
  {
   "cell_type": "code",
   "execution_count": 19,
   "metadata": {},
   "outputs": [
    {
     "name": "stdout",
     "output_type": "stream",
     "text": [
      "+---------+--------------+\n",
      "|season_id|competition_id|\n",
      "+---------+--------------+\n",
      "|       27|            11|\n",
      "|       27|            11|\n",
      "|       27|            11|\n",
      "|       27|            11|\n",
      "|       27|            11|\n",
      "|       27|            11|\n",
      "|       27|            11|\n",
      "|       27|            11|\n",
      "|       27|            11|\n",
      "|       27|            11|\n",
      "|       27|            11|\n",
      "|       27|            11|\n",
      "|       27|            11|\n",
      "|       27|            11|\n",
      "|       27|            11|\n",
      "|       27|            11|\n",
      "|       27|            11|\n",
      "|       27|            11|\n",
      "|       27|            11|\n",
      "|       27|            11|\n",
      "+---------+--------------+\n",
      "only showing top 20 rows\n",
      "\n"
     ]
    }
   ],
   "source": [
    "df_match.select(\"season.season_id\", \"competition.competition_id\").show()"
   ]
  },
  {
   "cell_type": "code",
   "execution_count": 28,
   "metadata": {},
   "outputs": [
    {
     "name": "stdout",
     "output_type": "stream",
     "text": [
      "+----------+--------------------+--------------------+-------------------+----------+--------------------+------------+--------------------+----------------+----------+--------+------------+----------------+----------+-------------+--------------------+---------------+--------------------+--------------+---------+\n",
      "|away_score|           away_team|         competition|  competition_stage|home_score|           home_team|    kick_off|        last_updated|last_updated_360|match_date|match_id|match_status|match_status_360|match_week|     metadata|             referee|         season|             stadium|competition_id|season_id|\n",
      "+----------+--------------------+--------------------+-------------------+----------+--------------------+------------+--------------------+----------------+----------+--------+------------+----------------+----------+-------------+--------------------+---------------+--------------------+--------------+---------+\n",
      "|         2|{male, null, 322,...|{11, La Liga, Spain}|{1, Regular Season}|         2|{{214, Spain}, ma...|20:00:00.000|2023-02-21T15:19:...|            null|2015-09-23| 3825848|   available|     unscheduled|         5|{1.1.0, 2, 2}|                null|{27, 2015/2016}|{{214, Spain}, 35...|            11|       27|\n",
      "|         0|{male, null, 213,...|{11, La Liga, Spain}|{1, Regular Season}|         2|{{214, Spain}, ma...|22:00:00.000|2023-02-21T15:19:...|            null|2015-09-23| 3825895|   available|     unscheduled|         5|{1.1.0, 2, 2}|{{214, Spain}, 27...|{27, 2015/2016}|{{214, Spain}, 35...|            11|       27|\n",
      "|         2|{male, null, 216,...|{11, La Liga, Spain}|{1, Regular Season}|         0|{{214, Spain}, ma...|18:15:00.000|2022-08-30T12:53:...|            null|2016-05-01| 3825894|   available|     unscheduled|        36|{1.1.0, 2, 2}|{{214, Spain}, 10...|{27, 2015/2016}|{{214, Spain}, 46...|            11|       27|\n",
      "|         1|{male, null, 221,...|{11, La Liga, Spain}|{1, Regular Season}|         3|{{214, Spain}, ma...|20:30:00.000|2022-08-30T12:53:...|            null|2016-05-02| 3825855|   available|     unscheduled|        36|{1.1.0, 2, 2}|{{214, Spain}, 24...|{27, 2015/2016}|{{214, Spain}, 34...|            11|       27|\n",
      "|         2|{male, null, 322,...|{11, La Liga, Spain}|{1, Regular Season}|         4|{{214, Spain}, ma...|19:00:00.000|2022-04-06T22:39:...|            null|2016-05-15| 3825908|   available|     unscheduled|        38|{1.1.0, 2, 2}|{{214, Spain}, 26...|{27, 2015/2016}|{{214, Spain}, 35...|            11|       27|\n",
      "|         1|{male, null, 208,...|{11, La Liga, Spain}|{1, Regular Season}|         4|{{214, Spain}, ma...|12:00:00.000|2022-08-30T13:15:...|            null|2016-05-15| 3825883|   available|     unscheduled|        38|{1.1.0, 2, 2}|{{214, Spain}, 26...|{27, 2015/2016}|{{214, Spain}, 34...|            11|       27|\n",
      "|         0|{male, null, 222,...|{11, La Liga, Spain}|{1, Regular Season}|         2|{{214, Spain}, ma...|19:30:00.000|2022-04-06T22:37:...|            null|2016-05-15| 3825900|   available|     unscheduled|        38|{1.1.0, 2, 2}|{{214, Spain}, 22...|{27, 2015/2016}|{{214, Spain}, 46...|            11|       27|\n",
      "|         1|{male, null, 221,...|{11, La Liga, Spain}|{1, Regular Season}|         3|{{214, Spain}, ma...|19:30:00.000|2022-04-06T22:35:...|            null|2016-05-15| 3825902|   available|     unscheduled|        38|{1.1.0, 2, 2}|{{214, Spain}, 10...|{27, 2015/2016}|{{214, Spain}, 46...|            11|       27|\n",
      "|         1|{male, null, 216,...|{11, La Liga, Spain}|{1, Regular Season}|         2|{{214, Spain}, ma...|19:30:00.000|2022-04-06T22:34:...|            null|2016-05-15| 3825876|   available|     unscheduled|        38|{1.1.0, 2, 2}|{{214, Spain}, 18...|{27, 2015/2016}|{{214, Spain}, 35...|            11|       27|\n",
      "|         2|{male, null, 220,...|{11, La Liga, Spain}|{1, Regular Season}|         0|{{214, Spain}, ma...|17:00:00.000|2022-04-06T22:33:...|            null|2016-05-14| 3825846|   available|     unscheduled|        38|{1.1.0, 2, 2}|{{214, Spain}, 18...|{27, 2015/2016}|{{214, Spain}, 46...|            11|       27|\n",
      "|         1|{male, null, 213,...|{11, La Liga, Spain}|{1, Regular Season}|         3|{{214, Spain}, ma...|19:30:00.000|2022-08-30T13:07:...|            null|2016-05-14| 3825869|   available|     unscheduled|        38|{1.1.0, 2, 2}|{{214, Spain}, 21...|{27, 2015/2016}|{{214, Spain}, 34...|            11|       27|\n",
      "|         0|{male, null, 209,...|{11, La Liga, Spain}|{1, Regular Season}|         2|{{214, Spain}, ma...|19:30:00.000|2022-04-06T22:30:...|            null|2016-05-14| 3825882|   available|     unscheduled|        38|{1.1.0, 2, 2}|{{214, Spain}, 22...|{27, 2015/2016}|{{214, Spain}, 62...|            11|       27|\n",
      "|         1|{male, null, 210,...|{11, La Liga, Spain}|{1, Regular Season}|         0|{{214, Spain}, ma...|20:30:00.000|2022-04-06T22:29:...|            null|2016-05-13| 3825849|   available|     unscheduled|        38|{1.1.0, 2, 2}|{{214, Spain}, 25...|{27, 2015/2016}|{{214, Spain}, 34...|            11|       27|\n",
      "|         1|{male, null, 212,...|{11, La Liga, Spain}|{1, Regular Season}|         2|{{214, Spain}, ma...|17:00:00.000|2022-04-06T22:28:...|            null|2016-05-08| 3825860|   available|     unscheduled|        37|{1.1.0, 2, 2}|{{214, Spain}, 21...|{27, 2015/2016}|{{214, Spain}, 35...|            11|       27|\n",
      "|         1|{male, null, 219,...|{11, La Liga, Spain}|{1, Regular Season}|         1|{{214, Spain}, ma...|22:05:00.000|2022-03-26T14:52:...|            null|2016-04-23| 3825847|   available|     unscheduled|        35|{1.1.0, 2, 2}|{{214, Spain}, 24...|{27, 2015/2016}|{{214, Spain}, 34...|            11|       27|\n",
      "|         1|{male, null, 322,...|{11, La Liga, Spain}|{1, Regular Season}|         1|{{214, Spain}, ma...|21:30:00.000|2022-05-08T21:31:...|            null|2016-03-18| 3825817|   available|     unscheduled|        30|{1.1.0, 2, 2}|{{214, Spain}, 21...|{27, 2015/2016}|{{214, Spain}, 35...|            11|       27|\n",
      "|         1|{male, null, 1041...|{11, La Liga, Spain}|{1, Regular Season}|         1|{{214, Spain}, ma...|21:30:00.000|2022-03-26T14:39:...|            null|2016-02-20| 3825778|   available|     unscheduled|        25|{1.1.0, 2, 2}|{{214, Spain}, 21...|{27, 2015/2016}|{{214, Spain}, 35...|            11|       27|\n",
      "|         0|{male, null, 216,...|{11, La Liga, Spain}|{1, Regular Season}|         3|{{214, Spain}, ma...|21:30:00.000|2022-05-08T21:01:...|            null|2016-02-19| 3825777|   available|     unscheduled|        25|{1.1.0, 2, 2}|{{214, Spain}, 21...|{27, 2015/2016}|{{214, Spain}, 35...|            11|       27|\n",
      "|         1|{male, null, 1049...|{11, La Liga, Spain}|{1, Regular Season}|         5|{{214, Spain}, ma...|21:30:00.000|2022-03-26T14:32:...|            null|2016-01-18| 3825740|   available|     unscheduled|        20|{1.1.0, 2, 2}|{{214, Spain}, 26...|{27, 2015/2016}|{{214, Spain}, 34...|            11|       27|\n",
      "|         0|{male, null, 210,...|{11, La Liga, Spain}|{1, Regular Season}|         0|{{214, Spain}, ma...|20:30:00.000|2022-03-22T17:53:...|            null|2016-04-24| 3825875|   available|     unscheduled|        35|{1.1.0, 2, 2}|{{214, Spain}, 22...|{27, 2015/2016}|{{214, Spain}, 36...|            11|       27|\n",
      "+----------+--------------------+--------------------+-------------------+----------+--------------------+------------+--------------------+----------------+----------+--------+------------+----------------+----------+-------------+--------------------+---------------+--------------------+--------------+---------+\n",
      "only showing top 20 rows\n",
      "\n"
     ]
    }
   ],
   "source": [
    "df_match_add_col_competition = df_match.withColumn(\"competition_id\", F.col(\"competition.competition_id\"))\n",
    "df_match_add_col_season = df_match_add_col_competition.withColumn(\"season_id\", F.col(\"season.season_id\"))\n",
    "df_match_add_col_season.show()"
   ]
  },
  {
   "cell_type": "code",
   "execution_count": 30,
   "metadata": {},
   "outputs": [
    {
     "name": "stderr",
     "output_type": "stream",
     "text": [
      "                                                                                \r"
     ]
    }
   ],
   "source": [
    "path_match_landing = os.path.join(\"s3://\",\"landing\",\"matches\") \n",
    "\n",
    "# Escreve na camada landing particionando por competition_id e season_id\n",
    "df_match_add_col_season.write.partitionBy(\"competition_id\",\"season_id\").format(\"json\").mode(\"overwrite\").save(path_match_landing)"
   ]
  },
  {
   "cell_type": "markdown",
   "metadata": {},
   "source": [
    "# análise de casos de matches"
   ]
  },
  {
   "cell_type": "code",
   "execution_count": 40,
   "metadata": {},
   "outputs": [
    {
     "name": "stdout",
     "output_type": "stream",
     "text": [
      "380\n",
      "+---------------------------------------------------------------------------------------------------------------------------------------------------------+\n",
      "|away_team                                                                                                                                                |\n",
      "+---------------------------------------------------------------------------------------------------------------------------------------------------------+\n",
      "|{male, 28, AFC Bournemouth, {68, England}, [{{68, England}, 1977-11-29, 38, Eddie Howe, null}]}                                                          |\n",
      "|{male, 40, West Ham United, {68, England}, [{{56, Croatia}, 1968-09-11, 150, Slaven Bilić, null}]}                                                       |\n",
      "|{male, 29, Everton, {68, England}, [{{214, Spain}, 1973-07-13, 263, Roberto Martínez Montoliú, Roberto Martínez}]}                                       |\n",
      "|{male, 28, AFC Bournemouth, {68, England}, [{{68, England}, 1977-11-29, 38, Eddie Howe, null}]}                                                          |\n",
      "|{male, 26, Swansea City, {249, Wales}, [{{112, Italy}, 1955-10-03, 3626, Francesco Guidolin, null}]}                                                     |\n",
      "|{male, 30, Stoke City, {68, England}, [{{249, Wales}, 1963-11-01, 55, Mark Hughes, null}]}                                                               |\n",
      "|{male, 26, Swansea City, {249, Wales}, [{{68, England}, 1979-03-06, 270, Garry Monk, null}]}                                                             |\n",
      "|{male, 41, Sunderland, {68, England}, [{{68, England}, 1954-10-19, 561, Sam Allardyce, null}]}                                                           |\n",
      "|{male, 1, Arsenal, {68, England}, [{{78, France}, 1949-10-22, 577, Arsène Wenger, null}]}                                                                |\n",
      "|{male, 31, Crystal Palace, {68, England}, [{{68, England}, 1961-07-18, 382, Alan Pardew, null}]}                                                         |\n",
      "|{male, 25, Southampton, {68, England}, [{{160, Netherlands}, 1963-03-21, 676, Ronald Koeman, null}]}                                                     |\n",
      "|{male, 1, Arsenal, {68, England}, [{{78, France}, 1949-10-22, 577, Arsène Wenger, null}]}                                                                |\n",
      "|{male, 40, West Ham United, {68, England}, [{{56, Croatia}, 1968-09-11, 150, Slaven Bilić, null}]}                                                       |\n",
      "|{male, 24, Liverpool, {68, England}, [{{169, Northern Ireland}, 1973-01-26, 6, Brendan Rodgers, null}]}                                                  |\n",
      "|{male, 30, Stoke City, {68, England}, [{{249, Wales}, 1963-11-01, 55, Mark Hughes, null}]}                                                               |\n",
      "|{male, 38, Tottenham Hotspur, {68, England}, [{{11, Argentina}, 1972-03-02, 81, Mauricio Roberto Pochettino Trossero, Mauricio Pochettino}]}             |\n",
      "|{male, 26, Swansea City, {249, Wales}, [{{249, Wales}, 1954-04-16, 4711, Alan Curtis, null}, {{112, Italy}, 1955-10-03, 3626, Francesco Guidolin, null}]}|\n",
      "|{male, 29, Everton, {68, England}, [{{214, Spain}, 1973-07-13, 263, Roberto Martínez Montoliú, Roberto Martínez}]}                                       |\n",
      "|{male, 1, Arsenal, {68, England}, [{{78, France}, 1949-10-22, 577, Arsène Wenger, null}]}                                                                |\n",
      "|{male, 36, Manchester City, {68, England}, [{{45, Chile}, 1953-09-16, 733, Manuel Luis Pellegrini Ripamonti, Manuel Pellegrini}]}                        |\n",
      "+---------------------------------------------------------------------------------------------------------------------------------------------------------+\n",
      "only showing top 20 rows\n",
      "\n"
     ]
    }
   ],
   "source": [
    "# Consulta por competicao e temporada\n",
    "\n",
    "competition_id = \"2\"\n",
    "season_id = \"27\"\n",
    "\n",
    "df_competition2_season27 = spark.read.json(f\"s3://landing/matches/competition_id={competition_id}/season_id={season_id}\")\n",
    "print(df_competition2_season27.count())\n",
    "df_competition2_season27.select(\"away_team\").orderBy(\"match_id\").show(truncate=False)\n",
    "\n"
   ]
  },
  {
   "cell_type": "code",
   "execution_count": 38,
   "metadata": {},
   "outputs": [
    {
     "name": "stdout",
     "output_type": "stream",
     "text": [
      "+---------------------------------------------------------------------------------------------------------------------------------------------------------------+\n",
      "|away_team                                                                                                                                                      |\n",
      "+---------------------------------------------------------------------------------------------------------------------------------------------------------------+\n",
      "|{male, null, 28, AFC Bournemouth, {68, England}, [{{68, England}, 1977-11-29, 38, Eddie Howe, null}]}                                                          |\n",
      "|{male, null, 40, West Ham United, {68, England}, [{{56, Croatia}, 1968-09-11, 150, Slaven Bilić, null}]}                                                       |\n",
      "|{male, null, 29, Everton, {68, England}, [{{214, Spain}, 1973-07-13, 263, Roberto Martínez Montoliú, Roberto Martínez}]}                                       |\n",
      "|{male, null, 28, AFC Bournemouth, {68, England}, [{{68, England}, 1977-11-29, 38, Eddie Howe, null}]}                                                          |\n",
      "|{male, null, 26, Swansea City, {249, Wales}, [{{112, Italy}, 1955-10-03, 3626, Francesco Guidolin, null}]}                                                     |\n",
      "|{male, null, 30, Stoke City, {68, England}, [{{249, Wales}, 1963-11-01, 55, Mark Hughes, null}]}                                                               |\n",
      "|{male, null, 26, Swansea City, {249, Wales}, [{{68, England}, 1979-03-06, 270, Garry Monk, null}]}                                                             |\n",
      "|{male, null, 41, Sunderland, {68, England}, [{{68, England}, 1954-10-19, 561, Sam Allardyce, null}]}                                                           |\n",
      "|{male, null, 1, Arsenal, {68, England}, [{{78, France}, 1949-10-22, 577, Arsène Wenger, null}]}                                                                |\n",
      "|{male, null, 31, Crystal Palace, {68, England}, [{{68, England}, 1961-07-18, 382, Alan Pardew, null}]}                                                         |\n",
      "|{male, null, 25, Southampton, {68, England}, [{{160, Netherlands}, 1963-03-21, 676, Ronald Koeman, null}]}                                                     |\n",
      "|{male, null, 1, Arsenal, {68, England}, [{{78, France}, 1949-10-22, 577, Arsène Wenger, null}]}                                                                |\n",
      "|{male, null, 40, West Ham United, {68, England}, [{{56, Croatia}, 1968-09-11, 150, Slaven Bilić, null}]}                                                       |\n",
      "|{male, null, 24, Liverpool, {68, England}, [{{169, Northern Ireland}, 1973-01-26, 6, Brendan Rodgers, null}]}                                                  |\n",
      "|{male, null, 30, Stoke City, {68, England}, [{{249, Wales}, 1963-11-01, 55, Mark Hughes, null}]}                                                               |\n",
      "|{male, null, 38, Tottenham Hotspur, {68, England}, [{{11, Argentina}, 1972-03-02, 81, Mauricio Roberto Pochettino Trossero, Mauricio Pochettino}]}             |\n",
      "|{male, null, 26, Swansea City, {249, Wales}, [{{249, Wales}, 1954-04-16, 4711, Alan Curtis, null}, {{112, Italy}, 1955-10-03, 3626, Francesco Guidolin, null}]}|\n",
      "|{male, null, 29, Everton, {68, England}, [{{214, Spain}, 1973-07-13, 263, Roberto Martínez Montoliú, Roberto Martínez}]}                                       |\n",
      "|{male, null, 1, Arsenal, {68, England}, [{{78, France}, 1949-10-22, 577, Arsène Wenger, null}]}                                                                |\n",
      "|{male, null, 36, Manchester City, {68, England}, [{{45, Chile}, 1953-09-16, 733, Manuel Luis Pellegrini Ripamonti, Manuel Pellegrini}]}                        |\n",
      "+---------------------------------------------------------------------------------------------------------------------------------------------------------------+\n",
      "only showing top 20 rows\n",
      "\n",
      "380\n"
     ]
    }
   ],
   "source": [
    "# Consulta por competicao e temporada usando where\n",
    "spark.conf.set(\"spark.sql.repl.eagerEval.enabled\", False)\n",
    "\n",
    "df_matches_landing = spark.read.json(path_match_landing)\n",
    "df_matches_landing.select(\"away_team\").where(f\"season_id = {season_id} and competition_id = {competition_id}\").orderBy(\"match_id\").show(truncate=False)\n",
    "print(df_matches_landing.where(f\"season_id = {season_id} and competition_id = {competition_id}\").count())"
   ]
  },
  {
   "cell_type": "code",
   "execution_count": 41,
   "metadata": {},
   "outputs": [
    {
     "name": "stdout",
     "output_type": "stream",
     "text": [
      "+---------+\n",
      "|season_id|\n",
      "+---------+\n",
      "|       27|\n",
      "|       44|\n",
      "+---------+\n",
      "\n"
     ]
    }
   ],
   "source": [
    "# consulta por competicao, exibindo temporadas distintas\n",
    "df_competition2 = spark.read.json(f\"s3://landing/matches/competition_id={competition_id}\")\n",
    "df_competition2.select(\"season_id\").distinct().show()"
   ]
  },
  {
   "cell_type": "markdown",
   "metadata": {},
   "source": [
    "## Particao LineUp"
   ]
  },
  {
   "cell_type": "code",
   "execution_count": 42,
   "metadata": {},
   "outputs": [
    {
     "name": "stderr",
     "output_type": "stream",
     "text": [
      "                                                                                \r"
     ]
    },
    {
     "name": "stdout",
     "output_type": "stream",
     "text": [
      "6526\n",
      "+--------------------+-------+--------------------+\n",
      "|              lineup|team_id|           team_name|\n",
      "+--------------------+-------+--------------------+\n",
      "|[{[], {241, Unite...|   1839|       United States|\n",
      "|[{[], {107, Iran,...|    797|                Iran|\n",
      "|[{[], {214, Spain...|    863|       Spain Women's|\n",
      "|[{[], {160, Nethe...|    851| Netherlands Women's|\n",
      "|[{[{Yellow Card, ...|    941|         Netherlands|\n",
      "|[{[], {11, Argent...|    779|           Argentina|\n",
      "|[{[], {121, Korea...|   1211|Korea Republic Wo...|\n",
      "|[{[], {49, Colomb...|  16802|    Colombia Women's|\n",
      "|[{[], {31, Brazil...|    217|           Barcelona|\n",
      "|[{[], {214, Spain...|    209|          Celta Vigo|\n",
      "|[{[], {112, Italy...|    231|              Chievo|\n",
      "|[{[], {112, Italy...|    291|           Frosinone|\n",
      "|[{[{Yellow Card, ...|    771|              France|\n",
      "|[{[], {11, Argent...|    779|           Argentina|\n",
      "|[{[], {202, Seneg...|    290|              Empoli|\n",
      "|[{[], {112, Italy...|   1683|               Carpi|\n",
      "|[{[], {11, Argent...|    779|           Argentina|\n",
      "|[{[], {14, Austra...|    792|           Australia|\n",
      "|[{[], {183, Portu...|    780|            Portugal|\n",
      "|[{[], {154, Moroc...|    788|             Morocco|\n",
      "+--------------------+-------+--------------------+\n",
      "only showing top 20 rows\n",
      "\n"
     ]
    }
   ],
   "source": [
    "\n",
    "\n",
    "path_lineup = os.path.join(\"s3://\",\"sor\",\"football\",\"data\",\"lineups\",\"*.json\")\n",
    "\n",
    "df_lineup = spark.read.option(\"multiline\", \"true\").json(path_lineup)\n",
    "print(df_lineup.count())\n",
    "df_lineup.show()"
   ]
  },
  {
   "cell_type": "code",
   "execution_count": null,
   "metadata": {},
   "outputs": [],
   "source": [
    "# jogar na landing\n",
    "df_lineup_match = df_lineup.withColumn()\n",
    "df_lineup.write.json"
   ]
  },
  {
   "cell_type": "code",
   "execution_count": 43,
   "metadata": {},
   "outputs": [
    {
     "name": "stderr",
     "output_type": "stream",
     "text": [
      "                                                                                \r"
     ]
    },
    {
     "ename": "AnalysisException",
     "evalue": "\nSince Spark 2.3, the queries from raw JSON/CSV files are disallowed when the\nreferenced columns only include the internal corrupt record column\n(named _corrupt_record by default). For example:\nspark.read.schema(schema).csv(file).filter($\"_corrupt_record\".isNotNull).count()\nand spark.read.schema(schema).csv(file).select(\"_corrupt_record\").show().\nInstead, you can cache or save the parsed results and then send the same query.\nFor example, val df = spark.read.schema(schema).csv(file).cache() and then\ndf.filter($\"_corrupt_record\".isNotNull).count().\n      ",
     "output_type": "error",
     "traceback": [
      "\u001b[0;31m---------------------------------------------------------------------------\u001b[0m",
      "\u001b[0;31mAnalysisException\u001b[0m                         Traceback (most recent call last)",
      "Cell \u001b[0;32mIn[43], line 3\u001b[0m\n\u001b[1;32m      1\u001b[0m path_lineup2 \u001b[39m=\u001b[39m os\u001b[39m.\u001b[39mpath\u001b[39m.\u001b[39mjoin(\u001b[39m\"\u001b[39m\u001b[39ms3://\u001b[39m\u001b[39m\"\u001b[39m,\u001b[39m\"\u001b[39m\u001b[39msor\u001b[39m\u001b[39m\"\u001b[39m,\u001b[39m\"\u001b[39m\u001b[39mfootball\u001b[39m\u001b[39m\"\u001b[39m,\u001b[39m\"\u001b[39m\u001b[39mdata\u001b[39m\u001b[39m\"\u001b[39m,\u001b[39m\"\u001b[39m\u001b[39mlineups\u001b[39m\u001b[39m\"\u001b[39m)\n\u001b[1;32m      2\u001b[0m df_lineup2 \u001b[39m=\u001b[39m spark\u001b[39m.\u001b[39mread\u001b[39m.\u001b[39mjson(path_lineup2)\n\u001b[0;32m----> 3\u001b[0m df_lineup2\u001b[39m.\u001b[39;49mshow()\n",
      "File \u001b[0;32m/home/glue_user/spark/python/pyspark/sql/dataframe.py:607\u001b[0m, in \u001b[0;36mDataFrame.show\u001b[0;34m(self, n, truncate, vertical)\u001b[0m\n\u001b[1;32m    604\u001b[0m     \u001b[39mraise\u001b[39;00m \u001b[39mTypeError\u001b[39;00m(\u001b[39m\"\u001b[39m\u001b[39mParameter \u001b[39m\u001b[39m'\u001b[39m\u001b[39mvertical\u001b[39m\u001b[39m'\u001b[39m\u001b[39m must be a bool\u001b[39m\u001b[39m\"\u001b[39m)\n\u001b[1;32m    606\u001b[0m \u001b[39mif\u001b[39;00m \u001b[39misinstance\u001b[39m(truncate, \u001b[39mbool\u001b[39m) \u001b[39mand\u001b[39;00m truncate:\n\u001b[0;32m--> 607\u001b[0m     \u001b[39mprint\u001b[39m(\u001b[39mself\u001b[39;49m\u001b[39m.\u001b[39;49m_jdf\u001b[39m.\u001b[39;49mshowString(n, \u001b[39m20\u001b[39;49m, vertical))\n\u001b[1;32m    608\u001b[0m \u001b[39melse\u001b[39;00m:\n\u001b[1;32m    609\u001b[0m     \u001b[39mtry\u001b[39;00m:\n",
      "File \u001b[0;32m/home/glue_user/spark/python/lib/py4j-0.10.9.5-src.zip/py4j/java_gateway.py:1321\u001b[0m, in \u001b[0;36mJavaMember.__call__\u001b[0;34m(self, *args)\u001b[0m\n\u001b[1;32m   1315\u001b[0m command \u001b[39m=\u001b[39m proto\u001b[39m.\u001b[39mCALL_COMMAND_NAME \u001b[39m+\u001b[39m\\\n\u001b[1;32m   1316\u001b[0m     \u001b[39mself\u001b[39m\u001b[39m.\u001b[39mcommand_header \u001b[39m+\u001b[39m\\\n\u001b[1;32m   1317\u001b[0m     args_command \u001b[39m+\u001b[39m\\\n\u001b[1;32m   1318\u001b[0m     proto\u001b[39m.\u001b[39mEND_COMMAND_PART\n\u001b[1;32m   1320\u001b[0m answer \u001b[39m=\u001b[39m \u001b[39mself\u001b[39m\u001b[39m.\u001b[39mgateway_client\u001b[39m.\u001b[39msend_command(command)\n\u001b[0;32m-> 1321\u001b[0m return_value \u001b[39m=\u001b[39m get_return_value(\n\u001b[1;32m   1322\u001b[0m     answer, \u001b[39mself\u001b[39;49m\u001b[39m.\u001b[39;49mgateway_client, \u001b[39mself\u001b[39;49m\u001b[39m.\u001b[39;49mtarget_id, \u001b[39mself\u001b[39;49m\u001b[39m.\u001b[39;49mname)\n\u001b[1;32m   1324\u001b[0m \u001b[39mfor\u001b[39;00m temp_arg \u001b[39min\u001b[39;00m temp_args:\n\u001b[1;32m   1325\u001b[0m     temp_arg\u001b[39m.\u001b[39m_detach()\n",
      "File \u001b[0;32m/home/glue_user/spark/python/pyspark/sql/utils.py:196\u001b[0m, in \u001b[0;36mcapture_sql_exception.<locals>.deco\u001b[0;34m(*a, **kw)\u001b[0m\n\u001b[1;32m    192\u001b[0m converted \u001b[39m=\u001b[39m convert_exception(e\u001b[39m.\u001b[39mjava_exception)\n\u001b[1;32m    193\u001b[0m \u001b[39mif\u001b[39;00m \u001b[39mnot\u001b[39;00m \u001b[39misinstance\u001b[39m(converted, UnknownException):\n\u001b[1;32m    194\u001b[0m     \u001b[39m# Hide where the exception came from that shows a non-Pythonic\u001b[39;00m\n\u001b[1;32m    195\u001b[0m     \u001b[39m# JVM exception message.\u001b[39;00m\n\u001b[0;32m--> 196\u001b[0m     \u001b[39mraise\u001b[39;00m converted \u001b[39mfrom\u001b[39;00m \u001b[39mNone\u001b[39;00m\n\u001b[1;32m    197\u001b[0m \u001b[39melse\u001b[39;00m:\n\u001b[1;32m    198\u001b[0m     \u001b[39mraise\u001b[39;00m\n",
      "\u001b[0;31mAnalysisException\u001b[0m: \nSince Spark 2.3, the queries from raw JSON/CSV files are disallowed when the\nreferenced columns only include the internal corrupt record column\n(named _corrupt_record by default). For example:\nspark.read.schema(schema).csv(file).filter($\"_corrupt_record\".isNotNull).count()\nand spark.read.schema(schema).csv(file).select(\"_corrupt_record\").show().\nInstead, you can cache or save the parsed results and then send the same query.\nFor example, val df = spark.read.schema(schema).csv(file).cache() and then\ndf.filter($\"_corrupt_record\".isNotNull).count().\n      "
     ]
    }
   ],
   "source": [
    "path_lineup2 = os.path.join(\"s3://\",\"sor\",\"football\",\"data\",\"lineups\")\n",
    "df_lineup2 = spark.read.json(path_lineup2) \n",
    "df_lineup2.show()"
   ]
  },
  {
   "cell_type": "code",
   "execution_count": null,
   "metadata": {},
   "outputs": [],
   "source": []
  }
 ],
 "metadata": {
  "kernelspec": {
   "display_name": "Python 3",
   "language": "python",
   "name": "python3"
  },
  "language_info": {
   "codemirror_mode": {
    "name": "ipython",
    "version": 3
   },
   "file_extension": ".py",
   "mimetype": "text/x-python",
   "name": "python",
   "nbconvert_exporter": "python",
   "pygments_lexer": "ipython3",
   "version": "3.10.2"
  },
  "orig_nbformat": 4
 },
 "nbformat": 4,
 "nbformat_minor": 2
}
