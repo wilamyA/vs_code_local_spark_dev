{
 "cells": [
  {
   "cell_type": "markdown",
   "metadata": {},
   "source": [
    "## Criação das partições de competition"
   ]
  },
  {
   "cell_type": "code",
   "execution_count": 1,
   "metadata": {},
   "outputs": [],
   "source": [
    "from pyspark.sql import SparkSession\n",
    "from pyspark.sql import functions as F\n",
    "import os\n",
    "import boto3"
   ]
  },
  {
   "cell_type": "code",
   "execution_count": 2,
   "metadata": {},
   "outputs": [
    {
     "name": "stderr",
     "output_type": "stream",
     "text": [
      "SLF4J: Class path contains multiple SLF4J bindings.\n",
      "SLF4J: Found binding in [jar:file:/home/glue_user/spark/jars/log4j-slf4j-impl-2.17.2.jar!/org/slf4j/impl/StaticLoggerBinder.class]\n",
      "SLF4J: Found binding in [jar:file:/home/glue_user/spark/jars/slf4j-reload4j-1.7.36.jar!/org/slf4j/impl/StaticLoggerBinder.class]\n",
      "SLF4J: Found binding in [jar:file:/home/glue_user/aws-glue-libs/jars/log4j-slf4j-impl-2.17.2.jar!/org/slf4j/impl/StaticLoggerBinder.class]\n",
      "SLF4J: Found binding in [jar:file:/home/glue_user/aws-glue-libs/jars/slf4j-reload4j-1.7.36.jar!/org/slf4j/impl/StaticLoggerBinder.class]\n",
      "SLF4J: See http://www.slf4j.org/codes.html#multiple_bindings for an explanation.\n",
      "SLF4J: Actual binding is of type [org.apache.logging.slf4j.Log4jLoggerFactory]\n",
      "Setting default log level to \"WARN\".\n",
      "To adjust logging level use sc.setLogLevel(newLevel). For SparkR, use setLogLevel(newLevel).\n"
     ]
    }
   ],
   "source": [
    "spark = SparkSession.builder.getOrCreate()"
   ]
  },
  {
   "cell_type": "code",
   "execution_count": 9,
   "metadata": {},
   "outputs": [],
   "source": [
    "# read competitions\n",
    "\n",
    "path_competitions =  os.path.join(\"s3://\",\"sor\",\"football\",\"data\",\"competitions.json\")\n",
    "df_competition = spark.read.option(\"multiline\", \"true\").json(path_competitions)"
   ]
  },
  {
   "cell_type": "code",
   "execution_count": 10,
   "metadata": {},
   "outputs": [
    {
     "name": "stdout",
     "output_type": "stream",
     "text": [
      "s3://landing/competitions\n"
     ]
    },
    {
     "name": "stderr",
     "output_type": "stream",
     "text": [
      "                                                                                \r"
     ]
    }
   ],
   "source": [
    "# Write competitions in LandingZone\n",
    "\n",
    "path_competitions_landing = os.path.join(\"s3://\",\"landing\",\"competitions\") \n",
    "print(path_competitions_landing)\n",
    "df_competition.write.partitionBy(\"season_id\").format(\"json\").mode(\"overwrite\").save(path_competitions_landing)"
   ]
  },
  {
   "cell_type": "markdown",
   "metadata": {},
   "source": [
    "## Criação das partições de Matches"
   ]
  },
  {
   "cell_type": "code",
   "execution_count": 3,
   "metadata": {},
   "outputs": [
    {
     "name": "stderr",
     "output_type": "stream",
     "text": [
      "24/01/23 00:54:56 WARN MetricsConfig: Cannot locate configuration: tried hadoop-metrics2-s3a-file-system.properties,hadoop-metrics2.properties\n",
      "[Stage 2:>                                                          (0 + 4) / 4]\r"
     ]
    },
    {
     "name": "stdout",
     "output_type": "stream",
     "text": [
      "2886\n"
     ]
    },
    {
     "name": "stderr",
     "output_type": "stream",
     "text": [
      "                                                                                \r"
     ]
    }
   ],
   "source": [
    "# Read all matches\n",
    "path_all_matches = os.path.join(\"s3://\",\"sor\",\"football\",\"data\",\"matches\",\"*\",\"*.json\")\n",
    "\n",
    "df_match = spark.read.option(\"multiline\", \"true\").json(path_all_matches)\n",
    "print(df_match.count())"
   ]
  },
  {
   "cell_type": "code",
   "execution_count": 4,
   "metadata": {},
   "outputs": [
    {
     "name": "stdout",
     "output_type": "stream",
     "text": [
      "root\n",
      " |-- away_score: long (nullable = true)\n",
      " |-- away_team: struct (nullable = true)\n",
      " |    |-- away_team_gender: string (nullable = true)\n",
      " |    |-- away_team_group: string (nullable = true)\n",
      " |    |-- away_team_id: long (nullable = true)\n",
      " |    |-- away_team_name: string (nullable = true)\n",
      " |    |-- country: struct (nullable = true)\n",
      " |    |    |-- id: long (nullable = true)\n",
      " |    |    |-- name: string (nullable = true)\n",
      " |    |-- managers: array (nullable = true)\n",
      " |    |    |-- element: struct (containsNull = true)\n",
      " |    |    |    |-- country: struct (nullable = true)\n",
      " |    |    |    |    |-- id: long (nullable = true)\n",
      " |    |    |    |    |-- name: string (nullable = true)\n",
      " |    |    |    |-- dob: string (nullable = true)\n",
      " |    |    |    |-- id: long (nullable = true)\n",
      " |    |    |    |-- name: string (nullable = true)\n",
      " |    |    |    |-- nickname: string (nullable = true)\n",
      " |-- competition: struct (nullable = true)\n",
      " |    |-- competition_id: long (nullable = true)\n",
      " |    |-- competition_name: string (nullable = true)\n",
      " |    |-- country_name: string (nullable = true)\n",
      " |-- competition_stage: struct (nullable = true)\n",
      " |    |-- id: long (nullable = true)\n",
      " |    |-- name: string (nullable = true)\n",
      " |-- home_score: long (nullable = true)\n",
      " |-- home_team: struct (nullable = true)\n",
      " |    |-- country: struct (nullable = true)\n",
      " |    |    |-- id: long (nullable = true)\n",
      " |    |    |-- name: string (nullable = true)\n",
      " |    |-- home_team_gender: string (nullable = true)\n",
      " |    |-- home_team_group: string (nullable = true)\n",
      " |    |-- home_team_id: long (nullable = true)\n",
      " |    |-- home_team_name: string (nullable = true)\n",
      " |    |-- managers: array (nullable = true)\n",
      " |    |    |-- element: struct (containsNull = true)\n",
      " |    |    |    |-- country: struct (nullable = true)\n",
      " |    |    |    |    |-- id: long (nullable = true)\n",
      " |    |    |    |    |-- name: string (nullable = true)\n",
      " |    |    |    |-- dob: string (nullable = true)\n",
      " |    |    |    |-- id: long (nullable = true)\n",
      " |    |    |    |-- name: string (nullable = true)\n",
      " |    |    |    |-- nickname: string (nullable = true)\n",
      " |-- kick_off: string (nullable = true)\n",
      " |-- last_updated: string (nullable = true)\n",
      " |-- last_updated_360: string (nullable = true)\n",
      " |-- match_date: string (nullable = true)\n",
      " |-- match_id: long (nullable = true)\n",
      " |-- match_status: string (nullable = true)\n",
      " |-- match_status_360: string (nullable = true)\n",
      " |-- match_week: long (nullable = true)\n",
      " |-- metadata: struct (nullable = true)\n",
      " |    |-- data_version: string (nullable = true)\n",
      " |    |-- shot_fidelity_version: string (nullable = true)\n",
      " |    |-- xy_fidelity_version: string (nullable = true)\n",
      " |-- referee: struct (nullable = true)\n",
      " |    |-- country: struct (nullable = true)\n",
      " |    |    |-- id: long (nullable = true)\n",
      " |    |    |-- name: string (nullable = true)\n",
      " |    |-- id: long (nullable = true)\n",
      " |    |-- name: string (nullable = true)\n",
      " |-- season: struct (nullable = true)\n",
      " |    |-- season_id: long (nullable = true)\n",
      " |    |-- season_name: string (nullable = true)\n",
      " |-- stadium: struct (nullable = true)\n",
      " |    |-- country: struct (nullable = true)\n",
      " |    |    |-- id: long (nullable = true)\n",
      " |    |    |-- name: string (nullable = true)\n",
      " |    |-- id: long (nullable = true)\n",
      " |    |-- name: string (nullable = true)\n",
      "\n"
     ]
    }
   ],
   "source": [
    "df_match.printSchema()"
   ]
  },
  {
   "cell_type": "code",
   "execution_count": 17,
   "metadata": {},
   "outputs": [
    {
     "name": "stdout",
     "output_type": "stream",
     "text": [
      "+----------+--------------------+--------------------+-------------------+----------+--------------------+------------+--------------------+----------------+----------+--------+------------+----------------+----------+-------------+--------------------+---------------+--------------------+\n",
      "|away_score|           away_team|         competition|  competition_stage|home_score|           home_team|    kick_off|        last_updated|last_updated_360|match_date|match_id|match_status|match_status_360|match_week|     metadata|             referee|         season|             stadium|\n",
      "+----------+--------------------+--------------------+-------------------+----------+--------------------+------------+--------------------+----------------+----------+--------+------------+----------------+----------+-------------+--------------------+---------------+--------------------+\n",
      "|         2|{male, null, 322,...|{11, La Liga, Spain}|{1, Regular Season}|         2|{{214, Spain}, ma...|20:00:00.000|2023-02-21T15:19:...|            null|2015-09-23| 3825848|   available|     unscheduled|         5|{1.1.0, 2, 2}|                null|{27, 2015/2016}|{{214, Spain}, 35...|\n",
      "|         0|{male, null, 213,...|{11, La Liga, Spain}|{1, Regular Season}|         2|{{214, Spain}, ma...|22:00:00.000|2023-02-21T15:19:...|            null|2015-09-23| 3825895|   available|     unscheduled|         5|{1.1.0, 2, 2}|{{214, Spain}, 27...|{27, 2015/2016}|{{214, Spain}, 35...|\n",
      "|         2|{male, null, 216,...|{11, La Liga, Spain}|{1, Regular Season}|         0|{{214, Spain}, ma...|18:15:00.000|2022-08-30T12:53:...|            null|2016-05-01| 3825894|   available|     unscheduled|        36|{1.1.0, 2, 2}|{{214, Spain}, 10...|{27, 2015/2016}|{{214, Spain}, 46...|\n",
      "|         1|{male, null, 221,...|{11, La Liga, Spain}|{1, Regular Season}|         3|{{214, Spain}, ma...|20:30:00.000|2022-08-30T12:53:...|            null|2016-05-02| 3825855|   available|     unscheduled|        36|{1.1.0, 2, 2}|{{214, Spain}, 24...|{27, 2015/2016}|{{214, Spain}, 34...|\n",
      "|         2|{male, null, 322,...|{11, La Liga, Spain}|{1, Regular Season}|         4|{{214, Spain}, ma...|19:00:00.000|2022-04-06T22:39:...|            null|2016-05-15| 3825908|   available|     unscheduled|        38|{1.1.0, 2, 2}|{{214, Spain}, 26...|{27, 2015/2016}|{{214, Spain}, 35...|\n",
      "|         1|{male, null, 208,...|{11, La Liga, Spain}|{1, Regular Season}|         4|{{214, Spain}, ma...|12:00:00.000|2022-08-30T13:15:...|            null|2016-05-15| 3825883|   available|     unscheduled|        38|{1.1.0, 2, 2}|{{214, Spain}, 26...|{27, 2015/2016}|{{214, Spain}, 34...|\n",
      "|         0|{male, null, 222,...|{11, La Liga, Spain}|{1, Regular Season}|         2|{{214, Spain}, ma...|19:30:00.000|2022-04-06T22:37:...|            null|2016-05-15| 3825900|   available|     unscheduled|        38|{1.1.0, 2, 2}|{{214, Spain}, 22...|{27, 2015/2016}|{{214, Spain}, 46...|\n",
      "|         1|{male, null, 221,...|{11, La Liga, Spain}|{1, Regular Season}|         3|{{214, Spain}, ma...|19:30:00.000|2022-04-06T22:35:...|            null|2016-05-15| 3825902|   available|     unscheduled|        38|{1.1.0, 2, 2}|{{214, Spain}, 10...|{27, 2015/2016}|{{214, Spain}, 46...|\n",
      "|         1|{male, null, 216,...|{11, La Liga, Spain}|{1, Regular Season}|         2|{{214, Spain}, ma...|19:30:00.000|2022-04-06T22:34:...|            null|2016-05-15| 3825876|   available|     unscheduled|        38|{1.1.0, 2, 2}|{{214, Spain}, 18...|{27, 2015/2016}|{{214, Spain}, 35...|\n",
      "|         2|{male, null, 220,...|{11, La Liga, Spain}|{1, Regular Season}|         0|{{214, Spain}, ma...|17:00:00.000|2022-04-06T22:33:...|            null|2016-05-14| 3825846|   available|     unscheduled|        38|{1.1.0, 2, 2}|{{214, Spain}, 18...|{27, 2015/2016}|{{214, Spain}, 46...|\n",
      "|         1|{male, null, 213,...|{11, La Liga, Spain}|{1, Regular Season}|         3|{{214, Spain}, ma...|19:30:00.000|2022-08-30T13:07:...|            null|2016-05-14| 3825869|   available|     unscheduled|        38|{1.1.0, 2, 2}|{{214, Spain}, 21...|{27, 2015/2016}|{{214, Spain}, 34...|\n",
      "|         0|{male, null, 209,...|{11, La Liga, Spain}|{1, Regular Season}|         2|{{214, Spain}, ma...|19:30:00.000|2022-04-06T22:30:...|            null|2016-05-14| 3825882|   available|     unscheduled|        38|{1.1.0, 2, 2}|{{214, Spain}, 22...|{27, 2015/2016}|{{214, Spain}, 62...|\n",
      "|         1|{male, null, 210,...|{11, La Liga, Spain}|{1, Regular Season}|         0|{{214, Spain}, ma...|20:30:00.000|2022-04-06T22:29:...|            null|2016-05-13| 3825849|   available|     unscheduled|        38|{1.1.0, 2, 2}|{{214, Spain}, 25...|{27, 2015/2016}|{{214, Spain}, 34...|\n",
      "|         1|{male, null, 212,...|{11, La Liga, Spain}|{1, Regular Season}|         2|{{214, Spain}, ma...|17:00:00.000|2022-04-06T22:28:...|            null|2016-05-08| 3825860|   available|     unscheduled|        37|{1.1.0, 2, 2}|{{214, Spain}, 21...|{27, 2015/2016}|{{214, Spain}, 35...|\n",
      "|         1|{male, null, 219,...|{11, La Liga, Spain}|{1, Regular Season}|         1|{{214, Spain}, ma...|22:05:00.000|2022-03-26T14:52:...|            null|2016-04-23| 3825847|   available|     unscheduled|        35|{1.1.0, 2, 2}|{{214, Spain}, 24...|{27, 2015/2016}|{{214, Spain}, 34...|\n",
      "|         1|{male, null, 322,...|{11, La Liga, Spain}|{1, Regular Season}|         1|{{214, Spain}, ma...|21:30:00.000|2022-05-08T21:31:...|            null|2016-03-18| 3825817|   available|     unscheduled|        30|{1.1.0, 2, 2}|{{214, Spain}, 21...|{27, 2015/2016}|{{214, Spain}, 35...|\n",
      "|         1|{male, null, 1041...|{11, La Liga, Spain}|{1, Regular Season}|         1|{{214, Spain}, ma...|21:30:00.000|2022-03-26T14:39:...|            null|2016-02-20| 3825778|   available|     unscheduled|        25|{1.1.0, 2, 2}|{{214, Spain}, 21...|{27, 2015/2016}|{{214, Spain}, 35...|\n",
      "|         0|{male, null, 216,...|{11, La Liga, Spain}|{1, Regular Season}|         3|{{214, Spain}, ma...|21:30:00.000|2022-05-08T21:01:...|            null|2016-02-19| 3825777|   available|     unscheduled|        25|{1.1.0, 2, 2}|{{214, Spain}, 21...|{27, 2015/2016}|{{214, Spain}, 35...|\n",
      "|         1|{male, null, 1049...|{11, La Liga, Spain}|{1, Regular Season}|         5|{{214, Spain}, ma...|21:30:00.000|2022-03-26T14:32:...|            null|2016-01-18| 3825740|   available|     unscheduled|        20|{1.1.0, 2, 2}|{{214, Spain}, 26...|{27, 2015/2016}|{{214, Spain}, 34...|\n",
      "|         0|{male, null, 210,...|{11, La Liga, Spain}|{1, Regular Season}|         0|{{214, Spain}, ma...|20:30:00.000|2022-03-22T17:53:...|            null|2016-04-24| 3825875|   available|     unscheduled|        35|{1.1.0, 2, 2}|{{214, Spain}, 22...|{27, 2015/2016}|{{214, Spain}, 36...|\n",
      "+----------+--------------------+--------------------+-------------------+----------+--------------------+------------+--------------------+----------------+----------+--------+------------+----------------+----------+-------------+--------------------+---------------+--------------------+\n",
      "only showing top 20 rows\n",
      "\n"
     ]
    }
   ],
   "source": [
    "df_match.show()"
   ]
  },
  {
   "cell_type": "code",
   "execution_count": 19,
   "metadata": {},
   "outputs": [
    {
     "name": "stdout",
     "output_type": "stream",
     "text": [
      "+---------+--------------+\n",
      "|season_id|competition_id|\n",
      "+---------+--------------+\n",
      "|       27|            11|\n",
      "|       27|            11|\n",
      "|       27|            11|\n",
      "|       27|            11|\n",
      "|       27|            11|\n",
      "|       27|            11|\n",
      "|       27|            11|\n",
      "|       27|            11|\n",
      "|       27|            11|\n",
      "|       27|            11|\n",
      "|       27|            11|\n",
      "|       27|            11|\n",
      "|       27|            11|\n",
      "|       27|            11|\n",
      "|       27|            11|\n",
      "|       27|            11|\n",
      "|       27|            11|\n",
      "|       27|            11|\n",
      "|       27|            11|\n",
      "|       27|            11|\n",
      "+---------+--------------+\n",
      "only showing top 20 rows\n",
      "\n"
     ]
    }
   ],
   "source": [
    "df_match.select(\"season.season_id\", \"competition.competition_id\").show()"
   ]
  },
  {
   "cell_type": "code",
   "execution_count": 28,
   "metadata": {},
   "outputs": [
    {
     "name": "stdout",
     "output_type": "stream",
     "text": [
      "+----------+--------------------+--------------------+-------------------+----------+--------------------+------------+--------------------+----------------+----------+--------+------------+----------------+----------+-------------+--------------------+---------------+--------------------+--------------+---------+\n",
      "|away_score|           away_team|         competition|  competition_stage|home_score|           home_team|    kick_off|        last_updated|last_updated_360|match_date|match_id|match_status|match_status_360|match_week|     metadata|             referee|         season|             stadium|competition_id|season_id|\n",
      "+----------+--------------------+--------------------+-------------------+----------+--------------------+------------+--------------------+----------------+----------+--------+------------+----------------+----------+-------------+--------------------+---------------+--------------------+--------------+---------+\n",
      "|         2|{male, null, 322,...|{11, La Liga, Spain}|{1, Regular Season}|         2|{{214, Spain}, ma...|20:00:00.000|2023-02-21T15:19:...|            null|2015-09-23| 3825848|   available|     unscheduled|         5|{1.1.0, 2, 2}|                null|{27, 2015/2016}|{{214, Spain}, 35...|            11|       27|\n",
      "|         0|{male, null, 213,...|{11, La Liga, Spain}|{1, Regular Season}|         2|{{214, Spain}, ma...|22:00:00.000|2023-02-21T15:19:...|            null|2015-09-23| 3825895|   available|     unscheduled|         5|{1.1.0, 2, 2}|{{214, Spain}, 27...|{27, 2015/2016}|{{214, Spain}, 35...|            11|       27|\n",
      "|         2|{male, null, 216,...|{11, La Liga, Spain}|{1, Regular Season}|         0|{{214, Spain}, ma...|18:15:00.000|2022-08-30T12:53:...|            null|2016-05-01| 3825894|   available|     unscheduled|        36|{1.1.0, 2, 2}|{{214, Spain}, 10...|{27, 2015/2016}|{{214, Spain}, 46...|            11|       27|\n",
      "|         1|{male, null, 221,...|{11, La Liga, Spain}|{1, Regular Season}|         3|{{214, Spain}, ma...|20:30:00.000|2022-08-30T12:53:...|            null|2016-05-02| 3825855|   available|     unscheduled|        36|{1.1.0, 2, 2}|{{214, Spain}, 24...|{27, 2015/2016}|{{214, Spain}, 34...|            11|       27|\n",
      "|         2|{male, null, 322,...|{11, La Liga, Spain}|{1, Regular Season}|         4|{{214, Spain}, ma...|19:00:00.000|2022-04-06T22:39:...|            null|2016-05-15| 3825908|   available|     unscheduled|        38|{1.1.0, 2, 2}|{{214, Spain}, 26...|{27, 2015/2016}|{{214, Spain}, 35...|            11|       27|\n",
      "|         1|{male, null, 208,...|{11, La Liga, Spain}|{1, Regular Season}|         4|{{214, Spain}, ma...|12:00:00.000|2022-08-30T13:15:...|            null|2016-05-15| 3825883|   available|     unscheduled|        38|{1.1.0, 2, 2}|{{214, Spain}, 26...|{27, 2015/2016}|{{214, Spain}, 34...|            11|       27|\n",
      "|         0|{male, null, 222,...|{11, La Liga, Spain}|{1, Regular Season}|         2|{{214, Spain}, ma...|19:30:00.000|2022-04-06T22:37:...|            null|2016-05-15| 3825900|   available|     unscheduled|        38|{1.1.0, 2, 2}|{{214, Spain}, 22...|{27, 2015/2016}|{{214, Spain}, 46...|            11|       27|\n",
      "|         1|{male, null, 221,...|{11, La Liga, Spain}|{1, Regular Season}|         3|{{214, Spain}, ma...|19:30:00.000|2022-04-06T22:35:...|            null|2016-05-15| 3825902|   available|     unscheduled|        38|{1.1.0, 2, 2}|{{214, Spain}, 10...|{27, 2015/2016}|{{214, Spain}, 46...|            11|       27|\n",
      "|         1|{male, null, 216,...|{11, La Liga, Spain}|{1, Regular Season}|         2|{{214, Spain}, ma...|19:30:00.000|2022-04-06T22:34:...|            null|2016-05-15| 3825876|   available|     unscheduled|        38|{1.1.0, 2, 2}|{{214, Spain}, 18...|{27, 2015/2016}|{{214, Spain}, 35...|            11|       27|\n",
      "|         2|{male, null, 220,...|{11, La Liga, Spain}|{1, Regular Season}|         0|{{214, Spain}, ma...|17:00:00.000|2022-04-06T22:33:...|            null|2016-05-14| 3825846|   available|     unscheduled|        38|{1.1.0, 2, 2}|{{214, Spain}, 18...|{27, 2015/2016}|{{214, Spain}, 46...|            11|       27|\n",
      "|         1|{male, null, 213,...|{11, La Liga, Spain}|{1, Regular Season}|         3|{{214, Spain}, ma...|19:30:00.000|2022-08-30T13:07:...|            null|2016-05-14| 3825869|   available|     unscheduled|        38|{1.1.0, 2, 2}|{{214, Spain}, 21...|{27, 2015/2016}|{{214, Spain}, 34...|            11|       27|\n",
      "|         0|{male, null, 209,...|{11, La Liga, Spain}|{1, Regular Season}|         2|{{214, Spain}, ma...|19:30:00.000|2022-04-06T22:30:...|            null|2016-05-14| 3825882|   available|     unscheduled|        38|{1.1.0, 2, 2}|{{214, Spain}, 22...|{27, 2015/2016}|{{214, Spain}, 62...|            11|       27|\n",
      "|         1|{male, null, 210,...|{11, La Liga, Spain}|{1, Regular Season}|         0|{{214, Spain}, ma...|20:30:00.000|2022-04-06T22:29:...|            null|2016-05-13| 3825849|   available|     unscheduled|        38|{1.1.0, 2, 2}|{{214, Spain}, 25...|{27, 2015/2016}|{{214, Spain}, 34...|            11|       27|\n",
      "|         1|{male, null, 212,...|{11, La Liga, Spain}|{1, Regular Season}|         2|{{214, Spain}, ma...|17:00:00.000|2022-04-06T22:28:...|            null|2016-05-08| 3825860|   available|     unscheduled|        37|{1.1.0, 2, 2}|{{214, Spain}, 21...|{27, 2015/2016}|{{214, Spain}, 35...|            11|       27|\n",
      "|         1|{male, null, 219,...|{11, La Liga, Spain}|{1, Regular Season}|         1|{{214, Spain}, ma...|22:05:00.000|2022-03-26T14:52:...|            null|2016-04-23| 3825847|   available|     unscheduled|        35|{1.1.0, 2, 2}|{{214, Spain}, 24...|{27, 2015/2016}|{{214, Spain}, 34...|            11|       27|\n",
      "|         1|{male, null, 322,...|{11, La Liga, Spain}|{1, Regular Season}|         1|{{214, Spain}, ma...|21:30:00.000|2022-05-08T21:31:...|            null|2016-03-18| 3825817|   available|     unscheduled|        30|{1.1.0, 2, 2}|{{214, Spain}, 21...|{27, 2015/2016}|{{214, Spain}, 35...|            11|       27|\n",
      "|         1|{male, null, 1041...|{11, La Liga, Spain}|{1, Regular Season}|         1|{{214, Spain}, ma...|21:30:00.000|2022-03-26T14:39:...|            null|2016-02-20| 3825778|   available|     unscheduled|        25|{1.1.0, 2, 2}|{{214, Spain}, 21...|{27, 2015/2016}|{{214, Spain}, 35...|            11|       27|\n",
      "|         0|{male, null, 216,...|{11, La Liga, Spain}|{1, Regular Season}|         3|{{214, Spain}, ma...|21:30:00.000|2022-05-08T21:01:...|            null|2016-02-19| 3825777|   available|     unscheduled|        25|{1.1.0, 2, 2}|{{214, Spain}, 21...|{27, 2015/2016}|{{214, Spain}, 35...|            11|       27|\n",
      "|         1|{male, null, 1049...|{11, La Liga, Spain}|{1, Regular Season}|         5|{{214, Spain}, ma...|21:30:00.000|2022-03-26T14:32:...|            null|2016-01-18| 3825740|   available|     unscheduled|        20|{1.1.0, 2, 2}|{{214, Spain}, 26...|{27, 2015/2016}|{{214, Spain}, 34...|            11|       27|\n",
      "|         0|{male, null, 210,...|{11, La Liga, Spain}|{1, Regular Season}|         0|{{214, Spain}, ma...|20:30:00.000|2022-03-22T17:53:...|            null|2016-04-24| 3825875|   available|     unscheduled|        35|{1.1.0, 2, 2}|{{214, Spain}, 22...|{27, 2015/2016}|{{214, Spain}, 36...|            11|       27|\n",
      "+----------+--------------------+--------------------+-------------------+----------+--------------------+------------+--------------------+----------------+----------+--------+------------+----------------+----------+-------------+--------------------+---------------+--------------------+--------------+---------+\n",
      "only showing top 20 rows\n",
      "\n"
     ]
    }
   ],
   "source": [
    "df_match_add_col_competition = df_match.withColumn(\"competition_id\", F.col(\"competition.competition_id\"))\n",
    "df_match_add_col_season = df_match_add_col_competition.withColumn(\"season_id\", F.col(\"season.season_id\"))\n",
    "df_match_add_col_season.show()"
   ]
  },
  {
   "cell_type": "code",
   "execution_count": 30,
   "metadata": {},
   "outputs": [
    {
     "name": "stderr",
     "output_type": "stream",
     "text": [
      "                                                                                \r"
     ]
    }
   ],
   "source": [
    "path_match_landing = os.path.join(\"s3://\",\"landing\",\"matches\") \n",
    "\n",
    "# Escreve na camada landing particionando por competition_id e season_id\n",
    "df_match_add_col_season.write.partitionBy(\"competition_id\",\"season_id\").format(\"json\").mode(\"overwrite\").save(path_match_landing)"
   ]
  },
  {
   "cell_type": "markdown",
   "metadata": {},
   "source": [
    "# análise de casos de matches"
   ]
  },
  {
   "cell_type": "code",
   "execution_count": 40,
   "metadata": {},
   "outputs": [
    {
     "name": "stdout",
     "output_type": "stream",
     "text": [
      "380\n",
      "+---------------------------------------------------------------------------------------------------------------------------------------------------------+\n",
      "|away_team                                                                                                                                                |\n",
      "+---------------------------------------------------------------------------------------------------------------------------------------------------------+\n",
      "|{male, 28, AFC Bournemouth, {68, England}, [{{68, England}, 1977-11-29, 38, Eddie Howe, null}]}                                                          |\n",
      "|{male, 40, West Ham United, {68, England}, [{{56, Croatia}, 1968-09-11, 150, Slaven Bilić, null}]}                                                       |\n",
      "|{male, 29, Everton, {68, England}, [{{214, Spain}, 1973-07-13, 263, Roberto Martínez Montoliú, Roberto Martínez}]}                                       |\n",
      "|{male, 28, AFC Bournemouth, {68, England}, [{{68, England}, 1977-11-29, 38, Eddie Howe, null}]}                                                          |\n",
      "|{male, 26, Swansea City, {249, Wales}, [{{112, Italy}, 1955-10-03, 3626, Francesco Guidolin, null}]}                                                     |\n",
      "|{male, 30, Stoke City, {68, England}, [{{249, Wales}, 1963-11-01, 55, Mark Hughes, null}]}                                                               |\n",
      "|{male, 26, Swansea City, {249, Wales}, [{{68, England}, 1979-03-06, 270, Garry Monk, null}]}                                                             |\n",
      "|{male, 41, Sunderland, {68, England}, [{{68, England}, 1954-10-19, 561, Sam Allardyce, null}]}                                                           |\n",
      "|{male, 1, Arsenal, {68, England}, [{{78, France}, 1949-10-22, 577, Arsène Wenger, null}]}                                                                |\n",
      "|{male, 31, Crystal Palace, {68, England}, [{{68, England}, 1961-07-18, 382, Alan Pardew, null}]}                                                         |\n",
      "|{male, 25, Southampton, {68, England}, [{{160, Netherlands}, 1963-03-21, 676, Ronald Koeman, null}]}                                                     |\n",
      "|{male, 1, Arsenal, {68, England}, [{{78, France}, 1949-10-22, 577, Arsène Wenger, null}]}                                                                |\n",
      "|{male, 40, West Ham United, {68, England}, [{{56, Croatia}, 1968-09-11, 150, Slaven Bilić, null}]}                                                       |\n",
      "|{male, 24, Liverpool, {68, England}, [{{169, Northern Ireland}, 1973-01-26, 6, Brendan Rodgers, null}]}                                                  |\n",
      "|{male, 30, Stoke City, {68, England}, [{{249, Wales}, 1963-11-01, 55, Mark Hughes, null}]}                                                               |\n",
      "|{male, 38, Tottenham Hotspur, {68, England}, [{{11, Argentina}, 1972-03-02, 81, Mauricio Roberto Pochettino Trossero, Mauricio Pochettino}]}             |\n",
      "|{male, 26, Swansea City, {249, Wales}, [{{249, Wales}, 1954-04-16, 4711, Alan Curtis, null}, {{112, Italy}, 1955-10-03, 3626, Francesco Guidolin, null}]}|\n",
      "|{male, 29, Everton, {68, England}, [{{214, Spain}, 1973-07-13, 263, Roberto Martínez Montoliú, Roberto Martínez}]}                                       |\n",
      "|{male, 1, Arsenal, {68, England}, [{{78, France}, 1949-10-22, 577, Arsène Wenger, null}]}                                                                |\n",
      "|{male, 36, Manchester City, {68, England}, [{{45, Chile}, 1953-09-16, 733, Manuel Luis Pellegrini Ripamonti, Manuel Pellegrini}]}                        |\n",
      "+---------------------------------------------------------------------------------------------------------------------------------------------------------+\n",
      "only showing top 20 rows\n",
      "\n"
     ]
    }
   ],
   "source": [
    "# Consulta por competicao e temporada\n",
    "\n",
    "competition_id = \"2\"\n",
    "season_id = \"27\"\n",
    "\n",
    "df_competition2_season27 = spark.read.json(f\"s3://landing/matches/competition_id={competition_id}/season_id={season_id}\")\n",
    "print(df_competition2_season27.count())\n",
    "df_competition2_season27.select(\"away_team\").orderBy(\"match_id\").show(truncate=False)\n",
    "\n"
   ]
  },
  {
   "cell_type": "code",
   "execution_count": 38,
   "metadata": {},
   "outputs": [
    {
     "name": "stdout",
     "output_type": "stream",
     "text": [
      "+---------------------------------------------------------------------------------------------------------------------------------------------------------------+\n",
      "|away_team                                                                                                                                                      |\n",
      "+---------------------------------------------------------------------------------------------------------------------------------------------------------------+\n",
      "|{male, null, 28, AFC Bournemouth, {68, England}, [{{68, England}, 1977-11-29, 38, Eddie Howe, null}]}                                                          |\n",
      "|{male, null, 40, West Ham United, {68, England}, [{{56, Croatia}, 1968-09-11, 150, Slaven Bilić, null}]}                                                       |\n",
      "|{male, null, 29, Everton, {68, England}, [{{214, Spain}, 1973-07-13, 263, Roberto Martínez Montoliú, Roberto Martínez}]}                                       |\n",
      "|{male, null, 28, AFC Bournemouth, {68, England}, [{{68, England}, 1977-11-29, 38, Eddie Howe, null}]}                                                          |\n",
      "|{male, null, 26, Swansea City, {249, Wales}, [{{112, Italy}, 1955-10-03, 3626, Francesco Guidolin, null}]}                                                     |\n",
      "|{male, null, 30, Stoke City, {68, England}, [{{249, Wales}, 1963-11-01, 55, Mark Hughes, null}]}                                                               |\n",
      "|{male, null, 26, Swansea City, {249, Wales}, [{{68, England}, 1979-03-06, 270, Garry Monk, null}]}                                                             |\n",
      "|{male, null, 41, Sunderland, {68, England}, [{{68, England}, 1954-10-19, 561, Sam Allardyce, null}]}                                                           |\n",
      "|{male, null, 1, Arsenal, {68, England}, [{{78, France}, 1949-10-22, 577, Arsène Wenger, null}]}                                                                |\n",
      "|{male, null, 31, Crystal Palace, {68, England}, [{{68, England}, 1961-07-18, 382, Alan Pardew, null}]}                                                         |\n",
      "|{male, null, 25, Southampton, {68, England}, [{{160, Netherlands}, 1963-03-21, 676, Ronald Koeman, null}]}                                                     |\n",
      "|{male, null, 1, Arsenal, {68, England}, [{{78, France}, 1949-10-22, 577, Arsène Wenger, null}]}                                                                |\n",
      "|{male, null, 40, West Ham United, {68, England}, [{{56, Croatia}, 1968-09-11, 150, Slaven Bilić, null}]}                                                       |\n",
      "|{male, null, 24, Liverpool, {68, England}, [{{169, Northern Ireland}, 1973-01-26, 6, Brendan Rodgers, null}]}                                                  |\n",
      "|{male, null, 30, Stoke City, {68, England}, [{{249, Wales}, 1963-11-01, 55, Mark Hughes, null}]}                                                               |\n",
      "|{male, null, 38, Tottenham Hotspur, {68, England}, [{{11, Argentina}, 1972-03-02, 81, Mauricio Roberto Pochettino Trossero, Mauricio Pochettino}]}             |\n",
      "|{male, null, 26, Swansea City, {249, Wales}, [{{249, Wales}, 1954-04-16, 4711, Alan Curtis, null}, {{112, Italy}, 1955-10-03, 3626, Francesco Guidolin, null}]}|\n",
      "|{male, null, 29, Everton, {68, England}, [{{214, Spain}, 1973-07-13, 263, Roberto Martínez Montoliú, Roberto Martínez}]}                                       |\n",
      "|{male, null, 1, Arsenal, {68, England}, [{{78, France}, 1949-10-22, 577, Arsène Wenger, null}]}                                                                |\n",
      "|{male, null, 36, Manchester City, {68, England}, [{{45, Chile}, 1953-09-16, 733, Manuel Luis Pellegrini Ripamonti, Manuel Pellegrini}]}                        |\n",
      "+---------------------------------------------------------------------------------------------------------------------------------------------------------------+\n",
      "only showing top 20 rows\n",
      "\n",
      "380\n"
     ]
    }
   ],
   "source": [
    "# Consulta por competicao e temporada usando where\n",
    "spark.conf.set(\"spark.sql.repl.eagerEval.enabled\", False)\n",
    "\n",
    "df_matches_landing = spark.read.json(path_match_landing)\n",
    "df_matches_landing.select(\"away_team\").where(f\"season_id = {season_id} and competition_id = {competition_id}\").orderBy(\"match_id\").show(truncate=False)\n",
    "print(df_matches_landing.where(f\"season_id = {season_id} and competition_id = {competition_id}\").count())"
   ]
  },
  {
   "cell_type": "code",
   "execution_count": 41,
   "metadata": {},
   "outputs": [
    {
     "name": "stdout",
     "output_type": "stream",
     "text": [
      "+---------+\n",
      "|season_id|\n",
      "+---------+\n",
      "|       27|\n",
      "|       44|\n",
      "+---------+\n",
      "\n"
     ]
    }
   ],
   "source": [
    "# consulta por competicao, exibindo temporadas distintas\n",
    "df_competition2 = spark.read.json(f\"s3://landing/matches/competition_id={competition_id}\")\n",
    "df_competition2.select(\"season_id\").distinct().show()"
   ]
  },
  {
   "cell_type": "markdown",
   "metadata": {},
   "source": [
    "## Particao LineUp"
   ]
  },
  {
   "cell_type": "code",
   "execution_count": 2,
   "metadata": {},
   "outputs": [
    {
     "name": "stdout",
     "output_type": "stream",
     "text": [
      "<botocore.client.S3 object at 0x7fc7c11cbc40>\n"
     ]
    }
   ],
   "source": [
    "\n",
    "MINIO_ENDPOINT = \"http://storage:9000\"\n",
    "\n",
    "s3_endpoint_url = MINIO_ENDPOINT\n",
    "aws_access_key_id = \"root\"\n",
    "aws_secret_access_key = \"password\"\n",
    "bucket_name = \"sor\"\n",
    "prefix = \"football/data/lineups/\"\n",
    "\n",
    "s3 = boto3.client(\n",
    "                            \"s3\",\n",
    "                            endpoint_url=s3_endpoint_url,\n",
    "                            aws_access_key_id=aws_access_key_id,\n",
    "                            aws_secret_access_key=aws_secret_access_key\n",
    "                        )\n",
    "\n",
    "print(s3)\n"
   ]
  },
  {
   "cell_type": "code",
   "execution_count": 3,
   "metadata": {},
   "outputs": [
    {
     "name": "stdout",
     "output_type": "stream",
     "text": [
      "['15946', '15956', '15973', '15978', '15986', '15998', '16010', '16023', '16029', '16056', '16073', '16079', '16086', '16095', '16109', '16120', '16131', '16136', '16149', '16157', '16173', '16182', '16190', '16196', '16205', '16215', '16231', '16240', '16248', '16265', '16275', '16289', '16306', '16317', '18235', '18236', '18237', '18240', '18241', '18242', '18243', '18244', '18245', '19714', '19715', '19716', '19717', '19718', '19719', '19720', '19722', '19723', '19724', '19725', '19726', '19727', '19728', '19729', '19730', '19731', '19732', '19733', '19734', '19735', '19736', '19737', '19738', '19739', '19740', '19741', '19742', '19743', '19744', '19745', '19746', '19747', '19748', '19749', '19750', '19751', '19752', '19753', '19754', '19755', '19756', '19757', '19758', '19759', '19760', '19761', '19762', '19763', '19764', '19765', '19766', '19767', '19768', '19769', '19770', '19771', '19772', '19773', '19774', '19775', '19776', '19777', '19778', '19779', '19780', '19781', '19782', '19783', '19784', '19785', '19786', '19787', '19788', '19789', '19790', '19791', '19792', '19793', '19794', '19795', '19796', '19797', '19798', '19799', '19800', '19801', '19802', '19803', '19804', '19805', '19806', '19807', '19808', '19809', '19810', '19811', '19813', '19814', '19815', '19816', '19817', '19818', '19819', '19820', '19821', '19822', '2275026', '2275027', '2275028', '2275029', '2275030', '2275033', '2275034', '2275036', '2275037', '2275038', '2275040', '2275041', '2275042', '2275044', '2275045', '2275048', '2275049', '2275050', '2275051', '2275052', '2275054', '2275056', '2275057', '2275061', '2275062', '2275063', '2275065', '2275070', '2275072', '2275073', '2275074', '2275075', '2275077', '2275078', '2275079', '2275080', '2275082', '2275083', '2275084', '2275085', '2275086', '2275088', '2275089', '2275090', '2275091', '2275092', '2275093', '2275094', '2275096', '2275097', '2275098', '2275099', '2275102', '2275103', '2275104', '2275105', '2275106', '2275107', '2275108', '2275109', '2275110', '2275113', '2275116', '2275117', '2275120', '2275121', '2275122', '2275126', '2275127', '2275130', '2275131', '2275132', '2275133', '2275136', '2275137', '2275138', '2275139', '2275140', '2275142', '2275144', '2275146', '2275150', '2275151', '2275153', '2275154', '2275156', '2275157', '22912', '22921', '22924', '22926', '22930', '22933', '22934', '22936', '22939', '22940', '22942', '22943', '22944', '22945', '22948', '22949', '22955', '22956', '22961', '22962', '22963', '22964', '22966', '22973', '22974', '22980', '22981', '22983', '22984', '2302764', '265830', '265835', '265837', '265839', '265857', '265866', '265894', '265896', '265918', '265944', '265952', '265958', '265963', '266015', '266033', '266045', '266056', '266066', '266074', '266106', '266117', '266142', '266148', '266149', '266160', '266166', '266191', '266201', '266230', '266236', '266240', '266254', '266256', '266273', '266274', '266280', '266299', '266310', '266320', '266357', '266406', '266420', '266424', '266433', '266440', '266462', '266467', '266477', '266490', '266491', '266498', '266516', '266525', '266528', '266531', '266557', '266560', '266603', '266613', '266620', '266631', '266653', '266664', '266669', '266670', '266724', '266731', '266741', '266770', '266794', '266815', '266827', '266838', '266846', '266871', '266874', '266883', '266885', '266892', '266916', '266921', '266929', '266952', '266961', '266967', '266986', '266989', '267039', '267058', '267076', '267077', '267085', '267101', '267138', '267183', '267192', '267197', '267212', '267220', '267273', '267274', '267301', '267327', '267343', '267368', '267373', '267395', '267400', '267422', '267432', '267464', '267492', '267499', '267502', '267506', '267520', '267533', '267561', '267567', '267569', '267576', '267590', '267596', '267597', '267611', '267660', '267670', '267675', '303377', '303400', '303421', '303430', '303451', '303470', '303473', '303479', '303487', '303493', '303504', '303516', '303517', '303524', '303532', '303548', '303596', '303600', '303610', '303615', '303634', '303652', '303664', '303666', '303674', '303680', '303682', '303696', '303700', '303707', '303715', '303725', '303731', '3749052', '3749068', '3749079', '3749108', '3749117', '3749133', '3749153', '3749192', '3749196', '3749233', '3749246', '3749253', '3749257', '3749274', '3749276', '3749278', '3749296', '3749310', '3749346', '3749358', '3749360', '3749403', '3749431', '3749434', '3749448', '3749453', '3749454', '3749462', '3749465', '3749493', '3749522', '3749526', '3749528', '3749552', '3749590', '3749603', '3749631', '3749642', '3750180', '3750191', '3750200', '3750201', '3750234', '3750235', '3750244', '3750245', '3750248', '3752619', '3753972', '3753973', '3753974', '3753975', '3753976', '3753977', '3753978', '3753979', '3753980', '3753981', '3753982', '3753983', '3753984', '3753985', '3753986', '3753987', '3753988', '3753989', '3753990', '3753991', '3753992', '3753993', '3753994', '3753995', '3753996', '3753997', '3753998', '3753999', '3754000', '3754001', '3754002', '3754003', '3754004', '3754005', '3754006', '3754007', '3754008', '3754009', '3754010', '3754011', '3754012', '3754013', '3754014', '3754015', '3754016', '3754017', '3754018', '3754019', '3754020', '3754021', '3754022', '3754023', '3754024', '3754025', '3754026', '3754027', '3754028', '3754029', '3754030', '3754031', '3754032', '3754033', '3754034', '3754035', '3754036', '3754037', '3754038', '3754039', '3754040', '3754041', '3754042', '3754043', '3754044', '3754045', '3754046', '3754047', '3754048', '3754049', '3754050', '3754051', '3754052', '3754053', '3754054', '3754055', '3754056', '3754057', '3754058', '3754059', '3754060', '3754061', '3754062', '3754063', '3754064', '3754065', '3754066', '3754067', '3754068', '3754069', '3754070', '3754071', '3754072', '3754073', '3754074', '3754075', '3754076', '3754077', '3754078', '3754079', '3754080', '3754081', '3754082', '3754083', '3754084', '3754085', '3754086', '3754087', '3754088', '3754089', '3754090', '3754091', '3754092', '3754093', '3754094', '3754095', '3754096', '3754097', '3754098', '3754099', '3754100', '3754101', '3754102', '3754103', '3754104', '3754105', '3754106', '3754107', '3754108', '3754109', '3754110', '3754111', '3754112', '3754113', '3754114', '3754115', '3754116', '3754117', '3754118', '3754119', '3754120', '3754121', '3754122', '3754123', '3754124', '3754125', '3754126', '3754127', '3754128', '3754129', '3754130', '3754131', '3754132', '3754133', '3754134', '3754135', '3754136', '3754137', '3754138', '3754139', '3754140', '3754141', '3754142', '3754143', '3754144', '3754145', '3754146', '3754147', '3754148', '3754149', '3754150', '3754151', '3754152', '3754153', '3754154', '3754155', '3754156', '3754157', '3754158', '3754159', '3754160', '3754161', '3754162', '3754163', '3754164', '3754165', '3754166', '3754167', '3754168', '3754169', '3754170', '3754171', '3754172', '3754173', '3754174', '3754175', '3754176', '3754177', '3754178', '3754179', '3754180', '3754181', '3754182', '3754183', '3754184', '3754185', '3754186', '3754187', '3754188', '3754189', '3754190', '3754191', '3754192', '3754193', '3754194', '3754195', '3754196', '3754197', '3754198', '3754199', '3754200', '3754201', '3754202', '3754203', '3754204', '3754205', '3754206', '3754207', '3754208', '3754209', '3754210', '3754211', '3754212', '3754213', '3754214', '3754215', '3754216', '3754217', '3754218', '3754219', '3754220', '3754221', '3754222', '3754223', '3754224', '3754225', '3754226', '3754227', '3754228', '3754229', '3754230', '3754231', '3754232', '3754233', '3754234', '3754235', '3754236', '3754237', '3754238', '3754239', '3754240', '3754241', '3754242', '3754243', '3754244', '3754245', '3754246', '3754247', '3754248', '3754249', '3754250', '3754251', '3754252', '3754253', '3754254', '3754255', '3754256', '3754257', '3754258', '3754259', '3754260', '3754261', '3754262', '3754263', '3754264', '3754265', '3754266', '3754267', '3754268', '3754269', '3754270', '3754271', '3754272', '3754273', '3754274', '3754275', '3754276', '3754277', '3754278', '3754279', '3754280', '3754281', '3754282', '3754283', '3754284', '3754285', '3754286', '3754287', '3754288', '3754289', '3754290', '3754291', '3754292', '3754293', '3754294', '3754295', '3754296', '3754297', '3754298', '3754299', '3754300', '3754301', '3754302', '3754303', '3754304', '3754305', '3754306', '3754307', '3754308', '3754309', '3754310', '3754311', '3754312', '3754313', '3754314', '3754315', '3754316', '3754317', '3754318', '3754319', '3754320', '3754321', '3754322', '3754323', '3754324', '3754325', '3754326', '3754327', '3754328', '3754329', '3754330', '3754331', '3754332', '3754333', '3754334', '3754335', '3754336', '3754337', '3754338', '3754339', '3754340', '3754341', '3754342', '3754343', '3754344', '3754345', '3754346', '3754347', '3754348', '3754349', '3754350', '3754351', '3764230', '3764231', '3764232', '3764233', '3764234', '3764235', '3764236', '3764237', '3764238', '3764239', '3764240', '3764241', '3764440', '3764661', '3773369', '3773372', '3773377', '3773386', '3773387', '3773403', '3773415', '3773428', '3773457', '3773466', '3773474', '3773477', '3773497', '3773523', '3773526', '3773547', '3773552', '3773565', '3773571', '3773585', '3773586', '3773587', '3773593', '3773597', '3773625', '3773631', '3773656', '3773660', '3773661', '3773665', '3773672', '3773689', '3773695', '3775540', '3775541', '3775542', '3775543', '3775544', '3775545', '3775546', '3775547', '3775548', '3775549', '3775550', '3775551', '3775552', '3775553', '3775554', '3775555', '3775556', '3775557', '3775558', '3775559', '3775560', '3775561', '3775562', '3775563', '3775564', '3775565', '3775566', '3775567', '3775568', '3775569', '3775570', '3775571', '3775572', '3775573', '3775574', '3775575', '3775576', '3775577', '3775578', '3775579', '3775580', '3775581', '3775582', '3775583', '3775584', '3775585', '3775586', '3775587', '3775588', '3775589', '3775590', '3775591', '3775592', '3775593', '3775594', '3775595', '3775596', '3775597', '3775598', '3775599', '3775600', '3775601', '3775602', '3775603', '3775604', '3775605', '3775606', '3775607', '3775608', '3775609', '3775610', '3775611', '3775612', '3775613', '3775614', '3775615', '3775616', '3775617', '3775618', '3775619', '3775620', '3775621', '3775622', '3775623', '3775624', '3775625', '3775626', '3775627', '3775628', '3775629', '3775630', '3775631', '3775632', '3775633', '3775634', '3775635', '3775636', '3775637', '3775638', '3775639', '3775640', '3775641', '3775642', '3775643', '3775644', '3775645', '3775646', '3775647', '3775648', '3775649', '3775650', '3775651', '3775652', '3775653', '3775654', '3775655', '3775657', '3775658', '3775659', '3788741', '3788742', '3788743', '3788744', '3788745', '3788746', '3788747', '3788748', '3788749', '3788750', '3788751', '3788752', '3788753', '3788754', '3788755', '3788756', '3788757', '3788758', '3788759', '3788760', '3788761', '3788762', '3788763', '3788764', '3788765', '3788766', '3788767', '3788768', '3788769', '3788770', '3788771', '3788772', '3788773', '3788774', '3788775', '3788776', '3793185', '3794685', '3794686', '3794687', '3794688', '3794689', '3794690', '3794691', '3794692', '3795107', '3795108', '3795109', '3795187', '3795220', '3795221', '3795506', '3802643', '3802665', '3802676', '3802683', '3802685', '3802690', '3802696', '3802699', '3802709', '3802752', '3802793', '3802795', '3802802', '3802805', '3802809', '3802818', '3802837', '3802839', '3802902', '3802904', '3802907', '3802930', '3802948', '3802983', '3802984', '3803000', '3813264', '3813265', '3813266', '3813267', '3813268', '3813269', '3813270', '3813271', '3813272', '3813273', '3813274', '3813275', '3813276', '3813277', '3813278', '3813279', '3813280', '3813281', '3813282', '3813283', '3813284', '3813285', '3813286', '3813287', '3813288', '3813289', '3813290', '3813291', '3813292', '3813293', '3813294', '3813295', '3813296', '3813297', '3813298', '3813299', '3813300', '3813301', '3813302', '3813303', '3813304', '3813305', '3813306', '3813307', '3813308', '3813309', '3813310', '3813311', '3813312', '3813313', '3813314', '3813315', '3813316', '3813317', '3813318', '3817848', '3817849', '3817850', '3817851', '3817852', '3817853', '3817854', '3817855', '3817856', '3817857', '3817858', '3817859', '3817860', '3817861', '3817862', '3817863', '3817864', '3817865', '3817866', '3817867', '3817868', '3817869', '3817870', '3817871', '3817872', '3817873', '3817874', '3817875', '3817876', '3817877', '3817878', '3817879', '3817880', '3817881', '3817882', '3817883', '3817884', '3817885', '3817886', '3817887', '3817888', '3817889', '3817890', '3817891', '3817892', '3817893', '3817894', '3817895', '3817896', '3817897', '3817898', '3817899', '3817900', '3817901', '3817902', '3825562', '3825563', '3825564', '3825565', '3825566', '3825567', '3825568', '3825569', '3825570', '3825571', '3825572', '3825573', '3825574', '3825575', '3825576', '3825577', '3825578', '3825579', '3825580', '3825581', '3825582', '3825583', '3825584', '3825585', '3825586', '3825587', '3825588', '3825589', '3825590', '3825591', '3825592', '3825593', '3825594', '3825595', '3825596', '3825597', '3825598', '3825599', '3825600', '3825601', '3825602', '3825603', '3825604', '3825605', '3825606', '3825607', '3825608', '3825609', '3825610', '3825611', '3825612', '3825613', '3825614', '3825615', '3825616', '3825617', '3825618', '3825619', '3825620', '3825621', '3825622', '3825623', '3825624', '3825625', '3825626', '3825627', '3825628', '3825629', '3825630', '3825631', '3825632', '3825633', '3825634', '3825635', '3825636', '3825637', '3825638', '3825639', '3825640', '3825641', '3825642', '3825643', '3825644', '3825645', '3825646', '3825647', '3825648', '3825649', '3825650', '3825651', '3825652', '3825653', '3825654', '3825655', '3825656', '3825657', '3825658', '3825659', '3825660', '3825661', '3825662', '3825663', '3825664', '3825665', '3825666', '3825667', '3825668', '3825669', '3825670', '3825671', '3825672', '3825673', '3825674', '3825675', '3825676', '3825677', '3825678', '3825679', '3825680', '3825681', '3825682', '3825683', '3825684', '3825685', '3825686', '3825687', '3825688', '3825689', '3825690', '3825691', '3825692', '3825693', '3825694', '3825695', '3825696', '3825697', '3825698', '3825699', '3825700', '3825701', '3825702', '3825703', '3825704', '3825705', '3825706', '3825707', '3825708', '3825709', '3825710', '3825711', '3825712', '3825713', '3825714', '3825715', '3825716', '3825717', '3825718', '3825719', '3825720', '3825721', '3825722', '3825723', '3825724', '3825725', '3825726', '3825727', '3825728', '3825729', '3825730', '3825731', '3825732', '3825733', '3825734', '3825735', '3825736', '3825737', '3825738', '3825739', '3825740', '3825741', '3825742', '3825743', '3825744', '3825745', '3825746', '3825747', '3825748', '3825749', '3825750', '3825751', '3825752', '3825753', '3825754', '3825755', '3825756', '3825757', '3825758', '3825759', '3825760', '3825761', '3825762', '3825763', '3825764', '3825765', '3825766', '3825767', '3825768', '3825769', '3825770', '3825771', '3825772', '3825773', '3825774', '3825775', '3825776', '3825777', '3825778', '3825779', '3825780', '3825781', '3825782', '3825783', '3825784', '3825785', '3825786', '3825787', '3825788', '3825789', '3825790', '3825791', '3825792', '3825793', '3825794', '3825795', '3825796', '3825797', '3825798', '3825799', '3825800', '3825801', '3825802', '3825803', '3825804', '3825805', '3825806', '3825807', '3825808', '3825809', '3825810', '3825811', '3825812', '3825813', '3825814', '3825815', '3825816', '3825817', '3825818', '3825819', '3825820', '3825821', '3825822', '3825823', '3825824', '3825825', '3825826', '3825827', '3825828', '3825829', '3825830', '3825831', '3825832', '3825833', '3825834', '3825835', '3825836', '3825837', '3825838', '3825839', '3825840', '3825841', '3825842', '3825843', '3825844', '3825845', '3825846', '3825847', '3825848', '3825849', '3825850', '3825851', '3825852', '3825853', '3825854', '3825855', '3825856', '3825857', '3825858', '3825859', '3825860', '3825861', '3825862', '3825863', '3825864', '3825865', '3825866', '3825867', '3825868', '3825869', '3825870', '3825871', '3825872', '3825873', '3825874', '3825875', '3825876', '3825877', '3825878', '3825879', '3825880', '3825881', '3825882', '3825883', '3825884', '3825885', '3825886', '3825887', '3825888', '3825889', '3825890', '3825891', '3825892', '3825893', '3825894', '3825895', '3825896', '3825897', '3825898', '3825899', '3825900', '3825901', '3825902', '3825903', '3825904', '3825905', '3825906', '3825907', '3825908', '3827335', '3827336', '3827337', '3827338', '3827767', '3829413', '3829414', '3829415', '3829416', '3829417', '3829418', '3829419', '3829420', '3829421', '3829422', '3829423', '3829424', '3829425', '3829426', '3829427', '3829428', '3829429', '3829430', '3829431', '3829432', '3829433', '3829434', '3829435', '3829436', '3829437', '3829438', '3829439', '3829440', '3829441', '3829442', '3829443', '3829444', '3829445', '3829446', '3829447', '3829448', '3829449', '3829450', '3829451', '3829452', '3829453', '3829454', '3829455', '3829456', '3829457', '3829458', '3829459', '3829460', '3829461', '3829462', '3829463', '3829464', '3829465', '3829466', '3829467', '3829468', '3829469', '3829470', '3829471', '3829472', '3829473', '3829474', '3829475', '3829476', '3829477', '3829478', '3829479', '3829480', '3829481', '3829482', '3829483', '3829484', '3829485', '3829486', '3829487', '3829488', '3829489', '3829490', '3829491', '3829492', '3829493', '3829494', '3829495', '3829496', '3829497', '3829498', '3829499', '3829500', '3829501', '3829502', '3829503', '3829504', '3829505', '3829506', '3829507', '3829508', '3829509', '3829510', '3829511', '3829512', '3829513', '3829514', '3829515', '3829516', '3829517', '3829518', '3829519', '3829520', '3829521', '3829522', '3835319', '3835320', '3835321', '3835322', '3835323', '3835324', '3835325', '3835326', '3835327', '3835328', '3835329', '3835330', '3835331', '3835332', '3835333', '3835334', '3835335', '3835336', '3835337', '3835338', '3835339', '3835340', '3835341', '3835342', '3837650', '3837659', '3837662', '3837680', '3837683', '3837695', '3837706', '3837717', '3837727', '3837747', '3837752', '3837771', '3837785', '3837818', '3837827', '3837839', '3837844', '3837859', '3837876', '3837885', '3837896', '3837902', '3837918', '3837928', '3837938', '3837947', '3837954', '3837963', '3837987', '3837998', '3838004', '3838017', '3844384', '3844385', '3844386', '3844387', '3845506', '3845507', '3847567', '3857254', '3857255', '3857256', '3857257', '3857258', '3857259', '3857260', '3857261', '3857262', '3857263', '3857264', '3857265', '3857266', '3857267', '3857268', '3857269', '3857270', '3857271', '3857272', '3857273', '3857274', '3857275', '3857276', '3857277', '3857278', '3857279', '3857280', '3857281', '3857282', '3857283', '3857284', '3857285', '3857286', '3857287', '3857288', '3857289', '3857290', '3857291', '3857292', '3857293', '3857294', '3857295', '3857296', '3857297', '3857298', '3857299', '3857300', '3857301', '3869117', '3869118', '3869151', '3869152', '3869219', '3869220', '3869253', '3869254', '3869321', '3869354', '3869420', '3869486', '3869519', '3869552', '3869684', '3869685', '3877060', '3877072', '3877090', '3877115', '3877170', '3877194', '3878540', '3878541', '3878542', '3878543', '3878544', '3878545', '3878546', '3878547', '3878548', '3878549', '3878550', '3878551', '3878552', '3878553', '3878554', '3878555', '3878556', '3878557', '3878558', '3878559', '3878592', '3878593', '3878594', '3878595', '3878596', '3878597', '3878598', '3878599', '3878600', '3878601', '3878602', '3878603', '3878604', '3878605', '3878606', '3878607', '3878608', '3878609', '3878610', '3878611', '3879537', '3879538', '3879539', '3879540', '3879541', '3879542', '3879543', '3879544', '3879545', '3879546', '3879547', '3879548', '3879549', '3879550', '3879551', '3879552', '3879553', '3879554', '3879555', '3879556', '3879557', '3879558', '3879559', '3879560', '3879561', '3879562', '3879563', '3879564', '3879565', '3879566', '3879567', '3879568', '3879569', '3879570', '3879571', '3879572', '3879573', '3879574', '3879575', '3879576', '3879577', '3879578', '3879579', '3879580', '3879581', '3879582', '3879583', '3879584', '3879585', '3879586', '3879587', '3879588', '3879589', '3879590', '3879591', '3879592', '3879593', '3879594', '3879595', '3879596', '3879597', '3879598', '3879599', '3879600', '3879601', '3879602', '3879603', '3879604', '3879605', '3879606', '3879607', '3879608', '3879609', '3879610', '3879611', '3879612', '3879613', '3879614', '3879615', '3879616', '3879617', '3879618', '3879619', '3879620', '3879621', '3879622', '3879623', '3879624', '3879625', '3879626', '3879627', '3879628', '3879629', '3879630', '3879631', '3879632', '3879633', '3879634', '3879635', '3879636', '3879637', '3879638', '3879639', '3879640', '3879641', '3879642', '3879643', '3879644', '3879645', '3879646', '3879647', '3879648', '3879649', '3879650', '3879651', '3879652', '3879653', '3879654', '3879655', '3879656', '3879657', '3879658', '3879659', '3879660', '3879661', '3879662', '3879663', '3879664', '3879665', '3879666', '3879667', '3879668', '3879669', '3879670', '3879671', '3879672', '3879673', '3879674', '3879675', '3879676', '3879677', '3879678', '3879679', '3879680', '3879681', '3879682', '3879683', '3879684', '3879685', '3879686', '3879687', '3879688', '3879689', '3879690', '3879691', '3879692', '3879693', '3879694', '3879695', '3879696', '3879697', '3879698', '3879699', '3879700', '3879701', '3879702', '3879703', '3879704', '3879705', '3879706', '3879707', '3879708', '3879709', '3879710', '3879711', '3879712', '3879713', '3879714', '3879715', '3879716', '3879717', '3879718', '3879719', '3879720', '3879721', '3879722', '3879723', '3879724', '3879725', '3879726', '3879727', '3879728', '3879729', '3879730', '3879731', '3879732', '3879733', '3879734', '3879735', '3879736', '3879737', '3879738', '3879739', '3879740', '3879741', '3879742', '3879743', '3879744', '3879745', '3879746', '3879747', '3879748', '3879749', '3879750', '3879751', '3879752', '3879753', '3879754', '3879755', '3879756', '3879757', '3879758', '3879759', '3879760', '3879761', '3879762', '3879763', '3879764', '3879765', '3879766', '3879767', '3879768', '3879769', '3879770', '3879771', '3879772', '3879773', '3879774', '3879775', '3879776', '3879777', '3879778', '3879779', '3879780', '3879781', '3879782', '3879783', '3879784', '3879785', '3879786', '3879787', '3879788', '3879789', '3879790', '3879791', '3879792', '3879793', '3879794', '3879795', '3879796', '3879797', '3879798', '3879799', '3879800', '3879801', '3879802', '3879803', '3879804', '3879805', '3879806', '3879807', '3879808', '3879809', '3879810', '3879811', '3879812', '3879813', '3879814', '3879815', '3879816', '3879817', '3879818', '3879819', '3879820', '3879821', '3879822', '3879823', '3879824', '3879825', '3879826', '3879827', '3879828', '3879829', '3879830', '3879831', '3879832', '3879833', '3879834', '3879835', '3879836', '3879837', '3879838', '3879839', '3879840', '3879841', '3879842', '3879843', '3879844', '3879845', '3879846', '3879847', '3879848', '3879849', '3879850', '3879851', '3879852', '3879853', '3879854', '3879855', '3879856', '3879857', '3879858', '3879859', '3879860', '3879861', '3879862', '3879863', '3879864', '3879865', '3879866', '3879867', '3879868', '3879869', '3879870', '3879871', '3879872', '3879873', '3879874', '3879875', '3879876', '3887188', '3888699', '3888700', '3888701', '3888702', '3888704', '3888705', '3888706', '3888711', '3888713', '3888716', '3888717', '3888718', '3888719', '3888720', '3888721', '3888754', '3888787', '3888854', '3889082', '3889115', '3889148', '3889149', '3889182', '3889217', '3889218', '3890259', '3890260', '3890261', '3890262', '3890263', '3890264', '3890265', '3890266', '3890267', '3890268', '3890269', '3890270', '3890271', '3890272', '3890273', '3890274', '3890275', '3890276', '3890277', '3890278', '3890279', '3890280', '3890281', '3890282', '3890283', '3890284', '3890285', '3890286', '3890287', '3890288', '3890289', '3890290', '3890291', '3890292', '3890293', '3890294', '3890295', '3890296', '3890297', '3890298', '3890299', '3890300', '3890301', '3890302', '3890303', '3890304', '3890305', '3890306', '3890307', '3890308', '3890309', '3890310', '3890311', '3890312', '3890313', '3890314', '3890315', '3890316', '3890317', '3890318', '3890319', '3890320', '3890321', '3890322', '3890323', '3890324', '3890325', '3890326', '3890327', '3890328', '3890329', '3890330', '3890331', '3890332', '3890333', '3890334', '3890335', '3890336', '3890337', '3890338', '3890339', '3890340', '3890341', '3890342', '3890343', '3890344', '3890345', '3890346', '3890347', '3890348', '3890349', '3890350', '3890351', '3890352', '3890353', '3890354', '3890355', '3890356', '3890357', '3890358', '3890359', '3890360', '3890361', '3890362', '3890363', '3890364', '3890365', '3890366', '3890367', '3890368', '3890369', '3890370', '3890371', '3890372', '3890373', '3890374', '3890375', '3890376', '3890377', '3890378', '3890379', '3890380', '3890381', '3890382', '3890383', '3890384', '3890385', '3890386', '3890387', '3890388', '3890389', '3890390', '3890391', '3890392', '3890393', '3890394', '3890395', '3890396', '3890397', '3890398', '3890399', '3890400', '3890401', '3890402', '3890403', '3890404', '3890405', '3890406', '3890407', '3890408', '3890409', '3890410', '3890411', '3890412', '3890413', '3890414', '3890415', '3890416', '3890417', '3890418', '3890419', '3890420', '3890421', '3890422', '3890423', '3890424', '3890425', '3890426', '3890427', '3890428', '3890429', '3890430', '3890431', '3890432', '3890433', '3890434', '3890435', '3890436', '3890437', '3890438', '3890439', '3890440', '3890441', '3890442', '3890443', '3890444', '3890445', '3890446', '3890447', '3890448', '3890449', '3890450', '3890451', '3890452', '3890453', '3890454', '3890455', '3890456', '3890457', '3890458', '3890459', '3890460', '3890461', '3890462', '3890463', '3890464', '3890465', '3890466', '3890467', '3890468', '3890469', '3890470', '3890471', '3890472', '3890473', '3890474', '3890475', '3890476', '3890477', '3890478', '3890479', '3890480', '3890481', '3890482', '3890483', '3890484', '3890485', '3890486', '3890487', '3890488', '3890489', '3890490', '3890491', '3890492', '3890493', '3890494', '3890495', '3890496', '3890497', '3890498', '3890499', '3890500', '3890501', '3890502', '3890503', '3890504', '3890505', '3890506', '3890507', '3890508', '3890509', '3890510', '3890511', '3890512', '3890513', '3890514', '3890515', '3890516', '3890517', '3890518', '3890519', '3890520', '3890521', '3890522', '3890523', '3890524', '3890525', '3890526', '3890527', '3890528', '3890529', '3890530', '3890531', '3890532', '3890533', '3890534', '3890535', '3890536', '3890537', '3890538', '3890539', '3890540', '3890541', '3890542', '3890543', '3890544', '3890545', '3890546', '3890547', '3890548', '3890549', '3890550', '3890551', '3890552', '3890553', '3890554', '3890555', '3890556', '3890557', '3890558', '3890559', '3890560', '3890561', '3890562', '3890563', '3890564', '3893787', '3893788', '3893789', '3893790', '3893791', '3893792', '3893793', '3893794', '3893795', '3893796', '3893797', '3893798', '3893799', '3893800', '3893801', '3893802', '3893803', '3893804', '3893805', '3893806', '3893807', '3893808', '3893809', '3893810', '3893811', '3893812', '3893813', '3893814', '3893815', '3893816', '3893817', '3893818', '3893819', '3893820', '3893821', '3893822', '3893823', '3893824', '3893825', '3893826', '3893827', '3893828', '3893829', '3893830', '3893831', '3893832', '3893833', '3893834', '3900490', '3900491', '3900492', '3900493', '3900494', '3900495', '3900496', '3900497', '3900498', '3900499', '3900500', '3900501', '3900502', '3900503', '3900504', '3900505', '3900506', '3900507', '3900508', '3900509', '3900510', '3900511', '3900512', '3900513', '3900514', '3900515', '3900516', '3900518', '3900519', '3900520', '3900521', '3900522', '3900523', '3900524', '3900525', '3900526', '3900527', '3900528', '3900529', '3900530', '3900531', '3900532', '3900533', '3900534', '3900535', '3900536', '3900537', '3900538', '3900539', '3900540', '3900541', '3900542', '3900543', '3900544', '3900545', '3900546', '3900547', '3900548', '3900549', '3900550', '3900551', '3900552', '3900553', '3900554', '3900555', '3900556', '3900557', '3900558', '3900559', '3900560', '3900561', '3900562', '3900563', '3900564', '3900565', '3900566', '3900567', '3900568', '3900569', '3900570', '3900571', '3900572', '3900573', '3900574', '3900575', '3900576', '3900577', '3900578', '3900579', '3900580', '3900581', '3900582', '3900583', '3900584', '3900585', '3900586', '3900587', '3900588', '3900589', '3900590', '3900591', '3900592', '3900593', '3900594', '3900595', '3900596', '3900597', '3900598', '3900599', '3900600', '3900601', '3900602', '3900603', '3900604', '3900605', '3900606', '3900608', '3900609', '3900610', '3900611', '3900612', '3900613', '3900614', '3900615', '3900616', '3900617', '3900618', '3900619', '3900620', '3900621', '3900622', '3900623', '3900624', '3900625', '3900626', '3900627', '3900628', '3900629', '3900630', '3900631', '3900632', '3900633', '3900634', '3900635', '3900636', '3900637', '3900638', '3900639', '3901144', '3901145', '3901146', '3901147', '3901148', '3901149', '3901150', '3901151', '3901152', '3901153', '3901154', '3901155', '3901156', '3901157', '3901158', '3901159', '3901160', '3901161', '3901162', '3901163', '3901164', '3901165', '3901166', '3901167', '3901168', '3901169', '3901170', '3901171', '3901172', '3901173', '3901174', '3901175', '3901176', '3901177', '3901178', '3901179', '3901180', '3901181', '3901182', '3901183', '3901184', '3901185', '3901186', '3901187', '3901188', '3901189', '3901190', '3901191', '3901192', '3901193', '3901194', '3901195', '3901196', '3901197', '3901198', '3901199', '3901200', '3901201', '3901202', '3901203', '3901204', '3901205', '3901206', '3901207', '3901208', '3901209', '3901210', '3901211', '3901212', '3901213', '3901214', '3901215', '3901216', '3901217', '3901218', '3901219', '3901220', '3901221', '3901222', '3901223', '3901224', '3901225', '3901226', '3901227', '3901228', '3901229', '3901230', '3901231', '3901232', '3901233', '3901234', '3901235', '3901236', '3901237', '3901238', '3901240', '3901241', '3901242', '3901243', '3901244', '3901245', '3901246', '3901247', '3901248', '3901249', '3901250', '3901251', '3901252', '3901253', '3901254', '3901255', '3901256', '3901257', '3901258', '3901259', '3901260', '3901261', '3901262', '3901263', '3901733', '3901734', '3901735', '3901736', '3901796', '3901797', '3901832', '3901833', '3902239', '3902240', '3902967', '3902968', '3904628', '3904629', '3906389', '3906390', '68311', '68312', '68313', '68314', '68315', '68316', '68317', '68318', '68319', '68320', '68321', '68322', '68323', '68324', '68325', '68326', '68327', '68328', '68329', '68330', '68331', '68332', '68333', '68334', '68335', '68336', '68337', '68338', '68339', '68340', '68341', '68342', '68343', '68344', '68345', '68346', '68347', '68348', '68350', '68351', '68352', '68353', '68354', '68355', '68356', '68357', '68358', '68359', '68360', '68361', '68362', '68363', '68364', '68365', '68366', '69137', '69138', '69139', '69141', '69142', '69143', '69144', '69145', '69146', '69147', '69148', '69149', '69151', '69153', '69154', '69155', '69156', '69157', '69158', '69159', '69160', '69161', '69162', '69163', '69164', '69165', '69166', '69169', '69170', '69171', '69172', '69173', '69174', '69175', '69176', '69177', '69178', '69179', '69180', '69181', '69182', '69183', '69184', '69185', '69186', '69187', '69188', '69189', '69191', '69195', '69199', '69202', '69205', '69207', '69208', '69209', '69210', '69211', '69212', '69213', '69214', '69215', '69216', '69217', '69218', '69219', '69220', '69221', '69222', '69223', '69224', '69225', '69226', '69227', '69228', '69229', '69230', '69231', '69232', '69233', '69234', '69235', '69236', '69237', '69238', '69239', '69240', '69241', '69242', '69243', '69244', '69245', '69246', '69247', '69248', '69249', '69250', '69251', '69252', '69253', '69254', '69255', '69256', '69257', '69258', '69259', '69260', '69262', '69263', '69264', '69265', '69267', '69268', '69269', '69270', '69271', '69272', '69273', '69274', '69275', '69276', '69277', '69278', '69279', '69280', '69282', '69283', '69284', '69285', '69286', '69287', '69288', '69289', '69291', '69292', '69293', '69295', '69296', '69297', '69298', '69299', '69300', '69301', '69302', '69303', '69304', '69305', '69306', '69307', '69308', '69312', '69314', '69315', '69316', '69318', '69319', '69320', '69321', '69322', '69323', '69324', '69325', '69326', '69327', '69328', '69329', '69330', '69331', '69332', '69333', '69334', '69335', '69336', '69337', '69338', '69340', '69343', '70219', '70220', '70221', '70223', '70224', '70225', '70256', '70259', '70260', '70262', '70263', '70264', '70270', '70271', '70272', '70273', '70275', '70276', '70277', '70280', '70281', '70282', '70283', '70284', '70286', '70287', '70288', '70289', '70291', '70292', '70293', '70294', '70295', '70296', '70297', '70298', '70300', '70301', '70302', '70303', '70304', '70305', '70306', '70307', '70308', '70309', '7298', '7430', '7443', '7444', '7445', '7451', '7456', '7457', '7471', '7472', '7473', '7474', '7475', '7476', '7477', '7478', '7479', '7480', '7482', '7483', '7484', '7485', '7486', '7487', '7490', '7492', '7493', '7494', '7496', '7497', '7500', '7519', '7520', '7521', '7522', '7523', '7524', '7525', '7529', '7530', '7531', '7532', '7533', '7534', '7535', '7536', '7537', '7538', '7539', '7540', '7541', '7542', '7543', '7544', '7545', '7546', '7547', '7548', '7549', '7550', '7551', '7552', '7553', '7554', '7555', '7556', '7557', '7558', '7559', '7560', '7561', '7562', '7563', '7564', '7565', '7566', '7567', '7568', '7569', '7570', '7571', '7572', '7576', '7577', '7578', '7579', '7580', '7581', '7582', '7583', '7584', '7585', '7586', '8649', '8650', '8651', '8652', '8655', '8656', '8657', '8658', '9575', '9581', '9592', '9602', '9609', '9620', '9636', '9642', '9650', '9661', '9673', '9682', '9695', '9700', '9717', '9726', '9736', '9742', '9754', '9765', '9774', '9783', '9794', '9799', '9811', '9827', '9837', '9855', '9860', '9870', '9880', '9889', '9912', '9924', '9928', '9948']\n"
     ]
    }
   ],
   "source": [
    "# Necessário percorrer todas as páginas. O S3 faz paginação de 1000 em 1000 objetos, por conta disso estou percorrendo todas as páginas para capturar todos os objetos.\n",
    "\n",
    "paginator = s3.get_paginator('list_objects_v2')\n",
    "pages = paginator.paginate(Bucket=bucket_name, Prefix=prefix)\n",
    "\n",
    "list_matches = []\n",
    "\n",
    "# Adiciona na lista de jogs todos os nomes de arquivos sem extensão\n",
    "for page in pages:\n",
    "    for obj in page[\"Contents\"]:\n",
    "        # pega o nome dos arquivos sem prefixo e sem extensão\n",
    "        file_name = str(obj[\"Key\"].replace(prefix, \"\")).replace(\".json\", \"\")\n",
    "        list_matches.append(file_name)\n",
    "print(list_matches)\n"
   ]
  },
  {
   "cell_type": "code",
   "execution_count": 31,
   "metadata": {},
   "outputs": [],
   "source": [
    "# Percorre toda lista de jogos e cria a coluna 'match_id' e joga na camada landing\n",
    "# Obs: Optei por não utilizar o partitionBy pois os arquivos já estão separados. \n",
    "\n",
    "for match in list_matches:\n",
    "    path_lineups_landing = os.path.join(\"s3://\",\"landing\",\"lineups\",\"match_id=\"+match)\n",
    "    path_lineups =  os.path.join(\"s3://\",bucket_name,prefix,match+\".json\")\n",
    "    df_lineups = spark.read.option(\"multiline\", \"true\").json(path_lineups)\n",
    "    df_lineups_matchid = df_lineups.withColumn(\"match_id\", F.lit(match))\n",
    "    df_lineups_matchid.write.format(\"json\").save(path_lineups_landing)"
   ]
  },
  {
   "cell_type": "code",
   "execution_count": 12,
   "metadata": {},
   "outputs": [
    {
     "name": "stdout",
     "output_type": "stream",
     "text": [
      "['15946', '15956', '15973', '15978', '15986', '15998', '16010', '16023', '16029', '16056', '16073', '16079', '16086', '16095', '16109', '16120', '16131', '16136', '16149', '16157', '16173', '16182', '16190', '16196', '16205', '16215', '16231', '16240', '16248', '16265', '16275', '16289', '16306', '16317', '18235', '18236', '18237', '18240', '18241', '18242', '18243', '18244', '18245', '19714', '19715', '19716', '19717', '19718', '19719', '19720', '19722', '19723', '19724', '19725', '19726', '19727', '19728', '19729', '19730', '19731', '19732', '19733', '19734', '19735', '19736', '19737', '19738', '19739', '19740', '19741', '19742', '19743', '19744', '19745', '19746', '19747', '19748', '19749', '19750', '19751', '19752', '19753', '19754', '19755', '19756', '19757', '19758', '19759', '19760', '19761', '19762', '19763', '19764', '19765', '19766', '19767', '19768', '19769', '19770', '19771', '19772', '19773', '19774', '19775', '19776', '19777', '19778', '19779', '19780', '19781', '19782', '19783', '19784', '19785', '19786', '19787', '19788', '19789', '19790', '19791', '19792', '19793', '19794', '19795', '19796', '19797', '19798', '19799', '19800', '19801', '19802', '19803', '19804', '19805', '19806', '19807', '19808', '19809', '19810', '19811', '19813', '19814', '19815', '19816', '19817', '19818', '19819', '19820', '19821', '19822', '2275026', '2275027', '2275028', '2275029', '2275030', '2275033', '2275034', '2275036', '2275037', '2275038', '2275040', '2275041', '2275042', '2275044', '2275045', '2275048', '2275049', '2275050', '2275051', '2275052', '2275054', '2275056', '2275057', '2275061', '2275062', '2275063', '2275065', '2275070', '2275072', '2275073', '2275074', '2275075', '2275077', '2275078', '2275079', '2275080', '2275082', '2275083', '2275084', '2275085', '2275086', '2275088', '2275089', '2275090', '2275091', '2275092', '2275093', '2275094', '2275096', '2275097', '2275098', '2275099', '2275102', '2275103', '2275104', '2275105', '2275106', '2275107', '2275108', '2275109', '2275110', '2275113', '2275116', '2275117', '2275120', '2275121', '2275122', '2275126', '2275127', '2275130', '2275131', '2275132', '2275133', '2275136', '2275137', '2275138', '2275139', '2275140', '2275142', '2275144', '2275146', '2275150', '2275151', '2275153', '2275154', '2275156', '2275157', '22912', '22921', '22924', '22926', '22930', '22933', '22934', '22936', '22939', '22940', '22942', '22943', '22944', '22945', '22948', '22949', '22955', '22956', '22961', '22962', '22963', '22964', '22966', '22973', '22974', '22980', '22981', '22983', '22984', '2302764', '265830', '265835', '265837', '265839', '265857', '265866', '265894', '265896', '265918', '265944', '265952', '265958', '265963', '266015', '266033', '266045', '266056', '266066', '266074', '266106', '266117', '266142', '266148', '266149', '266160', '266166', '266191', '266201', '266230', '266236', '266240', '266254', '266256', '266273', '266274', '266280', '266299', '266310', '266320', '266357', '266406', '266420', '266424', '266433', '266440', '266462', '266467', '266477', '266490', '266491', '266498', '266516', '266525', '266528', '266531', '266557', '266560', '266603', '266613', '266620', '266631', '266653', '266664', '266669', '266670', '266724', '266731', '266741', '266770', '266794', '266815', '266827', '266838', '266846', '266871', '266874', '266883', '266885', '266892', '266916', '266921', '266929', '266952', '266961', '266967', '266986', '266989', '267039', '267058', '267076', '267077', '267085', '267101', '267138', '267183', '267192', '267197', '267212', '267220', '267273', '267274', '267301', '267327', '267343', '267368', '267373', '267395', '267400', '267422', '267432', '267464', '267492', '267499', '267502', '267506', '267520', '267533', '267561', '267567', '267569', '267576', '267590', '267596', '267597', '267611', '267660', '267670', '267675', '303377', '303400', '303421', '303430', '303451', '303470', '303473', '303479', '303487', '303493', '303504', '303516', '303517', '303524', '303532', '303548', '303596', '303600', '303610', '303615', '303634', '303652', '303664', '303666', '303674', '303680', '303682', '303696', '303700', '303707', '303715', '303725', '303731', '3749052', '3749068', '3749079', '3749108', '3749117', '3749133', '3749153', '3749192', '3749196', '3749233', '3749246', '3749253', '3749257', '3749274', '3749276', '3749278', '3749296', '3749310', '3749346', '3749358', '3749360', '3749403', '3749431', '3749434', '3749448', '3749453', '3749454', '3749462', '3749465', '3749493', '3749522', '3749526', '3749528', '3749552', '3749590', '3749603', '3749631', '3749642', '3750180', '3750191', '3750200', '3750201', '3750234', '3750235', '3750244', '3750245', '3750248', '3752619', '3753972', '3753973', '3753974', '3753975', '3753976', '3753977', '3753978', '3753979', '3753980', '3753981', '3753982', '3753983', '3753984', '3753985', '3753986', '3753987', '3753988', '3753989', '3753990', '3753991', '3753992', '3753993', '3753994', '3753995', '3753996', '3753997', '3753998', '3753999', '3754000', '3754001', '3754002', '3754003', '3754004', '3754005', '3754006', '3754007', '3754008', '3754009', '3754010', '3754011', '3754012', '3754013', '3754014', '3754015', '3754016', '3754017', '3754018', '3754019', '3754020', '3754021', '3754022', '3754023', '3754024', '3754025', '3754026', '3754027', '3754028', '3754029', '3754030', '3754031', '3754032', '3754033', '3754034', '3754035', '3754036', '3754037', '3754038', '3754039', '3754040', '3754041', '3754042', '3754043', '3754044', '3754045', '3754046', '3754047', '3754048', '3754049', '3754050', '3754051', '3754052', '3754053', '3754054', '3754055', '3754056', '3754057', '3754058', '3754059', '3754060', '3754061', '3754062', '3754063', '3754064', '3754065', '3754066', '3754067', '3754068', '3754069', '3754070', '3754071', '3754072', '3754073', '3754074', '3754075', '3754076', '3754077', '3754078', '3754079', '3754080', '3754081', '3754082', '3754083', '3754084', '3754085', '3754086', '3754087', '3754088', '3754089', '3754090', '3754091', '3754092', '3754093', '3754094', '3754095', '3754096', '3754097', '3754098', '3754099', '3754100', '3754101', '3754102', '3754103', '3754104', '3754105', '3754106', '3754107', '3754108', '3754109', '3754110', '3754111', '3754112', '3754113', '3754114', '3754115', '3754116', '3754117', '3754118', '3754119', '3754120', '3754121', '3754122', '3754123', '3754124', '3754125', '3754126', '3754127', '3754128', '3754129', '3754130', '3754131', '3754132', '3754133', '3754134', '3754135', '3754136', '3754137', '3754138', '3754139', '3754140', '3754141', '3754142', '3754143', '3754144', '3754145', '3754146', '3754147', '3754148', '3754149', '3754150', '3754151', '3754152', '3754153', '3754154', '3754155', '3754156', '3754157', '3754158', '3754159', '3754160', '3754161', '3754162', '3754163', '3754164', '3754165', '3754166', '3754167', '3754168', '3754169', '3754170', '3754171', '3754172', '3754173', '3754174', '3754175', '3754176', '3754177', '3754178', '3754179', '3754180', '3754181', '3754182', '3754183', '3754184', '3754185', '3754186', '3754187', '3754188', '3754189', '3754190', '3754191', '3754192', '3754193', '3754194', '3754195', '3754196', '3754197', '3754198', '3754199', '3754200', '3754201', '3754202', '3754203', '3754204', '3754205', '3754206', '3754207', '3754208', '3754209', '3754210', '3754211', '3754212', '3754213', '3754214', '3754215', '3754216', '3754217', '3754218', '3754219', '3754220', '3754221', '3754222', '3754223', '3754224', '3754225', '3754226', '3754227', '3754228', '3754229', '3754230', '3754231', '3754232', '3754233', '3754234', '3754235', '3754236', '3754237', '3754238', '3754239', '3754240', '3754241', '3754242', '3754243', '3754244', '3754245', '3754246', '3754247', '3754248', '3754249', '3754250', '3754251', '3754252', '3754253', '3754254', '3754255', '3754256', '3754257', '3754258', '3754259', '3754260', '3754261', '3754262', '3754263', '3754264', '3754265', '3754266', '3754267', '3754268', '3754269', '3754270', '3754271', '3754272', '3754273', '3754274', '3754275', '3754276', '3754277', '3754278', '3754279', '3754280', '3754281', '3754282', '3754283', '3754284', '3754285', '3754286', '3754287', '3754288', '3754289', '3754290', '3754291', '3754292', '3754293', '3754294', '3754295', '3754296', '3754297', '3754298', '3754299', '3754300', '3754301', '3754302', '3754303', '3754304', '3754305', '3754306', '3754307', '3754308', '3754309', '3754310', '3754311', '3754312', '3754313', '3754314', '3754315', '3754316', '3754317', '3754318', '3754319', '3754320', '3754321', '3754322', '3754323', '3754324', '3754325', '3754326', '3754327', '3754328', '3754329', '3754330', '3754331', '3754332', '3754333', '3754334', '3754335', '3754336', '3754337', '3754338', '3754339', '3754340', '3754341', '3754342', '3754343', '3754344', '3754345', '3754346', '3754347', '3754348', '3754349', '3754350', '3754351', '3764230', '3764231', '3764232', '3764233', '3764234', '3764235', '3764236', '3764237', '3764238', '3764239', '3764240', '3764241', '3764440', '3764661', '3773369', '3773372', '3773377', '3773386', '3773387', '3773403', '3773415', '3773428', '3773457', '3773466', '3773474', '3773477', '3773497', '3773523', '3773526', '3773547', '3773552', '3773565', '3773571', '3773585', '3773586', '3773587', '3773593', '3773597', '3773625', '3773631', '3773656', '3773660', '3773661', '3773665', '3773672', '3773689', '3773695', '3775540', '3775541', '3775542', '3775543', '3775544', '3775545', '3775546', '3775547', '3775548', '3775549', '3775550', '3775551', '3775552', '3775553', '3775554', '3775555', '3775556', '3775557', '3775558', '3775559', '3775560', '3775561', '3775562', '3775563', '3775564', '3775565', '3775566', '3775567', '3775568', '3775569', '3775570', '3775571', '3775572', '3775573', '3775574', '3775575', '3775576', '3775577', '3775578', '3775579', '3775580', '3775581', '3775582', '3775583', '3775584', '3775585', '3775586', '3775587', '3775588', '3775589', '3775590', '3775591', '3775592', '3775593', '3775594', '3775595', '3775596', '3775597', '3775598', '3775599', '3775600', '3775601', '3775602', '3775603', '3775604', '3775605', '3775606', '3775607', '3775608', '3775609', '3775610', '3775611', '3775612', '3775613', '3775614', '3775615', '3775616', '3775617', '3775618', '3775619', '3775620', '3775621', '3775622', '3775623', '3775624', '3775625', '3775626', '3775627', '3775628', '3775629', '3775630', '3775631', '3775632', '3775633', '3775634', '3775635', '3775636', '3775637', '3775638', '3775639', '3775640', '3775641', '3775642', '3775643', '3775644', '3775645', '3775646', '3775647', '3775648', '3775649', '3775650', '3775651', '3775652', '3775653', '3775654', '3775655', '3775657', '3775658', '3775659', '3788741', '3788742', '3788743', '3788744', '3788745', '3788746', '3788747', '3788748', '3788749', '3788750', '3788751', '3788752', '3788753', '3788754', '3788755', '3788756', '3788757', '3788758', '3788759', '3788760', '3788761', '3788762', '3788763', '3788764', '3788765', '3788766', '3788767', '3788768', '3788769', '3788770', '3788771', '3788772', '3788773', '3788774', '3788775', '3788776', '3793185', '3794685', '3794686', '3794687', '3794688', '3794689', '3794690', '3794691', '3794692', '3795107', '3795108', '3795109', '3795187', '3795220', '3795221', '3795506', '3802643', '3802665', '3802676', '3802683', '3802685', '3802690', '3802696', '3802699', '3802709', '3802752', '3802793', '3802795', '3802802', '3802805', '3802809', '3802818', '3802837', '3802839', '3802902', '3802904', '3802907', '3802930', '3802948', '3802983', '3802984', '3803000', '3813264', '3813265', '3813266', '3813267', '3813268', '3813269', '3813270', '3813271', '3813272', '3813273', '3813274', '3813275', '3813276', '3813277', '3813278', '3813279', '3813280', '3813281', '3813282', '3813283', '3813284', '3813285', '3813286', '3813287', '3813288', '3813289', '3813290', '3813291', '3813292', '3813293', '3813294', '3813295', '3813296', '3813297', '3813298', '3813299', '3813300', '3813301', '3813302', '3813303', '3813304', '3813305', '3813306', '3813307', '3813308', '3813309', '3813310', '3813311', '3813312', '3813313', '3813314', '3813315', '3813316', '3813317', '3813318', '3817848', '3817849', '3817850', '3817851', '3817852', '3817853', '3817854', '3817855', '3817856', '3817857', '3817858', '3817859', '3817860', '3817861', '3817862', '3817863', '3817864', '3817865', '3817866', '3817867', '3817868', '3817869', '3817870', '3817871', '3817872', '3817873', '3817874', '3817875', '3817876', '3817877', '3817878', '3817879', '3817880', '3817881', '3817882', '3817883', '3817884', '3817885', '3817886', '3817887', '3817888', '3817889', '3817890', '3817891', '3817892', '3817893', '3817894', '3817895', '3817896', '3817897', '3817898', '3817899', '3817900', '3817901', '3817902', '3825562', '3825563', '3825564', '3825565', '3825566', '3825567', '3825568', '3825569', '3825570', '3825571', '3825572', '3825573', '3825574', '3825575', '3825576', '3825577', '3825578', '3825579', '3825580', '3825581', '3825582', '3825583', '3825584', '3825585', '3825586', '3825587', '3825588', '3825589', '3825590', '3825591', '3825592', '3825593', '3825594', '3825595', '3825596', '3825597', '3825598', '3825599', '3825600', '3825601', '3825602', '3825603', '3825604', '3825605', '3825606', '3825607', '3825608', '3825609', '3825610', '3825611', '3825612', '3825613', '3825614', '3825615', '3825616', '3825617', '3825618', '3825619', '3825620', '3825621', '3825622', '3825623', '3825624', '3825625', '3825626', '3825627', '3825628', '3825629', '3825630', '3825631', '3825632', '3825633', '3825634', '3825635', '3825636', '3825637', '3825638', '3825639', '3825640', '3825641', '3825642', '3825643', '3825644', '3825645', '3825646', '3825647', '3825648', '3825649', '3825650', '3825651', '3825652', '3825653', '3825654', '3825655', '3825656', '3825657', '3825658', '3825659', '3825660', '3825661', '3825662', '3825663', '3825664', '3825665', '3825666', '3825667', '3825668', '3825669', '3825670', '3825671', '3825672', '3825673', '3825674', '3825675', '3825676', '3825677', '3825678', '3825679', '3825680', '3825681', '3825682', '3825683', '3825684', '3825685', '3825686', '3825687', '3825688', '3825689', '3825690', '3825691', '3825692', '3825693', '3825694', '3825695', '3825696', '3825697', '3825698', '3825699', '3825700', '3825701', '3825702', '3825703', '3825704', '3825705', '3825706', '3825707', '3825708', '3825709', '3825710', '3825711', '3825712', '3825713', '3825714', '3825715', '3825716', '3825717', '3825718', '3825719', '3825720', '3825721', '3825722', '3825723', '3825724', '3825725', '3825726', '3825727', '3825728', '3825729', '3825730', '3825731', '3825732', '3825733', '3825734', '3825735', '3825736', '3825737', '3825738', '3825739', '3825740', '3825741', '3825742', '3825743', '3825744', '3825745', '3825746', '3825747', '3825748', '3825749', '3825750', '3825751', '3825752', '3825753', '3825754', '3825755', '3825756', '3825757', '3825758', '3825759', '3825760', '3825761', '3825762', '3825763', '3825764', '3825765', '3825766', '3825767', '3825768', '3825769', '3825770', '3825771', '3825772', '3825773', '3825774', '3825775', '3825776', '3825777', '3825778', '3825779', '3825780', '3825781', '3825782', '3825783', '3825784', '3825785', '3825786', '3825787', '3825788', '3825789', '3825790', '3825791', '3825792', '3825793', '3825794', '3825795', '3825796', '3825797', '3825798', '3825799', '3825800', '3825801', '3825802', '3825803', '3825804', '3825805', '3825806', '3825807', '3825808', '3825809', '3825810', '3825811', '3825812', '3825813', '3825814', '3825815', '3825816', '3825817', '3825818', '3825819', '3825820', '3825821', '3825822', '3825823', '3825824', '3825825', '3825826', '3825827', '3825828', '3825829', '3825830', '3825831', '3825832', '3825833', '3825834', '3825835', '3825836', '3825837', '3825838', '3825839', '3825840', '3825841', '3825842', '3825843', '3825844', '3825845', '3825846', '3825847', '3825848', '3825849', '3825850', '3825851', '3825852', '3825853', '3825854', '3825855', '3825856', '3825857', '3825858', '3825859', '3825860', '3825861', '3825862', '3825863', '3825864', '3825865', '3825866', '3825867', '3825868', '3825869', '3825870', '3825871', '3825872', '3825873', '3825874', '3825875', '3825876', '3825877', '3825878', '3825879', '3825880', '3825881', '3825882', '3825883', '3825884', '3825885', '3825886', '3825887', '3825888', '3825889', '3825890', '3825891', '3825892', '3825893', '3825894', '3825895', '3825896', '3825897', '3825898', '3825899', '3825900', '3825901', '3825902', '3825903', '3825904', '3825905', '3825906', '3825907', '3825908', '3827335', '3827336', '3827337', '3827338', '3827767', '3829413', '3829414', '3829415', '3829416', '3829417', '3829418', '3829419', '3829420', '3829421', '3829422', '3829423', '3829424', '3829425', '3829426', '3829427', '3829428', '3829429', '3829430', '3829431', '3829432', '3829433', '3829434', '3829435', '3829436', '3829437', '3829438', '3829439', '3829440', '3829441', '3829442', '3829443', '3829444', '3829445', '3829446', '3829447', '3829448', '3829449', '3829450', '3829451', '3829452', '3829453', '3829454', '3829455', '3829456', '3829457', '3829458', '3829459', '3829460', '3829461', '3829462', '3829463', '3829464', '3829465', '3829466', '3829467', '3829468', '3829469', '3829470', '3829471', '3829472', '3829473', '3829474', '3829475', '3829476', '3829477', '3829478', '3829479', '3829480', '3829481', '3829482', '3829483', '3829484', '3829485', '3829486', '3829487', '3829488', '3829489', '3829490', '3829491', '3829492', '3829493', '3829494', '3829495', '3829496', '3829497', '3829498', '3829499', '3829500', '3829501', '3829502', '3829503', '3829504', '3829505', '3829506', '3829507', '3829508', '3829509', '3829510', '3829511', '3829512', '3829513', '3829514', '3829515', '3829516', '3829517', '3829518', '3829519', '3829520', '3829521', '3829522', '3835319', '3835320', '3835321', '3835322', '3835323', '3835324', '3835325', '3835326', '3835327', '3835328', '3835329', '3835330', '3835331', '3835332', '3835333', '3835334', '3835335', '3835336', '3835337', '3835338', '3835339', '3835340', '3835341', '3835342', '3837650', '3837659', '3837662', '3837680', '3837683', '3837695', '3837706', '3837717', '3837727', '3837747', '3837752', '3837771', '3837785', '3837818', '3837827', '3837839', '3837844', '3837859', '3837876', '3837885', '3837896', '3837902', '3837918', '3837928', '3837938', '3837947', '3837954', '3837963', '3837987', '3837998', '3838004', '3838017', '3844384', '3844385', '3844386', '3844387', '3845506', '3845507', '3847567', '3857254', '3857255', '3857256', '3857257', '3857258', '3857259', '3857260', '3857261', '3857262', '3857263', '3857264', '3857265', '3857266', '3857267', '3857268', '3857269', '3857270', '3857271', '3857272', '3857273', '3857274', '3857275', '3857276', '3857277', '3857278', '3857279', '3857280', '3857281', '3857282', '3857283', '3857284', '3857285', '3857286', '3857287', '3857288', '3857289', '3857290', '3857291', '3857292', '3857293', '3857294', '3857295', '3857296', '3857297', '3857298', '3857299', '3857300', '3857301', '3869117', '3869118', '3869151', '3869152', '3869219', '3869220', '3869253', '3869254', '3869321', '3869354', '3869420', '3869486', '3869519', '3869552', '3869684', '3869685', '3877060', '3877072', '3877090', '3877115', '3877170', '3877194', '3878540', '3878541', '3878542', '3878543', '3878544', '3878545', '3878546', '3878547', '3878548', '3878549', '3878550', '3878551', '3878552', '3878553', '3878554', '3878555', '3878556', '3878557', '3878558', '3878559', '3878592', '3878593', '3878594', '3878595', '3878596', '3878597', '3878598', '3878599', '3878600', '3878601', '3878602', '3878603', '3878604', '3878605', '3878606', '3878607', '3878608', '3878609', '3878610', '3878611', '3879537', '3879538', '3879539', '3879540', '3879541', '3879542', '3879543', '3879544', '3879545', '3879546', '3879547', '3879548', '3879549', '3879550', '3879551', '3879552', '3879553', '3879554', '3879555', '3879556', '3879557', '3879558', '3879559', '3879560', '3879561', '3879562', '3879563', '3879564', '3879565', '3879566', '3879567', '3879568', '3879569', '3879570', '3879571', '3879572', '3879573', '3879574', '3879575', '3879576', '3879577', '3879578', '3879579', '3879580', '3879581', '3879582', '3879583', '3879584', '3879585', '3879586', '3879587', '3879588', '3879589', '3879590', '3879591', '3879592', '3879593', '3879594', '3879595', '3879596', '3879597', '3879598', '3879599', '3879600', '3879601', '3879602', '3879603', '3879604', '3879605', '3879606', '3879607', '3879608', '3879609', '3879610', '3879611', '3879612', '3879613', '3879614', '3879615', '3879616', '3879617', '3879618', '3879619', '3879620', '3879621', '3879622', '3879623', '3879624', '3879625', '3879626', '3879627', '3879628', '3879629', '3879630', '3879631', '3879632', '3879633', '3879634', '3879635', '3879636', '3879637', '3879638', '3879639', '3879640', '3879641', '3879642', '3879643', '3879644', '3879645', '3879646', '3879647', '3879648', '3879649', '3879650', '3879651', '3879652', '3879653', '3879654', '3879655', '3879656', '3879657', '3879658', '3879659', '3879660', '3879661', '3879662', '3879663', '3879664', '3879665', '3879666', '3879667', '3879668', '3879669', '3879670', '3879671', '3879672', '3879673', '3879674', '3879675', '3879676', '3879677', '3879678', '3879679', '3879680', '3879681', '3879682', '3879683', '3879684', '3879685', '3879686', '3879687', '3879688', '3879689', '3879690', '3879691', '3879692', '3879693', '3879694', '3879695', '3879696', '3879697', '3879698', '3879699', '3879700', '3879701', '3879702', '3879703', '3879704', '3879705', '3879706', '3879707', '3879708', '3879709', '3879710', '3879711', '3879712', '3879713', '3879714', '3879715', '3879716', '3879717', '3879718', '3879719', '3879720', '3879721', '3879722', '3879723', '3879724', '3879725', '3879726', '3879727', '3879728', '3879729', '3879730', '3879731', '3879732', '3879733', '3879734', '3879735', '3879736', '3879737', '3879738', '3879739', '3879740', '3879741', '3879742', '3879743', '3879744', '3879745', '3879746', '3879747', '3879748', '3879749', '3879750', '3879751', '3879752', '3879753', '3879754', '3879755', '3879756', '3879757', '3879758', '3879759', '3879760', '3879761', '3879762', '3879763', '3879764', '3879765', '3879766', '3879767', '3879768', '3879769', '3879770', '3879771', '3879772', '3879773', '3879774', '3879775', '3879776', '3879777', '3879778', '3879779', '3879780', '3879781', '3879782', '3879783', '3879784', '3879785', '3879786', '3879787', '3879788', '3879789', '3879790', '3879791', '3879792', '3879793', '3879794', '3879795', '3879796', '3879797', '3879798', '3879799', '3879800', '3879801', '3879802', '3879803', '3879804', '3879805', '3879806', '3879807', '3879808', '3879809', '3879810', '3879811', '3879812', '3879813', '3879814', '3879815', '3879816', '3879817', '3879818', '3879819', '3879820', '3879821', '3879822', '3879823', '3879824', '3879825', '3879826', '3879827', '3879828', '3879829', '3879830', '3879831', '3879832', '3879833', '3879834', '3879835', '3879836', '3879837', '3879838', '3879839', '3879840', '3879841', '3879842', '3879843', '3879844', '3879845', '3879846', '3879847', '3879848', '3879849', '3879850', '3879851', '3879852', '3879853', '3879854', '3879855', '3879856', '3879857', '3879858', '3879859', '3879860', '3879861', '3879862', '3879863', '3879864', '3879865', '3879866', '3879867', '3879868', '3879869', '3879870', '3879871', '3879872', '3879873', '3879874', '3879875', '3879876', '3887188', '3888699', '3888700', '3888701', '3888702', '3888704', '3888705', '3888706', '3888711', '3888713', '3888716', '3888717', '3888718', '3888719', '3888720', '3888721', '3888754', '3888787', '3888854', '3889082', '3889115', '3889148', '3889149', '3889182', '3889217', '3889218', '3890259', '3890260', '3890261', '3890262', '3890263', '3890264', '3890265', '3890266', '3890267', '3890268', '3890269', '3890270', '3890271', '3890272', '3890273', '3890274', '3890275', '3890276', '3890277', '3890278', '3890279', '3890280', '3890281', '3890282', '3890283', '3890284', '3890285', '3890286', '3890287', '3890288', '3890289', '3890290', '3890291', '3890292', '3890293', '3890294', '3890295', '3890296', '3890297', '3890298', '3890299', '3890300', '3890301', '3890302', '3890303', '3890304', '3890305', '3890306', '3890307', '3890308', '3890309', '3890310', '3890311', '3890312', '3890313', '3890314', '3890315', '3890316', '3890317', '3890318', '3890319', '3890320', '3890321', '3890322', '3890323', '3890324', '3890325', '3890326', '3890327', '3890328', '3890329', '3890330', '3890331', '3890332', '3890333', '3890334', '3890335', '3890336', '3890337', '3890338', '3890339', '3890340', '3890341', '3890342', '3890343', '3890344', '3890345', '3890346', '3890347', '3890348', '3890349', '3890350', '3890351', '3890352', '3890353', '3890354', '3890355', '3890356', '3890357', '3890358', '3890359', '3890360', '3890361', '3890362', '3890363', '3890364', '3890365', '3890366', '3890367', '3890368', '3890369', '3890370', '3890371', '3890372', '3890373', '3890374', '3890375', '3890376', '3890377', '3890378', '3890379', '3890380', '3890381', '3890382', '3890383', '3890384', '3890385', '3890386', '3890387', '3890388', '3890389', '3890390', '3890391', '3890392', '3890393', '3890394', '3890395', '3890396', '3890397', '3890398', '3890399', '3890400', '3890401', '3890402', '3890403', '3890404', '3890405', '3890406', '3890407', '3890408', '3890409', '3890410', '3890411', '3890412', '3890413', '3890414', '3890415', '3890416', '3890417', '3890418', '3890419', '3890420', '3890421', '3890422', '3890423', '3890424', '3890425', '3890426', '3890427', '3890428', '3890429', '3890430', '3890431', '3890432', '3890433', '3890434', '3890435', '3890436', '3890437', '3890438', '3890439', '3890440', '3890441', '3890442', '3890443', '3890444', '3890445', '3890446', '3890447', '3890448', '3890449', '3890450', '3890451', '3890452', '3890453', '3890454', '3890455', '3890456', '3890457', '3890458', '3890459', '3890460', '3890461', '3890462', '3890463', '3890464', '3890465', '3890466', '3890467', '3890468', '3890469', '3890470', '3890471', '3890472', '3890473', '3890474', '3890475', '3890476', '3890477', '3890478', '3890479', '3890480', '3890481', '3890482', '3890483', '3890484', '3890485', '3890486', '3890487', '3890488', '3890489', '3890490', '3890491', '3890492', '3890493', '3890494', '3890495', '3890496', '3890497', '3890498', '3890499', '3890500', '3890501', '3890502', '3890503', '3890504', '3890505', '3890506', '3890507', '3890508', '3890509', '3890510', '3890511', '3890512', '3890513', '3890514', '3890515', '3890516', '3890517', '3890518', '3890519', '3890520', '3890521', '3890522', '3890523', '3890524', '3890525', '3890526', '3890527', '3890528', '3890529', '3890530', '3890531', '3890532', '3890533', '3890534', '3890535', '3890536', '3890537', '3890538', '3890539', '3890540', '3890541', '3890542', '3890543', '3890544', '3890545', '3890546', '3890547', '3890548', '3890549', '3890550', '3890551', '3890552', '3890553', '3890554', '3890555', '3890556', '3890557', '3890558', '3890559', '3890560', '3890561', '3890562', '3890563', '3890564', '3893787', '3893788', '3893789', '3893790', '3893791', '3893792', '3893793', '3893794', '3893795', '3893796', '3893797', '3893798', '3893799', '3893800', '3893801', '3893802', '3893803', '3893804', '3893805', '3893806', '3893807', '3893808', '3893809', '3893810', '3893811', '3893812', '3893813', '3893814', '3893815', '3893816', '3893817', '3893818', '3893819', '3893820', '3893821', '3893822', '3893823', '3893824', '3893825', '3893826', '3893827', '3893828', '3893829', '3893830', '3893831', '3893832', '3893833', '3893834', '3900490', '3900491', '3900492', '3900493', '3900494', '3900495', '3900496', '3900497', '3900498', '3900499', '3900500', '3900501', '3900502', '3900503', '3900504', '3900505', '3900506', '3900507', '3900508', '3900509', '3900510', '3900511', '3900512', '3900513', '3900514', '3900515', '3900516', '3900518', '3900519', '3900520', '3900521', '3900522', '3900523', '3900524', '3900525', '3900526', '3900527', '3900528', '3900529', '3900530', '3900531', '3900532', '3900533', '3900534', '3900535', '3900536', '3900537', '3900538', '3900539', '3900540', '3900541', '3900542', '3900543', '3900544', '3900545', '3900546', '3900547', '3900548', '3900549', '3900550', '3900551', '3900552', '3900553', '3900554', '3900555', '3900556', '3900557', '3900558', '3900559', '3900560', '3900561', '3900562', '3900563', '3900564', '3900565', '3900566', '3900567', '3900568', '3900569', '3900570', '3900571', '3900572', '3900573', '3900574', '3900575', '3900576', '3900577', '3900578', '3900579', '3900580', '3900581', '3900582', '3900583', '3900584', '3900585', '3900586', '3900587', '3900588', '3900589', '3900590', '3900591', '3900592', '3900593', '3900594', '3900595', '3900596', '3900597', '3900598', '3900599', '3900600', '3900601', '3900602', '3900603', '3900604', '3900605', '3900606', '3900608', '3900609', '3900610', '3900611', '3900612', '3900613', '3900614', '3900615', '3900616', '3900617', '3900618', '3900619', '3900620', '3900621', '3900622', '3900623', '3900624', '3900625', '3900626', '3900627', '3900628', '3900629', '3900630', '3900631', '3900632', '3900633', '3900634', '3900635', '3900636', '3900637', '3900638', '3900639', '3901144', '3901145', '3901146', '3901147', '3901148', '3901149', '3901150', '3901151', '3901152', '3901153', '3901154', '3901155', '3901156', '3901157', '3901158', '3901159', '3901160', '3901161', '3901162', '3901163', '3901164', '3901165', '3901166', '3901167', '3901168', '3901169', '3901170', '3901171', '3901172', '3901173', '3901174', '3901175', '3901176', '3901177', '3901178', '3901179', '3901180', '3901181', '3901182', '3901183', '3901184', '3901185', '3901186', '3901187', '3901188', '3901189', '3901190', '3901191', '3901192', '3901193', '3901194', '3901195', '3901196', '3901197', '3901198', '3901199', '3901200', '3901201', '3901202', '3901203', '3901204', '3901205', '3901206', '3901207', '3901208', '3901209', '3901210', '3901211', '3901212', '3901213', '3901214', '3901215', '3901216', '3901217', '3901218', '3901219', '3901220', '3901221', '3901222', '3901223', '3901224', '3901225', '3901226', '3901227', '3901228', '3901229', '3901230', '3901231', '3901232', '3901233', '3901234', '3901235', '3901236', '3901237', '3901238', '3901240', '3901241', '3901242', '3901243', '3901244', '3901245', '3901246', '3901247', '3901248', '3901249', '3901250', '3901251', '3901252', '3901253', '3901254', '3901255', '3901256', '3901257', '3901258', '3901259', '3901260', '3901261', '3901262', '3901263', '3901733', '3901734', '3901735', '3901736', '3901796', '3901797', '3901832', '3901833', '3902239', '3902240', '3902967', '3902968', '3904628', '3904629', '3906389', '3906390', '68311', '68312', '68313', '68314', '68315', '68316', '68317', '68318', '68319', '68320', '68321', '68322', '68323', '68324', '68325', '68326', '68327', '68328', '68329', '68330', '68331', '68332', '68333', '68334', '68335', '68336', '68337', '68338', '68339', '68340', '68341', '68342', '68343', '68344', '68345', '68346', '68347', '68348', '68350', '68351', '68352', '68353', '68354', '68355', '68356', '68357', '68358', '68359', '68360', '68361', '68362', '68363', '68364', '68365', '68366', '69137', '69138', '69139', '69141', '69142', '69143', '69144', '69145', '69146', '69147', '69148', '69149', '69151', '69153', '69154', '69155', '69156', '69157', '69158', '69159', '69160', '69161', '69162', '69163', '69164', '69165', '69166', '69169', '69170', '69171', '69172', '69173', '69174', '69175', '69176', '69177', '69178', '69179', '69180', '69181', '69182', '69183', '69184', '69185', '69186', '69187', '69188', '69189', '69191', '69195', '69199', '69202', '69205', '69207', '69208', '69209', '69210', '69211', '69212', '69213', '69214', '69215', '69216', '69217', '69218', '69219', '69220', '69221', '69222', '69223', '69224', '69225', '69226', '69227', '69228', '69229', '69230', '69231', '69232', '69233', '69234', '69235', '69236', '69237', '69238', '69239', '69240', '69241', '69242', '69243', '69244', '69245', '69246', '69247', '69248', '69249', '69250', '69251', '69252', '69253', '69254', '69255', '69256', '69257', '69258', '69259', '69260', '69262', '69263', '69264', '69265', '69267', '69268', '69269', '69270', '69271', '69272', '69273', '69274', '69275', '69276', '69277', '69278', '69279', '69280', '69282', '69283', '69284', '69285', '69286', '69287', '69288', '69289', '69291', '69292', '69293', '69295', '69296', '69297', '69298', '69299', '69300', '69301', '69302', '69303', '69304', '69305', '69306', '69307', '69308', '69312', '69314', '69315', '69316', '69318', '69319', '69320', '69321', '69322', '69323', '69324', '69325', '69326', '69327', '69328', '69329', '69330', '69331', '69332', '69333', '69334', '69335', '69336', '69337', '69338', '69340', '69343', '70219', '70220', '70221', '70223', '70224', '70225', '70256', '70259', '70260', '70262', '70263', '70264', '70270', '70271', '70272', '70273', '70275', '70276', '70277', '70280', '70281', '70282', '70283', '70284', '70286', '70287', '70288', '70289', '70291', '70292', '70293', '70294', '70295', '70296', '70297', '70298', '70300', '70301', '70302', '70303', '70304', '70305', '70306', '70307', '70308', '70309', '7298', '7430', '7443', '7444', '7445', '7451', '7456', '7457', '7471', '7472', '7473', '7474', '7475', '7476', '7477', '7478', '7479', '7480', '7482', '7483', '7484', '7485', '7486', '7487', '7490', '7492', '7493', '7494', '7496', '7497', '7500', '7519', '7520', '7521', '7522', '7523', '7524', '7525', '7529', '7530', '7531', '7532', '7533', '7534', '7535', '7536', '7537', '7538', '7539', '7540', '7541', '7542', '7543', '7544', '7545', '7546', '7547', '7548', '7549', '7550', '7551', '7552', '7553', '7554', '7555', '7556', '7557', '7558', '7559', '7560', '7561', '7562', '7563', '7564', '7565', '7566', '7567', '7568', '7569', '7570', '7571', '7572', '7576', '7577', '7578', '7579', '7580', '7581', '7582', '7583', '7584', '7585', '7586', '8649', '8650', '8651', '8652', '8655', '8656', '8657', '8658', '9575', '9581', '9592', '9602', '9609', '9620', '9636', '9642', '9650', '9661', '9673', '9682', '9695', '9700', '9717', '9726', '9736', '9742', '9754', '9765', '9774', '9783', '9794', '9799', '9811', '9827', '9837', '9855', '9860', '9870', '9880', '9889', '9912', '9924', '9928', '9948']\n"
     ]
    }
   ],
   "source": [
    "print(list_matches)"
   ]
  },
  {
   "cell_type": "code",
   "execution_count": 32,
   "metadata": {},
   "outputs": [
    {
     "name": "stderr",
     "output_type": "stream",
     "text": [
      "24/01/23 03:18:44 WARN DataSource: Found duplicate column(s) in the data schema and the partition schema: `match_id`\n"
     ]
    },
    {
     "name": "stdout",
     "output_type": "stream",
     "text": [
      "+--------------------+--------+-------+--------------------+\n",
      "|              lineup|match_id|team_id|           team_name|\n",
      "+--------------------+--------+-------+--------------------+\n",
      "|[{[], {214, Spain...| 3902240|    863|       Spain Women's|\n",
      "|[{[], {160, Nethe...| 3902240|    851| Netherlands Women's|\n",
      "|[{[], {241, Unite...| 3857278|   1839|       United States|\n",
      "|[{[], {107, Iran,...| 3857278|    797|                Iran|\n",
      "|[{[], {31, Brazil...| 3773466|    217|           Barcelona|\n",
      "|[{[], {214, Spain...| 3773466|    209|          Celta Vigo|\n",
      "|[{[], {121, Korea...| 3893802|   1211|Korea Republic Wo...|\n",
      "|[{[], {49, Colomb...| 3893802|  16802|    Colombia Women's|\n",
      "|[{[{Yellow Card, ...| 3869321|    941|         Netherlands|\n",
      "|[{[], {11, Argent...| 3869321|    779|           Argentina|\n",
      "|[{[{Yellow Card, ...| 3869685|    771|              France|\n",
      "|[{[], {11, Argent...| 3869685|    779|           Argentina|\n",
      "|[{[], {121, Korea...| 3857262|    791|         South Korea|\n",
      "|[{[], {183, Portu...| 3857262|    780|            Portugal|\n",
      "|[{[], {183, Portu...| 3857270|    780|            Portugal|\n",
      "|[{[], {242, Urugu...| 3857270|    783|             Uruguay|\n",
      "|[{[], {112, Italy...| 3879835|    231|              Chievo|\n",
      "|[{[], {112, Italy...| 3879835|    291|           Frosinone|\n",
      "|[{[], {200, Saudi...| 3857260|    799|        Saudi Arabia|\n",
      "|[{[], {147, Mexic...| 3857260|    794|              Mexico|\n",
      "+--------------------+--------+-------+--------------------+\n",
      "only showing top 20 rows\n",
      "\n"
     ]
    },
    {
     "name": "stderr",
     "output_type": "stream",
     "text": [
      "[Stage 13978:==================================================>(100 + 2) / 102]\r"
     ]
    },
    {
     "name": "stdout",
     "output_type": "stream",
     "text": [
      "6526\n"
     ]
    },
    {
     "name": "stderr",
     "output_type": "stream",
     "text": [
      "                                                                                \r"
     ]
    }
   ],
   "source": [
    "# Ler escalacoes na camada landing\n",
    "path_lineups_landing = os.path.join(\"s3://\",\"landing\",\"lineups\")\n",
    "df_lineups_landing = spark.read.json(path_lineups_landing)\n",
    "df_lineups_landing.show()\n",
    "print(df_lineups_landing.count())"
   ]
  },
  {
   "cell_type": "code",
   "execution_count": 34,
   "metadata": {},
   "outputs": [
    {
     "name": "stdout",
     "output_type": "stream",
     "text": [
      "+--------------------+--------+-------+-------------------+\n",
      "|              lineup|match_id|team_id|          team_name|\n",
      "+--------------------+--------+-------+-------------------+\n",
      "|[{[], {220, Swede...|    7298|    971|        Chelsea FCW|\n",
      "|[{[], {220, Swede...|    7298|    746|Manchester City WFC|\n",
      "+--------------------+--------+-------+-------------------+\n",
      "\n",
      "2\n"
     ]
    }
   ],
   "source": [
    "# Ler escalacoes de um jogo específico\n",
    "path_lineups_landing = os.path.join(\"s3://\",\"landing\",\"lineups\",\"match_id=7298\")\n",
    "df_lineups_landing = spark.read.json(path_lineups_landing)\n",
    "df_lineups_landing.show()\n",
    "print(df_lineups_landing.count())"
   ]
  },
  {
   "cell_type": "markdown",
   "metadata": {},
   "source": [
    "## Particao Events"
   ]
  },
  {
   "cell_type": "code",
   "execution_count": 5,
   "metadata": {},
   "outputs": [
    {
     "name": "stdout",
     "output_type": "stream",
     "text": [
      "<botocore.client.S3 object at 0x7fbdcaf13580>\n"
     ]
    }
   ],
   "source": [
    "\n",
    "MINIO_ENDPOINT = \"http://storage:9000\"\n",
    "\n",
    "s3_endpoint_url = MINIO_ENDPOINT\n",
    "aws_access_key_id = \"root\"\n",
    "aws_secret_access_key = \"password\"\n",
    "bucket_name = \"sor\"\n",
    "prefix = \"football/data/events/\"\n",
    "\n",
    "s3 = boto3.client(\n",
    "                            \"s3\",\n",
    "                            endpoint_url=s3_endpoint_url,\n",
    "                            aws_access_key_id=aws_access_key_id,\n",
    "                            aws_secret_access_key=aws_secret_access_key\n",
    "                        )\n",
    "\n",
    "print(s3)\n"
   ]
  },
  {
   "cell_type": "code",
   "execution_count": 6,
   "metadata": {},
   "outputs": [
    {
     "name": "stdout",
     "output_type": "stream",
     "text": [
      "3263\n"
     ]
    }
   ],
   "source": [
    "paginator = s3.get_paginator('list_objects_v2')\n",
    "pages = paginator.paginate(Bucket=bucket_name, Prefix=prefix)\n",
    "\n",
    "list_matches = []\n",
    "\n",
    "for page in pages:\n",
    "    for obj in page[\"Contents\"]:\n",
    "        # Adiciona na lista de jogs todos os nomes de arquivos sem extensão\n",
    "        # pega o nome dos arquivos sem prefixo e sem extensão\n",
    "        file_name = str(obj[\"Key\"].replace(prefix, \"\")).replace(\".json\", \"\")\n",
    "        list_matches.append(file_name)\n",
    "print(len(list_matches))\n",
    "\n",
    "\n"
   ]
  },
  {
   "cell_type": "code",
   "execution_count": 7,
   "metadata": {},
   "outputs": [
    {
     "name": "stderr",
     "output_type": "stream",
     "text": [
      "24/01/20 03:43:40 WARN package: Truncated the string representation of a plan since it was too large. This behavior can be adjusted by setting 'spark.sql.debug.maxToStringFields'.\n",
      "                                                                                \r"
     ]
    }
   ],
   "source": [
    "# Percorre toda lista de jogos e cria a coluna 'match_id' e joga na camada landing\n",
    "# Obs: Optei por não utilizar o partitionBy pois os arquivos já estão separados. \n",
    "\n",
    "for match in list_matches:\n",
    "    path_events_landing = os.path.join(\"s3://\",\"landing\",\"events\",\"match_id=\"+match)\n",
    "    path_events =  os.path.join(\"s3://\",bucket_name,prefix,match+\".json\")\n",
    "    df_events = spark.read.option(\"multiline\", \"true\").json(path_events)\n",
    "    df_events_matchid = df_events.withColumn(\"match_id\", F.lit(match))\n",
    "    df_events_matchid.write.format(\"json\").mode(\"overwrite\").save(path_events_landing)"
   ]
  },
  {
   "cell_type": "code",
   "execution_count": 36,
   "metadata": {},
   "outputs": [
    {
     "name": "stdout",
     "output_type": "stream",
     "text": [
      "+-------------+-----------------+-------------+-----+---------------+------------+-------+----+--------+--------------+--------+----------+--------------------+-----+---------------+------------+-------------+--------+------+--------------------+------+-------------------+--------------------+--------------------+----------+--------------------+--------------------+------+----+------------+--------------------+--------------------+------------+-------------------+--------------+\n",
      "|bad_behaviour|     ball_receipt|ball_recovery|block|          carry|counterpress|dribble|duel|duration|foul_committed|foul_won|goalkeeper|                  id|index|injury_stoppage|interception|     location|match_id|minute|                pass|period|       play_pattern|              player|            position|possession|     possession_team|      related_events|second|shot|substitution|             tactics|                team|   timestamp|               type|under_pressure|\n",
      "+-------------+-----------------+-------------+-----+---------------+------------+-------+----+--------+--------------+--------+----------+--------------------+-----+---------------+------------+-------------+--------+------+--------------------+------+-------------------+--------------------+--------------------+----------+--------------------+--------------------+------+----+------------+--------------------+--------------------+------------+-------------------+--------------+\n",
      "|         null|             null|         null| null|           null|        null|   null|null|     0.0|          null|    null|      null|0b483cd2-1d36-49a...|    1|           null|        null|         null|    7298|     0|                null|     1|  {1, Regular Play}|                null|                null|         1|{746, Manchester ...|                null|     0|null|        null|{433, [{26, {4637...|{746, Manchester ...|00:00:00.000|  {35, Starting XI}|          null|\n",
      "|         null|             null|         null| null|           null|        null|   null|null|     0.0|          null|    null|      null|2c873afb-73bb-48a...|    2|           null|        null|         null|    7298|     0|                null|     1|  {1, Regular Play}|                null|                null|         1|{746, Manchester ...|                null|     0|null|        null|{352, [{1, {4640,...|  {971, Chelsea FCW}|00:00:00.000|  {35, Starting XI}|          null|\n",
      "|         null|             null|         null| null|           null|        null|   null|null|    7.96|          null|    null|      null|040940a1-5972-431...|    3|           null|        null|         null|    7298|     0|                null|     1|  {1, Regular Play}|                null|                null|         1|{746, Manchester ...|[5ba286bd-c397-4a...|     0|null|        null|                null|{746, Manchester ...|00:00:00.000|   {18, Half Start}|          null|\n",
      "|         null|             null|         null| null|           null|        null|   null|null|    8.16|          null|    null|      null|5ba286bd-c397-4ac...|    4|           null|        null|         null|    7298|     0|                null|     1|  {1, Regular Play}|                null|                null|         1|{746, Manchester ...|[040940a1-5972-43...|     0|null|        null|                null|  {971, Chelsea FCW}|00:00:00.000|   {18, Half Start}|          null|\n",
      "|         null|             null|         null| null|           null|        null|   null|null|     0.0|          null|    null|      null|2a456ec2-352c-499...|    5|           null|        null| [61.0, 40.0]|    7298|     0|{null, -0.9827937...|     1| {9, From Kick Off}|   {4647, So-Yun Ji}|{14, Center Midfi...|         2|  {971, Chelsea FCW}|[483b7286-e75e-41...|     0|null|        null|                null|  {971, Chelsea FCW}|00:00:00.100|         {30, Pass}|          null|\n",
      "|         null|             null|         null| null|           null|        null|   null|null|    null|          null|    null|      null|483b7286-e75e-419...|    6|           null|        null| [63.0, 37.0]|    7298|     0|                null|     1| {9, From Kick Off}|{4659, Ramona Bac...|{24, Left Center ...|         2|  {971, Chelsea FCW}|[2a456ec2-352c-49...|     0|null|        null|                null|  {971, Chelsea FCW}|00:00:00.100|{42, Ball Receipt*}|          null|\n",
      "|         null|             null|         null| null| {[69.0, 33.0]}|        null|   null|null|     0.4|          null|    null|      null|7e908bd8-8e2f-44f...|    7|           null|        null| [63.0, 37.0]|    7298|     0|                null|     1| {9, From Kick Off}|{4659, Ramona Bac...|{24, Left Center ...|         2|  {971, Chelsea FCW}|[22f23387-caec-4d...|     0|null|        null|                null|  {971, Chelsea FCW}|00:00:00.100|        {43, Carry}|          true|\n",
      "|         null|             null|         null| null|           null|        null|   null|null|   0.373|          null|    null|      null|22f23387-caec-4dd...|    8|           null|        null| [47.0, 41.0]|    7298|     0|                null|     1| {9, From Kick Off}| {4658, Keira Walsh}|{14, Center Midfi...|         2|  {971, Chelsea FCW}|[38023613-6b26-44...|     0|null|        null|                null|{746, Manchester ...|00:00:00.340|     {17, Pressure}|          null|\n",
      "|         null|             null|         null| null|           null|        null|   null|null|    1.64|          null|    null|      null|38023613-6b26-44e...|    9|           null|        null| [69.0, 33.0]|    7298|     0|{null, -1.0789871...|     1| {9, From Kick Off}|{4659, Ramona Bac...|{24, Left Center ...|         2|  {971, Chelsea FCW}|[22f23387-caec-4d...|     0|null|        null|                null|  {971, Chelsea FCW}|00:00:00.500|         {30, Pass}|          true|\n",
      "|         null|             null|         null| null|           null|        null|   null|null|    null|          null|    null|      null|f69fd6f1-9f85-4c4...|   10|           null|        null|  [84.0, 5.0]|    7298|     0|                null|     1| {9, From Kick Off}|{5088, Crystal Al...| {16, Left Midfield}|         2|  {971, Chelsea FCW}|[38023613-6b26-44...|     2|null|        null|                null|  {971, Chelsea FCW}|00:00:02.140|{42, Ball Receipt*}|          null|\n",
      "|         null|             null|         null| null|{[108.0, 10.0]}|        null|   null|null|     4.6|          null|    null|      null|0d016edd-87cf-4e7...|   11|           null|        null|  [84.0, 5.0]|    7298|     0|                null|     1| {9, From Kick Off}|{5088, Crystal Al...| {16, Left Midfield}|         2|  {971, Chelsea FCW}|[ad16a4e6-c1e1-42...|     2|null|        null|                null|  {971, Chelsea FCW}|00:00:02.140|        {43, Carry}|          true|\n",
      "|         null|             null|         null| null|           null|        null|   null|null|   0.733|          null|    null|      null|ad16a4e6-c1e1-42b...|   12|           null|        null| [35.0, 69.0]|    7298|     0|                null|     1| {9, From Kick Off}|{4654, Nikita Par...|    {17, Right Wing}|         2|  {971, Chelsea FCW}|[0d016edd-87cf-4e...|     2|null|        null|                null|{746, Manchester ...|00:00:02.700|     {17, Pressure}|          null|\n",
      "|         null|             null|         null| null|           null|        null|   null|null|    null|          null|    null|      null|ccb57323-17d3-43d...|   13|           null|        null|[108.0, 10.0]|    7298|     0|                null|     1| {9, From Kick Off}|{5088, Crystal Al...| {16, Left Midfield}|         2|  {971, Chelsea FCW}|                null|     6|null|        null|                null|  {971, Chelsea FCW}|00:00:06.740|   {38, Miscontrol}|          null|\n",
      "|         null|             null|         null| null|           null|        null|   null|null|   0.773|          null|    null|      null|9b12dc9e-c243-40f...|   14|           null|        null| [11.0, 72.0]|    7298|     0|                null|     1| {9, From Kick Off}|{4654, Nikita Par...|    {17, Right Wing}|         2|  {971, Chelsea FCW}|                null|     6|null|        null|                null|{746, Manchester ...|00:00:06.980|     {17, Pressure}|          null|\n",
      "|         null|             null|         null| null|           null|        null|   null|null|   2.587|          null|    null|      null|b8c43bec-de04-4cb...|   15|           null|        null|  [6.0, 43.0]|    7298|     0|{null, 0.456072, ...|     1|{7, From Goal Kick}|{4637, Ellie Roeb...|     {1, Goalkeeper}|         3|{746, Manchester ...|[e2fbc93d-d820-45...|    25|null|        null|                null|{746, Manchester ...|00:00:25.873|         {30, Pass}|          null|\n",
      "|         null|{{9, Incomplete}}|         null| null|           null|        null|   null|null|    null|          null|    null|      null|e2fbc93d-d820-459...|   16|           null|        null| [59.0, 71.0]|    7298|     0|                null|     1|{7, From Goal Kick}|{4654, Nikita Par...|    {17, Right Wing}|         3|{746, Manchester ...|[b8c43bec-de04-4c...|    28|null|        null|                null|{746, Manchester ...|00:00:28.460|{42, Ball Receipt*}|          null|\n",
      "|         null|             null|         null| null|           null|        null|   null|null|   1.173|          null|    null|      null|fa7be948-c79a-4f6...|   17|           null|        null| [62.0, 12.0]|    7298|     0|{null, -0.1106572...|     1|{7, From Goal Kick}|{4633, Magdalena ...|{5, Left Center B...|         3|{746, Manchester ...|[7cc1c0c6-2c01-44...|    28|null|        null|                null|  {971, Chelsea FCW}|00:00:28.460|         {30, Pass}|          null|\n",
      "|         null|             null|         null| null|           null|        null|   null|null|    0.16|          null|    null|      null|eec5d261-30c2-468...|   18|           null|        null|  [78.0, 5.0]|    7298|     0|                null|     1|{7, From Goal Kick}|{5088, Crystal Al...| {16, Left Midfield}|         3|{746, Manchester ...|[7cc1c0c6-2c01-44...|    29|null|        null|                null|  {971, Chelsea FCW}|00:00:29.620|     {17, Pressure}|          null|\n",
      "|         null|{{9, Incomplete}}|         null| null|           null|        null|   null|null|    null|          null|    null|      null|994e9fef-8ab6-4f1...|   19|           null|        null|  [75.0, 8.0]|    7298|     0|                null|     1|{7, From Goal Kick}|{5088, Crystal Al...| {16, Left Midfield}|         3|{746, Manchester ...|[fa7be948-c79a-4f...|    29|null|        null|                null|  {971, Chelsea FCW}|00:00:29.633|{42, Ball Receipt*}|          null|\n",
      "|         null|             null|         null| null|           null|        null|   null|null|   0.147|          null|    null|      null|7cc1c0c6-2c01-44d...|   20|           null|        null| [41.0, 71.0]|    7298|     0|{null, 0.7853982,...|     1|{7, From Goal Kick}|{4649, Esme Beth ...|     {2, Right Back}|         3|{746, Manchester ...|[30cb10cd-5f73-47...|    29|null|        null|                null|{746, Manchester ...|00:00:29.633|         {30, Pass}|          true|\n",
      "+-------------+-----------------+-------------+-----+---------------+------------+-------+----+--------+--------------+--------+----------+--------------------+-----+---------------+------------+-------------+--------+------+--------------------+------+-------------------+--------------------+--------------------+----------+--------------------+--------------------+------+----+------------+--------------------+--------------------+------------+-------------------+--------------+\n",
      "only showing top 20 rows\n",
      "\n",
      "3793\n"
     ]
    }
   ],
   "source": [
    "df_events_landing = spark.read.json(os.path.join(\"s3://\",\"landing\",\"events\", \"match_id=7298\"))\n",
    "df_events_landing.show()\n",
    "print(df_events_landing.count())"
   ]
  }
 ],
 "metadata": {
  "kernelspec": {
   "display_name": "Python 3",
   "language": "python",
   "name": "python3"
  },
  "language_info": {
   "codemirror_mode": {
    "name": "ipython",
    "version": 3
   },
   "file_extension": ".py",
   "mimetype": "text/x-python",
   "name": "python",
   "nbconvert_exporter": "python",
   "pygments_lexer": "ipython3",
   "version": "3.10.2"
  },
  "orig_nbformat": 4
 },
 "nbformat": 4,
 "nbformat_minor": 2
}
